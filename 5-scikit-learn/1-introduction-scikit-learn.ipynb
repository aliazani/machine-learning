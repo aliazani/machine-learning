{
 "cells": [
  {
   "cell_type": "markdown",
   "metadata": {},
   "source": [
    "# Scikit learn introduction\n",
    "**Steps:**\n",
    "0. An end-to-end Scikit-Learn workflow.\n",
    "1. Getting the data ready.\n",
    "2. Choose the right estimator / algorithm for our probelms .\n",
    "3. Fit the model / algorithm and use it to make predictions on our data.\n",
    "4. Evaluating a model.\n",
    "5. Improve the model.\n",
    "6. Save and load the trained model.\n",
    "7. Putting it all together!"
   ]
  },
  {
   "cell_type": "code",
   "execution_count": 1,
   "metadata": {},
   "outputs": [],
   "source": [
    "steps = [\n",
    "\"0. An end-to-end Scikit-Learn workflow.\",\n",
    "\"1. Getting the data ready.\",\n",
    "\"2. Choose the right estimator / algorithm for our probelms .\",\n",
    "\"3. Fit the model / algorithm and use it to make predictions on our data.\",\n",
    "\"4. Evaluating a model.\",\n",
    "\"5. Improve the model.\",\n",
    "\"6. Save and load the trained model.\",\n",
    "\"7. Putting it all together!\"\n",
    "        ]"
   ]
  },
  {
   "cell_type": "code",
   "execution_count": 2,
   "metadata": {},
   "outputs": [
    {
     "data": {
      "text/plain": [
       "['0. An end-to-end Scikit-Learn workflow.',\n",
       " '1. Getting the data ready.',\n",
       " '2. Choose the right estimator / algorithm for our probelms .',\n",
       " '3. Fit the model / algorithm and use it to make predictions on our data.',\n",
       " '4. Evaluating a model.',\n",
       " '5. Improve the model.',\n",
       " '6. Save and load the trained model.',\n",
       " '7. Putting it all together!']"
      ]
     },
     "execution_count": 2,
     "metadata": {},
     "output_type": "execute_result"
    }
   ],
   "source": [
    "steps"
   ]
  },
  {
   "cell_type": "markdown",
   "metadata": {},
   "source": [
    "## 0. An end-to-end Scikit-learn workflow"
   ]
  },
  {
   "cell_type": "code",
   "execution_count": 3,
   "metadata": {},
   "outputs": [],
   "source": [
    "# import libraries\n",
    "%matplotlib inline\n",
    "import pandas as pd\n",
    "import numpy as np\n",
    "import matplotlib.pyplot"
   ]
  },
  {
   "cell_type": "code",
   "execution_count": 4,
   "metadata": {},
   "outputs": [
    {
     "data": {
      "text/html": [
       "<div>\n",
       "<style scoped>\n",
       "    .dataframe tbody tr th:only-of-type {\n",
       "        vertical-align: middle;\n",
       "    }\n",
       "\n",
       "    .dataframe tbody tr th {\n",
       "        vertical-align: top;\n",
       "    }\n",
       "\n",
       "    .dataframe thead th {\n",
       "        text-align: right;\n",
       "    }\n",
       "</style>\n",
       "<table border=\"1\" class=\"dataframe\">\n",
       "  <thead>\n",
       "    <tr style=\"text-align: right;\">\n",
       "      <th></th>\n",
       "      <th>age</th>\n",
       "      <th>sex</th>\n",
       "      <th>cp</th>\n",
       "      <th>trestbps</th>\n",
       "      <th>chol</th>\n",
       "      <th>fbs</th>\n",
       "      <th>restecg</th>\n",
       "      <th>thalach</th>\n",
       "      <th>exang</th>\n",
       "      <th>oldpeak</th>\n",
       "      <th>slope</th>\n",
       "      <th>ca</th>\n",
       "      <th>thal</th>\n",
       "      <th>target</th>\n",
       "    </tr>\n",
       "  </thead>\n",
       "  <tbody>\n",
       "    <tr>\n",
       "      <th>0</th>\n",
       "      <td>63</td>\n",
       "      <td>1</td>\n",
       "      <td>3</td>\n",
       "      <td>145</td>\n",
       "      <td>233</td>\n",
       "      <td>1</td>\n",
       "      <td>0</td>\n",
       "      <td>150</td>\n",
       "      <td>0</td>\n",
       "      <td>2.3</td>\n",
       "      <td>0</td>\n",
       "      <td>0</td>\n",
       "      <td>1</td>\n",
       "      <td>1</td>\n",
       "    </tr>\n",
       "    <tr>\n",
       "      <th>1</th>\n",
       "      <td>37</td>\n",
       "      <td>1</td>\n",
       "      <td>2</td>\n",
       "      <td>130</td>\n",
       "      <td>250</td>\n",
       "      <td>0</td>\n",
       "      <td>1</td>\n",
       "      <td>187</td>\n",
       "      <td>0</td>\n",
       "      <td>3.5</td>\n",
       "      <td>0</td>\n",
       "      <td>0</td>\n",
       "      <td>2</td>\n",
       "      <td>1</td>\n",
       "    </tr>\n",
       "    <tr>\n",
       "      <th>2</th>\n",
       "      <td>41</td>\n",
       "      <td>0</td>\n",
       "      <td>1</td>\n",
       "      <td>130</td>\n",
       "      <td>204</td>\n",
       "      <td>0</td>\n",
       "      <td>0</td>\n",
       "      <td>172</td>\n",
       "      <td>0</td>\n",
       "      <td>1.4</td>\n",
       "      <td>2</td>\n",
       "      <td>0</td>\n",
       "      <td>2</td>\n",
       "      <td>1</td>\n",
       "    </tr>\n",
       "    <tr>\n",
       "      <th>3</th>\n",
       "      <td>56</td>\n",
       "      <td>1</td>\n",
       "      <td>1</td>\n",
       "      <td>120</td>\n",
       "      <td>236</td>\n",
       "      <td>0</td>\n",
       "      <td>1</td>\n",
       "      <td>178</td>\n",
       "      <td>0</td>\n",
       "      <td>0.8</td>\n",
       "      <td>2</td>\n",
       "      <td>0</td>\n",
       "      <td>2</td>\n",
       "      <td>1</td>\n",
       "    </tr>\n",
       "    <tr>\n",
       "      <th>4</th>\n",
       "      <td>57</td>\n",
       "      <td>0</td>\n",
       "      <td>0</td>\n",
       "      <td>120</td>\n",
       "      <td>354</td>\n",
       "      <td>0</td>\n",
       "      <td>1</td>\n",
       "      <td>163</td>\n",
       "      <td>1</td>\n",
       "      <td>0.6</td>\n",
       "      <td>2</td>\n",
       "      <td>0</td>\n",
       "      <td>2</td>\n",
       "      <td>1</td>\n",
       "    </tr>\n",
       "  </tbody>\n",
       "</table>\n",
       "</div>"
      ],
      "text/plain": [
       "   age  sex  cp  trestbps  chol  fbs  restecg  thalach  exang  oldpeak  slope  \\\n",
       "0   63    1   3       145   233    1        0      150      0      2.3      0   \n",
       "1   37    1   2       130   250    0        1      187      0      3.5      0   \n",
       "2   41    0   1       130   204    0        0      172      0      1.4      2   \n",
       "3   56    1   1       120   236    0        1      178      0      0.8      2   \n",
       "4   57    0   0       120   354    0        1      163      1      0.6      2   \n",
       "\n",
       "   ca  thal  target  \n",
       "0   0     1       1  \n",
       "1   0     2       1  \n",
       "2   0     2       1  \n",
       "3   0     2       1  \n",
       "4   0     2       1  "
      ]
     },
     "execution_count": 4,
     "metadata": {},
     "output_type": "execute_result"
    }
   ],
   "source": [
    "# 1.Getting the data ready \n",
    "heart_disease = pd.read_csv('heart-disease.csv')\n",
    "heart_disease.head()"
   ]
  },
  {
   "cell_type": "code",
   "execution_count": 5,
   "metadata": {},
   "outputs": [],
   "source": [
    "# Create x(feature matrix)\n",
    "x = heart_disease.drop('target', axis=1)\n",
    "# Create y(labels)\n",
    "y = heart_disease['target']"
   ]
  },
  {
   "cell_type": "code",
   "execution_count": 6,
   "metadata": {},
   "outputs": [
    {
     "data": {
      "text/html": [
       "<div>\n",
       "<style scoped>\n",
       "    .dataframe tbody tr th:only-of-type {\n",
       "        vertical-align: middle;\n",
       "    }\n",
       "\n",
       "    .dataframe tbody tr th {\n",
       "        vertical-align: top;\n",
       "    }\n",
       "\n",
       "    .dataframe thead th {\n",
       "        text-align: right;\n",
       "    }\n",
       "</style>\n",
       "<table border=\"1\" class=\"dataframe\">\n",
       "  <thead>\n",
       "    <tr style=\"text-align: right;\">\n",
       "      <th></th>\n",
       "      <th>age</th>\n",
       "      <th>sex</th>\n",
       "      <th>cp</th>\n",
       "      <th>trestbps</th>\n",
       "      <th>chol</th>\n",
       "      <th>fbs</th>\n",
       "      <th>restecg</th>\n",
       "      <th>thalach</th>\n",
       "      <th>exang</th>\n",
       "      <th>oldpeak</th>\n",
       "      <th>slope</th>\n",
       "      <th>ca</th>\n",
       "      <th>thal</th>\n",
       "    </tr>\n",
       "  </thead>\n",
       "  <tbody>\n",
       "    <tr>\n",
       "      <th>0</th>\n",
       "      <td>63</td>\n",
       "      <td>1</td>\n",
       "      <td>3</td>\n",
       "      <td>145</td>\n",
       "      <td>233</td>\n",
       "      <td>1</td>\n",
       "      <td>0</td>\n",
       "      <td>150</td>\n",
       "      <td>0</td>\n",
       "      <td>2.3</td>\n",
       "      <td>0</td>\n",
       "      <td>0</td>\n",
       "      <td>1</td>\n",
       "    </tr>\n",
       "    <tr>\n",
       "      <th>1</th>\n",
       "      <td>37</td>\n",
       "      <td>1</td>\n",
       "      <td>2</td>\n",
       "      <td>130</td>\n",
       "      <td>250</td>\n",
       "      <td>0</td>\n",
       "      <td>1</td>\n",
       "      <td>187</td>\n",
       "      <td>0</td>\n",
       "      <td>3.5</td>\n",
       "      <td>0</td>\n",
       "      <td>0</td>\n",
       "      <td>2</td>\n",
       "    </tr>\n",
       "    <tr>\n",
       "      <th>2</th>\n",
       "      <td>41</td>\n",
       "      <td>0</td>\n",
       "      <td>1</td>\n",
       "      <td>130</td>\n",
       "      <td>204</td>\n",
       "      <td>0</td>\n",
       "      <td>0</td>\n",
       "      <td>172</td>\n",
       "      <td>0</td>\n",
       "      <td>1.4</td>\n",
       "      <td>2</td>\n",
       "      <td>0</td>\n",
       "      <td>2</td>\n",
       "    </tr>\n",
       "    <tr>\n",
       "      <th>3</th>\n",
       "      <td>56</td>\n",
       "      <td>1</td>\n",
       "      <td>1</td>\n",
       "      <td>120</td>\n",
       "      <td>236</td>\n",
       "      <td>0</td>\n",
       "      <td>1</td>\n",
       "      <td>178</td>\n",
       "      <td>0</td>\n",
       "      <td>0.8</td>\n",
       "      <td>2</td>\n",
       "      <td>0</td>\n",
       "      <td>2</td>\n",
       "    </tr>\n",
       "    <tr>\n",
       "      <th>4</th>\n",
       "      <td>57</td>\n",
       "      <td>0</td>\n",
       "      <td>0</td>\n",
       "      <td>120</td>\n",
       "      <td>354</td>\n",
       "      <td>0</td>\n",
       "      <td>1</td>\n",
       "      <td>163</td>\n",
       "      <td>1</td>\n",
       "      <td>0.6</td>\n",
       "      <td>2</td>\n",
       "      <td>0</td>\n",
       "      <td>2</td>\n",
       "    </tr>\n",
       "  </tbody>\n",
       "</table>\n",
       "</div>"
      ],
      "text/plain": [
       "   age  sex  cp  trestbps  chol  fbs  restecg  thalach  exang  oldpeak  slope  \\\n",
       "0   63    1   3       145   233    1        0      150      0      2.3      0   \n",
       "1   37    1   2       130   250    0        1      187      0      3.5      0   \n",
       "2   41    0   1       130   204    0        0      172      0      1.4      2   \n",
       "3   56    1   1       120   236    0        1      178      0      0.8      2   \n",
       "4   57    0   0       120   354    0        1      163      1      0.6      2   \n",
       "\n",
       "   ca  thal  \n",
       "0   0     1  \n",
       "1   0     2  \n",
       "2   0     2  \n",
       "3   0     2  \n",
       "4   0     2  "
      ]
     },
     "execution_count": 6,
     "metadata": {},
     "output_type": "execute_result"
    }
   ],
   "source": [
    "x.head()"
   ]
  },
  {
   "cell_type": "code",
   "execution_count": 7,
   "metadata": {},
   "outputs": [
    {
     "data": {
      "text/plain": [
       "0    1\n",
       "1    1\n",
       "2    1\n",
       "3    1\n",
       "4    1\n",
       "Name: target, dtype: int64"
      ]
     },
     "execution_count": 7,
     "metadata": {},
     "output_type": "execute_result"
    }
   ],
   "source": [
    "y.head()"
   ]
  },
  {
   "cell_type": "code",
   "execution_count": 8,
   "metadata": {},
   "outputs": [],
   "source": [
    "# 2nd way to get rid of warnings\n",
    "# import warnings\n",
    "# warnings.filterwarnings('ignore')"
   ]
  },
  {
   "cell_type": "code",
   "execution_count": 9,
   "metadata": {},
   "outputs": [
    {
     "data": {
      "text/plain": [
       "{'bootstrap': True,\n",
       " 'ccp_alpha': 0.0,\n",
       " 'class_weight': None,\n",
       " 'criterion': 'gini',\n",
       " 'max_depth': None,\n",
       " 'max_features': 'auto',\n",
       " 'max_leaf_nodes': None,\n",
       " 'max_samples': None,\n",
       " 'min_impurity_decrease': 0.0,\n",
       " 'min_impurity_split': None,\n",
       " 'min_samples_leaf': 1,\n",
       " 'min_samples_split': 2,\n",
       " 'min_weight_fraction_leaf': 0.0,\n",
       " 'n_estimators': 100,\n",
       " 'n_jobs': None,\n",
       " 'oob_score': False,\n",
       " 'random_state': None,\n",
       " 'verbose': 0,\n",
       " 'warm_start': False}"
      ]
     },
     "execution_count": 9,
     "metadata": {},
     "output_type": "execute_result"
    }
   ],
   "source": [
    "# 2.Choose the right model hyperparameters\n",
    "from sklearn.ensemble import RandomForestClassifier\n",
    "clf = RandomForestClassifier() # clf = classification model\n",
    "# we'll keep the deafault hyperparameters\n",
    "clf.get_params() # to get the paramters of clf"
   ]
  },
  {
   "cell_type": "code",
   "execution_count": 10,
   "metadata": {},
   "outputs": [],
   "source": [
    "# 3.Fit the model to the training data \n",
    "from sklearn.model_selection import train_test_split\n",
    "x_train, x_test, y_train, y_test = train_test_split(x, y, test_size=0.2)\n",
    "# for fix the warnings we can use 2 ways\n",
    "# 1- n_estemators=100\n",
    "# 2- import warnings\n",
    "# warnings.filterwarnigs('ignore') or warning.filterwarnings('default') to get back"
   ]
  },
  {
   "cell_type": "code",
   "execution_count": 11,
   "metadata": {},
   "outputs": [
    {
     "data": {
      "text/plain": [
       "RandomForestClassifier(bootstrap=True, ccp_alpha=0.0, class_weight=None,\n",
       "                       criterion='gini', max_depth=None, max_features='auto',\n",
       "                       max_leaf_nodes=None, max_samples=None,\n",
       "                       min_impurity_decrease=0.0, min_impurity_split=None,\n",
       "                       min_samples_leaf=1, min_samples_split=2,\n",
       "                       min_weight_fraction_leaf=0.0, n_estimators=100,\n",
       "                       n_jobs=None, oob_score=False, random_state=None,\n",
       "                       verbose=0, warm_start=False)"
      ]
     },
     "execution_count": 11,
     "metadata": {},
     "output_type": "execute_result"
    }
   ],
   "source": [
    "clf.fit(x_train, y_train)"
   ]
  },
  {
   "cell_type": "code",
   "execution_count": 12,
   "metadata": {},
   "outputs": [],
   "source": [
    "# Make a prediction\n",
    "# y_label = clf.predict(np.array([1, 2, 3, 4])) ==> Error\n",
    "# Shape of array doesn't fit"
   ]
  },
  {
   "cell_type": "code",
   "execution_count": 13,
   "metadata": {},
   "outputs": [
    {
     "data": {
      "text/html": [
       "<div>\n",
       "<style scoped>\n",
       "    .dataframe tbody tr th:only-of-type {\n",
       "        vertical-align: middle;\n",
       "    }\n",
       "\n",
       "    .dataframe tbody tr th {\n",
       "        vertical-align: top;\n",
       "    }\n",
       "\n",
       "    .dataframe thead th {\n",
       "        text-align: right;\n",
       "    }\n",
       "</style>\n",
       "<table border=\"1\" class=\"dataframe\">\n",
       "  <thead>\n",
       "    <tr style=\"text-align: right;\">\n",
       "      <th></th>\n",
       "      <th>age</th>\n",
       "      <th>sex</th>\n",
       "      <th>cp</th>\n",
       "      <th>trestbps</th>\n",
       "      <th>chol</th>\n",
       "      <th>fbs</th>\n",
       "      <th>restecg</th>\n",
       "      <th>thalach</th>\n",
       "      <th>exang</th>\n",
       "      <th>oldpeak</th>\n",
       "      <th>slope</th>\n",
       "      <th>ca</th>\n",
       "      <th>thal</th>\n",
       "    </tr>\n",
       "  </thead>\n",
       "  <tbody>\n",
       "    <tr>\n",
       "      <th>77</th>\n",
       "      <td>59</td>\n",
       "      <td>1</td>\n",
       "      <td>1</td>\n",
       "      <td>140</td>\n",
       "      <td>221</td>\n",
       "      <td>0</td>\n",
       "      <td>1</td>\n",
       "      <td>164</td>\n",
       "      <td>1</td>\n",
       "      <td>0.0</td>\n",
       "      <td>2</td>\n",
       "      <td>0</td>\n",
       "      <td>2</td>\n",
       "    </tr>\n",
       "    <tr>\n",
       "      <th>284</th>\n",
       "      <td>61</td>\n",
       "      <td>1</td>\n",
       "      <td>0</td>\n",
       "      <td>140</td>\n",
       "      <td>207</td>\n",
       "      <td>0</td>\n",
       "      <td>0</td>\n",
       "      <td>138</td>\n",
       "      <td>1</td>\n",
       "      <td>1.9</td>\n",
       "      <td>2</td>\n",
       "      <td>1</td>\n",
       "      <td>3</td>\n",
       "    </tr>\n",
       "    <tr>\n",
       "      <th>85</th>\n",
       "      <td>67</td>\n",
       "      <td>0</td>\n",
       "      <td>2</td>\n",
       "      <td>115</td>\n",
       "      <td>564</td>\n",
       "      <td>0</td>\n",
       "      <td>0</td>\n",
       "      <td>160</td>\n",
       "      <td>0</td>\n",
       "      <td>1.6</td>\n",
       "      <td>1</td>\n",
       "      <td>0</td>\n",
       "      <td>3</td>\n",
       "    </tr>\n",
       "    <tr>\n",
       "      <th>76</th>\n",
       "      <td>51</td>\n",
       "      <td>1</td>\n",
       "      <td>2</td>\n",
       "      <td>125</td>\n",
       "      <td>245</td>\n",
       "      <td>1</td>\n",
       "      <td>0</td>\n",
       "      <td>166</td>\n",
       "      <td>0</td>\n",
       "      <td>2.4</td>\n",
       "      <td>1</td>\n",
       "      <td>0</td>\n",
       "      <td>2</td>\n",
       "    </tr>\n",
       "    <tr>\n",
       "      <th>224</th>\n",
       "      <td>54</td>\n",
       "      <td>1</td>\n",
       "      <td>0</td>\n",
       "      <td>110</td>\n",
       "      <td>239</td>\n",
       "      <td>0</td>\n",
       "      <td>1</td>\n",
       "      <td>126</td>\n",
       "      <td>1</td>\n",
       "      <td>2.8</td>\n",
       "      <td>1</td>\n",
       "      <td>1</td>\n",
       "      <td>3</td>\n",
       "    </tr>\n",
       "  </tbody>\n",
       "</table>\n",
       "</div>"
      ],
      "text/plain": [
       "     age  sex  cp  trestbps  chol  fbs  restecg  thalach  exang  oldpeak  \\\n",
       "77    59    1   1       140   221    0        1      164      1      0.0   \n",
       "284   61    1   0       140   207    0        0      138      1      1.9   \n",
       "85    67    0   2       115   564    0        0      160      0      1.6   \n",
       "76    51    1   2       125   245    1        0      166      0      2.4   \n",
       "224   54    1   0       110   239    0        1      126      1      2.8   \n",
       "\n",
       "     slope  ca  thal  \n",
       "77       2   0     2  \n",
       "284      2   1     3  \n",
       "85       1   0     3  \n",
       "76       1   0     2  \n",
       "224      1   1     3  "
      ]
     },
     "execution_count": 13,
     "metadata": {},
     "output_type": "execute_result"
    }
   ],
   "source": [
    "x_test.head()"
   ]
  },
  {
   "cell_type": "code",
   "execution_count": 14,
   "metadata": {},
   "outputs": [
    {
     "data": {
      "text/plain": [
       "array([1, 0, 1, 1, 0, 1, 1, 0, 1, 0, 0, 1, 0, 0, 0, 1, 1, 1, 1, 1, 0, 0,\n",
       "       0, 1, 0, 0, 1, 1, 0, 0, 0, 1, 1, 1, 1, 0, 1, 1, 0, 0, 1, 1, 1, 1,\n",
       "       0, 1, 1, 1, 1, 1, 0, 1, 1, 0, 0, 1, 1, 0, 0, 0, 1])"
      ]
     },
     "execution_count": 14,
     "metadata": {},
     "output_type": "execute_result"
    }
   ],
   "source": [
    "y_preds = clf.predict(x_test)\n",
    "y_preds"
   ]
  },
  {
   "cell_type": "code",
   "execution_count": 15,
   "metadata": {},
   "outputs": [
    {
     "data": {
      "text/plain": [
       "77     1\n",
       "284    0\n",
       "85     1\n",
       "76     1\n",
       "224    0\n",
       "Name: target, dtype: int64"
      ]
     },
     "execution_count": 15,
     "metadata": {},
     "output_type": "execute_result"
    }
   ],
   "source": [
    "y_test.head()"
   ]
  },
  {
   "cell_type": "code",
   "execution_count": 16,
   "metadata": {},
   "outputs": [
    {
     "data": {
      "text/plain": [
       "(1.0, 0.7868852459016393)"
      ]
     },
     "execution_count": 16,
     "metadata": {},
     "output_type": "execute_result"
    }
   ],
   "source": [
    "# 4. Evaluate the model on the trainig data and test data\n",
    "clf.score(x_train, y_train), clf.score(x_test, y_test)"
   ]
  },
  {
   "cell_type": "code",
   "execution_count": 17,
   "metadata": {},
   "outputs": [
    {
     "name": "stdout",
     "output_type": "stream",
     "text": [
      "              precision    recall  f1-score   support\n",
      "\n",
      "           0       0.81      0.72      0.76        29\n",
      "           1       0.77      0.84      0.81        32\n",
      "\n",
      "    accuracy                           0.79        61\n",
      "   macro avg       0.79      0.78      0.78        61\n",
      "weighted avg       0.79      0.79      0.79        61\n",
      "\n"
     ]
    }
   ],
   "source": [
    "# See the accuracy more details\n",
    "from sklearn.metrics import classification_report, confusion_matrix, accuracy_score\n",
    "print(classification_report(y_test, y_preds))\n"
   ]
  },
  {
   "cell_type": "code",
   "execution_count": 18,
   "metadata": {},
   "outputs": [
    {
     "name": "stdout",
     "output_type": "stream",
     "text": [
      "[[21  8]\n",
      " [ 5 27]]\n"
     ]
    }
   ],
   "source": [
    "print(confusion_matrix(y_test, y_preds))"
   ]
  },
  {
   "cell_type": "code",
   "execution_count": 19,
   "metadata": {},
   "outputs": [
    {
     "name": "stdout",
     "output_type": "stream",
     "text": [
      "0.7868852459016393\n"
     ]
    }
   ],
   "source": [
    "print(accuracy_score(y_test, y_preds))"
   ]
  },
  {
   "cell_type": "code",
   "execution_count": 20,
   "metadata": {},
   "outputs": [
    {
     "name": "stdout",
     "output_type": "stream",
     "text": [
      "Trying model with 10 estimators ...\n",
      "The model accuracy on the test set: 70.49%\n",
      "Trying model with 15 estimators ...\n",
      "The model accuracy on the test set: 73.77%\n",
      "Trying model with 20 estimators ...\n",
      "The model accuracy on the test set: 73.77%\n",
      "Trying model with 25 estimators ...\n",
      "The model accuracy on the test set: 81.97%\n",
      "Trying model with 30 estimators ...\n",
      "The model accuracy on the test set: 77.05%\n",
      "Trying model with 35 estimators ...\n",
      "The model accuracy on the test set: 78.69%\n",
      "Trying model with 40 estimators ...\n",
      "The model accuracy on the test set: 75.41%\n",
      "Trying model with 45 estimators ...\n",
      "The model accuracy on the test set: 75.41%\n",
      "Trying model with 50 estimators ...\n",
      "The model accuracy on the test set: 77.05%\n",
      "Trying model with 55 estimators ...\n",
      "The model accuracy on the test set: 77.05%\n",
      "Trying model with 60 estimators ...\n",
      "The model accuracy on the test set: 80.33%\n",
      "Trying model with 65 estimators ...\n",
      "The model accuracy on the test set: 75.41%\n",
      "Trying model with 70 estimators ...\n",
      "The model accuracy on the test set: 75.41%\n",
      "Trying model with 75 estimators ...\n",
      "The model accuracy on the test set: 73.77%\n",
      "Trying model with 80 estimators ...\n",
      "The model accuracy on the test set: 78.69%\n",
      "Trying model with 85 estimators ...\n",
      "The model accuracy on the test set: 80.33%\n",
      "Trying model with 90 estimators ...\n",
      "The model accuracy on the test set: 78.69%\n",
      "Trying model with 95 estimators ...\n",
      "The model accuracy on the test set: 75.41%\n",
      "The best score is ==> 0.819672131147541\n"
     ]
    }
   ],
   "source": [
    "# 5.Improve the model\n",
    "# Try diffrent amount of n_estimator\n",
    "best_score = 0\n",
    "\n",
    "for i in range(10, 100, 5):\n",
    "    clf = RandomForestClassifier(n_estimators=i).fit(x_train, y_train)\n",
    "    print(f\"Trying model with {i} estimators ...\")\n",
    "    print(f\"The model accuracy on the test set:{clf.score(x_test, y_test) * 100: .2f}%\")\n",
    "    \n",
    "    if clf.score(x_test, y_test) > best_score:\n",
    "        best_clf = clf\n",
    "        best_score = clf.score(x_test, y_test)\n",
    "\n",
    "print(f'The best score is ==> {best_score}')"
   ]
  },
  {
   "cell_type": "code",
   "execution_count": 21,
   "metadata": {},
   "outputs": [
    {
     "data": {
      "text/plain": [
       "0.819672131147541"
      ]
     },
     "execution_count": 21,
     "metadata": {},
     "output_type": "execute_result"
    }
   ],
   "source": [
    "best_clf.score(x_test, y_test)"
   ]
  },
  {
   "cell_type": "code",
   "execution_count": 22,
   "metadata": {},
   "outputs": [],
   "source": [
    "# 6. Save the model and reload it \n",
    "import pickle\n",
    "pickle.dump(best_clf, open('Random_forest_model_1.pkl', 'wb'))\n"
   ]
  },
  {
   "cell_type": "code",
   "execution_count": 23,
   "metadata": {},
   "outputs": [
    {
     "data": {
      "text/plain": [
       "0.819672131147541"
      ]
     },
     "execution_count": 23,
     "metadata": {},
     "output_type": "execute_result"
    }
   ],
   "source": [
    "# Load it \n",
    "loaded_model = pickle.load(open('Random_forest_model_1.pkl', 'rb'))\n",
    "loaded_model.score(x_test, y_test)"
   ]
  },
  {
   "cell_type": "code",
   "execution_count": 24,
   "metadata": {},
   "outputs": [
    {
     "name": "stdout",
     "output_type": "stream",
     "text": [
      "\n",
      "System:\n",
      "    python: 3.6.10 |Anaconda, Inc.| (default, Mar 23 2020, 23:13:11)  [GCC 7.3.0]\n",
      "executable: /home/ali/workspace/Machine-learning/env/bin/python\n",
      "   machine: Linux-5.4.0-kali4-amd64-x86_64-with-debian-kali-rolling\n",
      "\n",
      "Python dependencies:\n",
      "       pip: 20.0.2\n",
      "setuptools: 46.1.1.post20200323\n",
      "   sklearn: 0.22.1\n",
      "     numpy: 1.18.1\n",
      "     scipy: 1.4.1\n",
      "    Cython: None\n",
      "    pandas: 1.0.3\n",
      "matplotlib: 3.1.3\n",
      "    joblib: 0.14.1\n",
      "\n",
      "Built with OpenMP: True\n"
     ]
    }
   ],
   "source": [
    "# To see the version of sklearn\n",
    "import sklearn\n",
    "sklearn.show_versions()"
   ]
  },
  {
   "cell_type": "code",
   "execution_count": 25,
   "metadata": {},
   "outputs": [],
   "source": [
    "steps[0] = '0. An end-to-end Scikit-Learn workflow [x]'"
   ]
  },
  {
   "cell_type": "markdown",
   "metadata": {},
   "source": [
    "## 1. Getting the data ready"
   ]
  },
  {
   "cell_type": "markdown",
   "metadata": {},
   "source": [
    "Three main things we have to do:\n",
    "\n",
    "1. Split the data into features and labels (usually `X` & `y`)\n",
    "2. Filling (also called imputing) or disregarding missing values\n",
    "3. Converting non-numerical values to numerical values (also called feature encoding)"
   ]
  },
  {
   "cell_type": "code",
   "execution_count": 26,
   "metadata": {},
   "outputs": [],
   "source": [
    "# split data for x and y\n",
    "x = heart_disease.drop('target', axis=1)\n",
    "y = heart_disease['target']"
   ]
  },
  {
   "cell_type": "code",
   "execution_count": 27,
   "metadata": {},
   "outputs": [
    {
     "data": {
      "text/html": [
       "<div>\n",
       "<style scoped>\n",
       "    .dataframe tbody tr th:only-of-type {\n",
       "        vertical-align: middle;\n",
       "    }\n",
       "\n",
       "    .dataframe tbody tr th {\n",
       "        vertical-align: top;\n",
       "    }\n",
       "\n",
       "    .dataframe thead th {\n",
       "        text-align: right;\n",
       "    }\n",
       "</style>\n",
       "<table border=\"1\" class=\"dataframe\">\n",
       "  <thead>\n",
       "    <tr style=\"text-align: right;\">\n",
       "      <th></th>\n",
       "      <th>age</th>\n",
       "      <th>sex</th>\n",
       "      <th>cp</th>\n",
       "      <th>trestbps</th>\n",
       "      <th>chol</th>\n",
       "      <th>fbs</th>\n",
       "      <th>restecg</th>\n",
       "      <th>thalach</th>\n",
       "      <th>exang</th>\n",
       "      <th>oldpeak</th>\n",
       "      <th>slope</th>\n",
       "      <th>ca</th>\n",
       "      <th>thal</th>\n",
       "    </tr>\n",
       "  </thead>\n",
       "  <tbody>\n",
       "    <tr>\n",
       "      <th>0</th>\n",
       "      <td>63</td>\n",
       "      <td>1</td>\n",
       "      <td>3</td>\n",
       "      <td>145</td>\n",
       "      <td>233</td>\n",
       "      <td>1</td>\n",
       "      <td>0</td>\n",
       "      <td>150</td>\n",
       "      <td>0</td>\n",
       "      <td>2.3</td>\n",
       "      <td>0</td>\n",
       "      <td>0</td>\n",
       "      <td>1</td>\n",
       "    </tr>\n",
       "    <tr>\n",
       "      <th>1</th>\n",
       "      <td>37</td>\n",
       "      <td>1</td>\n",
       "      <td>2</td>\n",
       "      <td>130</td>\n",
       "      <td>250</td>\n",
       "      <td>0</td>\n",
       "      <td>1</td>\n",
       "      <td>187</td>\n",
       "      <td>0</td>\n",
       "      <td>3.5</td>\n",
       "      <td>0</td>\n",
       "      <td>0</td>\n",
       "      <td>2</td>\n",
       "    </tr>\n",
       "    <tr>\n",
       "      <th>2</th>\n",
       "      <td>41</td>\n",
       "      <td>0</td>\n",
       "      <td>1</td>\n",
       "      <td>130</td>\n",
       "      <td>204</td>\n",
       "      <td>0</td>\n",
       "      <td>0</td>\n",
       "      <td>172</td>\n",
       "      <td>0</td>\n",
       "      <td>1.4</td>\n",
       "      <td>2</td>\n",
       "      <td>0</td>\n",
       "      <td>2</td>\n",
       "    </tr>\n",
       "    <tr>\n",
       "      <th>3</th>\n",
       "      <td>56</td>\n",
       "      <td>1</td>\n",
       "      <td>1</td>\n",
       "      <td>120</td>\n",
       "      <td>236</td>\n",
       "      <td>0</td>\n",
       "      <td>1</td>\n",
       "      <td>178</td>\n",
       "      <td>0</td>\n",
       "      <td>0.8</td>\n",
       "      <td>2</td>\n",
       "      <td>0</td>\n",
       "      <td>2</td>\n",
       "    </tr>\n",
       "    <tr>\n",
       "      <th>4</th>\n",
       "      <td>57</td>\n",
       "      <td>0</td>\n",
       "      <td>0</td>\n",
       "      <td>120</td>\n",
       "      <td>354</td>\n",
       "      <td>0</td>\n",
       "      <td>1</td>\n",
       "      <td>163</td>\n",
       "      <td>1</td>\n",
       "      <td>0.6</td>\n",
       "      <td>2</td>\n",
       "      <td>0</td>\n",
       "      <td>2</td>\n",
       "    </tr>\n",
       "  </tbody>\n",
       "</table>\n",
       "</div>"
      ],
      "text/plain": [
       "   age  sex  cp  trestbps  chol  fbs  restecg  thalach  exang  oldpeak  slope  \\\n",
       "0   63    1   3       145   233    1        0      150      0      2.3      0   \n",
       "1   37    1   2       130   250    0        1      187      0      3.5      0   \n",
       "2   41    0   1       130   204    0        0      172      0      1.4      2   \n",
       "3   56    1   1       120   236    0        1      178      0      0.8      2   \n",
       "4   57    0   0       120   354    0        1      163      1      0.6      2   \n",
       "\n",
       "   ca  thal  \n",
       "0   0     1  \n",
       "1   0     2  \n",
       "2   0     2  \n",
       "3   0     2  \n",
       "4   0     2  "
      ]
     },
     "execution_count": 27,
     "metadata": {},
     "output_type": "execute_result"
    }
   ],
   "source": [
    "x.head()"
   ]
  },
  {
   "cell_type": "code",
   "execution_count": 28,
   "metadata": {},
   "outputs": [
    {
     "data": {
      "text/plain": [
       "298    0\n",
       "299    0\n",
       "300    0\n",
       "301    0\n",
       "302    0\n",
       "Name: target, dtype: int64"
      ]
     },
     "execution_count": 28,
     "metadata": {},
     "output_type": "execute_result"
    }
   ],
   "source": [
    "y.tail()"
   ]
  },
  {
   "cell_type": "code",
   "execution_count": 29,
   "metadata": {},
   "outputs": [],
   "source": [
    "# Split data into training and test sets\n",
    "from sklearn.model_selection import train_test_split\n",
    "x_train, x_test, y_train, y_test = train_test_split(x, y, test_size=0.2)"
   ]
  },
  {
   "cell_type": "code",
   "execution_count": 30,
   "metadata": {},
   "outputs": [
    {
     "data": {
      "text/plain": [
       "((242, 13), (61, 13), (61,), (242,))"
      ]
     },
     "execution_count": 30,
     "metadata": {},
     "output_type": "execute_result"
    }
   ],
   "source": [
    "# Show the shapes of our train data and test data \n",
    "x_train.shape, x_test.shape, y_test.shape, y_train.shape"
   ]
  },
  {
   "cell_type": "code",
   "execution_count": 31,
   "metadata": {},
   "outputs": [
    {
     "data": {
      "text/plain": [
       "(303, 13)"
      ]
     },
     "execution_count": 31,
     "metadata": {},
     "output_type": "execute_result"
    }
   ],
   "source": [
    "# shape of all the data x = x_test + x_train\n",
    "x.shape "
   ]
  },
  {
   "cell_type": "markdown",
   "metadata": {},
   "source": [
    "### 1.1 Make sure all the data is numerical"
   ]
  },
  {
   "cell_type": "code",
   "execution_count": 32,
   "metadata": {},
   "outputs": [
    {
     "data": {
      "text/html": [
       "<div>\n",
       "<style scoped>\n",
       "    .dataframe tbody tr th:only-of-type {\n",
       "        vertical-align: middle;\n",
       "    }\n",
       "\n",
       "    .dataframe tbody tr th {\n",
       "        vertical-align: top;\n",
       "    }\n",
       "\n",
       "    .dataframe thead th {\n",
       "        text-align: right;\n",
       "    }\n",
       "</style>\n",
       "<table border=\"1\" class=\"dataframe\">\n",
       "  <thead>\n",
       "    <tr style=\"text-align: right;\">\n",
       "      <th></th>\n",
       "      <th>Make</th>\n",
       "      <th>Colour</th>\n",
       "      <th>Odometer (KM)</th>\n",
       "      <th>Doors</th>\n",
       "      <th>Price</th>\n",
       "    </tr>\n",
       "  </thead>\n",
       "  <tbody>\n",
       "    <tr>\n",
       "      <th>0</th>\n",
       "      <td>Honda</td>\n",
       "      <td>White</td>\n",
       "      <td>35431</td>\n",
       "      <td>4</td>\n",
       "      <td>15323</td>\n",
       "    </tr>\n",
       "    <tr>\n",
       "      <th>1</th>\n",
       "      <td>BMW</td>\n",
       "      <td>Blue</td>\n",
       "      <td>192714</td>\n",
       "      <td>5</td>\n",
       "      <td>19943</td>\n",
       "    </tr>\n",
       "    <tr>\n",
       "      <th>2</th>\n",
       "      <td>Honda</td>\n",
       "      <td>White</td>\n",
       "      <td>84714</td>\n",
       "      <td>4</td>\n",
       "      <td>28343</td>\n",
       "    </tr>\n",
       "    <tr>\n",
       "      <th>3</th>\n",
       "      <td>Toyota</td>\n",
       "      <td>White</td>\n",
       "      <td>154365</td>\n",
       "      <td>4</td>\n",
       "      <td>13434</td>\n",
       "    </tr>\n",
       "    <tr>\n",
       "      <th>4</th>\n",
       "      <td>Nissan</td>\n",
       "      <td>Blue</td>\n",
       "      <td>181577</td>\n",
       "      <td>3</td>\n",
       "      <td>14043</td>\n",
       "    </tr>\n",
       "  </tbody>\n",
       "</table>\n",
       "</div>"
      ],
      "text/plain": [
       "     Make Colour  Odometer (KM)  Doors  Price\n",
       "0   Honda  White          35431      4  15323\n",
       "1     BMW   Blue         192714      5  19943\n",
       "2   Honda  White          84714      4  28343\n",
       "3  Toyota  White         154365      4  13434\n",
       "4  Nissan   Blue         181577      3  14043"
      ]
     },
     "execution_count": 32,
     "metadata": {},
     "output_type": "execute_result"
    }
   ],
   "source": [
    "# import the data\n",
    "car_sales = pd.read_csv('car-sales-extended.csv')\n",
    "car_sales.head()"
   ]
  },
  {
   "cell_type": "code",
   "execution_count": 33,
   "metadata": {},
   "outputs": [
    {
     "data": {
      "text/plain": [
       "(Make             object\n",
       " Colour           object\n",
       " Odometer (KM)     int64\n",
       " Doors             int64\n",
       " Price             int64\n",
       " dtype: object,\n",
       " 1000)"
      ]
     },
     "execution_count": 33,
     "metadata": {},
     "output_type": "execute_result"
    }
   ],
   "source": [
    "# see the type of our data and see the size of it\n",
    "car_sales.dtypes, len(car_sales)"
   ]
  },
  {
   "cell_type": "code",
   "execution_count": 34,
   "metadata": {},
   "outputs": [],
   "source": [
    "# Split the data to x, y\n",
    "x = car_sales.drop('Price', axis=1)\n",
    "y = car_sales['Price']"
   ]
  },
  {
   "cell_type": "code",
   "execution_count": 35,
   "metadata": {},
   "outputs": [
    {
     "data": {
      "text/html": [
       "<div>\n",
       "<style scoped>\n",
       "    .dataframe tbody tr th:only-of-type {\n",
       "        vertical-align: middle;\n",
       "    }\n",
       "\n",
       "    .dataframe tbody tr th {\n",
       "        vertical-align: top;\n",
       "    }\n",
       "\n",
       "    .dataframe thead th {\n",
       "        text-align: right;\n",
       "    }\n",
       "</style>\n",
       "<table border=\"1\" class=\"dataframe\">\n",
       "  <thead>\n",
       "    <tr style=\"text-align: right;\">\n",
       "      <th></th>\n",
       "      <th>Make</th>\n",
       "      <th>Colour</th>\n",
       "      <th>Odometer (KM)</th>\n",
       "      <th>Doors</th>\n",
       "    </tr>\n",
       "  </thead>\n",
       "  <tbody>\n",
       "    <tr>\n",
       "      <th>0</th>\n",
       "      <td>Honda</td>\n",
       "      <td>White</td>\n",
       "      <td>35431</td>\n",
       "      <td>4</td>\n",
       "    </tr>\n",
       "    <tr>\n",
       "      <th>1</th>\n",
       "      <td>BMW</td>\n",
       "      <td>Blue</td>\n",
       "      <td>192714</td>\n",
       "      <td>5</td>\n",
       "    </tr>\n",
       "    <tr>\n",
       "      <th>2</th>\n",
       "      <td>Honda</td>\n",
       "      <td>White</td>\n",
       "      <td>84714</td>\n",
       "      <td>4</td>\n",
       "    </tr>\n",
       "    <tr>\n",
       "      <th>3</th>\n",
       "      <td>Toyota</td>\n",
       "      <td>White</td>\n",
       "      <td>154365</td>\n",
       "      <td>4</td>\n",
       "    </tr>\n",
       "    <tr>\n",
       "      <th>4</th>\n",
       "      <td>Nissan</td>\n",
       "      <td>Blue</td>\n",
       "      <td>181577</td>\n",
       "      <td>3</td>\n",
       "    </tr>\n",
       "  </tbody>\n",
       "</table>\n",
       "</div>"
      ],
      "text/plain": [
       "     Make Colour  Odometer (KM)  Doors\n",
       "0   Honda  White          35431      4\n",
       "1     BMW   Blue         192714      5\n",
       "2   Honda  White          84714      4\n",
       "3  Toyota  White         154365      4\n",
       "4  Nissan   Blue         181577      3"
      ]
     },
     "execution_count": 35,
     "metadata": {},
     "output_type": "execute_result"
    }
   ],
   "source": [
    "x.head()"
   ]
  },
  {
   "cell_type": "code",
   "execution_count": 36,
   "metadata": {},
   "outputs": [
    {
     "data": {
      "text/plain": [
       "995    32042\n",
       "996     5716\n",
       "997    31570\n",
       "998     4001\n",
       "999    12732\n",
       "Name: Price, dtype: int64"
      ]
     },
     "execution_count": 36,
     "metadata": {},
     "output_type": "execute_result"
    }
   ],
   "source": [
    "y.tail()"
   ]
  },
  {
   "cell_type": "code",
   "execution_count": 37,
   "metadata": {},
   "outputs": [],
   "source": [
    "# Split to training and test sets\n",
    "from sklearn.model_selection import train_test_split\n",
    "x_train, x_test, y_train, y_test = train_test_split(x, y, test_size=0.2)"
   ]
  },
  {
   "cell_type": "code",
   "execution_count": 38,
   "metadata": {},
   "outputs": [
    {
     "data": {
      "text/plain": [
       "((800, 4), (200, 4))"
      ]
     },
     "execution_count": 38,
     "metadata": {},
     "output_type": "execute_result"
    }
   ],
   "source": [
    "x_train.shape, x_test.shape"
   ]
  },
  {
   "cell_type": "code",
   "execution_count": 39,
   "metadata": {},
   "outputs": [],
   "source": [
    "# Build machine learning model \n",
    "from sklearn.ensemble import RandomForestRegressor\n",
    "model = RandomForestRegressor()\n",
    "# model.fit(x_train, y_train)\n",
    "# model.score(x_test, y_test)\n",
    "# Error ==> cann't convert string data to float"
   ]
  },
  {
   "cell_type": "code",
   "execution_count": 40,
   "metadata": {},
   "outputs": [
    {
     "data": {
      "text/plain": [
       "array([[0.00000e+00, 1.00000e+00, 0.00000e+00, ..., 1.00000e+00,\n",
       "        0.00000e+00, 3.54310e+04],\n",
       "       [1.00000e+00, 0.00000e+00, 0.00000e+00, ..., 0.00000e+00,\n",
       "        1.00000e+00, 1.92714e+05],\n",
       "       [0.00000e+00, 1.00000e+00, 0.00000e+00, ..., 1.00000e+00,\n",
       "        0.00000e+00, 8.47140e+04],\n",
       "       ...,\n",
       "       [0.00000e+00, 0.00000e+00, 1.00000e+00, ..., 1.00000e+00,\n",
       "        0.00000e+00, 6.66040e+04],\n",
       "       [0.00000e+00, 1.00000e+00, 0.00000e+00, ..., 1.00000e+00,\n",
       "        0.00000e+00, 2.15883e+05],\n",
       "       [0.00000e+00, 0.00000e+00, 0.00000e+00, ..., 1.00000e+00,\n",
       "        0.00000e+00, 2.48360e+05]])"
      ]
     },
     "execution_count": 40,
     "metadata": {},
     "output_type": "execute_result"
    }
   ],
   "source": [
    "# Turn the categories into numbers\n",
    "from sklearn.preprocessing import OneHotEncoder\n",
    "from sklearn.compose import ColumnTransformer\n",
    "\n",
    "categorical_features = [\"Make\", \"Colour\", \"Doors\"]\n",
    "one_hot = OneHotEncoder()\n",
    "transformer = ColumnTransformer([('one_hot', one_hot, categorical_features)],\n",
    "                                remainder='passthrough')\n",
    "transformed_x = transformer.fit_transform(x)\n",
    "transformed_x"
   ]
  },
  {
   "cell_type": "code",
   "execution_count": 41,
   "metadata": {},
   "outputs": [
    {
     "data": {
      "text/html": [
       "<div>\n",
       "<style scoped>\n",
       "    .dataframe tbody tr th:only-of-type {\n",
       "        vertical-align: middle;\n",
       "    }\n",
       "\n",
       "    .dataframe tbody tr th {\n",
       "        vertical-align: top;\n",
       "    }\n",
       "\n",
       "    .dataframe thead th {\n",
       "        text-align: right;\n",
       "    }\n",
       "</style>\n",
       "<table border=\"1\" class=\"dataframe\">\n",
       "  <thead>\n",
       "    <tr style=\"text-align: right;\">\n",
       "      <th></th>\n",
       "      <th>Make</th>\n",
       "      <th>Colour</th>\n",
       "      <th>Odometer (KM)</th>\n",
       "      <th>Doors</th>\n",
       "    </tr>\n",
       "  </thead>\n",
       "  <tbody>\n",
       "    <tr>\n",
       "      <th>0</th>\n",
       "      <td>Honda</td>\n",
       "      <td>White</td>\n",
       "      <td>35431</td>\n",
       "      <td>4</td>\n",
       "    </tr>\n",
       "    <tr>\n",
       "      <th>1</th>\n",
       "      <td>BMW</td>\n",
       "      <td>Blue</td>\n",
       "      <td>192714</td>\n",
       "      <td>5</td>\n",
       "    </tr>\n",
       "    <tr>\n",
       "      <th>2</th>\n",
       "      <td>Honda</td>\n",
       "      <td>White</td>\n",
       "      <td>84714</td>\n",
       "      <td>4</td>\n",
       "    </tr>\n",
       "    <tr>\n",
       "      <th>3</th>\n",
       "      <td>Toyota</td>\n",
       "      <td>White</td>\n",
       "      <td>154365</td>\n",
       "      <td>4</td>\n",
       "    </tr>\n",
       "    <tr>\n",
       "      <th>4</th>\n",
       "      <td>Nissan</td>\n",
       "      <td>Blue</td>\n",
       "      <td>181577</td>\n",
       "      <td>3</td>\n",
       "    </tr>\n",
       "  </tbody>\n",
       "</table>\n",
       "</div>"
      ],
      "text/plain": [
       "     Make Colour  Odometer (KM)  Doors\n",
       "0   Honda  White          35431      4\n",
       "1     BMW   Blue         192714      5\n",
       "2   Honda  White          84714      4\n",
       "3  Toyota  White         154365      4\n",
       "4  Nissan   Blue         181577      3"
      ]
     },
     "execution_count": 41,
     "metadata": {},
     "output_type": "execute_result"
    }
   ],
   "source": [
    "x.head()"
   ]
  },
  {
   "cell_type": "code",
   "execution_count": 42,
   "metadata": {},
   "outputs": [
    {
     "data": {
      "text/html": [
       "<div>\n",
       "<style scoped>\n",
       "    .dataframe tbody tr th:only-of-type {\n",
       "        vertical-align: middle;\n",
       "    }\n",
       "\n",
       "    .dataframe tbody tr th {\n",
       "        vertical-align: top;\n",
       "    }\n",
       "\n",
       "    .dataframe thead th {\n",
       "        text-align: right;\n",
       "    }\n",
       "</style>\n",
       "<table border=\"1\" class=\"dataframe\">\n",
       "  <thead>\n",
       "    <tr style=\"text-align: right;\">\n",
       "      <th></th>\n",
       "      <th>0</th>\n",
       "      <th>1</th>\n",
       "      <th>2</th>\n",
       "      <th>3</th>\n",
       "      <th>4</th>\n",
       "      <th>5</th>\n",
       "      <th>6</th>\n",
       "      <th>7</th>\n",
       "      <th>8</th>\n",
       "      <th>9</th>\n",
       "      <th>10</th>\n",
       "      <th>11</th>\n",
       "      <th>12</th>\n",
       "    </tr>\n",
       "  </thead>\n",
       "  <tbody>\n",
       "    <tr>\n",
       "      <th>0</th>\n",
       "      <td>0.0</td>\n",
       "      <td>1.0</td>\n",
       "      <td>0.0</td>\n",
       "      <td>0.0</td>\n",
       "      <td>0.0</td>\n",
       "      <td>0.0</td>\n",
       "      <td>0.0</td>\n",
       "      <td>0.0</td>\n",
       "      <td>1.0</td>\n",
       "      <td>0.0</td>\n",
       "      <td>1.0</td>\n",
       "      <td>0.0</td>\n",
       "      <td>35431.0</td>\n",
       "    </tr>\n",
       "    <tr>\n",
       "      <th>1</th>\n",
       "      <td>1.0</td>\n",
       "      <td>0.0</td>\n",
       "      <td>0.0</td>\n",
       "      <td>0.0</td>\n",
       "      <td>0.0</td>\n",
       "      <td>1.0</td>\n",
       "      <td>0.0</td>\n",
       "      <td>0.0</td>\n",
       "      <td>0.0</td>\n",
       "      <td>0.0</td>\n",
       "      <td>0.0</td>\n",
       "      <td>1.0</td>\n",
       "      <td>192714.0</td>\n",
       "    </tr>\n",
       "    <tr>\n",
       "      <th>2</th>\n",
       "      <td>0.0</td>\n",
       "      <td>1.0</td>\n",
       "      <td>0.0</td>\n",
       "      <td>0.0</td>\n",
       "      <td>0.0</td>\n",
       "      <td>0.0</td>\n",
       "      <td>0.0</td>\n",
       "      <td>0.0</td>\n",
       "      <td>1.0</td>\n",
       "      <td>0.0</td>\n",
       "      <td>1.0</td>\n",
       "      <td>0.0</td>\n",
       "      <td>84714.0</td>\n",
       "    </tr>\n",
       "    <tr>\n",
       "      <th>3</th>\n",
       "      <td>0.0</td>\n",
       "      <td>0.0</td>\n",
       "      <td>0.0</td>\n",
       "      <td>1.0</td>\n",
       "      <td>0.0</td>\n",
       "      <td>0.0</td>\n",
       "      <td>0.0</td>\n",
       "      <td>0.0</td>\n",
       "      <td>1.0</td>\n",
       "      <td>0.0</td>\n",
       "      <td>1.0</td>\n",
       "      <td>0.0</td>\n",
       "      <td>154365.0</td>\n",
       "    </tr>\n",
       "    <tr>\n",
       "      <th>4</th>\n",
       "      <td>0.0</td>\n",
       "      <td>0.0</td>\n",
       "      <td>1.0</td>\n",
       "      <td>0.0</td>\n",
       "      <td>0.0</td>\n",
       "      <td>1.0</td>\n",
       "      <td>0.0</td>\n",
       "      <td>0.0</td>\n",
       "      <td>0.0</td>\n",
       "      <td>1.0</td>\n",
       "      <td>0.0</td>\n",
       "      <td>0.0</td>\n",
       "      <td>181577.0</td>\n",
       "    </tr>\n",
       "  </tbody>\n",
       "</table>\n",
       "</div>"
      ],
      "text/plain": [
       "     0    1    2    3    4    5    6    7    8    9   10   11        12\n",
       "0  0.0  1.0  0.0  0.0  0.0  0.0  0.0  0.0  1.0  0.0  1.0  0.0   35431.0\n",
       "1  1.0  0.0  0.0  0.0  0.0  1.0  0.0  0.0  0.0  0.0  0.0  1.0  192714.0\n",
       "2  0.0  1.0  0.0  0.0  0.0  0.0  0.0  0.0  1.0  0.0  1.0  0.0   84714.0\n",
       "3  0.0  0.0  0.0  1.0  0.0  0.0  0.0  0.0  1.0  0.0  1.0  0.0  154365.0\n",
       "4  0.0  0.0  1.0  0.0  0.0  1.0  0.0  0.0  0.0  1.0  0.0  0.0  181577.0"
      ]
     },
     "execution_count": 42,
     "metadata": {},
     "output_type": "execute_result"
    }
   ],
   "source": [
    "pd.DataFrame(transformed_x).head()"
   ]
  },
  {
   "cell_type": "code",
   "execution_count": 43,
   "metadata": {},
   "outputs": [
    {
     "data": {
      "text/html": [
       "<div>\n",
       "<style scoped>\n",
       "    .dataframe tbody tr th:only-of-type {\n",
       "        vertical-align: middle;\n",
       "    }\n",
       "\n",
       "    .dataframe tbody tr th {\n",
       "        vertical-align: top;\n",
       "    }\n",
       "\n",
       "    .dataframe thead th {\n",
       "        text-align: right;\n",
       "    }\n",
       "</style>\n",
       "<table border=\"1\" class=\"dataframe\">\n",
       "  <thead>\n",
       "    <tr style=\"text-align: right;\">\n",
       "      <th></th>\n",
       "      <th>Doors</th>\n",
       "      <th>Make_BMW</th>\n",
       "      <th>Make_Honda</th>\n",
       "      <th>Make_Nissan</th>\n",
       "      <th>Make_Toyota</th>\n",
       "      <th>Colour_Black</th>\n",
       "      <th>Colour_Blue</th>\n",
       "      <th>Colour_Green</th>\n",
       "      <th>Colour_Red</th>\n",
       "      <th>Colour_White</th>\n",
       "    </tr>\n",
       "  </thead>\n",
       "  <tbody>\n",
       "    <tr>\n",
       "      <th>0</th>\n",
       "      <td>4</td>\n",
       "      <td>0</td>\n",
       "      <td>1</td>\n",
       "      <td>0</td>\n",
       "      <td>0</td>\n",
       "      <td>0</td>\n",
       "      <td>0</td>\n",
       "      <td>0</td>\n",
       "      <td>0</td>\n",
       "      <td>1</td>\n",
       "    </tr>\n",
       "    <tr>\n",
       "      <th>1</th>\n",
       "      <td>5</td>\n",
       "      <td>1</td>\n",
       "      <td>0</td>\n",
       "      <td>0</td>\n",
       "      <td>0</td>\n",
       "      <td>0</td>\n",
       "      <td>1</td>\n",
       "      <td>0</td>\n",
       "      <td>0</td>\n",
       "      <td>0</td>\n",
       "    </tr>\n",
       "    <tr>\n",
       "      <th>2</th>\n",
       "      <td>4</td>\n",
       "      <td>0</td>\n",
       "      <td>1</td>\n",
       "      <td>0</td>\n",
       "      <td>0</td>\n",
       "      <td>0</td>\n",
       "      <td>0</td>\n",
       "      <td>0</td>\n",
       "      <td>0</td>\n",
       "      <td>1</td>\n",
       "    </tr>\n",
       "    <tr>\n",
       "      <th>3</th>\n",
       "      <td>4</td>\n",
       "      <td>0</td>\n",
       "      <td>0</td>\n",
       "      <td>0</td>\n",
       "      <td>1</td>\n",
       "      <td>0</td>\n",
       "      <td>0</td>\n",
       "      <td>0</td>\n",
       "      <td>0</td>\n",
       "      <td>1</td>\n",
       "    </tr>\n",
       "    <tr>\n",
       "      <th>4</th>\n",
       "      <td>3</td>\n",
       "      <td>0</td>\n",
       "      <td>0</td>\n",
       "      <td>1</td>\n",
       "      <td>0</td>\n",
       "      <td>0</td>\n",
       "      <td>1</td>\n",
       "      <td>0</td>\n",
       "      <td>0</td>\n",
       "      <td>0</td>\n",
       "    </tr>\n",
       "  </tbody>\n",
       "</table>\n",
       "</div>"
      ],
      "text/plain": [
       "   Doors  Make_BMW  Make_Honda  Make_Nissan  Make_Toyota  Colour_Black  \\\n",
       "0      4         0           1            0            0             0   \n",
       "1      5         1           0            0            0             0   \n",
       "2      4         0           1            0            0             0   \n",
       "3      4         0           0            0            1             0   \n",
       "4      3         0           0            1            0             0   \n",
       "\n",
       "   Colour_Blue  Colour_Green  Colour_Red  Colour_White  \n",
       "0            0             0           0             1  \n",
       "1            1             0           0             0  \n",
       "2            0             0           0             1  \n",
       "3            0             0           0             1  \n",
       "4            1             0           0             0  "
      ]
     },
     "execution_count": 43,
     "metadata": {},
     "output_type": "execute_result"
    }
   ],
   "source": [
    "dumies = pd.get_dummies(car_sales[['Make','Colour', 'Doors']])\n",
    "dumies.head()"
   ]
  },
  {
   "cell_type": "code",
   "execution_count": 44,
   "metadata": {},
   "outputs": [
    {
     "data": {
      "text/plain": [
       "RandomForestRegressor(bootstrap=True, ccp_alpha=0.0, criterion='mse',\n",
       "                      max_depth=None, max_features='auto', max_leaf_nodes=None,\n",
       "                      max_samples=None, min_impurity_decrease=0.0,\n",
       "                      min_impurity_split=None, min_samples_leaf=1,\n",
       "                      min_samples_split=2, min_weight_fraction_leaf=0.0,\n",
       "                      n_estimators=100, n_jobs=None, oob_score=False,\n",
       "                      random_state=None, verbose=0, warm_start=False)"
      ]
     },
     "execution_count": 44,
     "metadata": {},
     "output_type": "execute_result"
    }
   ],
   "source": [
    "# Refit the model \n",
    "np.random.seed(7)\n",
    "x_train, x_test, y_train, y_test = train_test_split(transformed_x, y, test_size=0.2)\n",
    "model.fit(x_train, y_train)"
   ]
  },
  {
   "cell_type": "code",
   "execution_count": 45,
   "metadata": {},
   "outputs": [
    {
     "data": {
      "text/plain": [
       "0.3362899219458084"
      ]
     },
     "execution_count": 45,
     "metadata": {},
     "output_type": "execute_result"
    }
   ],
   "source": [
    "model.score(x_test, y_test)"
   ]
  },
  {
   "cell_type": "markdown",
   "metadata": {},
   "source": [
    "### 1.2 What if there were missing values?\n",
    "1. Fill them with some value(also known as imputation)\n",
    "2. Remove the sample with missing data together."
   ]
  },
  {
   "cell_type": "code",
   "execution_count": 46,
   "metadata": {},
   "outputs": [
    {
     "data": {
      "text/html": [
       "<div>\n",
       "<style scoped>\n",
       "    .dataframe tbody tr th:only-of-type {\n",
       "        vertical-align: middle;\n",
       "    }\n",
       "\n",
       "    .dataframe tbody tr th {\n",
       "        vertical-align: top;\n",
       "    }\n",
       "\n",
       "    .dataframe thead th {\n",
       "        text-align: right;\n",
       "    }\n",
       "</style>\n",
       "<table border=\"1\" class=\"dataframe\">\n",
       "  <thead>\n",
       "    <tr style=\"text-align: right;\">\n",
       "      <th></th>\n",
       "      <th>Make</th>\n",
       "      <th>Colour</th>\n",
       "      <th>Odometer (KM)</th>\n",
       "      <th>Doors</th>\n",
       "      <th>Price</th>\n",
       "    </tr>\n",
       "  </thead>\n",
       "  <tbody>\n",
       "    <tr>\n",
       "      <th>995</th>\n",
       "      <td>Toyota</td>\n",
       "      <td>Black</td>\n",
       "      <td>35820.0</td>\n",
       "      <td>4.0</td>\n",
       "      <td>32042.0</td>\n",
       "    </tr>\n",
       "    <tr>\n",
       "      <th>996</th>\n",
       "      <td>NaN</td>\n",
       "      <td>White</td>\n",
       "      <td>155144.0</td>\n",
       "      <td>3.0</td>\n",
       "      <td>5716.0</td>\n",
       "    </tr>\n",
       "    <tr>\n",
       "      <th>997</th>\n",
       "      <td>Nissan</td>\n",
       "      <td>Blue</td>\n",
       "      <td>66604.0</td>\n",
       "      <td>4.0</td>\n",
       "      <td>31570.0</td>\n",
       "    </tr>\n",
       "    <tr>\n",
       "      <th>998</th>\n",
       "      <td>Honda</td>\n",
       "      <td>White</td>\n",
       "      <td>215883.0</td>\n",
       "      <td>4.0</td>\n",
       "      <td>4001.0</td>\n",
       "    </tr>\n",
       "    <tr>\n",
       "      <th>999</th>\n",
       "      <td>Toyota</td>\n",
       "      <td>Blue</td>\n",
       "      <td>248360.0</td>\n",
       "      <td>4.0</td>\n",
       "      <td>12732.0</td>\n",
       "    </tr>\n",
       "  </tbody>\n",
       "</table>\n",
       "</div>"
      ],
      "text/plain": [
       "       Make Colour  Odometer (KM)  Doors    Price\n",
       "995  Toyota  Black        35820.0    4.0  32042.0\n",
       "996     NaN  White       155144.0    3.0   5716.0\n",
       "997  Nissan   Blue        66604.0    4.0  31570.0\n",
       "998   Honda  White       215883.0    4.0   4001.0\n",
       "999  Toyota   Blue       248360.0    4.0  12732.0"
      ]
     },
     "execution_count": 46,
     "metadata": {},
     "output_type": "execute_result"
    }
   ],
   "source": [
    "# import car sales missing data\n",
    "car_sales_missing_data = pd.read_csv('car-sales-extended-missing-data.csv')\n",
    "car_sales_missing_data.tail()"
   ]
  },
  {
   "cell_type": "code",
   "execution_count": 47,
   "metadata": {},
   "outputs": [
    {
     "data": {
      "text/plain": [
       "Make             49\n",
       "Colour           50\n",
       "Odometer (KM)    50\n",
       "Doors            50\n",
       "Price            50\n",
       "dtype: int64"
      ]
     },
     "execution_count": 47,
     "metadata": {},
     "output_type": "execute_result"
    }
   ],
   "source": [
    "# show how many data is missed\n",
    "car_sales_missing_data.isna().sum()"
   ]
  },
  {
   "cell_type": "code",
   "execution_count": 48,
   "metadata": {},
   "outputs": [],
   "source": [
    "# Option 1: Fill missing data with pandas\n",
    "# fill make\n",
    "car_sales_missing_data['Make'].fillna('missing', inplace=True)\n",
    "# fill the colour\n",
    "car_sales_missing_data['Colour'].fillna('missing', inplace=True)\n",
    "# fill the Odometer (KM)\n",
    "car_sales_missing_data['Odometer (KM)'].fillna(car_sales_missing_data['Odometer (KM)'].mean(),\n",
    "                                              inplace=True)\n",
    "# fill the doors \n",
    "car_sales_missing_data['Doors'].fillna(4, inplace=True)"
   ]
  },
  {
   "cell_type": "code",
   "execution_count": 49,
   "metadata": {},
   "outputs": [],
   "source": [
    "# remove the rows with missing values\n",
    "car_sales_missing_data.dropna(inplace=True)"
   ]
  },
  {
   "cell_type": "code",
   "execution_count": 50,
   "metadata": {},
   "outputs": [
    {
     "data": {
      "text/plain": [
       "Make             0\n",
       "Colour           0\n",
       "Odometer (KM)    0\n",
       "Doors            0\n",
       "Price            0\n",
       "dtype: int64"
      ]
     },
     "execution_count": 50,
     "metadata": {},
     "output_type": "execute_result"
    }
   ],
   "source": [
    "car_sales_missing_data.isna().sum()"
   ]
  },
  {
   "cell_type": "code",
   "execution_count": 51,
   "metadata": {},
   "outputs": [
    {
     "data": {
      "text/plain": [
       "950"
      ]
     },
     "execution_count": 51,
     "metadata": {},
     "output_type": "execute_result"
    }
   ],
   "source": [
    "len(car_sales_missing_data)"
   ]
  },
  {
   "cell_type": "code",
   "execution_count": 52,
   "metadata": {},
   "outputs": [],
   "source": [
    "x = car_sales_missing_data.drop('Price', axis=1)\n",
    "y = car_sales_missing_data['Price']"
   ]
  },
  {
   "cell_type": "code",
   "execution_count": 53,
   "metadata": {},
   "outputs": [
    {
     "data": {
      "text/plain": [
       "array([[0.00000e+00, 1.00000e+00, 0.00000e+00, ..., 0.00000e+00,\n",
       "        3.54310e+04, 1.53230e+04],\n",
       "       [1.00000e+00, 0.00000e+00, 0.00000e+00, ..., 1.00000e+00,\n",
       "        1.92714e+05, 1.99430e+04],\n",
       "       [0.00000e+00, 1.00000e+00, 0.00000e+00, ..., 0.00000e+00,\n",
       "        8.47140e+04, 2.83430e+04],\n",
       "       ...,\n",
       "       [0.00000e+00, 0.00000e+00, 1.00000e+00, ..., 0.00000e+00,\n",
       "        6.66040e+04, 3.15700e+04],\n",
       "       [0.00000e+00, 1.00000e+00, 0.00000e+00, ..., 0.00000e+00,\n",
       "        2.15883e+05, 4.00100e+03],\n",
       "       [0.00000e+00, 0.00000e+00, 0.00000e+00, ..., 0.00000e+00,\n",
       "        2.48360e+05, 1.27320e+04]])"
      ]
     },
     "execution_count": 53,
     "metadata": {},
     "output_type": "execute_result"
    }
   ],
   "source": [
    "# convert our data to the numbers\n",
    "from sklearn.preprocessing import OneHotEncoder\n",
    "from sklearn.compose import ColumnTransformer\n",
    "\n",
    "categorical_features = [\"Make\", \"Colour\", \"Doors\"]\n",
    "one_hot = OneHotEncoder()\n",
    "transformer = ColumnTransformer([('one_hot' ,one_hot, categorical_features)],\n",
    "                                remainder='passthrough')\n",
    "transformed_x = transformer.fit_transform(car_sales_missing_data)\n",
    "transformed_x"
   ]
  },
  {
   "cell_type": "code",
   "execution_count": 1,
   "metadata": {},
   "outputs": [],
   "source": [
    "# Option 2: Fill missing values with scikit-learn"
   ]
  },
  {
   "cell_type": "code",
   "execution_count": 55,
   "metadata": {},
   "outputs": [
    {
     "data": {
      "text/html": [
       "<div>\n",
       "<style scoped>\n",
       "    .dataframe tbody tr th:only-of-type {\n",
       "        vertical-align: middle;\n",
       "    }\n",
       "\n",
       "    .dataframe tbody tr th {\n",
       "        vertical-align: top;\n",
       "    }\n",
       "\n",
       "    .dataframe thead th {\n",
       "        text-align: right;\n",
       "    }\n",
       "</style>\n",
       "<table border=\"1\" class=\"dataframe\">\n",
       "  <thead>\n",
       "    <tr style=\"text-align: right;\">\n",
       "      <th></th>\n",
       "      <th>Make</th>\n",
       "      <th>Colour</th>\n",
       "      <th>Odometer (KM)</th>\n",
       "      <th>Doors</th>\n",
       "      <th>Price</th>\n",
       "    </tr>\n",
       "  </thead>\n",
       "  <tbody>\n",
       "    <tr>\n",
       "      <th>0</th>\n",
       "      <td>Honda</td>\n",
       "      <td>White</td>\n",
       "      <td>35431.0</td>\n",
       "      <td>4.0</td>\n",
       "      <td>15323.0</td>\n",
       "    </tr>\n",
       "    <tr>\n",
       "      <th>1</th>\n",
       "      <td>BMW</td>\n",
       "      <td>Blue</td>\n",
       "      <td>192714.0</td>\n",
       "      <td>5.0</td>\n",
       "      <td>19943.0</td>\n",
       "    </tr>\n",
       "    <tr>\n",
       "      <th>2</th>\n",
       "      <td>Honda</td>\n",
       "      <td>White</td>\n",
       "      <td>84714.0</td>\n",
       "      <td>4.0</td>\n",
       "      <td>28343.0</td>\n",
       "    </tr>\n",
       "    <tr>\n",
       "      <th>3</th>\n",
       "      <td>Toyota</td>\n",
       "      <td>White</td>\n",
       "      <td>154365.0</td>\n",
       "      <td>4.0</td>\n",
       "      <td>13434.0</td>\n",
       "    </tr>\n",
       "    <tr>\n",
       "      <th>4</th>\n",
       "      <td>Nissan</td>\n",
       "      <td>Blue</td>\n",
       "      <td>181577.0</td>\n",
       "      <td>3.0</td>\n",
       "      <td>14043.0</td>\n",
       "    </tr>\n",
       "  </tbody>\n",
       "</table>\n",
       "</div>"
      ],
      "text/plain": [
       "     Make Colour  Odometer (KM)  Doors    Price\n",
       "0   Honda  White        35431.0    4.0  15323.0\n",
       "1     BMW   Blue       192714.0    5.0  19943.0\n",
       "2   Honda  White        84714.0    4.0  28343.0\n",
       "3  Toyota  White       154365.0    4.0  13434.0\n",
       "4  Nissan   Blue       181577.0    3.0  14043.0"
      ]
     },
     "execution_count": 55,
     "metadata": {},
     "output_type": "execute_result"
    }
   ],
   "source": [
    "missing_car_sales = pd.read_csv('car-sales-extended-missing-data.csv')\n",
    "missing_car_sales.head()"
   ]
  },
  {
   "cell_type": "code",
   "execution_count": 56,
   "metadata": {},
   "outputs": [
    {
     "data": {
      "text/plain": [
       "Make             49\n",
       "Colour           50\n",
       "Odometer (KM)    50\n",
       "Doors            50\n",
       "Price            50\n",
       "dtype: int64"
      ]
     },
     "execution_count": 56,
     "metadata": {},
     "output_type": "execute_result"
    }
   ],
   "source": [
    "missing_car_sales.isna().sum()"
   ]
  },
  {
   "cell_type": "code",
   "execution_count": 57,
   "metadata": {},
   "outputs": [
    {
     "data": {
      "text/plain": [
       "Make             47\n",
       "Colour           46\n",
       "Odometer (KM)    48\n",
       "Doors            47\n",
       "Price             0\n",
       "dtype: int64"
      ]
     },
     "execution_count": 57,
     "metadata": {},
     "output_type": "execute_result"
    }
   ],
   "source": [
    "# drop the none value of price\n",
    "missing_car_sales.dropna(subset=['Price'], inplace=True)\n",
    "missing_car_sales.isna().sum()"
   ]
  },
  {
   "cell_type": "code",
   "execution_count": 58,
   "metadata": {},
   "outputs": [],
   "source": [
    "# split to x, y\n",
    "x = missing_car_sales.drop('Price', axis=1)\n",
    "y = missing_car_sales['Price']"
   ]
  },
  {
   "cell_type": "code",
   "execution_count": 59,
   "metadata": {},
   "outputs": [],
   "source": [
    "# Split data into train and test\n",
    "np.random.seed(42)\n",
    "x_train, x_test, y_train, y_test = train_test_split(x, y, test_size=0.2)"
   ]
  },
  {
   "cell_type": "code",
   "execution_count": 60,
   "metadata": {},
   "outputs": [
    {
     "data": {
      "text/plain": [
       "array([['Honda', 'White', 4.0, 71934.0],\n",
       "       ['Toyota', 'Red', 4.0, 162665.0],\n",
       "       ['Honda', 'White', 4.0, 42844.0],\n",
       "       ...,\n",
       "       ['Toyota', 'White', 4.0, 196225.0],\n",
       "       ['Honda', 'Blue', 4.0, 133117.0],\n",
       "       ['Honda', 'missing', 4.0, 150582.0]], dtype=object)"
      ]
     },
     "execution_count": 60,
     "metadata": {},
     "output_type": "execute_result"
    }
   ],
   "source": [
    "# Fill missing values with Scikit-Learn\n",
    "from sklearn.impute import SimpleImputer\n",
    "from sklearn.compose import ColumnTransformer\n",
    "\n",
    "# fill categorical values with missing and numerical values with means\n",
    "cat_imputer = SimpleImputer(strategy='constant', fill_value='missing')\n",
    "door_imputer = SimpleImputer(strategy='constant', fill_value=4)\n",
    "num_imputer = SimpleImputer(strategy='mean')\n",
    "\n",
    "# Define columns\n",
    "cat_feature = ['Make', 'Colour']\n",
    "door_feature = ['Doors']\n",
    "num_feature = ['Odometer (KM)']\n",
    "\n",
    "# Create an imputer\n",
    "imputer = ColumnTransformer([\n",
    "    ('cat_imputer', cat_imputer, cat_feature),\n",
    "    ('door_imputer', door_imputer, door_feature),\n",
    "    ('num_imputer', num_imputer, num_feature)\n",
    "])\n",
    "\n",
    "# Fill train and test values separately\n",
    "filled_x_test = imputer.fit_transform(x_test) \n",
    "filled_x_train = imputer.fit_transform(x_train)\n",
    "\n",
    "filled_x_train"
   ]
  },
  {
   "cell_type": "code",
   "execution_count": 61,
   "metadata": {},
   "outputs": [
    {
     "data": {
      "text/plain": [
       "Make             0\n",
       "Colour           0\n",
       "Doors            0\n",
       "Odometer (KM)    0\n",
       "dtype: int64"
      ]
     },
     "execution_count": 61,
     "metadata": {},
     "output_type": "execute_result"
    }
   ],
   "source": [
    "# Get our transformed data array's back into DataFrame's\n",
    "train_filled_car_sales = pd.DataFrame(filled_x_train,\n",
    "                                     columns=['Make', 'Colour', 'Doors', 'Odometer (KM)'])\n",
    "test_filled_car_sales = pd.DataFrame(filled_x_test,\n",
    "                                    columns=['Make', 'Colour', 'Doors', 'Odometer (KM)'])\n",
    "\n",
    "# Check missing data in training set\n",
    "train_filled_car_sales.isna().sum()"
   ]
  },
  {
   "cell_type": "code",
   "execution_count": 62,
   "metadata": {},
   "outputs": [
    {
     "data": {
      "text/plain": [
       "Make             47\n",
       "Colour           46\n",
       "Odometer (KM)    48\n",
       "Doors            47\n",
       "Price             0\n",
       "dtype: int64"
      ]
     },
     "execution_count": 62,
     "metadata": {},
     "output_type": "execute_result"
    }
   ],
   "source": [
    "# Check to see the original... still missing values\n",
    "missing_car_sales.isna().sum()"
   ]
  },
  {
   "cell_type": "code",
   "execution_count": 63,
   "metadata": {},
   "outputs": [
    {
     "data": {
      "text/plain": [
       "array([[0.00000e+00, 1.00000e+00, 0.00000e+00, ..., 1.00000e+00,\n",
       "        0.00000e+00, 7.19340e+04],\n",
       "       [0.00000e+00, 0.00000e+00, 0.00000e+00, ..., 1.00000e+00,\n",
       "        0.00000e+00, 1.62665e+05],\n",
       "       [0.00000e+00, 1.00000e+00, 0.00000e+00, ..., 1.00000e+00,\n",
       "        0.00000e+00, 4.28440e+04],\n",
       "       ...,\n",
       "       [0.00000e+00, 0.00000e+00, 0.00000e+00, ..., 1.00000e+00,\n",
       "        0.00000e+00, 1.96225e+05],\n",
       "       [0.00000e+00, 1.00000e+00, 0.00000e+00, ..., 1.00000e+00,\n",
       "        0.00000e+00, 1.33117e+05],\n",
       "       [0.00000e+00, 1.00000e+00, 0.00000e+00, ..., 1.00000e+00,\n",
       "        0.00000e+00, 1.50582e+05]])"
      ]
     },
     "execution_count": 63,
     "metadata": {},
     "output_type": "execute_result"
    }
   ],
   "source": [
    "# Convert all the data to numerical\n",
    "from sklearn.preprocessing import OneHotEncoder\n",
    "from sklearn.compose import ColumnTransformer\n",
    "categorical_features = ['Make','Colour' ,'Doors']\n",
    "one_hot = OneHotEncoder()\n",
    "transformer = ColumnTransformer([\n",
    "    ('one_hot', one_hot, categorical_features)\n",
    "], remainder='passthrough')\n",
    "\n",
    "# Fill train and test values separately\n",
    "transformed_x_train = transformer.fit_transform(train_filled_car_sales)\n",
    "transormed_x_test = transformer.fit_transform(test_filled_car_sales)\n",
    "\n",
    "# Check transformed and filled x_train\n",
    "transformed_x_train.toarray()"
   ]
  },
  {
   "cell_type": "code",
   "execution_count": 64,
   "metadata": {},
   "outputs": [
    {
     "data": {
      "text/plain": [
       "0.25366332156443805"
      ]
     },
     "execution_count": 64,
     "metadata": {},
     "output_type": "execute_result"
    }
   ],
   "source": [
    "# Fit the machine learning model \n",
    "np.random.seed(42)\n",
    "from sklearn.ensemble import RandomForestRegressor\n",
    "from sklearn.model_selection import train_test_split\n",
    "\n",
    "model = RandomForestRegressor()\n",
    "model.fit(transformed_x_train, y_train)\n",
    "model.score(transormed_x_test, y_test)"
   ]
  },
  {
   "cell_type": "code",
   "execution_count": 65,
   "metadata": {},
   "outputs": [
    {
     "data": {
      "text/plain": [
       "(950, 1000)"
      ]
     },
     "execution_count": 65,
     "metadata": {},
     "output_type": "execute_result"
    }
   ],
   "source": [
    "# check the length of fill data\n",
    "transformed_x_train.shape[0] + transormed_x_test.shape[0], len(car_sales)"
   ]
  },
  {
   "cell_type": "code",
   "execution_count": 66,
   "metadata": {},
   "outputs": [],
   "source": [
    "steps[1] = '1. Getting the data ready  [x]'"
   ]
  },
  {
   "cell_type": "markdown",
   "metadata": {},
   "source": [
    "## 2. Choosing the right estimator/algorithm for our problem"
   ]
  },
  {
   "cell_type": "markdown",
   "metadata": {},
   "source": [
    "##### Scikit-Learn uses estimator as another term for machine learning model or algorithm.\n",
    "\n",
    "* Classification - predicting whether a sample is one thing or another\n",
    "* Regression - predicting a number\n"
   ]
  },
  {
   "cell_type": "markdown",
   "metadata": {},
   "source": [
    "### 2.1 Picking a machine learning model for regression problem"
   ]
  },
  {
   "cell_type": "code",
   "execution_count": 67,
   "metadata": {},
   "outputs": [
    {
     "data": {
      "text/plain": [
       "{'data': array([[6.3200e-03, 1.8000e+01, 2.3100e+00, ..., 1.5300e+01, 3.9690e+02,\n",
       "         4.9800e+00],\n",
       "        [2.7310e-02, 0.0000e+00, 7.0700e+00, ..., 1.7800e+01, 3.9690e+02,\n",
       "         9.1400e+00],\n",
       "        [2.7290e-02, 0.0000e+00, 7.0700e+00, ..., 1.7800e+01, 3.9283e+02,\n",
       "         4.0300e+00],\n",
       "        ...,\n",
       "        [6.0760e-02, 0.0000e+00, 1.1930e+01, ..., 2.1000e+01, 3.9690e+02,\n",
       "         5.6400e+00],\n",
       "        [1.0959e-01, 0.0000e+00, 1.1930e+01, ..., 2.1000e+01, 3.9345e+02,\n",
       "         6.4800e+00],\n",
       "        [4.7410e-02, 0.0000e+00, 1.1930e+01, ..., 2.1000e+01, 3.9690e+02,\n",
       "         7.8800e+00]]),\n",
       " 'target': array([24. , 21.6, 34.7, 33.4, 36.2, 28.7, 22.9, 27.1, 16.5, 18.9, 15. ,\n",
       "        18.9, 21.7, 20.4, 18.2, 19.9, 23.1, 17.5, 20.2, 18.2, 13.6, 19.6,\n",
       "        15.2, 14.5, 15.6, 13.9, 16.6, 14.8, 18.4, 21. , 12.7, 14.5, 13.2,\n",
       "        13.1, 13.5, 18.9, 20. , 21. , 24.7, 30.8, 34.9, 26.6, 25.3, 24.7,\n",
       "        21.2, 19.3, 20. , 16.6, 14.4, 19.4, 19.7, 20.5, 25. , 23.4, 18.9,\n",
       "        35.4, 24.7, 31.6, 23.3, 19.6, 18.7, 16. , 22.2, 25. , 33. , 23.5,\n",
       "        19.4, 22. , 17.4, 20.9, 24.2, 21.7, 22.8, 23.4, 24.1, 21.4, 20. ,\n",
       "        20.8, 21.2, 20.3, 28. , 23.9, 24.8, 22.9, 23.9, 26.6, 22.5, 22.2,\n",
       "        23.6, 28.7, 22.6, 22. , 22.9, 25. , 20.6, 28.4, 21.4, 38.7, 43.8,\n",
       "        33.2, 27.5, 26.5, 18.6, 19.3, 20.1, 19.5, 19.5, 20.4, 19.8, 19.4,\n",
       "        21.7, 22.8, 18.8, 18.7, 18.5, 18.3, 21.2, 19.2, 20.4, 19.3, 22. ,\n",
       "        20.3, 20.5, 17.3, 18.8, 21.4, 15.7, 16.2, 18. , 14.3, 19.2, 19.6,\n",
       "        23. , 18.4, 15.6, 18.1, 17.4, 17.1, 13.3, 17.8, 14. , 14.4, 13.4,\n",
       "        15.6, 11.8, 13.8, 15.6, 14.6, 17.8, 15.4, 21.5, 19.6, 15.3, 19.4,\n",
       "        17. , 15.6, 13.1, 41.3, 24.3, 23.3, 27. , 50. , 50. , 50. , 22.7,\n",
       "        25. , 50. , 23.8, 23.8, 22.3, 17.4, 19.1, 23.1, 23.6, 22.6, 29.4,\n",
       "        23.2, 24.6, 29.9, 37.2, 39.8, 36.2, 37.9, 32.5, 26.4, 29.6, 50. ,\n",
       "        32. , 29.8, 34.9, 37. , 30.5, 36.4, 31.1, 29.1, 50. , 33.3, 30.3,\n",
       "        34.6, 34.9, 32.9, 24.1, 42.3, 48.5, 50. , 22.6, 24.4, 22.5, 24.4,\n",
       "        20. , 21.7, 19.3, 22.4, 28.1, 23.7, 25. , 23.3, 28.7, 21.5, 23. ,\n",
       "        26.7, 21.7, 27.5, 30.1, 44.8, 50. , 37.6, 31.6, 46.7, 31.5, 24.3,\n",
       "        31.7, 41.7, 48.3, 29. , 24. , 25.1, 31.5, 23.7, 23.3, 22. , 20.1,\n",
       "        22.2, 23.7, 17.6, 18.5, 24.3, 20.5, 24.5, 26.2, 24.4, 24.8, 29.6,\n",
       "        42.8, 21.9, 20.9, 44. , 50. , 36. , 30.1, 33.8, 43.1, 48.8, 31. ,\n",
       "        36.5, 22.8, 30.7, 50. , 43.5, 20.7, 21.1, 25.2, 24.4, 35.2, 32.4,\n",
       "        32. , 33.2, 33.1, 29.1, 35.1, 45.4, 35.4, 46. , 50. , 32.2, 22. ,\n",
       "        20.1, 23.2, 22.3, 24.8, 28.5, 37.3, 27.9, 23.9, 21.7, 28.6, 27.1,\n",
       "        20.3, 22.5, 29. , 24.8, 22. , 26.4, 33.1, 36.1, 28.4, 33.4, 28.2,\n",
       "        22.8, 20.3, 16.1, 22.1, 19.4, 21.6, 23.8, 16.2, 17.8, 19.8, 23.1,\n",
       "        21. , 23.8, 23.1, 20.4, 18.5, 25. , 24.6, 23. , 22.2, 19.3, 22.6,\n",
       "        19.8, 17.1, 19.4, 22.2, 20.7, 21.1, 19.5, 18.5, 20.6, 19. , 18.7,\n",
       "        32.7, 16.5, 23.9, 31.2, 17.5, 17.2, 23.1, 24.5, 26.6, 22.9, 24.1,\n",
       "        18.6, 30.1, 18.2, 20.6, 17.8, 21.7, 22.7, 22.6, 25. , 19.9, 20.8,\n",
       "        16.8, 21.9, 27.5, 21.9, 23.1, 50. , 50. , 50. , 50. , 50. , 13.8,\n",
       "        13.8, 15. , 13.9, 13.3, 13.1, 10.2, 10.4, 10.9, 11.3, 12.3,  8.8,\n",
       "         7.2, 10.5,  7.4, 10.2, 11.5, 15.1, 23.2,  9.7, 13.8, 12.7, 13.1,\n",
       "        12.5,  8.5,  5. ,  6.3,  5.6,  7.2, 12.1,  8.3,  8.5,  5. , 11.9,\n",
       "        27.9, 17.2, 27.5, 15. , 17.2, 17.9, 16.3,  7. ,  7.2,  7.5, 10.4,\n",
       "         8.8,  8.4, 16.7, 14.2, 20.8, 13.4, 11.7,  8.3, 10.2, 10.9, 11. ,\n",
       "         9.5, 14.5, 14.1, 16.1, 14.3, 11.7, 13.4,  9.6,  8.7,  8.4, 12.8,\n",
       "        10.5, 17.1, 18.4, 15.4, 10.8, 11.8, 14.9, 12.6, 14.1, 13. , 13.4,\n",
       "        15.2, 16.1, 17.8, 14.9, 14.1, 12.7, 13.5, 14.9, 20. , 16.4, 17.7,\n",
       "        19.5, 20.2, 21.4, 19.9, 19. , 19.1, 19.1, 20.1, 19.9, 19.6, 23.2,\n",
       "        29.8, 13.8, 13.3, 16.7, 12. , 14.6, 21.4, 23. , 23.7, 25. , 21.8,\n",
       "        20.6, 21.2, 19.1, 20.6, 15.2,  7. ,  8.1, 13.6, 20.1, 21.8, 24.5,\n",
       "        23.1, 19.7, 18.3, 21.2, 17.5, 16.8, 22.4, 20.6, 23.9, 22. , 11.9]),\n",
       " 'feature_names': array(['CRIM', 'ZN', 'INDUS', 'CHAS', 'NOX', 'RM', 'AGE', 'DIS', 'RAD',\n",
       "        'TAX', 'PTRATIO', 'B', 'LSTAT'], dtype='<U7'),\n",
       " 'DESCR': \".. _boston_dataset:\\n\\nBoston house prices dataset\\n---------------------------\\n\\n**Data Set Characteristics:**  \\n\\n    :Number of Instances: 506 \\n\\n    :Number of Attributes: 13 numeric/categorical predictive. Median Value (attribute 14) is usually the target.\\n\\n    :Attribute Information (in order):\\n        - CRIM     per capita crime rate by town\\n        - ZN       proportion of residential land zoned for lots over 25,000 sq.ft.\\n        - INDUS    proportion of non-retail business acres per town\\n        - CHAS     Charles River dummy variable (= 1 if tract bounds river; 0 otherwise)\\n        - NOX      nitric oxides concentration (parts per 10 million)\\n        - RM       average number of rooms per dwelling\\n        - AGE      proportion of owner-occupied units built prior to 1940\\n        - DIS      weighted distances to five Boston employment centres\\n        - RAD      index of accessibility to radial highways\\n        - TAX      full-value property-tax rate per $10,000\\n        - PTRATIO  pupil-teacher ratio by town\\n        - B        1000(Bk - 0.63)^2 where Bk is the proportion of blacks by town\\n        - LSTAT    % lower status of the population\\n        - MEDV     Median value of owner-occupied homes in $1000's\\n\\n    :Missing Attribute Values: None\\n\\n    :Creator: Harrison, D. and Rubinfeld, D.L.\\n\\nThis is a copy of UCI ML housing dataset.\\nhttps://archive.ics.uci.edu/ml/machine-learning-databases/housing/\\n\\n\\nThis dataset was taken from the StatLib library which is maintained at Carnegie Mellon University.\\n\\nThe Boston house-price data of Harrison, D. and Rubinfeld, D.L. 'Hedonic\\nprices and the demand for clean air', J. Environ. Economics & Management,\\nvol.5, 81-102, 1978.   Used in Belsley, Kuh & Welsch, 'Regression diagnostics\\n...', Wiley, 1980.   N.B. Various transformations are used in the table on\\npages 244-261 of the latter.\\n\\nThe Boston house-price data has been used in many machine learning papers that address regression\\nproblems.   \\n     \\n.. topic:: References\\n\\n   - Belsley, Kuh & Welsch, 'Regression diagnostics: Identifying Influential Data and Sources of Collinearity', Wiley, 1980. 244-261.\\n   - Quinlan,R. (1993). Combining Instance-Based and Model-Based Learning. In Proceedings on the Tenth International Conference of Machine Learning, 236-243, University of Massachusetts, Amherst. Morgan Kaufmann.\\n\",\n",
       " 'filename': '/home/ali/workspace/Machine-learning/env/lib/python3.6/site-packages/sklearn/datasets/data/boston_house_prices.csv'}"
      ]
     },
     "execution_count": 67,
     "metadata": {},
     "output_type": "execute_result"
    }
   ],
   "source": [
    "# import boston house data sets\n",
    "from sklearn.datasets import load_boston\n",
    "boston = load_boston()\n",
    "boston"
   ]
  },
  {
   "cell_type": "code",
   "execution_count": 68,
   "metadata": {},
   "outputs": [
    {
     "data": {
      "text/html": [
       "<div>\n",
       "<style scoped>\n",
       "    .dataframe tbody tr th:only-of-type {\n",
       "        vertical-align: middle;\n",
       "    }\n",
       "\n",
       "    .dataframe tbody tr th {\n",
       "        vertical-align: top;\n",
       "    }\n",
       "\n",
       "    .dataframe thead th {\n",
       "        text-align: right;\n",
       "    }\n",
       "</style>\n",
       "<table border=\"1\" class=\"dataframe\">\n",
       "  <thead>\n",
       "    <tr style=\"text-align: right;\">\n",
       "      <th></th>\n",
       "      <th>CRIM</th>\n",
       "      <th>ZN</th>\n",
       "      <th>INDUS</th>\n",
       "      <th>CHAS</th>\n",
       "      <th>NOX</th>\n",
       "      <th>RM</th>\n",
       "      <th>AGE</th>\n",
       "      <th>DIS</th>\n",
       "      <th>RAD</th>\n",
       "      <th>TAX</th>\n",
       "      <th>PTRATIO</th>\n",
       "      <th>B</th>\n",
       "      <th>LSTAT</th>\n",
       "      <th>target</th>\n",
       "    </tr>\n",
       "  </thead>\n",
       "  <tbody>\n",
       "    <tr>\n",
       "      <th>0</th>\n",
       "      <td>0.00632</td>\n",
       "      <td>18.0</td>\n",
       "      <td>2.31</td>\n",
       "      <td>0.0</td>\n",
       "      <td>0.538</td>\n",
       "      <td>6.575</td>\n",
       "      <td>65.2</td>\n",
       "      <td>4.0900</td>\n",
       "      <td>1.0</td>\n",
       "      <td>296.0</td>\n",
       "      <td>15.3</td>\n",
       "      <td>396.90</td>\n",
       "      <td>4.98</td>\n",
       "      <td>24.0</td>\n",
       "    </tr>\n",
       "    <tr>\n",
       "      <th>1</th>\n",
       "      <td>0.02731</td>\n",
       "      <td>0.0</td>\n",
       "      <td>7.07</td>\n",
       "      <td>0.0</td>\n",
       "      <td>0.469</td>\n",
       "      <td>6.421</td>\n",
       "      <td>78.9</td>\n",
       "      <td>4.9671</td>\n",
       "      <td>2.0</td>\n",
       "      <td>242.0</td>\n",
       "      <td>17.8</td>\n",
       "      <td>396.90</td>\n",
       "      <td>9.14</td>\n",
       "      <td>21.6</td>\n",
       "    </tr>\n",
       "    <tr>\n",
       "      <th>2</th>\n",
       "      <td>0.02729</td>\n",
       "      <td>0.0</td>\n",
       "      <td>7.07</td>\n",
       "      <td>0.0</td>\n",
       "      <td>0.469</td>\n",
       "      <td>7.185</td>\n",
       "      <td>61.1</td>\n",
       "      <td>4.9671</td>\n",
       "      <td>2.0</td>\n",
       "      <td>242.0</td>\n",
       "      <td>17.8</td>\n",
       "      <td>392.83</td>\n",
       "      <td>4.03</td>\n",
       "      <td>34.7</td>\n",
       "    </tr>\n",
       "    <tr>\n",
       "      <th>3</th>\n",
       "      <td>0.03237</td>\n",
       "      <td>0.0</td>\n",
       "      <td>2.18</td>\n",
       "      <td>0.0</td>\n",
       "      <td>0.458</td>\n",
       "      <td>6.998</td>\n",
       "      <td>45.8</td>\n",
       "      <td>6.0622</td>\n",
       "      <td>3.0</td>\n",
       "      <td>222.0</td>\n",
       "      <td>18.7</td>\n",
       "      <td>394.63</td>\n",
       "      <td>2.94</td>\n",
       "      <td>33.4</td>\n",
       "    </tr>\n",
       "    <tr>\n",
       "      <th>4</th>\n",
       "      <td>0.06905</td>\n",
       "      <td>0.0</td>\n",
       "      <td>2.18</td>\n",
       "      <td>0.0</td>\n",
       "      <td>0.458</td>\n",
       "      <td>7.147</td>\n",
       "      <td>54.2</td>\n",
       "      <td>6.0622</td>\n",
       "      <td>3.0</td>\n",
       "      <td>222.0</td>\n",
       "      <td>18.7</td>\n",
       "      <td>396.90</td>\n",
       "      <td>5.33</td>\n",
       "      <td>36.2</td>\n",
       "    </tr>\n",
       "  </tbody>\n",
       "</table>\n",
       "</div>"
      ],
      "text/plain": [
       "      CRIM    ZN  INDUS  CHAS    NOX     RM   AGE     DIS  RAD    TAX  \\\n",
       "0  0.00632  18.0   2.31   0.0  0.538  6.575  65.2  4.0900  1.0  296.0   \n",
       "1  0.02731   0.0   7.07   0.0  0.469  6.421  78.9  4.9671  2.0  242.0   \n",
       "2  0.02729   0.0   7.07   0.0  0.469  7.185  61.1  4.9671  2.0  242.0   \n",
       "3  0.03237   0.0   2.18   0.0  0.458  6.998  45.8  6.0622  3.0  222.0   \n",
       "4  0.06905   0.0   2.18   0.0  0.458  7.147  54.2  6.0622  3.0  222.0   \n",
       "\n",
       "   PTRATIO       B  LSTAT  target  \n",
       "0     15.3  396.90   4.98    24.0  \n",
       "1     17.8  396.90   9.14    21.6  \n",
       "2     17.8  392.83   4.03    34.7  \n",
       "3     18.7  394.63   2.94    33.4  \n",
       "4     18.7  396.90   5.33    36.2  "
      ]
     },
     "execution_count": 68,
     "metadata": {},
     "output_type": "execute_result"
    }
   ],
   "source": [
    "# convert dictionary to dataframe\n",
    "boston_df = pd.DataFrame(boston['data'], columns=boston['feature_names'])\n",
    "boston_df['target'] = pd.Series(boston['target'])\n",
    "boston_df.head()"
   ]
  },
  {
   "cell_type": "code",
   "execution_count": 69,
   "metadata": {},
   "outputs": [
    {
     "data": {
      "text/plain": [
       "506"
      ]
     },
     "execution_count": 69,
     "metadata": {},
     "output_type": "execute_result"
    }
   ],
   "source": [
    "# How many samples\n",
    "len(boston_df)"
   ]
  },
  {
   "cell_type": "code",
   "execution_count": 70,
   "metadata": {},
   "outputs": [
    {
     "data": {
      "text/plain": [
       "0.699377684877882"
      ]
     },
     "execution_count": 70,
     "metadata": {},
     "output_type": "execute_result"
    }
   ],
   "source": [
    "# Redge regression model\n",
    "from sklearn.linear_model import Ridge\n",
    "\n",
    "# setup a random seed\n",
    "np.random.seed(42)\n",
    "\n",
    "# create the data \n",
    "x = boston_df.drop('target', axis=1)\n",
    "y = boston_df['target']\n",
    "\n",
    "# split into train and test sets\n",
    "from sklearn.model_selection import train_test_split\n",
    "x_train, x_test, y_train, y_test = train_test_split(x, y, test_size=0.2)\n",
    "\n",
    "# Instantiate Ridge model\n",
    "model = Ridge()\n",
    "model.fit(x, y)\n",
    "\n",
    "# Check the score of ridge model on test data\n",
    "model.score(x_test, y_test)"
   ]
  },
  {
   "cell_type": "markdown",
   "metadata": {},
   "source": [
    "How to improve this score?\n",
    "\n",
    "What if ridge isn't working?!\n",
    "\n",
    "Let's use the map again ...\n",
    "![map](mahcine_learning_map.png)"
   ]
  },
  {
   "cell_type": "code",
   "execution_count": 71,
   "metadata": {},
   "outputs": [
    {
     "data": {
      "text/plain": [
       "0.8843572051953603"
      ]
     },
     "execution_count": 71,
     "metadata": {},
     "output_type": "execute_result"
    }
   ],
   "source": [
    "# Try the random forest\n",
    "from sklearn.model_selection import train_test_split\n",
    "from sklearn.ensemble import RandomForestRegressor\n",
    "\n",
    "# setup the random seed\n",
    "np.random.seed(80)\n",
    "\n",
    "# create the data\n",
    "x = boston_df.drop('target', axis=1)\n",
    "y = boston_df['target']\n",
    "\n",
    "# split the data\n",
    "x_train, x_test, y_train, y_test = train_test_split(x, y, test_size=0.2)\n",
    "\n",
    "model = RandomForestRegressor()\n",
    "model.fit(x_train, y_train)\n",
    "# evaluate the score\n",
    "model.score(x_test, y_test)"
   ]
  },
  {
   "cell_type": "markdown",
   "metadata": {},
   "source": [
    "### 2.2 Choosing as estimator for classification problem"
   ]
  },
  {
   "cell_type": "code",
   "execution_count": 72,
   "metadata": {},
   "outputs": [
    {
     "data": {
      "text/html": [
       "<div>\n",
       "<style scoped>\n",
       "    .dataframe tbody tr th:only-of-type {\n",
       "        vertical-align: middle;\n",
       "    }\n",
       "\n",
       "    .dataframe tbody tr th {\n",
       "        vertical-align: top;\n",
       "    }\n",
       "\n",
       "    .dataframe thead th {\n",
       "        text-align: right;\n",
       "    }\n",
       "</style>\n",
       "<table border=\"1\" class=\"dataframe\">\n",
       "  <thead>\n",
       "    <tr style=\"text-align: right;\">\n",
       "      <th></th>\n",
       "      <th>age</th>\n",
       "      <th>sex</th>\n",
       "      <th>cp</th>\n",
       "      <th>trestbps</th>\n",
       "      <th>chol</th>\n",
       "      <th>fbs</th>\n",
       "      <th>restecg</th>\n",
       "      <th>thalach</th>\n",
       "      <th>exang</th>\n",
       "      <th>oldpeak</th>\n",
       "      <th>slope</th>\n",
       "      <th>ca</th>\n",
       "      <th>thal</th>\n",
       "      <th>target</th>\n",
       "    </tr>\n",
       "  </thead>\n",
       "  <tbody>\n",
       "    <tr>\n",
       "      <th>298</th>\n",
       "      <td>57</td>\n",
       "      <td>0</td>\n",
       "      <td>0</td>\n",
       "      <td>140</td>\n",
       "      <td>241</td>\n",
       "      <td>0</td>\n",
       "      <td>1</td>\n",
       "      <td>123</td>\n",
       "      <td>1</td>\n",
       "      <td>0.2</td>\n",
       "      <td>1</td>\n",
       "      <td>0</td>\n",
       "      <td>3</td>\n",
       "      <td>0</td>\n",
       "    </tr>\n",
       "    <tr>\n",
       "      <th>299</th>\n",
       "      <td>45</td>\n",
       "      <td>1</td>\n",
       "      <td>3</td>\n",
       "      <td>110</td>\n",
       "      <td>264</td>\n",
       "      <td>0</td>\n",
       "      <td>1</td>\n",
       "      <td>132</td>\n",
       "      <td>0</td>\n",
       "      <td>1.2</td>\n",
       "      <td>1</td>\n",
       "      <td>0</td>\n",
       "      <td>3</td>\n",
       "      <td>0</td>\n",
       "    </tr>\n",
       "    <tr>\n",
       "      <th>300</th>\n",
       "      <td>68</td>\n",
       "      <td>1</td>\n",
       "      <td>0</td>\n",
       "      <td>144</td>\n",
       "      <td>193</td>\n",
       "      <td>1</td>\n",
       "      <td>1</td>\n",
       "      <td>141</td>\n",
       "      <td>0</td>\n",
       "      <td>3.4</td>\n",
       "      <td>1</td>\n",
       "      <td>2</td>\n",
       "      <td>3</td>\n",
       "      <td>0</td>\n",
       "    </tr>\n",
       "    <tr>\n",
       "      <th>301</th>\n",
       "      <td>57</td>\n",
       "      <td>1</td>\n",
       "      <td>0</td>\n",
       "      <td>130</td>\n",
       "      <td>131</td>\n",
       "      <td>0</td>\n",
       "      <td>1</td>\n",
       "      <td>115</td>\n",
       "      <td>1</td>\n",
       "      <td>1.2</td>\n",
       "      <td>1</td>\n",
       "      <td>1</td>\n",
       "      <td>3</td>\n",
       "      <td>0</td>\n",
       "    </tr>\n",
       "    <tr>\n",
       "      <th>302</th>\n",
       "      <td>57</td>\n",
       "      <td>0</td>\n",
       "      <td>1</td>\n",
       "      <td>130</td>\n",
       "      <td>236</td>\n",
       "      <td>0</td>\n",
       "      <td>0</td>\n",
       "      <td>174</td>\n",
       "      <td>0</td>\n",
       "      <td>0.0</td>\n",
       "      <td>1</td>\n",
       "      <td>1</td>\n",
       "      <td>2</td>\n",
       "      <td>0</td>\n",
       "    </tr>\n",
       "  </tbody>\n",
       "</table>\n",
       "</div>"
      ],
      "text/plain": [
       "     age  sex  cp  trestbps  chol  fbs  restecg  thalach  exang  oldpeak  \\\n",
       "298   57    0   0       140   241    0        1      123      1      0.2   \n",
       "299   45    1   3       110   264    0        1      132      0      1.2   \n",
       "300   68    1   0       144   193    1        1      141      0      3.4   \n",
       "301   57    1   0       130   131    0        1      115      1      1.2   \n",
       "302   57    0   1       130   236    0        0      174      0      0.0   \n",
       "\n",
       "     slope  ca  thal  target  \n",
       "298      1   0     3       0  \n",
       "299      1   0     3       0  \n",
       "300      1   2     3       0  \n",
       "301      1   1     3       0  \n",
       "302      1   1     2       0  "
      ]
     },
     "execution_count": 72,
     "metadata": {},
     "output_type": "execute_result"
    }
   ],
   "source": [
    "# import the data \n",
    "heart_disease = pd.read_csv('heart-disease.csv')\n",
    "heart_disease.tail()"
   ]
  },
  {
   "cell_type": "code",
   "execution_count": 73,
   "metadata": {},
   "outputs": [
    {
     "data": {
      "text/plain": [
       "303"
      ]
     },
     "execution_count": 73,
     "metadata": {},
     "output_type": "execute_result"
    }
   ],
   "source": [
    "# size of our data\n",
    "len(heart_disease)"
   ]
  },
  {
   "cell_type": "code",
   "execution_count": 74,
   "metadata": {},
   "outputs": [
    {
     "data": {
      "text/plain": [
       "0.8524590163934426"
      ]
     },
     "execution_count": 74,
     "metadata": {},
     "output_type": "execute_result"
    }
   ],
   "source": [
    "from sklearn.svm import LinearSVC\n",
    "\n",
    "# setup the random seed\n",
    "np.random.seed(80)\n",
    "\n",
    "# make the data \n",
    "x = heart_disease.drop('target', axis=1)\n",
    "y = heart_disease['target']\n",
    "\n",
    "# split the data\n",
    "x_train, x_test, y_train, y_test = train_test_split(x, y, test_size=0.2)\n",
    "\n",
    "# use our model\n",
    "model = LinearSVC(max_iter=76000, dual=False)\n",
    "model.fit(x_train, y_train)\n",
    "\n",
    "# evaluate the score\n",
    "model.score(x_test, y_test)"
   ]
  },
  {
   "cell_type": "code",
   "execution_count": 75,
   "metadata": {},
   "outputs": [
    {
     "data": {
      "text/plain": [
       "1    165\n",
       "0    138\n",
       "Name: target, dtype: int64"
      ]
     },
     "execution_count": 75,
     "metadata": {},
     "output_type": "execute_result"
    }
   ],
   "source": [
    "heart_disease['target'].value_counts()"
   ]
  },
  {
   "cell_type": "code",
   "execution_count": 76,
   "metadata": {},
   "outputs": [
    {
     "data": {
      "text/plain": [
       "0.8852459016393442"
      ]
     },
     "execution_count": 76,
     "metadata": {},
     "output_type": "execute_result"
    }
   ],
   "source": [
    "# use RandomForestClassification\n",
    "from sklearn.ensemble import RandomForestClassifier\n",
    "\n",
    "# setup the random seed\n",
    "np.random.seed(80)\n",
    "\n",
    "# make the data \n",
    "x = heart_disease.drop('target', axis=1)\n",
    "y = heart_disease['target']\n",
    "\n",
    "# split the data\n",
    "x_train, x_test, y_train, y_test = train_test_split(x, y, test_size=0.2)\n",
    "\n",
    "# use the model \n",
    "model = RandomForestClassifier()\n",
    "model.fit(x_train, y_train)\n",
    "model.score(x_test, y_test)"
   ]
  },
  {
   "cell_type": "markdown",
   "metadata": {},
   "source": [
    "Tidbit:\n",
    "\n",
    "1. If you have structured data, used ensemble methods\n",
    "2. If you have unstructured data, use deep learning or transfer learning\n",
    "\n"
   ]
  },
  {
   "cell_type": "code",
   "execution_count": 77,
   "metadata": {},
   "outputs": [
    {
     "data": {
      "text/html": [
       "<div>\n",
       "<style scoped>\n",
       "    .dataframe tbody tr th:only-of-type {\n",
       "        vertical-align: middle;\n",
       "    }\n",
       "\n",
       "    .dataframe tbody tr th {\n",
       "        vertical-align: top;\n",
       "    }\n",
       "\n",
       "    .dataframe thead th {\n",
       "        text-align: right;\n",
       "    }\n",
       "</style>\n",
       "<table border=\"1\" class=\"dataframe\">\n",
       "  <thead>\n",
       "    <tr style=\"text-align: right;\">\n",
       "      <th></th>\n",
       "      <th>age</th>\n",
       "      <th>sex</th>\n",
       "      <th>cp</th>\n",
       "      <th>trestbps</th>\n",
       "      <th>chol</th>\n",
       "      <th>fbs</th>\n",
       "      <th>restecg</th>\n",
       "      <th>thalach</th>\n",
       "      <th>exang</th>\n",
       "      <th>oldpeak</th>\n",
       "      <th>slope</th>\n",
       "      <th>ca</th>\n",
       "      <th>thal</th>\n",
       "      <th>target</th>\n",
       "    </tr>\n",
       "  </thead>\n",
       "  <tbody>\n",
       "    <tr>\n",
       "      <th>0</th>\n",
       "      <td>63</td>\n",
       "      <td>1</td>\n",
       "      <td>3</td>\n",
       "      <td>145</td>\n",
       "      <td>233</td>\n",
       "      <td>1</td>\n",
       "      <td>0</td>\n",
       "      <td>150</td>\n",
       "      <td>0</td>\n",
       "      <td>2.3</td>\n",
       "      <td>0</td>\n",
       "      <td>0</td>\n",
       "      <td>1</td>\n",
       "      <td>1</td>\n",
       "    </tr>\n",
       "    <tr>\n",
       "      <th>1</th>\n",
       "      <td>37</td>\n",
       "      <td>1</td>\n",
       "      <td>2</td>\n",
       "      <td>130</td>\n",
       "      <td>250</td>\n",
       "      <td>0</td>\n",
       "      <td>1</td>\n",
       "      <td>187</td>\n",
       "      <td>0</td>\n",
       "      <td>3.5</td>\n",
       "      <td>0</td>\n",
       "      <td>0</td>\n",
       "      <td>2</td>\n",
       "      <td>1</td>\n",
       "    </tr>\n",
       "    <tr>\n",
       "      <th>2</th>\n",
       "      <td>41</td>\n",
       "      <td>0</td>\n",
       "      <td>1</td>\n",
       "      <td>130</td>\n",
       "      <td>204</td>\n",
       "      <td>0</td>\n",
       "      <td>0</td>\n",
       "      <td>172</td>\n",
       "      <td>0</td>\n",
       "      <td>1.4</td>\n",
       "      <td>2</td>\n",
       "      <td>0</td>\n",
       "      <td>2</td>\n",
       "      <td>1</td>\n",
       "    </tr>\n",
       "    <tr>\n",
       "      <th>3</th>\n",
       "      <td>56</td>\n",
       "      <td>1</td>\n",
       "      <td>1</td>\n",
       "      <td>120</td>\n",
       "      <td>236</td>\n",
       "      <td>0</td>\n",
       "      <td>1</td>\n",
       "      <td>178</td>\n",
       "      <td>0</td>\n",
       "      <td>0.8</td>\n",
       "      <td>2</td>\n",
       "      <td>0</td>\n",
       "      <td>2</td>\n",
       "      <td>1</td>\n",
       "    </tr>\n",
       "    <tr>\n",
       "      <th>4</th>\n",
       "      <td>57</td>\n",
       "      <td>0</td>\n",
       "      <td>0</td>\n",
       "      <td>120</td>\n",
       "      <td>354</td>\n",
       "      <td>0</td>\n",
       "      <td>1</td>\n",
       "      <td>163</td>\n",
       "      <td>1</td>\n",
       "      <td>0.6</td>\n",
       "      <td>2</td>\n",
       "      <td>0</td>\n",
       "      <td>2</td>\n",
       "      <td>1</td>\n",
       "    </tr>\n",
       "  </tbody>\n",
       "</table>\n",
       "</div>"
      ],
      "text/plain": [
       "   age  sex  cp  trestbps  chol  fbs  restecg  thalach  exang  oldpeak  slope  \\\n",
       "0   63    1   3       145   233    1        0      150      0      2.3      0   \n",
       "1   37    1   2       130   250    0        1      187      0      3.5      0   \n",
       "2   41    0   1       130   204    0        0      172      0      1.4      2   \n",
       "3   56    1   1       120   236    0        1      178      0      0.8      2   \n",
       "4   57    0   0       120   354    0        1      163      1      0.6      2   \n",
       "\n",
       "   ca  thal  target  \n",
       "0   0     1       1  \n",
       "1   0     2       1  \n",
       "2   0     2       1  \n",
       "3   0     2       1  \n",
       "4   0     2       1  "
      ]
     },
     "execution_count": 77,
     "metadata": {},
     "output_type": "execute_result"
    }
   ],
   "source": [
    "heart_disease.head()"
   ]
  },
  {
   "cell_type": "code",
   "execution_count": 78,
   "metadata": {},
   "outputs": [],
   "source": [
    "steps[2] ='2. Choose the right estimator / algorithm for our probelms [x]'"
   ]
  },
  {
   "cell_type": "markdown",
   "metadata": {},
   "source": [
    "## 3. Fit the model/algorithm on our data and use it to make predictions"
   ]
  },
  {
   "cell_type": "markdown",
   "metadata": {},
   "source": [
    "### 3.1 Fitting the model to the data"
   ]
  },
  {
   "cell_type": "markdown",
   "metadata": {},
   "source": [
    "##### Different names for:\n",
    " * X = features, features variables, data\n",
    " * y = labels, targets, target variables\n"
   ]
  },
  {
   "cell_type": "code",
   "execution_count": 79,
   "metadata": {},
   "outputs": [
    {
     "data": {
      "text/plain": [
       "0.8852459016393442"
      ]
     },
     "execution_count": 79,
     "metadata": {},
     "output_type": "execute_result"
    }
   ],
   "source": [
    "from sklearn.ensemble import RandomForestClassifier\n",
    "\n",
    "# setup the random seed\n",
    "np.random.seed(80)\n",
    "\n",
    "# make the data \n",
    "x = heart_disease.drop('target', axis=1)\n",
    "y = heart_disease['target']\n",
    "\n",
    "# split the data\n",
    "x_train, x_test, y_train, y_test = train_test_split(x, y, test_size=0.2)\n",
    "\n",
    "# use the model \n",
    "model = RandomForestClassifier()\n",
    "\n",
    "# fit our data to the model (training the machine learning model)\n",
    "model.fit(x_train, y_train)\n",
    "\n",
    "# Use the pattern the machine has learned\n",
    "model.score(x_test, y_test)"
   ]
  },
  {
   "cell_type": "markdown",
   "metadata": {},
   "source": [
    "### 3.2 Make prediction using a machine learning model"
   ]
  },
  {
   "cell_type": "markdown",
   "metadata": {},
   "source": [
    "##### 2 way to make predictions:\n",
    "1. 'predict()'\n",
    "2. 'predict_proba'"
   ]
  },
  {
   "cell_type": "code",
   "execution_count": 80,
   "metadata": {},
   "outputs": [],
   "source": [
    "# make predictioin with predict()"
   ]
  },
  {
   "cell_type": "code",
   "execution_count": 81,
   "metadata": {},
   "outputs": [],
   "source": [
    "# model.predict([1, 2, 3, 4 ,5])\n",
    "# error wrong data shape"
   ]
  },
  {
   "cell_type": "code",
   "execution_count": 82,
   "metadata": {},
   "outputs": [
    {
     "data": {
      "text/html": [
       "<div>\n",
       "<style scoped>\n",
       "    .dataframe tbody tr th:only-of-type {\n",
       "        vertical-align: middle;\n",
       "    }\n",
       "\n",
       "    .dataframe tbody tr th {\n",
       "        vertical-align: top;\n",
       "    }\n",
       "\n",
       "    .dataframe thead th {\n",
       "        text-align: right;\n",
       "    }\n",
       "</style>\n",
       "<table border=\"1\" class=\"dataframe\">\n",
       "  <thead>\n",
       "    <tr style=\"text-align: right;\">\n",
       "      <th></th>\n",
       "      <th>age</th>\n",
       "      <th>sex</th>\n",
       "      <th>cp</th>\n",
       "      <th>trestbps</th>\n",
       "      <th>chol</th>\n",
       "      <th>fbs</th>\n",
       "      <th>restecg</th>\n",
       "      <th>thalach</th>\n",
       "      <th>exang</th>\n",
       "      <th>oldpeak</th>\n",
       "      <th>slope</th>\n",
       "      <th>ca</th>\n",
       "      <th>thal</th>\n",
       "    </tr>\n",
       "  </thead>\n",
       "  <tbody>\n",
       "    <tr>\n",
       "      <th>23</th>\n",
       "      <td>61</td>\n",
       "      <td>1</td>\n",
       "      <td>2</td>\n",
       "      <td>150</td>\n",
       "      <td>243</td>\n",
       "      <td>1</td>\n",
       "      <td>1</td>\n",
       "      <td>137</td>\n",
       "      <td>1</td>\n",
       "      <td>1.0</td>\n",
       "      <td>1</td>\n",
       "      <td>0</td>\n",
       "      <td>2</td>\n",
       "    </tr>\n",
       "    <tr>\n",
       "      <th>261</th>\n",
       "      <td>52</td>\n",
       "      <td>1</td>\n",
       "      <td>0</td>\n",
       "      <td>112</td>\n",
       "      <td>230</td>\n",
       "      <td>0</td>\n",
       "      <td>1</td>\n",
       "      <td>160</td>\n",
       "      <td>0</td>\n",
       "      <td>0.0</td>\n",
       "      <td>2</td>\n",
       "      <td>1</td>\n",
       "      <td>2</td>\n",
       "    </tr>\n",
       "    <tr>\n",
       "      <th>183</th>\n",
       "      <td>58</td>\n",
       "      <td>1</td>\n",
       "      <td>2</td>\n",
       "      <td>112</td>\n",
       "      <td>230</td>\n",
       "      <td>0</td>\n",
       "      <td>0</td>\n",
       "      <td>165</td>\n",
       "      <td>0</td>\n",
       "      <td>2.5</td>\n",
       "      <td>1</td>\n",
       "      <td>1</td>\n",
       "      <td>3</td>\n",
       "    </tr>\n",
       "    <tr>\n",
       "      <th>300</th>\n",
       "      <td>68</td>\n",
       "      <td>1</td>\n",
       "      <td>0</td>\n",
       "      <td>144</td>\n",
       "      <td>193</td>\n",
       "      <td>1</td>\n",
       "      <td>1</td>\n",
       "      <td>141</td>\n",
       "      <td>0</td>\n",
       "      <td>3.4</td>\n",
       "      <td>1</td>\n",
       "      <td>2</td>\n",
       "      <td>3</td>\n",
       "    </tr>\n",
       "    <tr>\n",
       "      <th>103</th>\n",
       "      <td>42</td>\n",
       "      <td>1</td>\n",
       "      <td>2</td>\n",
       "      <td>120</td>\n",
       "      <td>240</td>\n",
       "      <td>1</td>\n",
       "      <td>1</td>\n",
       "      <td>194</td>\n",
       "      <td>0</td>\n",
       "      <td>0.8</td>\n",
       "      <td>0</td>\n",
       "      <td>0</td>\n",
       "      <td>3</td>\n",
       "    </tr>\n",
       "  </tbody>\n",
       "</table>\n",
       "</div>"
      ],
      "text/plain": [
       "     age  sex  cp  trestbps  chol  fbs  restecg  thalach  exang  oldpeak  \\\n",
       "23    61    1   2       150   243    1        1      137      1      1.0   \n",
       "261   52    1   0       112   230    0        1      160      0      0.0   \n",
       "183   58    1   2       112   230    0        0      165      0      2.5   \n",
       "300   68    1   0       144   193    1        1      141      0      3.4   \n",
       "103   42    1   2       120   240    1        1      194      0      0.8   \n",
       "\n",
       "     slope  ca  thal  \n",
       "23       1   0     2  \n",
       "261      2   1     2  \n",
       "183      1   1     3  \n",
       "300      1   2     3  \n",
       "103      0   0     3  "
      ]
     },
     "execution_count": 82,
     "metadata": {},
     "output_type": "execute_result"
    }
   ],
   "source": [
    "x_test.head()"
   ]
  },
  {
   "cell_type": "code",
   "execution_count": 83,
   "metadata": {},
   "outputs": [
    {
     "data": {
      "text/plain": [
       "array([0, 0, 0, 0, 1, 1, 1, 1, 1, 1, 1, 1, 1, 1, 1, 1, 1, 1, 1, 0, 0, 0,\n",
       "       0, 1, 1, 0, 1, 1, 0, 1, 1, 1, 0, 1, 0, 1, 1, 0, 1, 0, 1, 0, 0, 0,\n",
       "       1, 0, 1, 1, 0, 1, 0, 1, 0, 1, 0, 1, 1, 1, 1, 1, 1])"
      ]
     },
     "execution_count": 83,
     "metadata": {},
     "output_type": "execute_result"
    }
   ],
   "source": [
    "y_pred = model.predict(x_test)\n",
    "y_pred"
   ]
  },
  {
   "cell_type": "code",
   "execution_count": 84,
   "metadata": {},
   "outputs": [
    {
     "data": {
      "text/plain": [
       "array([[1, 0, 0, 0, 1, 1, 1, 1, 1, 1, 1, 1, 1, 1, 1, 1, 1, 1, 1, 0, 0, 0,\n",
       "        0, 1, 1, 0, 1, 1, 1, 1, 0, 1, 0, 1, 0, 1, 1, 1, 1, 0, 1, 1, 0, 1,\n",
       "        1, 0, 1, 1, 0, 1, 0, 1, 0, 1, 0, 1, 1, 1, 1, 1, 0]])"
      ]
     },
     "execution_count": 84,
     "metadata": {},
     "output_type": "execute_result"
    }
   ],
   "source": [
    "np.array([y_test])"
   ]
  },
  {
   "cell_type": "code",
   "execution_count": 85,
   "metadata": {},
   "outputs": [
    {
     "data": {
      "text/plain": [
       "0.8852459016393442"
      ]
     },
     "execution_count": 85,
     "metadata": {},
     "output_type": "execute_result"
    }
   ],
   "source": [
    "# compare prediction to truth labels to evaluate the model\n",
    "np.mean(y_pred == y_test)"
   ]
  },
  {
   "cell_type": "code",
   "execution_count": 86,
   "metadata": {},
   "outputs": [
    {
     "data": {
      "text/plain": [
       "0.8852459016393442"
      ]
     },
     "execution_count": 86,
     "metadata": {},
     "output_type": "execute_result"
    }
   ],
   "source": [
    "model.score(x_test, y_test)"
   ]
  },
  {
   "cell_type": "code",
   "execution_count": 87,
   "metadata": {},
   "outputs": [
    {
     "data": {
      "text/plain": [
       "0.8852459016393442"
      ]
     },
     "execution_count": 87,
     "metadata": {},
     "output_type": "execute_result"
    }
   ],
   "source": [
    "# or use metric\n",
    "from sklearn.metrics import accuracy_score\n",
    "accuracy_score(y_test, y_pred)"
   ]
  },
  {
   "cell_type": "code",
   "execution_count": 88,
   "metadata": {},
   "outputs": [],
   "source": [
    "# make prediction with predict_proba() --> probabilities"
   ]
  },
  {
   "cell_type": "code",
   "execution_count": 89,
   "metadata": {},
   "outputs": [
    {
     "data": {
      "text/plain": [
       "array([[0.61, 0.39],\n",
       "       [0.61, 0.39],\n",
       "       [0.72, 0.28],\n",
       "       [0.91, 0.09],\n",
       "       [0.38, 0.62]])"
      ]
     },
     "execution_count": 89,
     "metadata": {},
     "output_type": "execute_result"
    }
   ],
   "source": [
    "model.predict_proba(x_test[:5])"
   ]
  },
  {
   "cell_type": "code",
   "execution_count": 90,
   "metadata": {},
   "outputs": [
    {
     "data": {
      "text/plain": [
       "array([0, 0, 0, 0, 1])"
      ]
     },
     "execution_count": 90,
     "metadata": {},
     "output_type": "execute_result"
    }
   ],
   "source": [
    "# predict the same data\n",
    "model.predict(x_test[:5])"
   ]
  },
  {
   "cell_type": "code",
   "execution_count": 91,
   "metadata": {},
   "outputs": [
    {
     "data": {
      "text/html": [
       "<div>\n",
       "<style scoped>\n",
       "    .dataframe tbody tr th:only-of-type {\n",
       "        vertical-align: middle;\n",
       "    }\n",
       "\n",
       "    .dataframe tbody tr th {\n",
       "        vertical-align: top;\n",
       "    }\n",
       "\n",
       "    .dataframe thead th {\n",
       "        text-align: right;\n",
       "    }\n",
       "</style>\n",
       "<table border=\"1\" class=\"dataframe\">\n",
       "  <thead>\n",
       "    <tr style=\"text-align: right;\">\n",
       "      <th></th>\n",
       "      <th>CRIM</th>\n",
       "      <th>ZN</th>\n",
       "      <th>INDUS</th>\n",
       "      <th>CHAS</th>\n",
       "      <th>NOX</th>\n",
       "      <th>RM</th>\n",
       "      <th>AGE</th>\n",
       "      <th>DIS</th>\n",
       "      <th>RAD</th>\n",
       "      <th>TAX</th>\n",
       "      <th>PTRATIO</th>\n",
       "      <th>B</th>\n",
       "      <th>LSTAT</th>\n",
       "      <th>target</th>\n",
       "    </tr>\n",
       "  </thead>\n",
       "  <tbody>\n",
       "    <tr>\n",
       "      <th>0</th>\n",
       "      <td>0.00632</td>\n",
       "      <td>18.0</td>\n",
       "      <td>2.31</td>\n",
       "      <td>0.0</td>\n",
       "      <td>0.538</td>\n",
       "      <td>6.575</td>\n",
       "      <td>65.2</td>\n",
       "      <td>4.0900</td>\n",
       "      <td>1.0</td>\n",
       "      <td>296.0</td>\n",
       "      <td>15.3</td>\n",
       "      <td>396.90</td>\n",
       "      <td>4.98</td>\n",
       "      <td>24.0</td>\n",
       "    </tr>\n",
       "    <tr>\n",
       "      <th>1</th>\n",
       "      <td>0.02731</td>\n",
       "      <td>0.0</td>\n",
       "      <td>7.07</td>\n",
       "      <td>0.0</td>\n",
       "      <td>0.469</td>\n",
       "      <td>6.421</td>\n",
       "      <td>78.9</td>\n",
       "      <td>4.9671</td>\n",
       "      <td>2.0</td>\n",
       "      <td>242.0</td>\n",
       "      <td>17.8</td>\n",
       "      <td>396.90</td>\n",
       "      <td>9.14</td>\n",
       "      <td>21.6</td>\n",
       "    </tr>\n",
       "    <tr>\n",
       "      <th>2</th>\n",
       "      <td>0.02729</td>\n",
       "      <td>0.0</td>\n",
       "      <td>7.07</td>\n",
       "      <td>0.0</td>\n",
       "      <td>0.469</td>\n",
       "      <td>7.185</td>\n",
       "      <td>61.1</td>\n",
       "      <td>4.9671</td>\n",
       "      <td>2.0</td>\n",
       "      <td>242.0</td>\n",
       "      <td>17.8</td>\n",
       "      <td>392.83</td>\n",
       "      <td>4.03</td>\n",
       "      <td>34.7</td>\n",
       "    </tr>\n",
       "    <tr>\n",
       "      <th>3</th>\n",
       "      <td>0.03237</td>\n",
       "      <td>0.0</td>\n",
       "      <td>2.18</td>\n",
       "      <td>0.0</td>\n",
       "      <td>0.458</td>\n",
       "      <td>6.998</td>\n",
       "      <td>45.8</td>\n",
       "      <td>6.0622</td>\n",
       "      <td>3.0</td>\n",
       "      <td>222.0</td>\n",
       "      <td>18.7</td>\n",
       "      <td>394.63</td>\n",
       "      <td>2.94</td>\n",
       "      <td>33.4</td>\n",
       "    </tr>\n",
       "    <tr>\n",
       "      <th>4</th>\n",
       "      <td>0.06905</td>\n",
       "      <td>0.0</td>\n",
       "      <td>2.18</td>\n",
       "      <td>0.0</td>\n",
       "      <td>0.458</td>\n",
       "      <td>7.147</td>\n",
       "      <td>54.2</td>\n",
       "      <td>6.0622</td>\n",
       "      <td>3.0</td>\n",
       "      <td>222.0</td>\n",
       "      <td>18.7</td>\n",
       "      <td>396.90</td>\n",
       "      <td>5.33</td>\n",
       "      <td>36.2</td>\n",
       "    </tr>\n",
       "  </tbody>\n",
       "</table>\n",
       "</div>"
      ],
      "text/plain": [
       "      CRIM    ZN  INDUS  CHAS    NOX     RM   AGE     DIS  RAD    TAX  \\\n",
       "0  0.00632  18.0   2.31   0.0  0.538  6.575  65.2  4.0900  1.0  296.0   \n",
       "1  0.02731   0.0   7.07   0.0  0.469  6.421  78.9  4.9671  2.0  242.0   \n",
       "2  0.02729   0.0   7.07   0.0  0.469  7.185  61.1  4.9671  2.0  242.0   \n",
       "3  0.03237   0.0   2.18   0.0  0.458  6.998  45.8  6.0622  3.0  222.0   \n",
       "4  0.06905   0.0   2.18   0.0  0.458  7.147  54.2  6.0622  3.0  222.0   \n",
       "\n",
       "   PTRATIO       B  LSTAT  target  \n",
       "0     15.3  396.90   4.98    24.0  \n",
       "1     17.8  396.90   9.14    21.6  \n",
       "2     17.8  392.83   4.03    34.7  \n",
       "3     18.7  394.63   2.94    33.4  \n",
       "4     18.7  396.90   5.33    36.2  "
      ]
     },
     "execution_count": 91,
     "metadata": {},
     "output_type": "execute_result"
    }
   ],
   "source": [
    "boston_df.head()"
   ]
  },
  {
   "cell_type": "code",
   "execution_count": 92,
   "metadata": {},
   "outputs": [
    {
     "data": {
      "text/plain": [
       "0.8843572051953603"
      ]
     },
     "execution_count": 92,
     "metadata": {},
     "output_type": "execute_result"
    }
   ],
   "source": [
    "from sklearn.ensemble import RandomForestRegressor\n",
    "\n",
    "# setup the random seed\n",
    "np.random.seed(80)\n",
    "\n",
    "# Create the data\n",
    "x = boston_df.drop(\"target\", axis=1)\n",
    "y = boston_df[\"target\"]\n",
    "\n",
    "# Split into training and test sets\n",
    "x_train, x_test, y_train, y_test = train_test_split(x, y, test_size=0.2)\n",
    "\n",
    "# use the model\n",
    "model = RandomForestRegressor()\n",
    "\n",
    "# fit the data to the model\n",
    "model.fit(x_train, y_train)\n",
    "\n",
    "# make prediction\n",
    "y_preds = model.predict(x_test)\n",
    "\n",
    "# evaluate the score of our model\n",
    "model.score(x_test, y_test)"
   ]
  },
  {
   "cell_type": "code",
   "execution_count": 93,
   "metadata": {},
   "outputs": [
    {
     "data": {
      "text/plain": [
       "array([21.626, 41.229, 22.752, 20.144, 25.863, 35.022, 45.342, 22.976,\n",
       "       22.17 , 22.862])"
      ]
     },
     "execution_count": 93,
     "metadata": {},
     "output_type": "execute_result"
    }
   ],
   "source": [
    "y_preds[:10]"
   ]
  },
  {
   "cell_type": "code",
   "execution_count": 94,
   "metadata": {},
   "outputs": [
    {
     "data": {
      "text/plain": [
       "array([20.8, 43.1, 24. , 16.1, 22.4, 37.3, 48.8, 22.8, 20.6, 23.3])"
      ]
     },
     "execution_count": 94,
     "metadata": {},
     "output_type": "execute_result"
    }
   ],
   "source": [
    "np.array(y_test[:10])"
   ]
  },
  {
   "cell_type": "code",
   "execution_count": 95,
   "metadata": {},
   "outputs": [
    {
     "data": {
      "text/plain": [
       "1.9292745098039212"
      ]
     },
     "execution_count": 95,
     "metadata": {},
     "output_type": "execute_result"
    }
   ],
   "source": [
    "# compare prediction to the truth \n",
    "from sklearn.metrics import mean_absolute_error\n",
    "mean_absolute_error(y_preds, y_test)"
   ]
  },
  {
   "cell_type": "code",
   "execution_count": 96,
   "metadata": {},
   "outputs": [],
   "source": [
    "steps[3] = '3. Fit the model / algorithm and use it to make predictions on our data [x]'"
   ]
  },
  {
   "cell_type": "markdown",
   "metadata": {},
   "source": [
    "## 4. Evaluating a machine learning model"
   ]
  },
  {
   "cell_type": "markdown",
   "metadata": {},
   "source": [
    "Three ways to evaluate Scikit-Learn models/esitmators:\n",
    "\n",
    "    1. Estimator score method\n",
    "    2. The scoring parameter\n",
    "    3. Problem-specific metric functions.\n"
   ]
  },
  {
   "cell_type": "markdown",
   "metadata": {},
   "source": [
    "\n",
    "### 4.1 Evaluating a model with the 'score method'"
   ]
  },
  {
   "cell_type": "code",
   "execution_count": 97,
   "metadata": {},
   "outputs": [
    {
     "data": {
      "text/plain": [
       "0.8852459016393442"
      ]
     },
     "execution_count": 97,
     "metadata": {},
     "output_type": "execute_result"
    }
   ],
   "source": [
    "# classification\n",
    "\n",
    "# import randomforest classification\n",
    "from sklearn.ensemble import RandomForestClassifier \n",
    "\n",
    "# Setup random seed(80)\n",
    "np.random.seed(80)\n",
    "\n",
    "# Create x, y in heart disease case\n",
    "x = heart_disease.drop('target', axis=1)\n",
    "y = heart_disease['target']\n",
    "\n",
    "# split to test and train ==> test size=0.2\n",
    "x_train, x_test, y_train, y_test = train_test_split(x, y, test_size=0.2)\n",
    "\n",
    "# Instantiate the model\n",
    "model = RandomForestClassifier()\n",
    "\n",
    "# Fit the data to the model \n",
    "model.fit(x_train, y_train)\n",
    "# Option 1: check the score of our model\n",
    "model.score(x_test, y_test)\n"
   ]
  },
  {
   "cell_type": "code",
   "execution_count": 98,
   "metadata": {},
   "outputs": [
    {
     "data": {
      "text/plain": [
       "0.8655674723725941"
      ]
     },
     "execution_count": 98,
     "metadata": {},
     "output_type": "execute_result"
    }
   ],
   "source": [
    "# Regression\n",
    "\n",
    "# import randomforest regressor\n",
    "from sklearn.ensemble import RandomForestRegressor\n",
    "\n",
    "# Setup random seed\n",
    "np.random.seed(80)\n",
    "\n",
    "# create x, y in boston_df case\n",
    "x = boston_df.drop(\"target\", axis=1)\n",
    "y = boston_df['target']\n",
    "\n",
    "# split to test and train ==> test_size=0.2\n",
    "x_train, x_test, y_train, y_test = train_test_split(x, y)\n",
    "\n",
    "# Instantiate the model and fit the data to the model\n",
    "model = RandomForestRegressor()\n",
    "model.fit(x_train, y_train)\n",
    "# Check the score of model\n",
    "model.score(x_test, y_test)"
   ]
  },
  {
   "cell_type": "markdown",
   "metadata": {},
   "source": [
    "### 4.2 Evaluating a model using the 'scoring' parameter"
   ]
  },
  {
   "cell_type": "code",
   "execution_count": 99,
   "metadata": {},
   "outputs": [
    {
     "data": {
      "text/plain": [
       "0.8852459016393442"
      ]
     },
     "execution_count": 99,
     "metadata": {},
     "output_type": "execute_result"
    }
   ],
   "source": [
    "# import cross_val_score\n",
    "from sklearn.model_selection import cross_val_score\n",
    "\n",
    "# classification\n",
    "\n",
    "# import randomforest classification\n",
    "from sklearn.ensemble import RandomForestClassifier \n",
    "\n",
    "# Setup random seed(80)\n",
    "np.random.seed(80)\n",
    "\n",
    "# Create x, y in heart disease case\n",
    "x = heart_disease.drop('target', axis=1)\n",
    "y = heart_disease['target']\n",
    "\n",
    "# split to test and train ==> test size=0.2\n",
    "x_train, x_test, y_train, y_test = train_test_split(x, y, test_size=0.2)\n",
    "\n",
    "# Instantiate the model\n",
    "model = RandomForestClassifier()\n",
    "\n",
    "# Fit the data to the model \n",
    "model.fit(x_train, y_train)\n",
    "# Option 1: check the score of our model\n",
    "model.score(x_test, y_test)\n"
   ]
  },
  {
   "cell_type": "code",
   "execution_count": 100,
   "metadata": {},
   "outputs": [
    {
     "data": {
      "text/plain": [
       "array([0.90322581, 0.83870968, 0.87096774, 0.9       , 0.9       ,\n",
       "       0.86666667, 0.7       , 0.86666667, 0.7       , 0.76666667])"
      ]
     },
     "execution_count": 100,
     "metadata": {},
     "output_type": "execute_result"
    }
   ],
   "source": [
    "# use cross_val_score\n",
    "cross_val_score(model, x, y, cv=10)"
   ]
  },
  {
   "cell_type": "code",
   "execution_count": 101,
   "metadata": {},
   "outputs": [
    {
     "data": {
      "text/plain": [
       "(0.8852459016393442, 0.8149180327868851)"
      ]
     },
     "execution_count": 101,
     "metadata": {},
     "output_type": "execute_result"
    }
   ],
   "source": [
    "# setup random seed()\n",
    "np.random.seed(80)\n",
    "\n",
    "# single training and test split\n",
    "single_model_score = model.score(x_test, y_test)\n",
    "\n",
    "# take the mean of 5 fold cross validation score \n",
    "score_multi = np.mean(cross_val_score(model, x, y, cv=5))\n",
    "\n",
    "# compare single and cross validation\n",
    "single_model_score, score_multi"
   ]
  },
  {
   "cell_type": "code",
   "execution_count": 102,
   "metadata": {},
   "outputs": [],
   "source": [
    "# in this case we use cross_val_score beacause the model trained through all the data and \n",
    "# data splits to N part and train through these N part \n"
   ]
  },
  {
   "cell_type": "markdown",
   "metadata": {},
   "source": [
    "\n",
    "#### 4.2.1 Classification model evaluation metrics\n",
    "\n",
    "   1. Accuracy\n",
    "   2. Area under ROC curve\n",
    "   3. Confusion matrix\n",
    "   4. Classification report\n"
   ]
  },
  {
   "cell_type": "markdown",
   "metadata": {},
   "source": [
    "**accuracy**"
   ]
  },
  {
   "cell_type": "code",
   "execution_count": 103,
   "metadata": {},
   "outputs": [],
   "source": [
    "# import cross_val_score\n",
    "from sklearn.model_selection import cross_val_score\n",
    "\n",
    "# import random forest classifier\n",
    "from sklearn.ensemble import RandomForestClassifier\n",
    "\n",
    "# setup random seed \n",
    "np.random.seed(80)\n",
    "\n",
    "# create x, y ==> heart disease\n",
    "x = heart_disease.drop('target', axis=1)\n",
    "y = heart_disease['target']\n",
    "\n",
    "# instantiate the model \n",
    "model = RandomForestClassifier()\n",
    "\n",
    "# use cross_val_score\n",
    "cross_val = cross_val_score(model, x, y, cv=5)\n"
   ]
  },
  {
   "cell_type": "code",
   "execution_count": 104,
   "metadata": {},
   "outputs": [
    {
     "name": "stdout",
     "output_type": "stream",
     "text": [
      "The heart disease Classifier Cross validated accuracy is : 81.49%\n"
     ]
    }
   ],
   "source": [
    "# print the accuracy of our model \n",
    "print(f'The heart disease Classifier Cross validated accuracy is : {np.mean(cross_val) *100:.2f}%')"
   ]
  },
  {
   "cell_type": "markdown",
   "metadata": {},
   "source": [
    "**Area under the receiver operating characteristic curve(AUC/ROC)**"
   ]
  },
  {
   "cell_type": "markdown",
   "metadata": {},
   "source": [
    "* Area under the curve(AUC) \n",
    "* ROC cuve\n",
    "\n",
    "ROC curve is a comparison of a model's true positive rate(tpr) versus a model false positive rate(fpr)\n",
    "\n",
    "* True positive = model predicts 1 when truth is 1\n",
    "* False positive = model predicts 1 when truth is 0\n",
    "* True negetive = model predicts 0 when truth is 0\n",
    "* False negetive = model predicts 0 when truth is 1"
   ]
  },
  {
   "cell_type": "code",
   "execution_count": 105,
   "metadata": {},
   "outputs": [
    {
     "data": {
      "text/plain": [
       "array([[0.69, 0.31],\n",
       "       [0.44, 0.56],\n",
       "       [0.95, 0.05],\n",
       "       [0.54, 0.46],\n",
       "       [0.56, 0.44],\n",
       "       [0.59, 0.41],\n",
       "       [0.49, 0.51],\n",
       "       [0.64, 0.36],\n",
       "       [0.85, 0.15],\n",
       "       [0.46, 0.54]])"
      ]
     },
     "execution_count": 105,
     "metadata": {},
     "output_type": "execute_result"
    }
   ],
   "source": [
    "# import roc_curve\n",
    "from sklearn.metrics import roc_curve\n",
    "\n",
    "# train, test and split\n",
    "x_train, x_test, y_train, y_test = train_test_split(x, y)\n",
    "\n",
    "# fit the data to the model\n",
    "model.fit(x_train, y_train)\n",
    "\n",
    "# make predictions with probabilities\n",
    "y_probs = model.predict_proba(x_test)\n",
    "\n",
    "# show some of y_probs\n",
    "y_probs[:10]"
   ]
  },
  {
   "cell_type": "code",
   "execution_count": 106,
   "metadata": {},
   "outputs": [
    {
     "data": {
      "text/plain": [
       "(array([0.31, 0.56, 0.05, 0.46, 0.44, 0.41, 0.51, 0.36, 0.15, 0.54, 0.92,\n",
       "        0.98, 0.82, 0.06, 0.51, 0.66, 0.09, 0.03, 0.34, 0.76, 0.74, 0.22,\n",
       "        0.52, 0.15, 0.92, 0.54, 0.53, 0.01, 0.72, 0.31, 0.66, 0.02, 0.64,\n",
       "        0.87, 0.3 , 1.  , 0.79, 0.55, 0.94, 0.23, 0.41, 0.51, 0.81, 0.81,\n",
       "        0.95, 0.99, 0.22, 0.07, 0.41, 0.51, 0.7 , 0.99, 0.8 , 0.4 , 0.57,\n",
       "        0.04, 0.15, 0.89, 0.49, 0.07, 0.07, 0.71, 0.77, 0.83, 0.79, 0.25,\n",
       "        0.83, 0.03, 0.68, 1.  , 0.91, 0.97, 0.66, 0.2 , 0.86, 0.75]),\n",
       " 76)"
      ]
     },
     "execution_count": 106,
     "metadata": {},
     "output_type": "execute_result"
    }
   ],
   "source": [
    "# slice the list of 1 probabilities\n",
    "positive_y_probs = y_probs[:, 1]\n",
    "positive_y_probs, len(positive_y_probs)"
   ]
  },
  {
   "cell_type": "code",
   "execution_count": 107,
   "metadata": {},
   "outputs": [
    {
     "data": {
      "text/plain": [
       "array([2.  , 1.  , 0.99, 0.94, 0.92, 0.86, 0.83, 0.82, 0.81, 0.8 , 0.79,\n",
       "       0.77, 0.76, 0.74, 0.72, 0.68, 0.66, 0.57, 0.55, 0.54, 0.53, 0.52,\n",
       "       0.51, 0.44, 0.41, 0.36, 0.34, 0.31, 0.3 , 0.23, 0.22, 0.2 , 0.15,\n",
       "       0.09, 0.07, 0.04, 0.03, 0.01])"
      ]
     },
     "execution_count": 107,
     "metadata": {},
     "output_type": "execute_result"
    }
   ],
   "source": [
    "# calculate fpr, tpr, thresholds\n",
    "fpr, tpr, thresholds = roc_curve(y_test, positive_y_probs)\n",
    "thresholds"
   ]
  },
  {
   "cell_type": "code",
   "execution_count": 108,
   "metadata": {},
   "outputs": [
    {
     "data": {
      "image/png": "[encoded data removed]",
      "text/plain": [
       "<Figure size 432x288 with 1 Axes>"
      ]
     },
     "metadata": {
      "needs_background": "light"
     },
     "output_type": "display_data"
    }
   ],
   "source": [
    "import matplotlib.pyplot as plt\n",
    "# create function for ROC curve\n",
    "def plot_roc_curve(fpr, tpr):\n",
    "    \"\"\"\n",
    "    Plots a ROC curve given the false positive rate(fpr)\n",
    "    and true positive rate(tpr) of a model.\n",
    "    \"\"\"\n",
    "    # Plot roc curve \n",
    "    plt.plot(fpr, tpr, color='orange', label='ROC')\n",
    "    \n",
    "    # customize the plot \n",
    "    plt.xlabel('Flase positive rate (fpr)')\n",
    "    plt.ylabel('True positive rate(tpr)')\n",
    "    plt.title('Receiver Operating Characterestic curve')\n",
    "    plt.legend()\n",
    "    plt.show()\n",
    "\n",
    "plot_roc_curve(fpr, tpr)"
   ]
  },
  {
   "cell_type": "code",
   "execution_count": 109,
   "metadata": {},
   "outputs": [
    {
     "data": {
      "text/plain": [
       "0.8494397759103641"
      ]
     },
     "execution_count": 109,
     "metadata": {},
     "output_type": "execute_result"
    }
   ],
   "source": [
    "from sklearn.metrics import roc_auc_score\n",
    "# non perfect roc_curve \n",
    "area = roc_auc_score(y_test, positive_y_probs)\n",
    "area"
   ]
  },
  {
   "cell_type": "code",
   "execution_count": 110,
   "metadata": {},
   "outputs": [
    {
     "data": {
      "image/png": "[encoded data removed]",
      "text/plain": [
       "<Figure size 432x288 with 1 Axes>"
      ]
     },
     "metadata": {
      "needs_background": "light"
     },
     "output_type": "display_data"
    },
    {
     "data": {
      "text/plain": [
       "1.0"
      ]
     },
     "execution_count": 110,
     "metadata": {},
     "output_type": "execute_result"
    }
   ],
   "source": [
    "# perfect roc_curve\n",
    "fpr, tpr, thresholds = roc_curve(y_test, y_test)\n",
    "\n",
    "plot_roc_curve(fpr, tpr)\n",
    "\n",
    "area = roc_auc_score(y_test, y_test)\n",
    "area"
   ]
  },
  {
   "cell_type": "markdown",
   "metadata": {},
   "source": [
    "**Confusion Matrix**\n",
    "\n",
    "A confusion matrix is a quick way to compare a model predicts and the actual label it was supposed to predict.\n",
    "in essence, giving you an idea of where the model is getting confused. "
   ]
  },
  {
   "cell_type": "code",
   "execution_count": 111,
   "metadata": {},
   "outputs": [
    {
     "data": {
      "text/plain": [
       "array([[24, 10],\n",
       "       [ 7, 35]])"
      ]
     },
     "execution_count": 111,
     "metadata": {},
     "output_type": "execute_result"
    }
   ],
   "source": [
    "# import confusion matrix\n",
    "from sklearn.metrics import confusion_matrix\n",
    "\n",
    "# use predicts for x_test\n",
    "y_preds = model.predict(x_test)\n",
    "\n",
    "# use confusion matrix\n",
    "confusion_matrix(y_test, y_preds)"
   ]
  },
  {
   "cell_type": "code",
   "execution_count": 112,
   "metadata": {},
   "outputs": [
    {
     "data": {
      "text/html": [
       "<div>\n",
       "<style scoped>\n",
       "    .dataframe tbody tr th:only-of-type {\n",
       "        vertical-align: middle;\n",
       "    }\n",
       "\n",
       "    .dataframe tbody tr th {\n",
       "        vertical-align: top;\n",
       "    }\n",
       "\n",
       "    .dataframe thead th {\n",
       "        text-align: right;\n",
       "    }\n",
       "</style>\n",
       "<table border=\"1\" class=\"dataframe\">\n",
       "  <thead>\n",
       "    <tr style=\"text-align: right;\">\n",
       "      <th>predicted label</th>\n",
       "      <th>0</th>\n",
       "      <th>1</th>\n",
       "    </tr>\n",
       "    <tr>\n",
       "      <th>actual label</th>\n",
       "      <th></th>\n",
       "      <th></th>\n",
       "    </tr>\n",
       "  </thead>\n",
       "  <tbody>\n",
       "    <tr>\n",
       "      <th>0</th>\n",
       "      <td>24</td>\n",
       "      <td>10</td>\n",
       "    </tr>\n",
       "    <tr>\n",
       "      <th>1</th>\n",
       "      <td>7</td>\n",
       "      <td>35</td>\n",
       "    </tr>\n",
       "  </tbody>\n",
       "</table>\n",
       "</div>"
      ],
      "text/plain": [
       "predicted label   0   1\n",
       "actual label           \n",
       "0                24  10\n",
       "1                 7  35"
      ]
     },
     "execution_count": 112,
     "metadata": {},
     "output_type": "execute_result"
    }
   ],
   "source": [
    "# visualize confusion matrix with pd.crosstab()\n",
    "pd.crosstab(y_test, y_preds, rownames=['actual label'], colnames=['predicted label'])"
   ]
  },
  {
   "cell_type": "code",
   "execution_count": 113,
   "metadata": {},
   "outputs": [
    {
     "data": {
      "text/plain": [
       "<matplotlib.axes._subplots.AxesSubplot at 0x7f5c0f876860>"
      ]
     },
     "execution_count": 113,
     "metadata": {},
     "output_type": "execute_result"
    },
    {
     "data": {
      "image/png": "[encoded data removed]",
      "text/plain": [
       "<Figure size 432x288 with 2 Axes>"
      ]
     },
     "metadata": {},
     "output_type": "display_data"
    }
   ],
   "source": [
    "# Make our confusion matrix more visualize with seaborn's heatmap()\n",
    "import seaborn as sns\n",
    "\n",
    "# set the font scale of seaborn\n",
    "sns.set(font_scale=1)\n",
    "\n",
    "# create a confusion matrix \n",
    "conf_matrix = confusion_matrix(y_test, y_preds)\n",
    "\n",
    "# plotting using seaborn\n",
    "sns.heatmap(conf_matrix)"
   ]
  },
  {
   "cell_type": "code",
   "execution_count": 114,
   "metadata": {},
   "outputs": [
    {
     "data": {
      "image/png": "[encoded data removed]",
      "text/plain": [
       "<Figure size 432x432 with 1 Axes>"
      ]
     },
     "metadata": {},
     "output_type": "display_data"
    }
   ],
   "source": [
    "def plot_conf_matrix(conf_matrix):\n",
    "    \"\"\"\n",
    "    Plots a confusion matrix using seaborn.heatmap()\n",
    "    \"\"\"\n",
    "    fig, ax = plt.subplots(figsize=(6, 6))\n",
    "    # annot = annotate the heatmap with conf_matrix info\n",
    "    ax = sns.heatmap(conf_matrix, annot=True, cbar=False)\n",
    "    plt.xlabel('True label')\n",
    "    plt.ylabel('Predicted label')\n",
    "    \n",
    "plot_conf_matrix(conf_matrix)"
   ]
  },
  {
   "cell_type": "code",
   "execution_count": 115,
   "metadata": {},
   "outputs": [
    {
     "data": {
      "text/plain": [
       "<sklearn.metrics._plot.confusion_matrix.ConfusionMatrixDisplay at 0x7f5c0f7fd898>"
      ]
     },
     "execution_count": 115,
     "metadata": {},
     "output_type": "execute_result"
    },
    {
     "data": {
      "image/png": "[encoded data removed]",
      "text/plain": [
       "<Figure size 432x288 with 2 Axes>"
      ]
     },
     "metadata": {},
     "output_type": "display_data"
    }
   ],
   "source": [
    "from sklearn.metrics import plot_confusion_matrix\n",
    "plot_confusion_matrix(model, x_test, y_test, values_format=\"d\")"
   ]
  },
  {
   "cell_type": "markdown",
   "metadata": {},
   "source": [
    "**Classification Report**"
   ]
  },
  {
   "cell_type": "code",
   "execution_count": 116,
   "metadata": {},
   "outputs": [
    {
     "name": "stdout",
     "output_type": "stream",
     "text": [
      "              precision    recall  f1-score   support\n",
      "\n",
      "           0       0.77      0.71      0.74        34\n",
      "           1       0.78      0.83      0.80        42\n",
      "\n",
      "    accuracy                           0.78        76\n",
      "   macro avg       0.78      0.77      0.77        76\n",
      "weighted avg       0.78      0.78      0.78        76\n",
      "\n"
     ]
    }
   ],
   "source": [
    "# import classification report\n",
    "from sklearn.metrics import classification_report\n",
    "\n",
    "# print the result of classification report\n",
    "print(classification_report(y_test, y_preds))"
   ]
  },
  {
   "cell_type": "markdown",
   "metadata": {},
   "source": [
    "* The recall means \"how many of this class you find over the whole number of element of this class\"\n",
    "\n",
    "* The precision will be \"how many are correctly classified among that class\"\n",
    "\n",
    "* The f1-score is the harmonic mean between precision & recall\n",
    "\n",
    "* The support is the number of occurence of the given class in your dataset (so you have 37.5K of class 0 and 37.5K of class 1, which is a really well balanced dataset.\n"
   ]
  },
  {
   "cell_type": "code",
   "execution_count": 117,
   "metadata": {},
   "outputs": [
    {
     "data": {
      "text/plain": [
       "array([1., 0., 0., ..., 0., 0., 0.])"
      ]
     },
     "execution_count": 117,
     "metadata": {},
     "output_type": "execute_result"
    }
   ],
   "source": [
    "disease_true = np.zeros(10000)\n",
    "disease_true[0] = 1\n",
    "disease_true"
   ]
  },
  {
   "cell_type": "code",
   "execution_count": 118,
   "metadata": {},
   "outputs": [
    {
     "data": {
      "text/html": [
       "<div>\n",
       "<style scoped>\n",
       "    .dataframe tbody tr th:only-of-type {\n",
       "        vertical-align: middle;\n",
       "    }\n",
       "\n",
       "    .dataframe tbody tr th {\n",
       "        vertical-align: top;\n",
       "    }\n",
       "\n",
       "    .dataframe thead th {\n",
       "        text-align: right;\n",
       "    }\n",
       "</style>\n",
       "<table border=\"1\" class=\"dataframe\">\n",
       "  <thead>\n",
       "    <tr style=\"text-align: right;\">\n",
       "      <th></th>\n",
       "      <th>0.0</th>\n",
       "      <th>1.0</th>\n",
       "      <th>accuracy</th>\n",
       "      <th>macro avg</th>\n",
       "      <th>weighted avg</th>\n",
       "    </tr>\n",
       "  </thead>\n",
       "  <tbody>\n",
       "    <tr>\n",
       "      <th>precision</th>\n",
       "      <td>0.99990</td>\n",
       "      <td>1.0</td>\n",
       "      <td>0.9999</td>\n",
       "      <td>0.999950</td>\n",
       "      <td>0.99990</td>\n",
       "    </tr>\n",
       "    <tr>\n",
       "      <th>recall</th>\n",
       "      <td>1.00000</td>\n",
       "      <td>0.0</td>\n",
       "      <td>0.9999</td>\n",
       "      <td>0.500000</td>\n",
       "      <td>0.99990</td>\n",
       "    </tr>\n",
       "    <tr>\n",
       "      <th>f1-score</th>\n",
       "      <td>0.99995</td>\n",
       "      <td>0.0</td>\n",
       "      <td>0.9999</td>\n",
       "      <td>0.499975</td>\n",
       "      <td>0.99985</td>\n",
       "    </tr>\n",
       "    <tr>\n",
       "      <th>support</th>\n",
       "      <td>9999.00000</td>\n",
       "      <td>1.0</td>\n",
       "      <td>0.9999</td>\n",
       "      <td>10000.000000</td>\n",
       "      <td>10000.00000</td>\n",
       "    </tr>\n",
       "  </tbody>\n",
       "</table>\n",
       "</div>"
      ],
      "text/plain": [
       "                  0.0  1.0  accuracy     macro avg  weighted avg\n",
       "precision     0.99990  1.0    0.9999      0.999950       0.99990\n",
       "recall        1.00000  0.0    0.9999      0.500000       0.99990\n",
       "f1-score      0.99995  0.0    0.9999      0.499975       0.99985\n",
       "support    9999.00000  1.0    0.9999  10000.000000   10000.00000"
      ]
     },
     "execution_count": 118,
     "metadata": {},
     "output_type": "execute_result"
    }
   ],
   "source": [
    "disease_preds = np.zeros(10000) # model predict every case as 0\n",
    "pd.DataFrame(classification_report(disease_true, disease_preds, output_dict=True, zero_division=True))"
   ]
  },
  {
   "cell_type": "markdown",
   "metadata": {},
   "source": [
    "**To summarize classification metrics:**\n",
    "\n",
    "   * Accuracy is a good measure to start with if all classes are balanced (e.g. same amount of samples which are labelled with 0 or 1).\n",
    "   * Precision and recall become more important when classes are imbalanced.\n",
    "   * If false positive predictions are worse than false negatives, aim for higher precision.\n",
    "   * If false negative predictions are worse than false positives, aim for higher recall.\n",
    "   * F1-score is a combination of precision and recall.\n",
    "\n"
   ]
  },
  {
   "cell_type": "markdown",
   "metadata": {},
   "source": [
    "#### 4.2.2 Regression model evaluation metrics "
   ]
  },
  {
   "cell_type": "markdown",
   "metadata": {},
   "source": [
    "   1. R^2 (pronounced r-squared) or coefficient of determination.\n",
    "   2. Mean absolute error (MAE)\n",
    "   3. Mean squared error (MSE)\n",
    "\n",
    "- R^2\n",
    "\n",
    "What R-squared does: Compares your models predictions to the mean of the targets. Values can range from negative infinity (a very poor model) to 1. For example, if all your model does is predict the mean of the targets, it's R^2 value would be 0. And if your model perfectly predicts a range of numbers it's R^2 value would be 1."
   ]
  },
  {
   "cell_type": "code",
   "execution_count": 119,
   "metadata": {},
   "outputs": [
    {
     "data": {
      "text/plain": [
       "0.8843572051953603"
      ]
     },
     "execution_count": 119,
     "metadata": {},
     "output_type": "execute_result"
    }
   ],
   "source": [
    "from sklearn.ensemble import RandomForestRegressor\n",
    "\n",
    "# setup the random seed\n",
    "np.random.seed(80)\n",
    "\n",
    "# Create the data\n",
    "x = boston_df.drop(\"target\", axis=1)\n",
    "y = boston_df[\"target\"]\n",
    "\n",
    "# Split into training and test sets\n",
    "x_train, x_test, y_train, y_test = train_test_split(x, y, test_size=0.2)\n",
    "\n",
    "# use the model\n",
    "model = RandomForestRegressor()\n",
    "\n",
    "# fit the data to the model\n",
    "model.fit(x_train, y_train)\n",
    "\n",
    "# make prediction\n",
    "y_preds = model.predict(x_test)\n",
    "\n",
    "# evaluate the score of our model\n",
    "model.score(x_test, y_test)"
   ]
  },
  {
   "cell_type": "code",
   "execution_count": 120,
   "metadata": {},
   "outputs": [
    {
     "data": {
      "text/plain": [
       "array([22.50490196, 22.50490196, 22.50490196, 22.50490196, 22.50490196,\n",
       "       22.50490196, 22.50490196, 22.50490196, 22.50490196, 22.50490196,\n",
       "       22.50490196, 22.50490196, 22.50490196, 22.50490196, 22.50490196,\n",
       "       22.50490196, 22.50490196, 22.50490196, 22.50490196, 22.50490196,\n",
       "       22.50490196, 22.50490196, 22.50490196, 22.50490196, 22.50490196,\n",
       "       22.50490196, 22.50490196, 22.50490196, 22.50490196, 22.50490196,\n",
       "       22.50490196, 22.50490196, 22.50490196, 22.50490196, 22.50490196,\n",
       "       22.50490196, 22.50490196, 22.50490196, 22.50490196, 22.50490196,\n",
       "       22.50490196, 22.50490196, 22.50490196, 22.50490196, 22.50490196,\n",
       "       22.50490196, 22.50490196, 22.50490196, 22.50490196, 22.50490196,\n",
       "       22.50490196, 22.50490196, 22.50490196, 22.50490196, 22.50490196,\n",
       "       22.50490196, 22.50490196, 22.50490196, 22.50490196, 22.50490196,\n",
       "       22.50490196, 22.50490196, 22.50490196, 22.50490196, 22.50490196,\n",
       "       22.50490196, 22.50490196, 22.50490196, 22.50490196, 22.50490196,\n",
       "       22.50490196, 22.50490196, 22.50490196, 22.50490196, 22.50490196,\n",
       "       22.50490196, 22.50490196, 22.50490196, 22.50490196, 22.50490196,\n",
       "       22.50490196, 22.50490196, 22.50490196, 22.50490196, 22.50490196,\n",
       "       22.50490196, 22.50490196, 22.50490196, 22.50490196, 22.50490196,\n",
       "       22.50490196, 22.50490196, 22.50490196, 22.50490196, 22.50490196,\n",
       "       22.50490196, 22.50490196, 22.50490196, 22.50490196, 22.50490196,\n",
       "       22.50490196, 22.50490196])"
      ]
     },
     "execution_count": 120,
     "metadata": {},
     "output_type": "execute_result"
    }
   ],
   "source": [
    "# import r2_score \n",
    "from sklearn.metrics import r2_score\n",
    "y_test_mean = np.full(len(y_test), y_test.mean())\n",
    "y_test_mean"
   ]
  },
  {
   "cell_type": "code",
   "execution_count": 121,
   "metadata": {},
   "outputs": [
    {
     "data": {
      "text/plain": [
       "0.0"
      ]
     },
     "execution_count": 121,
     "metadata": {},
     "output_type": "execute_result"
    }
   ],
   "source": [
    "# use r2_score \n",
    "r2_score(y_test, y_test_mean)"
   ]
  },
  {
   "cell_type": "code",
   "execution_count": 122,
   "metadata": {},
   "outputs": [
    {
     "data": {
      "text/plain": [
       "1.0"
      ]
     },
     "execution_count": 122,
     "metadata": {},
     "output_type": "execute_result"
    }
   ],
   "source": [
    "# use r2_score for perfect model\n",
    "r2_score(y_test, y_test)"
   ]
  },
  {
   "cell_type": "markdown",
   "metadata": {},
   "source": [
    "**Mean absolue error (MAE)**\n",
    "\n",
    "MAE is the average of the aboslute differences between predictions and actual values. It gives you an idea of how wrong your models predictions are.\n"
   ]
  },
  {
   "cell_type": "code",
   "execution_count": 123,
   "metadata": {},
   "outputs": [
    {
     "data": {
      "text/plain": [
       "1.9292745098039212"
      ]
     },
     "execution_count": 123,
     "metadata": {},
     "output_type": "execute_result"
    }
   ],
   "source": [
    "# import mean absolute error\n",
    "from sklearn.metrics import mean_absolute_error\n",
    "\n",
    "# make some predictions\n",
    "y_preds = model.predict(x_test)\n",
    "\n",
    "# use mean absolute error\n",
    "mae = mean_absolute_error(y_test, y_preds)\n",
    "mae\n",
    "# prediction_values +- mae = actual_values"
   ]
  },
  {
   "cell_type": "code",
   "execution_count": 124,
   "metadata": {},
   "outputs": [
    {
     "data": {
      "text/html": [
       "<div>\n",
       "<style scoped>\n",
       "    .dataframe tbody tr th:only-of-type {\n",
       "        vertical-align: middle;\n",
       "    }\n",
       "\n",
       "    .dataframe tbody tr th {\n",
       "        vertical-align: top;\n",
       "    }\n",
       "\n",
       "    .dataframe thead th {\n",
       "        text-align: right;\n",
       "    }\n",
       "</style>\n",
       "<table border=\"1\" class=\"dataframe\">\n",
       "  <thead>\n",
       "    <tr style=\"text-align: right;\">\n",
       "      <th></th>\n",
       "      <th>actual values</th>\n",
       "      <th>predicted values</th>\n",
       "    </tr>\n",
       "  </thead>\n",
       "  <tbody>\n",
       "    <tr>\n",
       "      <th>362</th>\n",
       "      <td>20.8</td>\n",
       "      <td>21.626</td>\n",
       "    </tr>\n",
       "    <tr>\n",
       "      <th>261</th>\n",
       "      <td>43.1</td>\n",
       "      <td>41.229</td>\n",
       "    </tr>\n",
       "    <tr>\n",
       "      <th>235</th>\n",
       "      <td>24.0</td>\n",
       "      <td>22.752</td>\n",
       "    </tr>\n",
       "    <tr>\n",
       "      <th>432</th>\n",
       "      <td>16.1</td>\n",
       "      <td>20.144</td>\n",
       "    </tr>\n",
       "    <tr>\n",
       "      <th>501</th>\n",
       "      <td>22.4</td>\n",
       "      <td>25.863</td>\n",
       "    </tr>\n",
       "    <tr>\n",
       "      <th>...</th>\n",
       "      <td>...</td>\n",
       "      <td>...</td>\n",
       "    </tr>\n",
       "    <tr>\n",
       "      <th>193</th>\n",
       "      <td>31.1</td>\n",
       "      <td>27.716</td>\n",
       "    </tr>\n",
       "    <tr>\n",
       "      <th>228</th>\n",
       "      <td>46.7</td>\n",
       "      <td>44.928</td>\n",
       "    </tr>\n",
       "    <tr>\n",
       "      <th>373</th>\n",
       "      <td>13.8</td>\n",
       "      <td>11.155</td>\n",
       "    </tr>\n",
       "    <tr>\n",
       "      <th>103</th>\n",
       "      <td>19.3</td>\n",
       "      <td>19.618</td>\n",
       "    </tr>\n",
       "    <tr>\n",
       "      <th>320</th>\n",
       "      <td>23.8</td>\n",
       "      <td>23.831</td>\n",
       "    </tr>\n",
       "  </tbody>\n",
       "</table>\n",
       "<p>102 rows × 2 columns</p>\n",
       "</div>"
      ],
      "text/plain": [
       "     actual values  predicted values\n",
       "362           20.8            21.626\n",
       "261           43.1            41.229\n",
       "235           24.0            22.752\n",
       "432           16.1            20.144\n",
       "501           22.4            25.863\n",
       "..             ...               ...\n",
       "193           31.1            27.716\n",
       "228           46.7            44.928\n",
       "373           13.8            11.155\n",
       "103           19.3            19.618\n",
       "320           23.8            23.831\n",
       "\n",
       "[102 rows x 2 columns]"
      ]
     },
     "execution_count": 124,
     "metadata": {},
     "output_type": "execute_result"
    }
   ],
   "source": [
    "# create a dataframe to see it visually\n",
    "df = pd.DataFrame(data={\"actual values\": y_test, \"predicted values\": y_preds})\n",
    "df"
   ]
  },
  {
   "cell_type": "code",
   "execution_count": 125,
   "metadata": {},
   "outputs": [
    {
     "data": {
      "text/html": [
       "<div>\n",
       "<style scoped>\n",
       "    .dataframe tbody tr th:only-of-type {\n",
       "        vertical-align: middle;\n",
       "    }\n",
       "\n",
       "    .dataframe tbody tr th {\n",
       "        vertical-align: top;\n",
       "    }\n",
       "\n",
       "    .dataframe thead th {\n",
       "        text-align: right;\n",
       "    }\n",
       "</style>\n",
       "<table border=\"1\" class=\"dataframe\">\n",
       "  <thead>\n",
       "    <tr style=\"text-align: right;\">\n",
       "      <th></th>\n",
       "      <th>actual values</th>\n",
       "      <th>predicted values</th>\n",
       "      <th>diffrences</th>\n",
       "    </tr>\n",
       "  </thead>\n",
       "  <tbody>\n",
       "    <tr>\n",
       "      <th>362</th>\n",
       "      <td>20.8</td>\n",
       "      <td>21.626</td>\n",
       "      <td>-0.826</td>\n",
       "    </tr>\n",
       "    <tr>\n",
       "      <th>261</th>\n",
       "      <td>43.1</td>\n",
       "      <td>41.229</td>\n",
       "      <td>1.871</td>\n",
       "    </tr>\n",
       "    <tr>\n",
       "      <th>235</th>\n",
       "      <td>24.0</td>\n",
       "      <td>22.752</td>\n",
       "      <td>1.248</td>\n",
       "    </tr>\n",
       "    <tr>\n",
       "      <th>432</th>\n",
       "      <td>16.1</td>\n",
       "      <td>20.144</td>\n",
       "      <td>-4.044</td>\n",
       "    </tr>\n",
       "    <tr>\n",
       "      <th>501</th>\n",
       "      <td>22.4</td>\n",
       "      <td>25.863</td>\n",
       "      <td>-3.463</td>\n",
       "    </tr>\n",
       "    <tr>\n",
       "      <th>...</th>\n",
       "      <td>...</td>\n",
       "      <td>...</td>\n",
       "      <td>...</td>\n",
       "    </tr>\n",
       "    <tr>\n",
       "      <th>193</th>\n",
       "      <td>31.1</td>\n",
       "      <td>27.716</td>\n",
       "      <td>3.384</td>\n",
       "    </tr>\n",
       "    <tr>\n",
       "      <th>228</th>\n",
       "      <td>46.7</td>\n",
       "      <td>44.928</td>\n",
       "      <td>1.772</td>\n",
       "    </tr>\n",
       "    <tr>\n",
       "      <th>373</th>\n",
       "      <td>13.8</td>\n",
       "      <td>11.155</td>\n",
       "      <td>2.645</td>\n",
       "    </tr>\n",
       "    <tr>\n",
       "      <th>103</th>\n",
       "      <td>19.3</td>\n",
       "      <td>19.618</td>\n",
       "      <td>-0.318</td>\n",
       "    </tr>\n",
       "    <tr>\n",
       "      <th>320</th>\n",
       "      <td>23.8</td>\n",
       "      <td>23.831</td>\n",
       "      <td>-0.031</td>\n",
       "    </tr>\n",
       "  </tbody>\n",
       "</table>\n",
       "<p>102 rows × 3 columns</p>\n",
       "</div>"
      ],
      "text/plain": [
       "     actual values  predicted values  diffrences\n",
       "362           20.8            21.626      -0.826\n",
       "261           43.1            41.229       1.871\n",
       "235           24.0            22.752       1.248\n",
       "432           16.1            20.144      -4.044\n",
       "501           22.4            25.863      -3.463\n",
       "..             ...               ...         ...\n",
       "193           31.1            27.716       3.384\n",
       "228           46.7            44.928       1.772\n",
       "373           13.8            11.155       2.645\n",
       "103           19.3            19.618      -0.318\n",
       "320           23.8            23.831      -0.031\n",
       "\n",
       "[102 rows x 3 columns]"
      ]
     },
     "execution_count": 125,
     "metadata": {},
     "output_type": "execute_result"
    }
   ],
   "source": [
    "# add diffrences column in df \n",
    "df['diffrences'] = df['actual values'] - df['predicted values']\n",
    "df"
   ]
  },
  {
   "cell_type": "code",
   "execution_count": 126,
   "metadata": {},
   "outputs": [
    {
     "data": {
      "text/plain": [
       "0.35576470588235165"
      ]
     },
     "execution_count": 126,
     "metadata": {},
     "output_type": "execute_result"
    }
   ],
   "source": [
    "df['diffrences'].mean()"
   ]
  },
  {
   "cell_type": "markdown",
   "metadata": {},
   "source": [
    "**Mean squared error (MSE)**\n"
   ]
  },
  {
   "cell_type": "code",
   "execution_count": 127,
   "metadata": {},
   "outputs": [
    {
     "data": {
      "text/plain": [
       "7.661797215686274"
      ]
     },
     "execution_count": 127,
     "metadata": {},
     "output_type": "execute_result"
    }
   ],
   "source": [
    "# import mean squared error\n",
    "from sklearn.metrics import mean_squared_error\n",
    "\n",
    "# use mean squared error \n",
    "mse = mean_squared_error(y_test, y_preds)\n",
    "mse"
   ]
  },
  {
   "cell_type": "code",
   "execution_count": 128,
   "metadata": {},
   "outputs": [
    {
     "data": {
      "text/plain": [
       "7.661797215686274"
      ]
     },
     "execution_count": 128,
     "metadata": {},
     "output_type": "execute_result"
    }
   ],
   "source": [
    "# calculate mse by hands\n",
    "np.square(df['diffrences']).mean()"
   ]
  },
  {
   "cell_type": "markdown",
   "metadata": {},
   "source": [
    "#### 4.2.3 Finally using the scoring parameter"
   ]
  },
  {
   "cell_type": "code",
   "execution_count": 129,
   "metadata": {},
   "outputs": [
    {
     "data": {
      "text/plain": [
       "array([0.85245902, 0.86885246, 0.80327869, 0.8       , 0.75      ])"
      ]
     },
     "execution_count": 129,
     "metadata": {},
     "output_type": "execute_result"
    }
   ],
   "source": [
    "# import cross validation score\n",
    "from sklearn.model_selection import cross_val_score\n",
    "from sklearn.ensemble import RandomForestClassifier\n",
    "\n",
    "# setup random seed \n",
    "np.random.seed(80)\n",
    "\n",
    "# setup x, y\n",
    "x = heart_disease.drop('target', axis=1)\n",
    "y = heart_disease['target']\n",
    "\n",
    "# Instantiate the model \n",
    "model = RandomForestClassifier()\n",
    "\n",
    "# use cross validation score \n",
    "acc_cross = cross_val_score(model, x, y, cv=5)\n",
    "acc_cross"
   ]
  },
  {
   "cell_type": "code",
   "execution_count": 130,
   "metadata": {},
   "outputs": [
    {
     "data": {
      "text/plain": [
       "0.8149180327868851"
      ]
     },
     "execution_count": 130,
     "metadata": {},
     "output_type": "execute_result"
    }
   ],
   "source": [
    "# mean of cross validation score\n",
    "np.mean(acc_cross)"
   ]
  },
  {
   "cell_type": "code",
   "execution_count": 131,
   "metadata": {},
   "outputs": [
    {
     "data": {
      "text/plain": [
       "0.8149180327868851"
      ]
     },
     "execution_count": 131,
     "metadata": {},
     "output_type": "execute_result"
    }
   ],
   "source": [
    "np.random.seed(80)\n",
    "acc_cross = cross_val_score(model, x, y, cv=5, scoring='accuracy')\n",
    "np.mean(acc_cross)"
   ]
  },
  {
   "cell_type": "code",
   "execution_count": 132,
   "metadata": {},
   "outputs": [
    {
     "data": {
      "text/plain": [
       "0.8225497762000309"
      ]
     },
     "execution_count": 132,
     "metadata": {},
     "output_type": "execute_result"
    }
   ],
   "source": [
    "# precision\n",
    "np.random.seed(80)\n",
    "precision = cross_val_score(model, x, y,cv=5, scoring='precision')\n",
    "np.mean(precision)"
   ]
  },
  {
   "cell_type": "code",
   "execution_count": 133,
   "metadata": {},
   "outputs": [
    {
     "data": {
      "text/plain": [
       "0.8484848484848486"
      ]
     },
     "execution_count": 133,
     "metadata": {},
     "output_type": "execute_result"
    }
   ],
   "source": [
    "# recall\n",
    "np.random.seed(80)\n",
    "recall = cross_val_score(model, x, y,cv=5, scoring='recall')\n",
    "np.mean(recall)"
   ]
  },
  {
   "cell_type": "code",
   "execution_count": 134,
   "metadata": {},
   "outputs": [
    {
     "data": {
      "text/plain": [
       "0.8335307298335467"
      ]
     },
     "execution_count": 134,
     "metadata": {},
     "output_type": "execute_result"
    }
   ],
   "source": [
    "# f1\n",
    "np.random.seed(80)\n",
    "f1 = cross_val_score(model, x, y,cv=5, scoring='f1')\n",
    "np.mean(f1)"
   ]
  },
  {
   "cell_type": "markdown",
   "metadata": {},
   "source": [
    "How about our regression model?"
   ]
  },
  {
   "cell_type": "code",
   "execution_count": 135,
   "metadata": {},
   "outputs": [
    {
     "data": {
      "text/plain": [
       "0.6145858149033776"
      ]
     },
     "execution_count": 135,
     "metadata": {},
     "output_type": "execute_result"
    }
   ],
   "source": [
    "from sklearn.model_selection import cross_val_score\n",
    "from sklearn.ensemble import RandomForestRegressor\n",
    "\n",
    "# setup random seed\n",
    "np.random.seed(80)\n",
    "\n",
    "# create x, y\n",
    "x = boston_df.drop('target', axis=1)\n",
    "y = boston_df['target']\n",
    "\n",
    "# instantiate the model\n",
    "model = RandomForestRegressor()\n",
    "\n",
    "# use cross_val_score\n",
    "acc_cross = cross_val_score(model, x, y, cv=5, scoring=None)\n",
    "np.mean(acc_cross)"
   ]
  },
  {
   "cell_type": "code",
   "execution_count": 136,
   "metadata": {},
   "outputs": [
    {
     "data": {
      "text/plain": [
       "array([0.77118817, 0.85050838, 0.72271421, 0.47065235, 0.25786597])"
      ]
     },
     "execution_count": 136,
     "metadata": {},
     "output_type": "execute_result"
    }
   ],
   "source": [
    "# setup random seed\n",
    "np.random.seed(80)\n",
    "\n",
    "# use cross_val_score\n",
    "r2_cross = cross_val_score(model, x, y, cv=5, scoring='r2')\n",
    "r2_cross"
   ]
  },
  {
   "cell_type": "code",
   "execution_count": 137,
   "metadata": {},
   "outputs": [
    {
     "data": {
      "text/plain": [
       "array([-2.10556863, -2.62791089, -3.44359406, -3.82708911, -3.14231683])"
      ]
     },
     "execution_count": 137,
     "metadata": {},
     "output_type": "execute_result"
    }
   ],
   "source": [
    "# setup random seed\n",
    "np.random.seed(80)\n",
    "\n",
    "# mean absolute error\n",
    "cv_mae = cross_val_score(model, x, y, cv=5, scoring='neg_mean_absolute_error')\n",
    "cv_mae"
   ]
  },
  {
   "cell_type": "code",
   "execution_count": 138,
   "metadata": {},
   "outputs": [
    {
     "data": {
      "text/plain": [
       "array([ -7.90206118, -13.60923189, -22.20704348, -46.43006261,\n",
       "       -19.73209481])"
      ]
     },
     "execution_count": 138,
     "metadata": {},
     "output_type": "execute_result"
    }
   ],
   "source": [
    "# setup random seed\n",
    "np.random.seed(80)\n",
    "\n",
    "# mean squared error\n",
    "cv_mse = cross_val_score(model, x, y, cv=5, scoring='neg_mean_squared_error')\n",
    "cv_mse"
   ]
  },
  {
   "cell_type": "code",
   "execution_count": 139,
   "metadata": {},
   "outputs": [
    {
     "data": {
      "text/plain": [
       "-21.97609879370996"
      ]
     },
     "execution_count": 139,
     "metadata": {},
     "output_type": "execute_result"
    }
   ],
   "source": [
    "np.mean(cv_mse)"
   ]
  },
  {
   "cell_type": "markdown",
   "metadata": {},
   "source": [
    "### 4.3 Using different evalution metrics as Scikit-Learn functions"
   ]
  },
  {
   "cell_type": "markdown",
   "metadata": {},
   "source": [
    "**Classification evaluation functions**"
   ]
  },
  {
   "cell_type": "code",
   "execution_count": 140,
   "metadata": {},
   "outputs": [
    {
     "name": "stdout",
     "output_type": "stream",
     "text": [
      "accuracy socre: 88.52%\n",
      "precision socre:0.9487179487179487\n",
      "recall score:0.8809523809523809\n",
      "f1 score:0.9135802469135802\n"
     ]
    }
   ],
   "source": [
    "# import accuracy_score, precision_score, f1_score, recall_score\n",
    "from sklearn.metrics import accuracy_score, precision_score, recall_score, f1_score\n",
    "from sklearn.ensemble import RandomForestClassifier\n",
    "from sklearn.model_selection import train_test_split\n",
    "\n",
    "# setup random seed\n",
    "np.random.seed(80)\n",
    "\n",
    "# create x, y\n",
    "x = heart_disease.drop('target', axis=1)\n",
    "y = heart_disease['target']\n",
    "\n",
    "# train, test and split \n",
    "x_train, x_test, y_train, y_test = train_test_split(x, y, test_size=0.2)\n",
    "\n",
    "# Instantiate the model \n",
    "model = RandomForestClassifier()\n",
    "\n",
    "# fit the model\n",
    "model.fit(x_train, y_train)\n",
    "\n",
    "# Make some predictions \n",
    "y_preds = model.predict(x_test)\n",
    "\n",
    "# evaluate the classifier\n",
    "print(f'accuracy socre: {accuracy_score(y_test, y_preds)*100:.2f}%')\n",
    "print(f'precision socre:{precision_score(y_test, y_preds)}')\n",
    "print(f'recall score:{recall_score(y_test, y_preds)}')\n",
    "print(f'f1 score:{f1_score(y_test, y_preds)}')"
   ]
  },
  {
   "cell_type": "markdown",
   "metadata": {},
   "source": [
    "**Regression evaluation functions**"
   ]
  },
  {
   "cell_type": "code",
   "execution_count": 141,
   "metadata": {},
   "outputs": [
    {
     "name": "stdout",
     "output_type": "stream",
     "text": [
      "R^2 : 0.8843572051953603\n",
      "mean absolute error: 1.9292745098039212\n",
      "mean squared error: 7.661797215686274\n"
     ]
    }
   ],
   "source": [
    "from sklearn.metrics import r2_score, mean_absolute_error, mean_squared_error\n",
    "from sklearn.ensemble import RandomForestRegressor\n",
    "from sklearn.model_selection import train_test_split\n",
    "\n",
    "# setup random seed\n",
    "np.random.seed(80)\n",
    "\n",
    "# create x, y \n",
    "x = boston_df.drop('target', axis=1)\n",
    "y = boston_df['target']\n",
    "\n",
    "# train , test and split\n",
    "x_train, x_test, y_train, y_test = train_test_split(x, y, test_size=0.2)\n",
    "\n",
    "# Instantiate the model \n",
    "model = RandomForestRegressor()\n",
    "\n",
    "# fit the data to the model\n",
    "model.fit(x_train, y_train)\n",
    "\n",
    "# Make some predictions\n",
    "y_preds = model.predict(x_test)\n",
    "\n",
    "# Evaluate the regression model\n",
    "print(f'R^2 : {r2_score(y_test, y_preds)}')\n",
    "print(f'mean absolute error: {mean_absolute_error(y_test, y_preds)}')\n",
    "print(f'mean squared error: {mean_squared_error(y_test, y_preds)}')"
   ]
  },
  {
   "cell_type": "code",
   "execution_count": 142,
   "metadata": {},
   "outputs": [],
   "source": [
    "steps[4] = '4. Evaluating a model [x]'"
   ]
  },
  {
   "cell_type": "markdown",
   "metadata": {},
   "source": [
    "# 5. Improving a model"
   ]
  },
  {
   "cell_type": "markdown",
   "metadata": {},
   "source": [
    "First predictions = baseline predictions. First model = baseline model.\n",
    "\n",
    "From a data perspective:\n",
    "\n",
    "   * Could we collect more data? (generally, the more data, the better)\n",
    "   * Could we improve our data?\n",
    "\n",
    "From a model perspective:\n",
    "\n",
    "   * Is there a better model we could use?\n",
    "   * Could we improve the current model?\n",
    "\n",
    "Hyperparameters vs. Parameters\n",
    "\n",
    "   * Parameters = model find these patterns in data\n",
    "   * Hyperparameters = settings on a model you can adjust to (potentially) improve its ability to find patterns\n",
    "\n",
    "Three ways to adjust hyperparameters:\n",
    "\n",
    "   1. By hand\n",
    "   2. Randomly with RandomSearchCV\n",
    "   3. Exhaustively with GridSearchCV\n"
   ]
  },
  {
   "cell_type": "code",
   "execution_count": 143,
   "metadata": {},
   "outputs": [
    {
     "data": {
      "text/plain": [
       "{'bootstrap': True,\n",
       " 'ccp_alpha': 0.0,\n",
       " 'class_weight': None,\n",
       " 'criterion': 'gini',\n",
       " 'max_depth': None,\n",
       " 'max_features': 'auto',\n",
       " 'max_leaf_nodes': None,\n",
       " 'max_samples': None,\n",
       " 'min_impurity_decrease': 0.0,\n",
       " 'min_impurity_split': None,\n",
       " 'min_samples_leaf': 1,\n",
       " 'min_samples_split': 2,\n",
       " 'min_weight_fraction_leaf': 0.0,\n",
       " 'n_estimators': 100,\n",
       " 'n_jobs': None,\n",
       " 'oob_score': False,\n",
       " 'random_state': None,\n",
       " 'verbose': 0,\n",
       " 'warm_start': False}"
      ]
     },
     "execution_count": 143,
     "metadata": {},
     "output_type": "execute_result"
    }
   ],
   "source": [
    "# import randomforestclassifier \n",
    "from sklearn.ensemble import RandomForestClassifier\n",
    "\n",
    "# Instantiate the model \n",
    "model = RandomForestClassifier()\n",
    "\n",
    "# get hyperparameters\n",
    "model.get_params()"
   ]
  },
  {
   "cell_type": "markdown",
   "metadata": {},
   "source": [
    "### 5.1 Tunning hyperparameters by hand"
   ]
  },
  {
   "cell_type": "markdown",
   "metadata": {},
   "source": [
    "##### make 3 set ==> training, test, validation\n",
    "**try and adjust:**\n",
    "* max_depth\n",
    "* max_features\n",
    "* min_samples_leaf\n",
    "* min_sample_split\n",
    "* n_estimators\n"
   ]
  },
  {
   "cell_type": "code",
   "execution_count": 144,
   "metadata": {},
   "outputs": [],
   "source": [
    "def evaluate_preds(y_true, y_preds):\n",
    "    \"\"\"\n",
    "    Performs evaluation comparison on y_true label versus y_preds label on classification\n",
    "    model.\n",
    "    \"\"\"\n",
    "    accuracy = accuracy_score(y_true, y_preds)\n",
    "    precision = precision_score(y_true, y_preds)\n",
    "    recall = recall_score(y_true, y_preds)\n",
    "    f1 = f1_score(y_true, y_preds)\n",
    "    metric_dict = {'accuracy': round(accuracy, 2), 'precision': round(precision, 2)\n",
    "                   , 'recall': round(recall, 2), 'f1': round(f1, 2)}\n",
    "   \n",
    "    return metric_dict"
   ]
  },
  {
   "cell_type": "code",
   "execution_count": 145,
   "metadata": {},
   "outputs": [
    {
     "data": {
      "text/html": [
       "<div>\n",
       "<style scoped>\n",
       "    .dataframe tbody tr th:only-of-type {\n",
       "        vertical-align: middle;\n",
       "    }\n",
       "\n",
       "    .dataframe tbody tr th {\n",
       "        vertical-align: top;\n",
       "    }\n",
       "\n",
       "    .dataframe thead th {\n",
       "        text-align: right;\n",
       "    }\n",
       "</style>\n",
       "<table border=\"1\" class=\"dataframe\">\n",
       "  <thead>\n",
       "    <tr style=\"text-align: right;\">\n",
       "      <th></th>\n",
       "      <th>age</th>\n",
       "      <th>sex</th>\n",
       "      <th>cp</th>\n",
       "      <th>trestbps</th>\n",
       "      <th>chol</th>\n",
       "      <th>fbs</th>\n",
       "      <th>restecg</th>\n",
       "      <th>thalach</th>\n",
       "      <th>exang</th>\n",
       "      <th>oldpeak</th>\n",
       "      <th>slope</th>\n",
       "      <th>ca</th>\n",
       "      <th>thal</th>\n",
       "      <th>target</th>\n",
       "    </tr>\n",
       "  </thead>\n",
       "  <tbody>\n",
       "    <tr>\n",
       "      <th>0</th>\n",
       "      <td>63</td>\n",
       "      <td>1</td>\n",
       "      <td>3</td>\n",
       "      <td>145</td>\n",
       "      <td>233</td>\n",
       "      <td>1</td>\n",
       "      <td>0</td>\n",
       "      <td>150</td>\n",
       "      <td>0</td>\n",
       "      <td>2.3</td>\n",
       "      <td>0</td>\n",
       "      <td>0</td>\n",
       "      <td>1</td>\n",
       "      <td>1</td>\n",
       "    </tr>\n",
       "    <tr>\n",
       "      <th>1</th>\n",
       "      <td>37</td>\n",
       "      <td>1</td>\n",
       "      <td>2</td>\n",
       "      <td>130</td>\n",
       "      <td>250</td>\n",
       "      <td>0</td>\n",
       "      <td>1</td>\n",
       "      <td>187</td>\n",
       "      <td>0</td>\n",
       "      <td>3.5</td>\n",
       "      <td>0</td>\n",
       "      <td>0</td>\n",
       "      <td>2</td>\n",
       "      <td>1</td>\n",
       "    </tr>\n",
       "    <tr>\n",
       "      <th>2</th>\n",
       "      <td>41</td>\n",
       "      <td>0</td>\n",
       "      <td>1</td>\n",
       "      <td>130</td>\n",
       "      <td>204</td>\n",
       "      <td>0</td>\n",
       "      <td>0</td>\n",
       "      <td>172</td>\n",
       "      <td>0</td>\n",
       "      <td>1.4</td>\n",
       "      <td>2</td>\n",
       "      <td>0</td>\n",
       "      <td>2</td>\n",
       "      <td>1</td>\n",
       "    </tr>\n",
       "    <tr>\n",
       "      <th>3</th>\n",
       "      <td>56</td>\n",
       "      <td>1</td>\n",
       "      <td>1</td>\n",
       "      <td>120</td>\n",
       "      <td>236</td>\n",
       "      <td>0</td>\n",
       "      <td>1</td>\n",
       "      <td>178</td>\n",
       "      <td>0</td>\n",
       "      <td>0.8</td>\n",
       "      <td>2</td>\n",
       "      <td>0</td>\n",
       "      <td>2</td>\n",
       "      <td>1</td>\n",
       "    </tr>\n",
       "    <tr>\n",
       "      <th>4</th>\n",
       "      <td>57</td>\n",
       "      <td>0</td>\n",
       "      <td>0</td>\n",
       "      <td>120</td>\n",
       "      <td>354</td>\n",
       "      <td>0</td>\n",
       "      <td>1</td>\n",
       "      <td>163</td>\n",
       "      <td>1</td>\n",
       "      <td>0.6</td>\n",
       "      <td>2</td>\n",
       "      <td>0</td>\n",
       "      <td>2</td>\n",
       "      <td>1</td>\n",
       "    </tr>\n",
       "  </tbody>\n",
       "</table>\n",
       "</div>"
      ],
      "text/plain": [
       "   age  sex  cp  trestbps  chol  fbs  restecg  thalach  exang  oldpeak  slope  \\\n",
       "0   63    1   3       145   233    1        0      150      0      2.3      0   \n",
       "1   37    1   2       130   250    0        1      187      0      3.5      0   \n",
       "2   41    0   1       130   204    0        0      172      0      1.4      2   \n",
       "3   56    1   1       120   236    0        1      178      0      0.8      2   \n",
       "4   57    0   0       120   354    0        1      163      1      0.6      2   \n",
       "\n",
       "   ca  thal  target  \n",
       "0   0     1       1  \n",
       "1   0     2       1  \n",
       "2   0     2       1  \n",
       "3   0     2       1  \n",
       "4   0     2       1  "
      ]
     },
     "execution_count": 145,
     "metadata": {},
     "output_type": "execute_result"
    }
   ],
   "source": [
    "# show the data \n",
    "heart_disease.head()"
   ]
  },
  {
   "cell_type": "code",
   "execution_count": 146,
   "metadata": {},
   "outputs": [
    {
     "data": {
      "text/plain": [
       "(212, 257)"
      ]
     },
     "execution_count": 146,
     "metadata": {},
     "output_type": "execute_result"
    }
   ],
   "source": [
    "# import RandomForestClassifier\n",
    "from sklearn.ensemble import RandomForestClassifier\n",
    "\n",
    "# setup random seed\n",
    "np.random.seed(80)\n",
    "\n",
    "# shuffle the data\n",
    "heart_disease_shuffled = heart_disease.sample(frac=1)\n",
    "\n",
    "# split to x, y\n",
    "x = heart_disease_shuffled.drop('target', axis=1)\n",
    "y = heart_disease_shuffled['target']\n",
    "\n",
    "# split to train, test, validation\n",
    "train_split = round(0.7 * len(heart_disease_shuffled)) # 70% of data\n",
    "valid_split = round(train_split + 0.15 * len(heart_disease_shuffled)) # 15% of data\n",
    "train_split, valid_split"
   ]
  },
  {
   "cell_type": "code",
   "execution_count": 147,
   "metadata": {},
   "outputs": [
    {
     "data": {
      "text/plain": [
       "(212, 45, 46)"
      ]
     },
     "execution_count": 147,
     "metadata": {},
     "output_type": "execute_result"
    }
   ],
   "source": [
    "# split data to train, valid, test\n",
    "x_train, y_train = x[:train_split], y[:train_split]\n",
    "x_valid, y_valid = x[train_split: valid_split], y[train_split: valid_split]\n",
    "x_test, y_test = x[valid_split:], y[valid_split]\n",
    "\n",
    "# length of data sets\n",
    "len (x_train), len(x_valid), len(x_test)"
   ]
  },
  {
   "cell_type": "code",
   "execution_count": 148,
   "metadata": {},
   "outputs": [
    {
     "data": {
      "text/plain": [
       "{'bootstrap': True,\n",
       " 'ccp_alpha': 0.0,\n",
       " 'class_weight': None,\n",
       " 'criterion': 'gini',\n",
       " 'max_depth': None,\n",
       " 'max_features': 'auto',\n",
       " 'max_leaf_nodes': None,\n",
       " 'max_samples': None,\n",
       " 'min_impurity_decrease': 0.0,\n",
       " 'min_impurity_split': None,\n",
       " 'min_samples_leaf': 1,\n",
       " 'min_samples_split': 2,\n",
       " 'min_weight_fraction_leaf': 0.0,\n",
       " 'n_estimators': 100,\n",
       " 'n_jobs': None,\n",
       " 'oob_score': False,\n",
       " 'random_state': None,\n",
       " 'verbose': 0,\n",
       " 'warm_start': False}"
      ]
     },
     "execution_count": 148,
     "metadata": {},
     "output_type": "execute_result"
    }
   ],
   "source": [
    "# Instantiate the model \n",
    "model = RandomForestClassifier()\n",
    "model.get_params()"
   ]
  },
  {
   "cell_type": "code",
   "execution_count": 149,
   "metadata": {},
   "outputs": [
    {
     "data": {
      "text/plain": [
       "{'accuracy': 0.73, 'precision': 0.78, 'recall': 0.72, 'f1': 0.75}"
      ]
     },
     "execution_count": 149,
     "metadata": {},
     "output_type": "execute_result"
    }
   ],
   "source": [
    "# train the model \n",
    "model.fit(x_train, y_train)\n",
    "\n",
    "# make baseline predictions\n",
    "y_preds = model.predict(x_valid)\n",
    "\n",
    "# evaluate the classifier on validation set\n",
    "class_metrics = evaluate_preds(y_valid, y_preds)\n",
    "class_metrics"
   ]
  },
  {
   "cell_type": "code",
   "execution_count": 150,
   "metadata": {},
   "outputs": [
    {
     "data": {
      "text/plain": [
       "{'accuracy': 0.73, 'precision': 0.78, 'recall': 0.72, 'f1': 0.75}"
      ]
     },
     "execution_count": 150,
     "metadata": {},
     "output_type": "execute_result"
    }
   ],
   "source": [
    "# create a second classifier with different hyperparameter\n",
    "model_2 = RandomForestClassifier(n_estimators=1000)\n",
    "\n",
    "# fit the data to the model\n",
    "model_2.fit(x_train, y_train)\n",
    "\n",
    "# make predictions\n",
    "y_preds_2 = model_2.predict(x_valid)\n",
    "\n",
    "# evaluate the 2nd classifier on validation set\n",
    "class_metrics_2 = evaluate_preds(y_valid, y_preds_2)\n",
    "class_metrics_2"
   ]
  },
  {
   "cell_type": "code",
   "execution_count": 151,
   "metadata": {},
   "outputs": [
    {
     "data": {
      "text/plain": [
       "{'accuracy': 0.76, 'precision': 0.79, 'recall': 0.76, 'f1': 0.78}"
      ]
     },
     "execution_count": 151,
     "metadata": {},
     "output_type": "execute_result"
    }
   ],
   "source": [
    "# model 3\n",
    "model_3 = RandomForestClassifier(max_depth=10)\n",
    "\n",
    "# fit the data to the model\n",
    "model_3.fit(x_train, y_train)\n",
    "\n",
    "# make some predictions\n",
    "y_preds_3 = model_3.predict(x_valid)\n",
    "\n",
    "# evaluate the 3rd model\n",
    "class_metrics_3 = evaluate_preds(y_valid, y_preds_3)\n",
    "class_metrics_3"
   ]
  },
  {
   "cell_type": "markdown",
   "metadata": {},
   "source": [
    "### 5.2 Hyperparameter tuning with RandomizedSearchCV"
   ]
  },
  {
   "cell_type": "code",
   "execution_count": 165,
   "metadata": {},
   "outputs": [
    {
     "name": "stdout",
     "output_type": "stream",
     "text": [
      "Fitting 5 folds for each of 10 candidates, totalling 50 fits\n",
      "[CV] n_estimators=500, min_samples_split=2, min_samples_leaf=1, max_features=auto, max_depth=20 \n"
     ]
    },
    {
     "name": "stderr",
     "output_type": "stream",
     "text": [
      "[Parallel(n_jobs=1)]: Using backend SequentialBackend with 1 concurrent workers.\n"
     ]
    },
    {
     "name": "stdout",
     "output_type": "stream",
     "text": [
      "[CV]  n_estimators=500, min_samples_split=2, min_samples_leaf=1, max_features=auto, max_depth=20, total=   1.0s\n",
      "[CV] n_estimators=500, min_samples_split=2, min_samples_leaf=1, max_features=auto, max_depth=20 \n"
     ]
    },
    {
     "name": "stderr",
     "output_type": "stream",
     "text": [
      "[Parallel(n_jobs=1)]: Done   1 out of   1 | elapsed:    1.0s remaining:    0.0s\n"
     ]
    },
    {
     "name": "stdout",
     "output_type": "stream",
     "text": [
      "[CV]  n_estimators=500, min_samples_split=2, min_samples_leaf=1, max_features=auto, max_depth=20, total=   1.0s\n",
      "[CV] n_estimators=500, min_samples_split=2, min_samples_leaf=1, max_features=auto, max_depth=20 \n",
      "[CV]  n_estimators=500, min_samples_split=2, min_samples_leaf=1, max_features=auto, max_depth=20, total=   1.0s\n",
      "[CV] n_estimators=500, min_samples_split=2, min_samples_leaf=1, max_features=auto, max_depth=20 \n",
      "[CV]  n_estimators=500, min_samples_split=2, min_samples_leaf=1, max_features=auto, max_depth=20, total=   0.9s\n",
      "[CV] n_estimators=500, min_samples_split=2, min_samples_leaf=1, max_features=auto, max_depth=20 \n",
      "[CV]  n_estimators=500, min_samples_split=2, min_samples_leaf=1, max_features=auto, max_depth=20, total=   0.9s\n",
      "[CV] n_estimators=10, min_samples_split=2, min_samples_leaf=4, max_features=sqrt, max_depth=20 \n",
      "[CV]  n_estimators=10, min_samples_split=2, min_samples_leaf=4, max_features=sqrt, max_depth=20, total=   0.0s\n",
      "[CV] n_estimators=10, min_samples_split=2, min_samples_leaf=4, max_features=sqrt, max_depth=20 \n",
      "[CV]  n_estimators=10, min_samples_split=2, min_samples_leaf=4, max_features=sqrt, max_depth=20, total=   0.0s\n",
      "[CV] n_estimators=10, min_samples_split=2, min_samples_leaf=4, max_features=sqrt, max_depth=20 \n",
      "[CV]  n_estimators=10, min_samples_split=2, min_samples_leaf=4, max_features=sqrt, max_depth=20, total=   0.0s\n",
      "[CV] n_estimators=10, min_samples_split=2, min_samples_leaf=4, max_features=sqrt, max_depth=20 \n",
      "[CV]  n_estimators=10, min_samples_split=2, min_samples_leaf=4, max_features=sqrt, max_depth=20, total=   0.0s\n",
      "[CV] n_estimators=10, min_samples_split=2, min_samples_leaf=4, max_features=sqrt, max_depth=20 \n",
      "[CV]  n_estimators=10, min_samples_split=2, min_samples_leaf=4, max_features=sqrt, max_depth=20, total=   0.0s\n",
      "[CV] n_estimators=1000, min_samples_split=4, min_samples_leaf=4, max_features=sqrt, max_depth=5 \n",
      "[CV]  n_estimators=1000, min_samples_split=4, min_samples_leaf=4, max_features=sqrt, max_depth=5, total=   1.8s\n",
      "[CV] n_estimators=1000, min_samples_split=4, min_samples_leaf=4, max_features=sqrt, max_depth=5 \n",
      "[CV]  n_estimators=1000, min_samples_split=4, min_samples_leaf=4, max_features=sqrt, max_depth=5, total=   1.8s\n",
      "[CV] n_estimators=1000, min_samples_split=4, min_samples_leaf=4, max_features=sqrt, max_depth=5 \n",
      "[CV]  n_estimators=1000, min_samples_split=4, min_samples_leaf=4, max_features=sqrt, max_depth=5, total=   1.9s\n",
      "[CV] n_estimators=1000, min_samples_split=4, min_samples_leaf=4, max_features=sqrt, max_depth=5 \n",
      "[CV]  n_estimators=1000, min_samples_split=4, min_samples_leaf=4, max_features=sqrt, max_depth=5, total=   1.8s\n",
      "[CV] n_estimators=1000, min_samples_split=4, min_samples_leaf=4, max_features=sqrt, max_depth=5 \n",
      "[CV]  n_estimators=1000, min_samples_split=4, min_samples_leaf=4, max_features=sqrt, max_depth=5, total=   1.9s\n",
      "[CV] n_estimators=200, min_samples_split=2, min_samples_leaf=4, max_features=auto, max_depth=5 \n",
      "[CV]  n_estimators=200, min_samples_split=2, min_samples_leaf=4, max_features=auto, max_depth=5, total=   0.4s\n",
      "[CV] n_estimators=200, min_samples_split=2, min_samples_leaf=4, max_features=auto, max_depth=5 \n",
      "[CV]  n_estimators=200, min_samples_split=2, min_samples_leaf=4, max_features=auto, max_depth=5, total=   0.4s\n",
      "[CV] n_estimators=200, min_samples_split=2, min_samples_leaf=4, max_features=auto, max_depth=5 \n",
      "[CV]  n_estimators=200, min_samples_split=2, min_samples_leaf=4, max_features=auto, max_depth=5, total=   0.4s\n",
      "[CV] n_estimators=200, min_samples_split=2, min_samples_leaf=4, max_features=auto, max_depth=5 \n",
      "[CV]  n_estimators=200, min_samples_split=2, min_samples_leaf=4, max_features=auto, max_depth=5, total=   0.4s\n",
      "[CV] n_estimators=200, min_samples_split=2, min_samples_leaf=4, max_features=auto, max_depth=5 \n",
      "[CV]  n_estimators=200, min_samples_split=2, min_samples_leaf=4, max_features=auto, max_depth=5, total=   0.4s\n",
      "[CV] n_estimators=100, min_samples_split=4, min_samples_leaf=2, max_features=sqrt, max_depth=10 \n",
      "[CV]  n_estimators=100, min_samples_split=4, min_samples_leaf=2, max_features=sqrt, max_depth=10, total=   0.2s\n",
      "[CV] n_estimators=100, min_samples_split=4, min_samples_leaf=2, max_features=sqrt, max_depth=10 \n",
      "[CV]  n_estimators=100, min_samples_split=4, min_samples_leaf=2, max_features=sqrt, max_depth=10, total=   0.2s\n",
      "[CV] n_estimators=100, min_samples_split=4, min_samples_leaf=2, max_features=sqrt, max_depth=10 \n",
      "[CV]  n_estimators=100, min_samples_split=4, min_samples_leaf=2, max_features=sqrt, max_depth=10, total=   0.2s\n",
      "[CV] n_estimators=100, min_samples_split=4, min_samples_leaf=2, max_features=sqrt, max_depth=10 \n",
      "[CV]  n_estimators=100, min_samples_split=4, min_samples_leaf=2, max_features=sqrt, max_depth=10, total=   0.2s\n",
      "[CV] n_estimators=100, min_samples_split=4, min_samples_leaf=2, max_features=sqrt, max_depth=10 \n",
      "[CV]  n_estimators=100, min_samples_split=4, min_samples_leaf=2, max_features=sqrt, max_depth=10, total=   0.2s\n",
      "[CV] n_estimators=10, min_samples_split=4, min_samples_leaf=4, max_features=sqrt, max_depth=10 \n",
      "[CV]  n_estimators=10, min_samples_split=4, min_samples_leaf=4, max_features=sqrt, max_depth=10, total=   0.0s\n",
      "[CV] n_estimators=10, min_samples_split=4, min_samples_leaf=4, max_features=sqrt, max_depth=10 \n",
      "[CV]  n_estimators=10, min_samples_split=4, min_samples_leaf=4, max_features=sqrt, max_depth=10, total=   0.0s\n",
      "[CV] n_estimators=10, min_samples_split=4, min_samples_leaf=4, max_features=sqrt, max_depth=10 \n",
      "[CV]  n_estimators=10, min_samples_split=4, min_samples_leaf=4, max_features=sqrt, max_depth=10, total=   0.0s\n",
      "[CV] n_estimators=10, min_samples_split=4, min_samples_leaf=4, max_features=sqrt, max_depth=10 \n",
      "[CV]  n_estimators=10, min_samples_split=4, min_samples_leaf=4, max_features=sqrt, max_depth=10, total=   0.0s\n",
      "[CV] n_estimators=10, min_samples_split=4, min_samples_leaf=4, max_features=sqrt, max_depth=10 \n",
      "[CV]  n_estimators=10, min_samples_split=4, min_samples_leaf=4, max_features=sqrt, max_depth=10, total=   0.0s\n",
      "[CV] n_estimators=1000, min_samples_split=4, min_samples_leaf=2, max_features=auto, max_depth=10 \n",
      "[CV]  n_estimators=1000, min_samples_split=4, min_samples_leaf=2, max_features=auto, max_depth=10, total=   2.1s\n",
      "[CV] n_estimators=1000, min_samples_split=4, min_samples_leaf=2, max_features=auto, max_depth=10 \n",
      "[CV]  n_estimators=1000, min_samples_split=4, min_samples_leaf=2, max_features=auto, max_depth=10, total=   2.0s\n",
      "[CV] n_estimators=1000, min_samples_split=4, min_samples_leaf=2, max_features=auto, max_depth=10 \n",
      "[CV]  n_estimators=1000, min_samples_split=4, min_samples_leaf=2, max_features=auto, max_depth=10, total=   1.8s\n",
      "[CV] n_estimators=1000, min_samples_split=4, min_samples_leaf=2, max_features=auto, max_depth=10 \n",
      "[CV]  n_estimators=1000, min_samples_split=4, min_samples_leaf=2, max_features=auto, max_depth=10, total=   1.9s\n",
      "[CV] n_estimators=1000, min_samples_split=4, min_samples_leaf=2, max_features=auto, max_depth=10 \n",
      "[CV]  n_estimators=1000, min_samples_split=4, min_samples_leaf=2, max_features=auto, max_depth=10, total=   2.0s\n",
      "[CV] n_estimators=1000, min_samples_split=6, min_samples_leaf=1, max_features=sqrt, max_depth=20 \n",
      "[CV]  n_estimators=1000, min_samples_split=6, min_samples_leaf=1, max_features=sqrt, max_depth=20, total=   1.9s\n",
      "[CV] n_estimators=1000, min_samples_split=6, min_samples_leaf=1, max_features=sqrt, max_depth=20 \n",
      "[CV]  n_estimators=1000, min_samples_split=6, min_samples_leaf=1, max_features=sqrt, max_depth=20, total=   1.9s\n",
      "[CV] n_estimators=1000, min_samples_split=6, min_samples_leaf=1, max_features=sqrt, max_depth=20 \n",
      "[CV]  n_estimators=1000, min_samples_split=6, min_samples_leaf=1, max_features=sqrt, max_depth=20, total=   1.9s\n",
      "[CV] n_estimators=1000, min_samples_split=6, min_samples_leaf=1, max_features=sqrt, max_depth=20 \n",
      "[CV]  n_estimators=1000, min_samples_split=6, min_samples_leaf=1, max_features=sqrt, max_depth=20, total=   2.0s\n",
      "[CV] n_estimators=1000, min_samples_split=6, min_samples_leaf=1, max_features=sqrt, max_depth=20 \n",
      "[CV]  n_estimators=1000, min_samples_split=6, min_samples_leaf=1, max_features=sqrt, max_depth=20, total=   1.8s\n",
      "[CV] n_estimators=1000, min_samples_split=2, min_samples_leaf=2, max_features=auto, max_depth=None \n",
      "[CV]  n_estimators=1000, min_samples_split=2, min_samples_leaf=2, max_features=auto, max_depth=None, total=   2.0s\n",
      "[CV] n_estimators=1000, min_samples_split=2, min_samples_leaf=2, max_features=auto, max_depth=None \n"
     ]
    },
    {
     "name": "stdout",
     "output_type": "stream",
     "text": [
      "[CV]  n_estimators=1000, min_samples_split=2, min_samples_leaf=2, max_features=auto, max_depth=None, total=   1.8s\n",
      "[CV] n_estimators=1000, min_samples_split=2, min_samples_leaf=2, max_features=auto, max_depth=None \n",
      "[CV]  n_estimators=1000, min_samples_split=2, min_samples_leaf=2, max_features=auto, max_depth=None, total=   1.8s\n",
      "[CV] n_estimators=1000, min_samples_split=2, min_samples_leaf=2, max_features=auto, max_depth=None \n",
      "[CV]  n_estimators=1000, min_samples_split=2, min_samples_leaf=2, max_features=auto, max_depth=None, total=   1.9s\n",
      "[CV] n_estimators=1000, min_samples_split=2, min_samples_leaf=2, max_features=auto, max_depth=None \n",
      "[CV]  n_estimators=1000, min_samples_split=2, min_samples_leaf=2, max_features=auto, max_depth=None, total=   1.9s\n",
      "[CV] n_estimators=1200, min_samples_split=2, min_samples_leaf=1, max_features=auto, max_depth=None \n",
      "[CV]  n_estimators=1200, min_samples_split=2, min_samples_leaf=1, max_features=auto, max_depth=None, total=   2.2s\n",
      "[CV] n_estimators=1200, min_samples_split=2, min_samples_leaf=1, max_features=auto, max_depth=None \n",
      "[CV]  n_estimators=1200, min_samples_split=2, min_samples_leaf=1, max_features=auto, max_depth=None, total=   2.2s\n",
      "[CV] n_estimators=1200, min_samples_split=2, min_samples_leaf=1, max_features=auto, max_depth=None \n",
      "[CV]  n_estimators=1200, min_samples_split=2, min_samples_leaf=1, max_features=auto, max_depth=None, total=   2.2s\n",
      "[CV] n_estimators=1200, min_samples_split=2, min_samples_leaf=1, max_features=auto, max_depth=None \n",
      "[CV]  n_estimators=1200, min_samples_split=2, min_samples_leaf=1, max_features=auto, max_depth=None, total=   2.2s\n",
      "[CV] n_estimators=1200, min_samples_split=2, min_samples_leaf=1, max_features=auto, max_depth=None \n",
      "[CV]  n_estimators=1200, min_samples_split=2, min_samples_leaf=1, max_features=auto, max_depth=None, total=   2.3s\n"
     ]
    },
    {
     "name": "stderr",
     "output_type": "stream",
     "text": [
      "[Parallel(n_jobs=1)]: Done  50 out of  50 | elapsed:   57.3s finished\n"
     ]
    }
   ],
   "source": [
    "# import RandomizedSearchCV\n",
    "from sklearn.model_selection import RandomizedSearchCV\n",
    "\n",
    "grid = {\"n_estimators\": [10, 100, 200, 500, 1000, 1200],\n",
    "        \"max_depth\": [None, 5, 10, 20, 30],\n",
    "        \"max_features\": [\"auto\", \"sqrt\"],\n",
    "        \"min_samples_split\": [2, 4, 6],\n",
    "        \"min_samples_leaf\": [1, 2, 4]}\n",
    "\n",
    "\n",
    "# setup random seed\n",
    "np.random.seed(80)\n",
    "\n",
    "# split to x, y\n",
    "x = heart_disease_shuffled.drop('target', axis=1)\n",
    "y = heart_disease_shuffled['target']\n",
    "\n",
    "# split to train, test\n",
    "x_train, x_test, y_train, y_test = train_test_split(x, y, test_size=0.2)\n",
    "\n",
    "# Instantiate the model\n",
    "model = RandomForestClassifier(n_jobs=1)\n",
    "\n",
    "# Setup RandomizedSearchCV         n_inters ==> number of try\n",
    "rs_model = RandomizedSearchCV(estimator=model, param_distributions=grid, n_iter=10\n",
    "                             ,cv=5, verbose=2)\n",
    "\n",
    "# fit the randomized search cv on the model\n",
    "rs_model.fit(x_train, y_train);"
   ]
  },
  {
   "cell_type": "code",
   "execution_count": 166,
   "metadata": {},
   "outputs": [
    {
     "data": {
      "text/plain": [
       "{'n_estimators': 1000,\n",
       " 'min_samples_split': 4,\n",
       " 'min_samples_leaf': 4,\n",
       " 'max_features': 'sqrt',\n",
       " 'max_depth': 5}"
      ]
     },
     "execution_count": 166,
     "metadata": {},
     "output_type": "execute_result"
    }
   ],
   "source": [
    "# best result\n",
    "rs_model.best_params_"
   ]
  },
  {
   "cell_type": "code",
   "execution_count": 168,
   "metadata": {},
   "outputs": [
    {
     "data": {
      "text/plain": [
       "{'accuracy': 0.84, 'precision': 0.77, 'recall': 0.93, 'f1': 0.84}"
      ]
     },
     "execution_count": 168,
     "metadata": {},
     "output_type": "execute_result"
    }
   ],
   "source": [
    "# make predictions with the best hyperparameters\n",
    "rs_y_preds = rs_model.predict(x_test)\n",
    "\n",
    "# evaluate the predictions\n",
    "rs_metrics = evaluate_preds(y_test, rs_y_preds)\n",
    "\n",
    "rs_metrics"
   ]
  },
  {
   "cell_type": "markdown",
   "metadata": {},
   "source": [
    "### 5.3 Hyperparameter tunning with GridSearchCV"
   ]
  },
  {
   "cell_type": "code",
   "execution_count": 169,
   "metadata": {},
   "outputs": [
    {
     "name": "stdout",
     "output_type": "stream",
     "text": [
      "Fitting 5 folds for each of 48 candidates, totalling 240 fits\n",
      "[CV] max_depth=None, max_features=auto, min_samples_leaf=5, min_samples_split=2, n_estimators=10 \n",
      "[CV]  max_depth=None, max_features=auto, min_samples_leaf=5, min_samples_split=2, n_estimators=10, total=   0.0s\n",
      "[CV] max_depth=None, max_features=auto, min_samples_leaf=5, min_samples_split=2, n_estimators=10 \n",
      "[CV]  max_depth=None, max_features=auto, min_samples_leaf=5, min_samples_split=2, n_estimators=10, total=   0.0s\n",
      "[CV] max_depth=None, max_features=auto, min_samples_leaf=5, min_samples_split=2, n_estimators=10 \n",
      "[CV]  max_depth=None, max_features=auto, min_samples_leaf=5, min_samples_split=2, n_estimators=10, total=   0.0s\n",
      "[CV] max_depth=None, max_features=auto, min_samples_leaf=5, min_samples_split=2, n_estimators=10 \n",
      "[CV]  max_depth=None, max_features=auto, min_samples_leaf=5, min_samples_split=2, n_estimators=10, total=   0.0s\n",
      "[CV] max_depth=None, max_features=auto, min_samples_leaf=5, min_samples_split=2, n_estimators=10 \n",
      "[CV]  max_depth=None, max_features=auto, min_samples_leaf=5, min_samples_split=2, n_estimators=10, total=   0.0s\n",
      "[CV] max_depth=None, max_features=auto, min_samples_leaf=5, min_samples_split=2, n_estimators=100 \n"
     ]
    },
    {
     "name": "stderr",
     "output_type": "stream",
     "text": [
      "[Parallel(n_jobs=1)]: Using backend SequentialBackend with 1 concurrent workers.\n",
      "[Parallel(n_jobs=1)]: Done   1 out of   1 | elapsed:    0.0s remaining:    0.0s\n"
     ]
    },
    {
     "name": "stdout",
     "output_type": "stream",
     "text": [
      "[CV]  max_depth=None, max_features=auto, min_samples_leaf=5, min_samples_split=2, n_estimators=100, total=   0.2s\n",
      "[CV] max_depth=None, max_features=auto, min_samples_leaf=5, min_samples_split=2, n_estimators=100 \n",
      "[CV]  max_depth=None, max_features=auto, min_samples_leaf=5, min_samples_split=2, n_estimators=100, total=   0.2s\n",
      "[CV] max_depth=None, max_features=auto, min_samples_leaf=5, min_samples_split=2, n_estimators=100 \n",
      "[CV]  max_depth=None, max_features=auto, min_samples_leaf=5, min_samples_split=2, n_estimators=100, total=   0.2s\n",
      "[CV] max_depth=None, max_features=auto, min_samples_leaf=5, min_samples_split=2, n_estimators=100 \n",
      "[CV]  max_depth=None, max_features=auto, min_samples_leaf=5, min_samples_split=2, n_estimators=100, total=   0.2s\n",
      "[CV] max_depth=None, max_features=auto, min_samples_leaf=5, min_samples_split=2, n_estimators=100 \n",
      "[CV]  max_depth=None, max_features=auto, min_samples_leaf=5, min_samples_split=2, n_estimators=100, total=   0.2s\n",
      "[CV] max_depth=None, max_features=auto, min_samples_leaf=5, min_samples_split=2, n_estimators=200 \n",
      "[CV]  max_depth=None, max_features=auto, min_samples_leaf=5, min_samples_split=2, n_estimators=200, total=   0.4s\n",
      "[CV] max_depth=None, max_features=auto, min_samples_leaf=5, min_samples_split=2, n_estimators=200 \n",
      "[CV]  max_depth=None, max_features=auto, min_samples_leaf=5, min_samples_split=2, n_estimators=200, total=   0.4s\n",
      "[CV] max_depth=None, max_features=auto, min_samples_leaf=5, min_samples_split=2, n_estimators=200 \n",
      "[CV]  max_depth=None, max_features=auto, min_samples_leaf=5, min_samples_split=2, n_estimators=200, total=   0.4s\n",
      "[CV] max_depth=None, max_features=auto, min_samples_leaf=5, min_samples_split=2, n_estimators=200 \n",
      "[CV]  max_depth=None, max_features=auto, min_samples_leaf=5, min_samples_split=2, n_estimators=200, total=   0.4s\n",
      "[CV] max_depth=None, max_features=auto, min_samples_leaf=5, min_samples_split=2, n_estimators=200 \n",
      "[CV]  max_depth=None, max_features=auto, min_samples_leaf=5, min_samples_split=2, n_estimators=200, total=   0.4s\n",
      "[CV] max_depth=None, max_features=auto, min_samples_leaf=5, min_samples_split=2, n_estimators=1000 \n",
      "[CV]  max_depth=None, max_features=auto, min_samples_leaf=5, min_samples_split=2, n_estimators=1000, total=   1.9s\n",
      "[CV] max_depth=None, max_features=auto, min_samples_leaf=5, min_samples_split=2, n_estimators=1000 \n",
      "[CV]  max_depth=None, max_features=auto, min_samples_leaf=5, min_samples_split=2, n_estimators=1000, total=   1.9s\n",
      "[CV] max_depth=None, max_features=auto, min_samples_leaf=5, min_samples_split=2, n_estimators=1000 \n",
      "[CV]  max_depth=None, max_features=auto, min_samples_leaf=5, min_samples_split=2, n_estimators=1000, total=   1.9s\n",
      "[CV] max_depth=None, max_features=auto, min_samples_leaf=5, min_samples_split=2, n_estimators=1000 \n",
      "[CV]  max_depth=None, max_features=auto, min_samples_leaf=5, min_samples_split=2, n_estimators=1000, total=   2.0s\n",
      "[CV] max_depth=None, max_features=auto, min_samples_leaf=5, min_samples_split=2, n_estimators=1000 \n",
      "[CV]  max_depth=None, max_features=auto, min_samples_leaf=5, min_samples_split=2, n_estimators=1000, total=   2.0s\n",
      "[CV] max_depth=None, max_features=auto, min_samples_leaf=5, min_samples_split=4, n_estimators=10 \n",
      "[CV]  max_depth=None, max_features=auto, min_samples_leaf=5, min_samples_split=4, n_estimators=10, total=   0.0s\n",
      "[CV] max_depth=None, max_features=auto, min_samples_leaf=5, min_samples_split=4, n_estimators=10 \n",
      "[CV]  max_depth=None, max_features=auto, min_samples_leaf=5, min_samples_split=4, n_estimators=10, total=   0.0s\n",
      "[CV] max_depth=None, max_features=auto, min_samples_leaf=5, min_samples_split=4, n_estimators=10 \n",
      "[CV]  max_depth=None, max_features=auto, min_samples_leaf=5, min_samples_split=4, n_estimators=10, total=   0.0s\n",
      "[CV] max_depth=None, max_features=auto, min_samples_leaf=5, min_samples_split=4, n_estimators=10 \n",
      "[CV]  max_depth=None, max_features=auto, min_samples_leaf=5, min_samples_split=4, n_estimators=10, total=   0.0s\n",
      "[CV] max_depth=None, max_features=auto, min_samples_leaf=5, min_samples_split=4, n_estimators=10 \n",
      "[CV]  max_depth=None, max_features=auto, min_samples_leaf=5, min_samples_split=4, n_estimators=10, total=   0.0s\n",
      "[CV] max_depth=None, max_features=auto, min_samples_leaf=5, min_samples_split=4, n_estimators=100 \n",
      "[CV]  max_depth=None, max_features=auto, min_samples_leaf=5, min_samples_split=4, n_estimators=100, total=   0.3s\n",
      "[CV] max_depth=None, max_features=auto, min_samples_leaf=5, min_samples_split=4, n_estimators=100 \n",
      "[CV]  max_depth=None, max_features=auto, min_samples_leaf=5, min_samples_split=4, n_estimators=100, total=   0.2s\n",
      "[CV] max_depth=None, max_features=auto, min_samples_leaf=5, min_samples_split=4, n_estimators=100 \n",
      "[CV]  max_depth=None, max_features=auto, min_samples_leaf=5, min_samples_split=4, n_estimators=100, total=   0.3s\n",
      "[CV] max_depth=None, max_features=auto, min_samples_leaf=5, min_samples_split=4, n_estimators=100 \n",
      "[CV]  max_depth=None, max_features=auto, min_samples_leaf=5, min_samples_split=4, n_estimators=100, total=   0.2s\n",
      "[CV] max_depth=None, max_features=auto, min_samples_leaf=5, min_samples_split=4, n_estimators=100 \n",
      "[CV]  max_depth=None, max_features=auto, min_samples_leaf=5, min_samples_split=4, n_estimators=100, total=   0.2s\n",
      "[CV] max_depth=None, max_features=auto, min_samples_leaf=5, min_samples_split=4, n_estimators=200 \n",
      "[CV]  max_depth=None, max_features=auto, min_samples_leaf=5, min_samples_split=4, n_estimators=200, total=   0.4s\n",
      "[CV] max_depth=None, max_features=auto, min_samples_leaf=5, min_samples_split=4, n_estimators=200 \n",
      "[CV]  max_depth=None, max_features=auto, min_samples_leaf=5, min_samples_split=4, n_estimators=200, total=   0.4s\n",
      "[CV] max_depth=None, max_features=auto, min_samples_leaf=5, min_samples_split=4, n_estimators=200 \n",
      "[CV]  max_depth=None, max_features=auto, min_samples_leaf=5, min_samples_split=4, n_estimators=200, total=   0.4s\n",
      "[CV] max_depth=None, max_features=auto, min_samples_leaf=5, min_samples_split=4, n_estimators=200 \n",
      "[CV]  max_depth=None, max_features=auto, min_samples_leaf=5, min_samples_split=4, n_estimators=200, total=   0.5s\n",
      "[CV] max_depth=None, max_features=auto, min_samples_leaf=5, min_samples_split=4, n_estimators=200 \n",
      "[CV]  max_depth=None, max_features=auto, min_samples_leaf=5, min_samples_split=4, n_estimators=200, total=   0.4s\n",
      "[CV] max_depth=None, max_features=auto, min_samples_leaf=5, min_samples_split=4, n_estimators=1000 \n",
      "[CV]  max_depth=None, max_features=auto, min_samples_leaf=5, min_samples_split=4, n_estimators=1000, total=   2.1s\n",
      "[CV] max_depth=None, max_features=auto, min_samples_leaf=5, min_samples_split=4, n_estimators=1000 \n",
      "[CV]  max_depth=None, max_features=auto, min_samples_leaf=5, min_samples_split=4, n_estimators=1000, total=   2.1s\n",
      "[CV] max_depth=None, max_features=auto, min_samples_leaf=5, min_samples_split=4, n_estimators=1000 \n",
      "[CV]  max_depth=None, max_features=auto, min_samples_leaf=5, min_samples_split=4, n_estimators=1000, total=   2.0s\n",
      "[CV] max_depth=None, max_features=auto, min_samples_leaf=5, min_samples_split=4, n_estimators=1000 \n",
      "[CV]  max_depth=None, max_features=auto, min_samples_leaf=5, min_samples_split=4, n_estimators=1000, total=   2.0s\n",
      "[CV] max_depth=None, max_features=auto, min_samples_leaf=5, min_samples_split=4, n_estimators=1000 \n",
      "[CV]  max_depth=None, max_features=auto, min_samples_leaf=5, min_samples_split=4, n_estimators=1000, total=   2.1s\n",
      "[CV] max_depth=None, max_features=sqrt, min_samples_leaf=5, min_samples_split=2, n_estimators=10 \n",
      "[CV]  max_depth=None, max_features=sqrt, min_samples_leaf=5, min_samples_split=2, n_estimators=10, total=   0.0s\n",
      "[CV] max_depth=None, max_features=sqrt, min_samples_leaf=5, min_samples_split=2, n_estimators=10 \n",
      "[CV]  max_depth=None, max_features=sqrt, min_samples_leaf=5, min_samples_split=2, n_estimators=10, total=   0.0s\n",
      "[CV] max_depth=None, max_features=sqrt, min_samples_leaf=5, min_samples_split=2, n_estimators=10 \n",
      "[CV]  max_depth=None, max_features=sqrt, min_samples_leaf=5, min_samples_split=2, n_estimators=10, total=   0.0s\n",
      "[CV] max_depth=None, max_features=sqrt, min_samples_leaf=5, min_samples_split=2, n_estimators=10 \n",
      "[CV]  max_depth=None, max_features=sqrt, min_samples_leaf=5, min_samples_split=2, n_estimators=10, total=   0.0s\n",
      "[CV] max_depth=None, max_features=sqrt, min_samples_leaf=5, min_samples_split=2, n_estimators=10 \n",
      "[CV]  max_depth=None, max_features=sqrt, min_samples_leaf=5, min_samples_split=2, n_estimators=10, total=   0.0s\n",
      "[CV] max_depth=None, max_features=sqrt, min_samples_leaf=5, min_samples_split=2, n_estimators=100 \n"
     ]
    },
    {
     "name": "stdout",
     "output_type": "stream",
     "text": [
      "[CV]  max_depth=None, max_features=sqrt, min_samples_leaf=5, min_samples_split=2, n_estimators=100, total=   0.2s\n",
      "[CV] max_depth=None, max_features=sqrt, min_samples_leaf=5, min_samples_split=2, n_estimators=100 \n",
      "[CV]  max_depth=None, max_features=sqrt, min_samples_leaf=5, min_samples_split=2, n_estimators=100, total=   0.2s\n",
      "[CV] max_depth=None, max_features=sqrt, min_samples_leaf=5, min_samples_split=2, n_estimators=100 \n",
      "[CV]  max_depth=None, max_features=sqrt, min_samples_leaf=5, min_samples_split=2, n_estimators=100, total=   0.2s\n",
      "[CV] max_depth=None, max_features=sqrt, min_samples_leaf=5, min_samples_split=2, n_estimators=100 \n",
      "[CV]  max_depth=None, max_features=sqrt, min_samples_leaf=5, min_samples_split=2, n_estimators=100, total=   0.2s\n",
      "[CV] max_depth=None, max_features=sqrt, min_samples_leaf=5, min_samples_split=2, n_estimators=100 \n",
      "[CV]  max_depth=None, max_features=sqrt, min_samples_leaf=5, min_samples_split=2, n_estimators=100, total=   0.2s\n",
      "[CV] max_depth=None, max_features=sqrt, min_samples_leaf=5, min_samples_split=2, n_estimators=200 \n",
      "[CV]  max_depth=None, max_features=sqrt, min_samples_leaf=5, min_samples_split=2, n_estimators=200, total=   0.4s\n",
      "[CV] max_depth=None, max_features=sqrt, min_samples_leaf=5, min_samples_split=2, n_estimators=200 \n",
      "[CV]  max_depth=None, max_features=sqrt, min_samples_leaf=5, min_samples_split=2, n_estimators=200, total=   0.4s\n",
      "[CV] max_depth=None, max_features=sqrt, min_samples_leaf=5, min_samples_split=2, n_estimators=200 \n",
      "[CV]  max_depth=None, max_features=sqrt, min_samples_leaf=5, min_samples_split=2, n_estimators=200, total=   0.4s\n",
      "[CV] max_depth=None, max_features=sqrt, min_samples_leaf=5, min_samples_split=2, n_estimators=200 \n",
      "[CV]  max_depth=None, max_features=sqrt, min_samples_leaf=5, min_samples_split=2, n_estimators=200, total=   0.4s\n",
      "[CV] max_depth=None, max_features=sqrt, min_samples_leaf=5, min_samples_split=2, n_estimators=200 \n",
      "[CV]  max_depth=None, max_features=sqrt, min_samples_leaf=5, min_samples_split=2, n_estimators=200, total=   0.5s\n",
      "[CV] max_depth=None, max_features=sqrt, min_samples_leaf=5, min_samples_split=2, n_estimators=1000 \n",
      "[CV]  max_depth=None, max_features=sqrt, min_samples_leaf=5, min_samples_split=2, n_estimators=1000, total=   2.1s\n",
      "[CV] max_depth=None, max_features=sqrt, min_samples_leaf=5, min_samples_split=2, n_estimators=1000 \n",
      "[CV]  max_depth=None, max_features=sqrt, min_samples_leaf=5, min_samples_split=2, n_estimators=1000, total=   2.0s\n",
      "[CV] max_depth=None, max_features=sqrt, min_samples_leaf=5, min_samples_split=2, n_estimators=1000 \n",
      "[CV]  max_depth=None, max_features=sqrt, min_samples_leaf=5, min_samples_split=2, n_estimators=1000, total=   2.1s\n",
      "[CV] max_depth=None, max_features=sqrt, min_samples_leaf=5, min_samples_split=2, n_estimators=1000 \n",
      "[CV]  max_depth=None, max_features=sqrt, min_samples_leaf=5, min_samples_split=2, n_estimators=1000, total=   2.1s\n",
      "[CV] max_depth=None, max_features=sqrt, min_samples_leaf=5, min_samples_split=2, n_estimators=1000 \n",
      "[CV]  max_depth=None, max_features=sqrt, min_samples_leaf=5, min_samples_split=2, n_estimators=1000, total=   2.0s\n",
      "[CV] max_depth=None, max_features=sqrt, min_samples_leaf=5, min_samples_split=4, n_estimators=10 \n",
      "[CV]  max_depth=None, max_features=sqrt, min_samples_leaf=5, min_samples_split=4, n_estimators=10, total=   0.0s\n",
      "[CV] max_depth=None, max_features=sqrt, min_samples_leaf=5, min_samples_split=4, n_estimators=10 \n",
      "[CV]  max_depth=None, max_features=sqrt, min_samples_leaf=5, min_samples_split=4, n_estimators=10, total=   0.0s\n",
      "[CV] max_depth=None, max_features=sqrt, min_samples_leaf=5, min_samples_split=4, n_estimators=10 \n",
      "[CV]  max_depth=None, max_features=sqrt, min_samples_leaf=5, min_samples_split=4, n_estimators=10, total=   0.0s\n",
      "[CV] max_depth=None, max_features=sqrt, min_samples_leaf=5, min_samples_split=4, n_estimators=10 \n",
      "[CV]  max_depth=None, max_features=sqrt, min_samples_leaf=5, min_samples_split=4, n_estimators=10, total=   0.0s\n",
      "[CV] max_depth=None, max_features=sqrt, min_samples_leaf=5, min_samples_split=4, n_estimators=10 \n",
      "[CV]  max_depth=None, max_features=sqrt, min_samples_leaf=5, min_samples_split=4, n_estimators=10, total=   0.0s\n",
      "[CV] max_depth=None, max_features=sqrt, min_samples_leaf=5, min_samples_split=4, n_estimators=100 \n",
      "[CV]  max_depth=None, max_features=sqrt, min_samples_leaf=5, min_samples_split=4, n_estimators=100, total=   0.2s\n",
      "[CV] max_depth=None, max_features=sqrt, min_samples_leaf=5, min_samples_split=4, n_estimators=100 \n",
      "[CV]  max_depth=None, max_features=sqrt, min_samples_leaf=5, min_samples_split=4, n_estimators=100, total=   0.2s\n",
      "[CV] max_depth=None, max_features=sqrt, min_samples_leaf=5, min_samples_split=4, n_estimators=100 \n",
      "[CV]  max_depth=None, max_features=sqrt, min_samples_leaf=5, min_samples_split=4, n_estimators=100, total=   0.2s\n",
      "[CV] max_depth=None, max_features=sqrt, min_samples_leaf=5, min_samples_split=4, n_estimators=100 \n",
      "[CV]  max_depth=None, max_features=sqrt, min_samples_leaf=5, min_samples_split=4, n_estimators=100, total=   0.2s\n",
      "[CV] max_depth=None, max_features=sqrt, min_samples_leaf=5, min_samples_split=4, n_estimators=100 \n",
      "[CV]  max_depth=None, max_features=sqrt, min_samples_leaf=5, min_samples_split=4, n_estimators=100, total=   0.2s\n",
      "[CV] max_depth=None, max_features=sqrt, min_samples_leaf=5, min_samples_split=4, n_estimators=200 \n",
      "[CV]  max_depth=None, max_features=sqrt, min_samples_leaf=5, min_samples_split=4, n_estimators=200, total=   0.4s\n",
      "[CV] max_depth=None, max_features=sqrt, min_samples_leaf=5, min_samples_split=4, n_estimators=200 \n",
      "[CV]  max_depth=None, max_features=sqrt, min_samples_leaf=5, min_samples_split=4, n_estimators=200, total=   0.4s\n",
      "[CV] max_depth=None, max_features=sqrt, min_samples_leaf=5, min_samples_split=4, n_estimators=200 \n",
      "[CV]  max_depth=None, max_features=sqrt, min_samples_leaf=5, min_samples_split=4, n_estimators=200, total=   0.4s\n",
      "[CV] max_depth=None, max_features=sqrt, min_samples_leaf=5, min_samples_split=4, n_estimators=200 \n",
      "[CV]  max_depth=None, max_features=sqrt, min_samples_leaf=5, min_samples_split=4, n_estimators=200, total=   0.4s\n",
      "[CV] max_depth=None, max_features=sqrt, min_samples_leaf=5, min_samples_split=4, n_estimators=200 \n",
      "[CV]  max_depth=None, max_features=sqrt, min_samples_leaf=5, min_samples_split=4, n_estimators=200, total=   0.4s\n",
      "[CV] max_depth=None, max_features=sqrt, min_samples_leaf=5, min_samples_split=4, n_estimators=1000 \n",
      "[CV]  max_depth=None, max_features=sqrt, min_samples_leaf=5, min_samples_split=4, n_estimators=1000, total=   2.1s\n",
      "[CV] max_depth=None, max_features=sqrt, min_samples_leaf=5, min_samples_split=4, n_estimators=1000 \n",
      "[CV]  max_depth=None, max_features=sqrt, min_samples_leaf=5, min_samples_split=4, n_estimators=1000, total=   2.0s\n",
      "[CV] max_depth=None, max_features=sqrt, min_samples_leaf=5, min_samples_split=4, n_estimators=1000 \n",
      "[CV]  max_depth=None, max_features=sqrt, min_samples_leaf=5, min_samples_split=4, n_estimators=1000, total=   2.0s\n",
      "[CV] max_depth=None, max_features=sqrt, min_samples_leaf=5, min_samples_split=4, n_estimators=1000 \n",
      "[CV]  max_depth=None, max_features=sqrt, min_samples_leaf=5, min_samples_split=4, n_estimators=1000, total=   1.9s\n",
      "[CV] max_depth=None, max_features=sqrt, min_samples_leaf=5, min_samples_split=4, n_estimators=1000 \n",
      "[CV]  max_depth=None, max_features=sqrt, min_samples_leaf=5, min_samples_split=4, n_estimators=1000, total=   1.9s\n",
      "[CV] max_depth=4, max_features=auto, min_samples_leaf=5, min_samples_split=2, n_estimators=10 \n",
      "[CV]  max_depth=4, max_features=auto, min_samples_leaf=5, min_samples_split=2, n_estimators=10, total=   0.0s\n",
      "[CV] max_depth=4, max_features=auto, min_samples_leaf=5, min_samples_split=2, n_estimators=10 \n",
      "[CV]  max_depth=4, max_features=auto, min_samples_leaf=5, min_samples_split=2, n_estimators=10, total=   0.0s\n",
      "[CV] max_depth=4, max_features=auto, min_samples_leaf=5, min_samples_split=2, n_estimators=10 \n",
      "[CV]  max_depth=4, max_features=auto, min_samples_leaf=5, min_samples_split=2, n_estimators=10, total=   0.0s\n",
      "[CV] max_depth=4, max_features=auto, min_samples_leaf=5, min_samples_split=2, n_estimators=10 \n",
      "[CV]  max_depth=4, max_features=auto, min_samples_leaf=5, min_samples_split=2, n_estimators=10, total=   0.0s\n",
      "[CV] max_depth=4, max_features=auto, min_samples_leaf=5, min_samples_split=2, n_estimators=10 \n",
      "[CV]  max_depth=4, max_features=auto, min_samples_leaf=5, min_samples_split=2, n_estimators=10, total=   0.0s\n",
      "[CV] max_depth=4, max_features=auto, min_samples_leaf=5, min_samples_split=2, n_estimators=100 \n"
     ]
    },
    {
     "name": "stdout",
     "output_type": "stream",
     "text": [
      "[CV]  max_depth=4, max_features=auto, min_samples_leaf=5, min_samples_split=2, n_estimators=100, total=   0.2s\n",
      "[CV] max_depth=4, max_features=auto, min_samples_leaf=5, min_samples_split=2, n_estimators=100 \n",
      "[CV]  max_depth=4, max_features=auto, min_samples_leaf=5, min_samples_split=2, n_estimators=100, total=   0.2s\n",
      "[CV] max_depth=4, max_features=auto, min_samples_leaf=5, min_samples_split=2, n_estimators=100 \n",
      "[CV]  max_depth=4, max_features=auto, min_samples_leaf=5, min_samples_split=2, n_estimators=100, total=   0.2s\n",
      "[CV] max_depth=4, max_features=auto, min_samples_leaf=5, min_samples_split=2, n_estimators=100 \n",
      "[CV]  max_depth=4, max_features=auto, min_samples_leaf=5, min_samples_split=2, n_estimators=100, total=   0.2s\n",
      "[CV] max_depth=4, max_features=auto, min_samples_leaf=5, min_samples_split=2, n_estimators=100 \n",
      "[CV]  max_depth=4, max_features=auto, min_samples_leaf=5, min_samples_split=2, n_estimators=100, total=   0.2s\n",
      "[CV] max_depth=4, max_features=auto, min_samples_leaf=5, min_samples_split=2, n_estimators=200 \n",
      "[CV]  max_depth=4, max_features=auto, min_samples_leaf=5, min_samples_split=2, n_estimators=200, total=   0.4s\n",
      "[CV] max_depth=4, max_features=auto, min_samples_leaf=5, min_samples_split=2, n_estimators=200 \n",
      "[CV]  max_depth=4, max_features=auto, min_samples_leaf=5, min_samples_split=2, n_estimators=200, total=   0.4s\n",
      "[CV] max_depth=4, max_features=auto, min_samples_leaf=5, min_samples_split=2, n_estimators=200 \n",
      "[CV]  max_depth=4, max_features=auto, min_samples_leaf=5, min_samples_split=2, n_estimators=200, total=   0.4s\n",
      "[CV] max_depth=4, max_features=auto, min_samples_leaf=5, min_samples_split=2, n_estimators=200 \n",
      "[CV]  max_depth=4, max_features=auto, min_samples_leaf=5, min_samples_split=2, n_estimators=200, total=   0.4s\n",
      "[CV] max_depth=4, max_features=auto, min_samples_leaf=5, min_samples_split=2, n_estimators=200 \n",
      "[CV]  max_depth=4, max_features=auto, min_samples_leaf=5, min_samples_split=2, n_estimators=200, total=   0.4s\n",
      "[CV] max_depth=4, max_features=auto, min_samples_leaf=5, min_samples_split=2, n_estimators=1000 \n",
      "[CV]  max_depth=4, max_features=auto, min_samples_leaf=5, min_samples_split=2, n_estimators=1000, total=   2.0s\n",
      "[CV] max_depth=4, max_features=auto, min_samples_leaf=5, min_samples_split=2, n_estimators=1000 \n",
      "[CV]  max_depth=4, max_features=auto, min_samples_leaf=5, min_samples_split=2, n_estimators=1000, total=   1.9s\n",
      "[CV] max_depth=4, max_features=auto, min_samples_leaf=5, min_samples_split=2, n_estimators=1000 \n",
      "[CV]  max_depth=4, max_features=auto, min_samples_leaf=5, min_samples_split=2, n_estimators=1000, total=   2.0s\n",
      "[CV] max_depth=4, max_features=auto, min_samples_leaf=5, min_samples_split=2, n_estimators=1000 \n",
      "[CV]  max_depth=4, max_features=auto, min_samples_leaf=5, min_samples_split=2, n_estimators=1000, total=   1.9s\n",
      "[CV] max_depth=4, max_features=auto, min_samples_leaf=5, min_samples_split=2, n_estimators=1000 \n",
      "[CV]  max_depth=4, max_features=auto, min_samples_leaf=5, min_samples_split=2, n_estimators=1000, total=   2.0s\n",
      "[CV] max_depth=4, max_features=auto, min_samples_leaf=5, min_samples_split=4, n_estimators=10 \n",
      "[CV]  max_depth=4, max_features=auto, min_samples_leaf=5, min_samples_split=4, n_estimators=10, total=   0.0s\n",
      "[CV] max_depth=4, max_features=auto, min_samples_leaf=5, min_samples_split=4, n_estimators=10 \n",
      "[CV]  max_depth=4, max_features=auto, min_samples_leaf=5, min_samples_split=4, n_estimators=10, total=   0.0s\n",
      "[CV] max_depth=4, max_features=auto, min_samples_leaf=5, min_samples_split=4, n_estimators=10 \n",
      "[CV]  max_depth=4, max_features=auto, min_samples_leaf=5, min_samples_split=4, n_estimators=10, total=   0.0s\n",
      "[CV] max_depth=4, max_features=auto, min_samples_leaf=5, min_samples_split=4, n_estimators=10 \n",
      "[CV]  max_depth=4, max_features=auto, min_samples_leaf=5, min_samples_split=4, n_estimators=10, total=   0.0s\n",
      "[CV] max_depth=4, max_features=auto, min_samples_leaf=5, min_samples_split=4, n_estimators=10 \n",
      "[CV]  max_depth=4, max_features=auto, min_samples_leaf=5, min_samples_split=4, n_estimators=10, total=   0.0s\n",
      "[CV] max_depth=4, max_features=auto, min_samples_leaf=5, min_samples_split=4, n_estimators=100 \n",
      "[CV]  max_depth=4, max_features=auto, min_samples_leaf=5, min_samples_split=4, n_estimators=100, total=   0.2s\n",
      "[CV] max_depth=4, max_features=auto, min_samples_leaf=5, min_samples_split=4, n_estimators=100 \n",
      "[CV]  max_depth=4, max_features=auto, min_samples_leaf=5, min_samples_split=4, n_estimators=100, total=   0.2s\n",
      "[CV] max_depth=4, max_features=auto, min_samples_leaf=5, min_samples_split=4, n_estimators=100 \n",
      "[CV]  max_depth=4, max_features=auto, min_samples_leaf=5, min_samples_split=4, n_estimators=100, total=   0.2s\n",
      "[CV] max_depth=4, max_features=auto, min_samples_leaf=5, min_samples_split=4, n_estimators=100 \n",
      "[CV]  max_depth=4, max_features=auto, min_samples_leaf=5, min_samples_split=4, n_estimators=100, total=   0.2s\n",
      "[CV] max_depth=4, max_features=auto, min_samples_leaf=5, min_samples_split=4, n_estimators=100 \n",
      "[CV]  max_depth=4, max_features=auto, min_samples_leaf=5, min_samples_split=4, n_estimators=100, total=   0.2s\n",
      "[CV] max_depth=4, max_features=auto, min_samples_leaf=5, min_samples_split=4, n_estimators=200 \n",
      "[CV]  max_depth=4, max_features=auto, min_samples_leaf=5, min_samples_split=4, n_estimators=200, total=   0.4s\n",
      "[CV] max_depth=4, max_features=auto, min_samples_leaf=5, min_samples_split=4, n_estimators=200 \n",
      "[CV]  max_depth=4, max_features=auto, min_samples_leaf=5, min_samples_split=4, n_estimators=200, total=   0.4s\n",
      "[CV] max_depth=4, max_features=auto, min_samples_leaf=5, min_samples_split=4, n_estimators=200 \n",
      "[CV]  max_depth=4, max_features=auto, min_samples_leaf=5, min_samples_split=4, n_estimators=200, total=   0.4s\n",
      "[CV] max_depth=4, max_features=auto, min_samples_leaf=5, min_samples_split=4, n_estimators=200 \n",
      "[CV]  max_depth=4, max_features=auto, min_samples_leaf=5, min_samples_split=4, n_estimators=200, total=   0.4s\n",
      "[CV] max_depth=4, max_features=auto, min_samples_leaf=5, min_samples_split=4, n_estimators=200 \n",
      "[CV]  max_depth=4, max_features=auto, min_samples_leaf=5, min_samples_split=4, n_estimators=200, total=   0.4s\n",
      "[CV] max_depth=4, max_features=auto, min_samples_leaf=5, min_samples_split=4, n_estimators=1000 \n",
      "[CV]  max_depth=4, max_features=auto, min_samples_leaf=5, min_samples_split=4, n_estimators=1000, total=   1.9s\n",
      "[CV] max_depth=4, max_features=auto, min_samples_leaf=5, min_samples_split=4, n_estimators=1000 \n",
      "[CV]  max_depth=4, max_features=auto, min_samples_leaf=5, min_samples_split=4, n_estimators=1000, total=   1.9s\n",
      "[CV] max_depth=4, max_features=auto, min_samples_leaf=5, min_samples_split=4, n_estimators=1000 \n",
      "[CV]  max_depth=4, max_features=auto, min_samples_leaf=5, min_samples_split=4, n_estimators=1000, total=   1.8s\n",
      "[CV] max_depth=4, max_features=auto, min_samples_leaf=5, min_samples_split=4, n_estimators=1000 \n",
      "[CV]  max_depth=4, max_features=auto, min_samples_leaf=5, min_samples_split=4, n_estimators=1000, total=   1.8s\n",
      "[CV] max_depth=4, max_features=auto, min_samples_leaf=5, min_samples_split=4, n_estimators=1000 \n",
      "[CV]  max_depth=4, max_features=auto, min_samples_leaf=5, min_samples_split=4, n_estimators=1000, total=   2.0s\n",
      "[CV] max_depth=4, max_features=sqrt, min_samples_leaf=5, min_samples_split=2, n_estimators=10 \n",
      "[CV]  max_depth=4, max_features=sqrt, min_samples_leaf=5, min_samples_split=2, n_estimators=10, total=   0.0s\n",
      "[CV] max_depth=4, max_features=sqrt, min_samples_leaf=5, min_samples_split=2, n_estimators=10 \n",
      "[CV]  max_depth=4, max_features=sqrt, min_samples_leaf=5, min_samples_split=2, n_estimators=10, total=   0.0s\n",
      "[CV] max_depth=4, max_features=sqrt, min_samples_leaf=5, min_samples_split=2, n_estimators=10 \n",
      "[CV]  max_depth=4, max_features=sqrt, min_samples_leaf=5, min_samples_split=2, n_estimators=10, total=   0.0s\n",
      "[CV] max_depth=4, max_features=sqrt, min_samples_leaf=5, min_samples_split=2, n_estimators=10 \n",
      "[CV]  max_depth=4, max_features=sqrt, min_samples_leaf=5, min_samples_split=2, n_estimators=10, total=   0.0s\n",
      "[CV] max_depth=4, max_features=sqrt, min_samples_leaf=5, min_samples_split=2, n_estimators=10 \n",
      "[CV]  max_depth=4, max_features=sqrt, min_samples_leaf=5, min_samples_split=2, n_estimators=10, total=   0.0s\n",
      "[CV] max_depth=4, max_features=sqrt, min_samples_leaf=5, min_samples_split=2, n_estimators=100 \n"
     ]
    },
    {
     "name": "stdout",
     "output_type": "stream",
     "text": [
      "[CV]  max_depth=4, max_features=sqrt, min_samples_leaf=5, min_samples_split=2, n_estimators=100, total=   0.2s\n",
      "[CV] max_depth=4, max_features=sqrt, min_samples_leaf=5, min_samples_split=2, n_estimators=100 \n",
      "[CV]  max_depth=4, max_features=sqrt, min_samples_leaf=5, min_samples_split=2, n_estimators=100, total=   0.3s\n",
      "[CV] max_depth=4, max_features=sqrt, min_samples_leaf=5, min_samples_split=2, n_estimators=100 \n",
      "[CV]  max_depth=4, max_features=sqrt, min_samples_leaf=5, min_samples_split=2, n_estimators=100, total=   0.2s\n",
      "[CV] max_depth=4, max_features=sqrt, min_samples_leaf=5, min_samples_split=2, n_estimators=100 \n",
      "[CV]  max_depth=4, max_features=sqrt, min_samples_leaf=5, min_samples_split=2, n_estimators=100, total=   0.2s\n",
      "[CV] max_depth=4, max_features=sqrt, min_samples_leaf=5, min_samples_split=2, n_estimators=100 \n",
      "[CV]  max_depth=4, max_features=sqrt, min_samples_leaf=5, min_samples_split=2, n_estimators=100, total=   0.2s\n",
      "[CV] max_depth=4, max_features=sqrt, min_samples_leaf=5, min_samples_split=2, n_estimators=200 \n",
      "[CV]  max_depth=4, max_features=sqrt, min_samples_leaf=5, min_samples_split=2, n_estimators=200, total=   0.4s\n",
      "[CV] max_depth=4, max_features=sqrt, min_samples_leaf=5, min_samples_split=2, n_estimators=200 \n",
      "[CV]  max_depth=4, max_features=sqrt, min_samples_leaf=5, min_samples_split=2, n_estimators=200, total=   0.4s\n",
      "[CV] max_depth=4, max_features=sqrt, min_samples_leaf=5, min_samples_split=2, n_estimators=200 \n",
      "[CV]  max_depth=4, max_features=sqrt, min_samples_leaf=5, min_samples_split=2, n_estimators=200, total=   0.4s\n",
      "[CV] max_depth=4, max_features=sqrt, min_samples_leaf=5, min_samples_split=2, n_estimators=200 \n",
      "[CV]  max_depth=4, max_features=sqrt, min_samples_leaf=5, min_samples_split=2, n_estimators=200, total=   0.4s\n",
      "[CV] max_depth=4, max_features=sqrt, min_samples_leaf=5, min_samples_split=2, n_estimators=200 \n",
      "[CV]  max_depth=4, max_features=sqrt, min_samples_leaf=5, min_samples_split=2, n_estimators=200, total=   0.4s\n",
      "[CV] max_depth=4, max_features=sqrt, min_samples_leaf=5, min_samples_split=2, n_estimators=1000 \n",
      "[CV]  max_depth=4, max_features=sqrt, min_samples_leaf=5, min_samples_split=2, n_estimators=1000, total=   1.8s\n",
      "[CV] max_depth=4, max_features=sqrt, min_samples_leaf=5, min_samples_split=2, n_estimators=1000 \n",
      "[CV]  max_depth=4, max_features=sqrt, min_samples_leaf=5, min_samples_split=2, n_estimators=1000, total=   1.8s\n",
      "[CV] max_depth=4, max_features=sqrt, min_samples_leaf=5, min_samples_split=2, n_estimators=1000 \n",
      "[CV]  max_depth=4, max_features=sqrt, min_samples_leaf=5, min_samples_split=2, n_estimators=1000, total=   1.8s\n",
      "[CV] max_depth=4, max_features=sqrt, min_samples_leaf=5, min_samples_split=2, n_estimators=1000 \n",
      "[CV]  max_depth=4, max_features=sqrt, min_samples_leaf=5, min_samples_split=2, n_estimators=1000, total=   1.8s\n",
      "[CV] max_depth=4, max_features=sqrt, min_samples_leaf=5, min_samples_split=2, n_estimators=1000 \n",
      "[CV]  max_depth=4, max_features=sqrt, min_samples_leaf=5, min_samples_split=2, n_estimators=1000, total=   1.8s\n",
      "[CV] max_depth=4, max_features=sqrt, min_samples_leaf=5, min_samples_split=4, n_estimators=10 \n",
      "[CV]  max_depth=4, max_features=sqrt, min_samples_leaf=5, min_samples_split=4, n_estimators=10, total=   0.0s\n",
      "[CV] max_depth=4, max_features=sqrt, min_samples_leaf=5, min_samples_split=4, n_estimators=10 \n",
      "[CV]  max_depth=4, max_features=sqrt, min_samples_leaf=5, min_samples_split=4, n_estimators=10, total=   0.0s\n",
      "[CV] max_depth=4, max_features=sqrt, min_samples_leaf=5, min_samples_split=4, n_estimators=10 \n",
      "[CV]  max_depth=4, max_features=sqrt, min_samples_leaf=5, min_samples_split=4, n_estimators=10, total=   0.0s\n",
      "[CV] max_depth=4, max_features=sqrt, min_samples_leaf=5, min_samples_split=4, n_estimators=10 \n",
      "[CV]  max_depth=4, max_features=sqrt, min_samples_leaf=5, min_samples_split=4, n_estimators=10, total=   0.0s\n",
      "[CV] max_depth=4, max_features=sqrt, min_samples_leaf=5, min_samples_split=4, n_estimators=10 \n",
      "[CV]  max_depth=4, max_features=sqrt, min_samples_leaf=5, min_samples_split=4, n_estimators=10, total=   0.0s\n",
      "[CV] max_depth=4, max_features=sqrt, min_samples_leaf=5, min_samples_split=4, n_estimators=100 \n",
      "[CV]  max_depth=4, max_features=sqrt, min_samples_leaf=5, min_samples_split=4, n_estimators=100, total=   0.2s\n",
      "[CV] max_depth=4, max_features=sqrt, min_samples_leaf=5, min_samples_split=4, n_estimators=100 \n",
      "[CV]  max_depth=4, max_features=sqrt, min_samples_leaf=5, min_samples_split=4, n_estimators=100, total=   0.2s\n",
      "[CV] max_depth=4, max_features=sqrt, min_samples_leaf=5, min_samples_split=4, n_estimators=100 \n",
      "[CV]  max_depth=4, max_features=sqrt, min_samples_leaf=5, min_samples_split=4, n_estimators=100, total=   0.2s\n",
      "[CV] max_depth=4, max_features=sqrt, min_samples_leaf=5, min_samples_split=4, n_estimators=100 \n",
      "[CV]  max_depth=4, max_features=sqrt, min_samples_leaf=5, min_samples_split=4, n_estimators=100, total=   0.2s\n",
      "[CV] max_depth=4, max_features=sqrt, min_samples_leaf=5, min_samples_split=4, n_estimators=100 \n",
      "[CV]  max_depth=4, max_features=sqrt, min_samples_leaf=5, min_samples_split=4, n_estimators=100, total=   0.2s\n",
      "[CV] max_depth=4, max_features=sqrt, min_samples_leaf=5, min_samples_split=4, n_estimators=200 \n",
      "[CV]  max_depth=4, max_features=sqrt, min_samples_leaf=5, min_samples_split=4, n_estimators=200, total=   0.4s\n",
      "[CV] max_depth=4, max_features=sqrt, min_samples_leaf=5, min_samples_split=4, n_estimators=200 \n",
      "[CV]  max_depth=4, max_features=sqrt, min_samples_leaf=5, min_samples_split=4, n_estimators=200, total=   0.4s\n",
      "[CV] max_depth=4, max_features=sqrt, min_samples_leaf=5, min_samples_split=4, n_estimators=200 \n",
      "[CV]  max_depth=4, max_features=sqrt, min_samples_leaf=5, min_samples_split=4, n_estimators=200, total=   0.4s\n",
      "[CV] max_depth=4, max_features=sqrt, min_samples_leaf=5, min_samples_split=4, n_estimators=200 \n",
      "[CV]  max_depth=4, max_features=sqrt, min_samples_leaf=5, min_samples_split=4, n_estimators=200, total=   0.4s\n",
      "[CV] max_depth=4, max_features=sqrt, min_samples_leaf=5, min_samples_split=4, n_estimators=200 \n",
      "[CV]  max_depth=4, max_features=sqrt, min_samples_leaf=5, min_samples_split=4, n_estimators=200, total=   0.4s\n",
      "[CV] max_depth=4, max_features=sqrt, min_samples_leaf=5, min_samples_split=4, n_estimators=1000 \n",
      "[CV]  max_depth=4, max_features=sqrt, min_samples_leaf=5, min_samples_split=4, n_estimators=1000, total=   1.9s\n",
      "[CV] max_depth=4, max_features=sqrt, min_samples_leaf=5, min_samples_split=4, n_estimators=1000 \n",
      "[CV]  max_depth=4, max_features=sqrt, min_samples_leaf=5, min_samples_split=4, n_estimators=1000, total=   1.9s\n",
      "[CV] max_depth=4, max_features=sqrt, min_samples_leaf=5, min_samples_split=4, n_estimators=1000 \n",
      "[CV]  max_depth=4, max_features=sqrt, min_samples_leaf=5, min_samples_split=4, n_estimators=1000, total=   1.9s\n",
      "[CV] max_depth=4, max_features=sqrt, min_samples_leaf=5, min_samples_split=4, n_estimators=1000 \n",
      "[CV]  max_depth=4, max_features=sqrt, min_samples_leaf=5, min_samples_split=4, n_estimators=1000, total=   1.9s\n",
      "[CV] max_depth=4, max_features=sqrt, min_samples_leaf=5, min_samples_split=4, n_estimators=1000 \n",
      "[CV]  max_depth=4, max_features=sqrt, min_samples_leaf=5, min_samples_split=4, n_estimators=1000, total=   2.1s\n",
      "[CV] max_depth=10, max_features=auto, min_samples_leaf=5, min_samples_split=2, n_estimators=10 \n",
      "[CV]  max_depth=10, max_features=auto, min_samples_leaf=5, min_samples_split=2, n_estimators=10, total=   0.0s\n",
      "[CV] max_depth=10, max_features=auto, min_samples_leaf=5, min_samples_split=2, n_estimators=10 \n",
      "[CV]  max_depth=10, max_features=auto, min_samples_leaf=5, min_samples_split=2, n_estimators=10, total=   0.0s\n",
      "[CV] max_depth=10, max_features=auto, min_samples_leaf=5, min_samples_split=2, n_estimators=10 \n",
      "[CV]  max_depth=10, max_features=auto, min_samples_leaf=5, min_samples_split=2, n_estimators=10, total=   0.0s\n",
      "[CV] max_depth=10, max_features=auto, min_samples_leaf=5, min_samples_split=2, n_estimators=10 \n",
      "[CV]  max_depth=10, max_features=auto, min_samples_leaf=5, min_samples_split=2, n_estimators=10, total=   0.0s\n",
      "[CV] max_depth=10, max_features=auto, min_samples_leaf=5, min_samples_split=2, n_estimators=10 \n",
      "[CV]  max_depth=10, max_features=auto, min_samples_leaf=5, min_samples_split=2, n_estimators=10, total=   0.0s\n",
      "[CV] max_depth=10, max_features=auto, min_samples_leaf=5, min_samples_split=2, n_estimators=100 \n"
     ]
    },
    {
     "name": "stdout",
     "output_type": "stream",
     "text": [
      "[CV]  max_depth=10, max_features=auto, min_samples_leaf=5, min_samples_split=2, n_estimators=100, total=   0.2s\n",
      "[CV] max_depth=10, max_features=auto, min_samples_leaf=5, min_samples_split=2, n_estimators=100 \n",
      "[CV]  max_depth=10, max_features=auto, min_samples_leaf=5, min_samples_split=2, n_estimators=100, total=   0.2s\n",
      "[CV] max_depth=10, max_features=auto, min_samples_leaf=5, min_samples_split=2, n_estimators=100 \n",
      "[CV]  max_depth=10, max_features=auto, min_samples_leaf=5, min_samples_split=2, n_estimators=100, total=   0.2s\n",
      "[CV] max_depth=10, max_features=auto, min_samples_leaf=5, min_samples_split=2, n_estimators=100 \n",
      "[CV]  max_depth=10, max_features=auto, min_samples_leaf=5, min_samples_split=2, n_estimators=100, total=   0.2s\n",
      "[CV] max_depth=10, max_features=auto, min_samples_leaf=5, min_samples_split=2, n_estimators=100 \n",
      "[CV]  max_depth=10, max_features=auto, min_samples_leaf=5, min_samples_split=2, n_estimators=100, total=   0.2s\n",
      "[CV] max_depth=10, max_features=auto, min_samples_leaf=5, min_samples_split=2, n_estimators=200 \n",
      "[CV]  max_depth=10, max_features=auto, min_samples_leaf=5, min_samples_split=2, n_estimators=200, total=   0.4s\n",
      "[CV] max_depth=10, max_features=auto, min_samples_leaf=5, min_samples_split=2, n_estimators=200 \n",
      "[CV]  max_depth=10, max_features=auto, min_samples_leaf=5, min_samples_split=2, n_estimators=200, total=   0.4s\n",
      "[CV] max_depth=10, max_features=auto, min_samples_leaf=5, min_samples_split=2, n_estimators=200 \n",
      "[CV]  max_depth=10, max_features=auto, min_samples_leaf=5, min_samples_split=2, n_estimators=200, total=   0.4s\n",
      "[CV] max_depth=10, max_features=auto, min_samples_leaf=5, min_samples_split=2, n_estimators=200 \n",
      "[CV]  max_depth=10, max_features=auto, min_samples_leaf=5, min_samples_split=2, n_estimators=200, total=   0.4s\n",
      "[CV] max_depth=10, max_features=auto, min_samples_leaf=5, min_samples_split=2, n_estimators=200 \n",
      "[CV]  max_depth=10, max_features=auto, min_samples_leaf=5, min_samples_split=2, n_estimators=200, total=   0.4s\n",
      "[CV] max_depth=10, max_features=auto, min_samples_leaf=5, min_samples_split=2, n_estimators=1000 \n",
      "[CV]  max_depth=10, max_features=auto, min_samples_leaf=5, min_samples_split=2, n_estimators=1000, total=   2.0s\n",
      "[CV] max_depth=10, max_features=auto, min_samples_leaf=5, min_samples_split=2, n_estimators=1000 \n",
      "[CV]  max_depth=10, max_features=auto, min_samples_leaf=5, min_samples_split=2, n_estimators=1000, total=   1.9s\n",
      "[CV] max_depth=10, max_features=auto, min_samples_leaf=5, min_samples_split=2, n_estimators=1000 \n",
      "[CV]  max_depth=10, max_features=auto, min_samples_leaf=5, min_samples_split=2, n_estimators=1000, total=   1.9s\n",
      "[CV] max_depth=10, max_features=auto, min_samples_leaf=5, min_samples_split=2, n_estimators=1000 \n",
      "[CV]  max_depth=10, max_features=auto, min_samples_leaf=5, min_samples_split=2, n_estimators=1000, total=   1.9s\n",
      "[CV] max_depth=10, max_features=auto, min_samples_leaf=5, min_samples_split=2, n_estimators=1000 \n",
      "[CV]  max_depth=10, max_features=auto, min_samples_leaf=5, min_samples_split=2, n_estimators=1000, total=   1.9s\n",
      "[CV] max_depth=10, max_features=auto, min_samples_leaf=5, min_samples_split=4, n_estimators=10 \n",
      "[CV]  max_depth=10, max_features=auto, min_samples_leaf=5, min_samples_split=4, n_estimators=10, total=   0.0s\n",
      "[CV] max_depth=10, max_features=auto, min_samples_leaf=5, min_samples_split=4, n_estimators=10 \n",
      "[CV]  max_depth=10, max_features=auto, min_samples_leaf=5, min_samples_split=4, n_estimators=10, total=   0.0s\n",
      "[CV] max_depth=10, max_features=auto, min_samples_leaf=5, min_samples_split=4, n_estimators=10 \n",
      "[CV]  max_depth=10, max_features=auto, min_samples_leaf=5, min_samples_split=4, n_estimators=10, total=   0.0s\n",
      "[CV] max_depth=10, max_features=auto, min_samples_leaf=5, min_samples_split=4, n_estimators=10 \n",
      "[CV]  max_depth=10, max_features=auto, min_samples_leaf=5, min_samples_split=4, n_estimators=10, total=   0.0s\n",
      "[CV] max_depth=10, max_features=auto, min_samples_leaf=5, min_samples_split=4, n_estimators=10 \n",
      "[CV]  max_depth=10, max_features=auto, min_samples_leaf=5, min_samples_split=4, n_estimators=10, total=   0.0s\n",
      "[CV] max_depth=10, max_features=auto, min_samples_leaf=5, min_samples_split=4, n_estimators=100 \n",
      "[CV]  max_depth=10, max_features=auto, min_samples_leaf=5, min_samples_split=4, n_estimators=100, total=   0.2s\n",
      "[CV] max_depth=10, max_features=auto, min_samples_leaf=5, min_samples_split=4, n_estimators=100 \n",
      "[CV]  max_depth=10, max_features=auto, min_samples_leaf=5, min_samples_split=4, n_estimators=100, total=   0.2s\n",
      "[CV] max_depth=10, max_features=auto, min_samples_leaf=5, min_samples_split=4, n_estimators=100 \n",
      "[CV]  max_depth=10, max_features=auto, min_samples_leaf=5, min_samples_split=4, n_estimators=100, total=   0.2s\n",
      "[CV] max_depth=10, max_features=auto, min_samples_leaf=5, min_samples_split=4, n_estimators=100 \n",
      "[CV]  max_depth=10, max_features=auto, min_samples_leaf=5, min_samples_split=4, n_estimators=100, total=   0.2s\n",
      "[CV] max_depth=10, max_features=auto, min_samples_leaf=5, min_samples_split=4, n_estimators=100 \n",
      "[CV]  max_depth=10, max_features=auto, min_samples_leaf=5, min_samples_split=4, n_estimators=100, total=   0.2s\n",
      "[CV] max_depth=10, max_features=auto, min_samples_leaf=5, min_samples_split=4, n_estimators=200 \n",
      "[CV]  max_depth=10, max_features=auto, min_samples_leaf=5, min_samples_split=4, n_estimators=200, total=   0.5s\n",
      "[CV] max_depth=10, max_features=auto, min_samples_leaf=5, min_samples_split=4, n_estimators=200 \n",
      "[CV]  max_depth=10, max_features=auto, min_samples_leaf=5, min_samples_split=4, n_estimators=200, total=   0.4s\n",
      "[CV] max_depth=10, max_features=auto, min_samples_leaf=5, min_samples_split=4, n_estimators=200 \n",
      "[CV]  max_depth=10, max_features=auto, min_samples_leaf=5, min_samples_split=4, n_estimators=200, total=   0.4s\n",
      "[CV] max_depth=10, max_features=auto, min_samples_leaf=5, min_samples_split=4, n_estimators=200 \n",
      "[CV]  max_depth=10, max_features=auto, min_samples_leaf=5, min_samples_split=4, n_estimators=200, total=   0.4s\n",
      "[CV] max_depth=10, max_features=auto, min_samples_leaf=5, min_samples_split=4, n_estimators=200 \n",
      "[CV]  max_depth=10, max_features=auto, min_samples_leaf=5, min_samples_split=4, n_estimators=200, total=   0.4s\n",
      "[CV] max_depth=10, max_features=auto, min_samples_leaf=5, min_samples_split=4, n_estimators=1000 \n",
      "[CV]  max_depth=10, max_features=auto, min_samples_leaf=5, min_samples_split=4, n_estimators=1000, total=   1.9s\n",
      "[CV] max_depth=10, max_features=auto, min_samples_leaf=5, min_samples_split=4, n_estimators=1000 \n",
      "[CV]  max_depth=10, max_features=auto, min_samples_leaf=5, min_samples_split=4, n_estimators=1000, total=   1.8s\n",
      "[CV] max_depth=10, max_features=auto, min_samples_leaf=5, min_samples_split=4, n_estimators=1000 \n",
      "[CV]  max_depth=10, max_features=auto, min_samples_leaf=5, min_samples_split=4, n_estimators=1000, total=   1.8s\n",
      "[CV] max_depth=10, max_features=auto, min_samples_leaf=5, min_samples_split=4, n_estimators=1000 \n",
      "[CV]  max_depth=10, max_features=auto, min_samples_leaf=5, min_samples_split=4, n_estimators=1000, total=   1.8s\n",
      "[CV] max_depth=10, max_features=auto, min_samples_leaf=5, min_samples_split=4, n_estimators=1000 \n",
      "[CV]  max_depth=10, max_features=auto, min_samples_leaf=5, min_samples_split=4, n_estimators=1000, total=   1.8s\n",
      "[CV] max_depth=10, max_features=sqrt, min_samples_leaf=5, min_samples_split=2, n_estimators=10 \n",
      "[CV]  max_depth=10, max_features=sqrt, min_samples_leaf=5, min_samples_split=2, n_estimators=10, total=   0.0s\n",
      "[CV] max_depth=10, max_features=sqrt, min_samples_leaf=5, min_samples_split=2, n_estimators=10 \n",
      "[CV]  max_depth=10, max_features=sqrt, min_samples_leaf=5, min_samples_split=2, n_estimators=10, total=   0.0s\n",
      "[CV] max_depth=10, max_features=sqrt, min_samples_leaf=5, min_samples_split=2, n_estimators=10 \n",
      "[CV]  max_depth=10, max_features=sqrt, min_samples_leaf=5, min_samples_split=2, n_estimators=10, total=   0.0s\n",
      "[CV] max_depth=10, max_features=sqrt, min_samples_leaf=5, min_samples_split=2, n_estimators=10 \n",
      "[CV]  max_depth=10, max_features=sqrt, min_samples_leaf=5, min_samples_split=2, n_estimators=10, total=   0.0s\n",
      "[CV] max_depth=10, max_features=sqrt, min_samples_leaf=5, min_samples_split=2, n_estimators=10 \n",
      "[CV]  max_depth=10, max_features=sqrt, min_samples_leaf=5, min_samples_split=2, n_estimators=10, total=   0.0s\n",
      "[CV] max_depth=10, max_features=sqrt, min_samples_leaf=5, min_samples_split=2, n_estimators=100 \n"
     ]
    },
    {
     "name": "stdout",
     "output_type": "stream",
     "text": [
      "[CV]  max_depth=10, max_features=sqrt, min_samples_leaf=5, min_samples_split=2, n_estimators=100, total=   0.2s\n",
      "[CV] max_depth=10, max_features=sqrt, min_samples_leaf=5, min_samples_split=2, n_estimators=100 \n",
      "[CV]  max_depth=10, max_features=sqrt, min_samples_leaf=5, min_samples_split=2, n_estimators=100, total=   0.2s\n",
      "[CV] max_depth=10, max_features=sqrt, min_samples_leaf=5, min_samples_split=2, n_estimators=100 \n",
      "[CV]  max_depth=10, max_features=sqrt, min_samples_leaf=5, min_samples_split=2, n_estimators=100, total=   0.2s\n",
      "[CV] max_depth=10, max_features=sqrt, min_samples_leaf=5, min_samples_split=2, n_estimators=100 \n",
      "[CV]  max_depth=10, max_features=sqrt, min_samples_leaf=5, min_samples_split=2, n_estimators=100, total=   0.2s\n",
      "[CV] max_depth=10, max_features=sqrt, min_samples_leaf=5, min_samples_split=2, n_estimators=100 \n",
      "[CV]  max_depth=10, max_features=sqrt, min_samples_leaf=5, min_samples_split=2, n_estimators=100, total=   0.2s\n",
      "[CV] max_depth=10, max_features=sqrt, min_samples_leaf=5, min_samples_split=2, n_estimators=200 \n",
      "[CV]  max_depth=10, max_features=sqrt, min_samples_leaf=5, min_samples_split=2, n_estimators=200, total=   0.4s\n",
      "[CV] max_depth=10, max_features=sqrt, min_samples_leaf=5, min_samples_split=2, n_estimators=200 \n",
      "[CV]  max_depth=10, max_features=sqrt, min_samples_leaf=5, min_samples_split=2, n_estimators=200, total=   0.4s\n",
      "[CV] max_depth=10, max_features=sqrt, min_samples_leaf=5, min_samples_split=2, n_estimators=200 \n",
      "[CV]  max_depth=10, max_features=sqrt, min_samples_leaf=5, min_samples_split=2, n_estimators=200, total=   0.4s\n",
      "[CV] max_depth=10, max_features=sqrt, min_samples_leaf=5, min_samples_split=2, n_estimators=200 \n",
      "[CV]  max_depth=10, max_features=sqrt, min_samples_leaf=5, min_samples_split=2, n_estimators=200, total=   0.4s\n",
      "[CV] max_depth=10, max_features=sqrt, min_samples_leaf=5, min_samples_split=2, n_estimators=200 \n",
      "[CV]  max_depth=10, max_features=sqrt, min_samples_leaf=5, min_samples_split=2, n_estimators=200, total=   0.4s\n",
      "[CV] max_depth=10, max_features=sqrt, min_samples_leaf=5, min_samples_split=2, n_estimators=1000 \n",
      "[CV]  max_depth=10, max_features=sqrt, min_samples_leaf=5, min_samples_split=2, n_estimators=1000, total=   1.8s\n",
      "[CV] max_depth=10, max_features=sqrt, min_samples_leaf=5, min_samples_split=2, n_estimators=1000 \n",
      "[CV]  max_depth=10, max_features=sqrt, min_samples_leaf=5, min_samples_split=2, n_estimators=1000, total=   1.8s\n",
      "[CV] max_depth=10, max_features=sqrt, min_samples_leaf=5, min_samples_split=2, n_estimators=1000 \n",
      "[CV]  max_depth=10, max_features=sqrt, min_samples_leaf=5, min_samples_split=2, n_estimators=1000, total=   1.8s\n",
      "[CV] max_depth=10, max_features=sqrt, min_samples_leaf=5, min_samples_split=2, n_estimators=1000 \n",
      "[CV]  max_depth=10, max_features=sqrt, min_samples_leaf=5, min_samples_split=2, n_estimators=1000, total=   1.8s\n",
      "[CV] max_depth=10, max_features=sqrt, min_samples_leaf=5, min_samples_split=2, n_estimators=1000 \n",
      "[CV]  max_depth=10, max_features=sqrt, min_samples_leaf=5, min_samples_split=2, n_estimators=1000, total=   1.8s\n",
      "[CV] max_depth=10, max_features=sqrt, min_samples_leaf=5, min_samples_split=4, n_estimators=10 \n",
      "[CV]  max_depth=10, max_features=sqrt, min_samples_leaf=5, min_samples_split=4, n_estimators=10, total=   0.0s\n",
      "[CV] max_depth=10, max_features=sqrt, min_samples_leaf=5, min_samples_split=4, n_estimators=10 \n",
      "[CV]  max_depth=10, max_features=sqrt, min_samples_leaf=5, min_samples_split=4, n_estimators=10, total=   0.0s\n",
      "[CV] max_depth=10, max_features=sqrt, min_samples_leaf=5, min_samples_split=4, n_estimators=10 \n",
      "[CV]  max_depth=10, max_features=sqrt, min_samples_leaf=5, min_samples_split=4, n_estimators=10, total=   0.0s\n",
      "[CV] max_depth=10, max_features=sqrt, min_samples_leaf=5, min_samples_split=4, n_estimators=10 \n",
      "[CV]  max_depth=10, max_features=sqrt, min_samples_leaf=5, min_samples_split=4, n_estimators=10, total=   0.0s\n",
      "[CV] max_depth=10, max_features=sqrt, min_samples_leaf=5, min_samples_split=4, n_estimators=10 \n",
      "[CV]  max_depth=10, max_features=sqrt, min_samples_leaf=5, min_samples_split=4, n_estimators=10, total=   0.0s\n",
      "[CV] max_depth=10, max_features=sqrt, min_samples_leaf=5, min_samples_split=4, n_estimators=100 \n",
      "[CV]  max_depth=10, max_features=sqrt, min_samples_leaf=5, min_samples_split=4, n_estimators=100, total=   0.2s\n",
      "[CV] max_depth=10, max_features=sqrt, min_samples_leaf=5, min_samples_split=4, n_estimators=100 \n",
      "[CV]  max_depth=10, max_features=sqrt, min_samples_leaf=5, min_samples_split=4, n_estimators=100, total=   0.2s\n",
      "[CV] max_depth=10, max_features=sqrt, min_samples_leaf=5, min_samples_split=4, n_estimators=100 \n",
      "[CV]  max_depth=10, max_features=sqrt, min_samples_leaf=5, min_samples_split=4, n_estimators=100, total=   0.2s\n",
      "[CV] max_depth=10, max_features=sqrt, min_samples_leaf=5, min_samples_split=4, n_estimators=100 \n",
      "[CV]  max_depth=10, max_features=sqrt, min_samples_leaf=5, min_samples_split=4, n_estimators=100, total=   0.2s\n",
      "[CV] max_depth=10, max_features=sqrt, min_samples_leaf=5, min_samples_split=4, n_estimators=100 \n",
      "[CV]  max_depth=10, max_features=sqrt, min_samples_leaf=5, min_samples_split=4, n_estimators=100, total=   0.2s\n",
      "[CV] max_depth=10, max_features=sqrt, min_samples_leaf=5, min_samples_split=4, n_estimators=200 \n",
      "[CV]  max_depth=10, max_features=sqrt, min_samples_leaf=5, min_samples_split=4, n_estimators=200, total=   0.4s\n",
      "[CV] max_depth=10, max_features=sqrt, min_samples_leaf=5, min_samples_split=4, n_estimators=200 \n",
      "[CV]  max_depth=10, max_features=sqrt, min_samples_leaf=5, min_samples_split=4, n_estimators=200, total=   0.4s\n",
      "[CV] max_depth=10, max_features=sqrt, min_samples_leaf=5, min_samples_split=4, n_estimators=200 \n",
      "[CV]  max_depth=10, max_features=sqrt, min_samples_leaf=5, min_samples_split=4, n_estimators=200, total=   0.4s\n",
      "[CV] max_depth=10, max_features=sqrt, min_samples_leaf=5, min_samples_split=4, n_estimators=200 \n",
      "[CV]  max_depth=10, max_features=sqrt, min_samples_leaf=5, min_samples_split=4, n_estimators=200, total=   0.4s\n",
      "[CV] max_depth=10, max_features=sqrt, min_samples_leaf=5, min_samples_split=4, n_estimators=200 \n",
      "[CV]  max_depth=10, max_features=sqrt, min_samples_leaf=5, min_samples_split=4, n_estimators=200, total=   0.4s\n",
      "[CV] max_depth=10, max_features=sqrt, min_samples_leaf=5, min_samples_split=4, n_estimators=1000 \n",
      "[CV]  max_depth=10, max_features=sqrt, min_samples_leaf=5, min_samples_split=4, n_estimators=1000, total=   1.8s\n",
      "[CV] max_depth=10, max_features=sqrt, min_samples_leaf=5, min_samples_split=4, n_estimators=1000 \n",
      "[CV]  max_depth=10, max_features=sqrt, min_samples_leaf=5, min_samples_split=4, n_estimators=1000, total=   1.8s\n",
      "[CV] max_depth=10, max_features=sqrt, min_samples_leaf=5, min_samples_split=4, n_estimators=1000 \n",
      "[CV]  max_depth=10, max_features=sqrt, min_samples_leaf=5, min_samples_split=4, n_estimators=1000, total=   1.8s\n",
      "[CV] max_depth=10, max_features=sqrt, min_samples_leaf=5, min_samples_split=4, n_estimators=1000 \n",
      "[CV]  max_depth=10, max_features=sqrt, min_samples_leaf=5, min_samples_split=4, n_estimators=1000, total=   1.8s\n",
      "[CV] max_depth=10, max_features=sqrt, min_samples_leaf=5, min_samples_split=4, n_estimators=1000 \n",
      "[CV]  max_depth=10, max_features=sqrt, min_samples_leaf=5, min_samples_split=4, n_estimators=1000, total=   1.9s\n"
     ]
    },
    {
     "name": "stderr",
     "output_type": "stream",
     "text": [
      "[Parallel(n_jobs=1)]: Done 240 out of 240 | elapsed:  2.5min finished\n"
     ]
    }
   ],
   "source": [
    "# import GridSearchCV\n",
    "from sklearn.model_selection import GridSearchCV\n",
    "\n",
    "# GridSearchCV is like bruteforce\n",
    "# create grid_2\n",
    "grid_2 = {\"n_estimators\": [10, 100, 200, 1000],\n",
    "        \"max_depth\": [None, 4, 10],\n",
    "        \"max_features\": [\"auto\", \"sqrt\"],\n",
    "        \"min_samples_split\": [2, 4],\n",
    "        \"min_samples_leaf\": [5]}\n",
    "\n",
    "# setup random seed\n",
    "np.random.seed(80)\n",
    "\n",
    "# split to x, y\n",
    "x = heart_disease_shuffled.drop('target', axis=1)\n",
    "y = heart_disease_shuffled['target']\n",
    "\n",
    "# split to train, test\n",
    "x_train, x_test, y_train, y_test = train_test_split(x, y, test_size=0.2)\n",
    "\n",
    "# Instantiate the model\n",
    "model = RandomForestClassifier(n_jobs=1)\n",
    "\n",
    "# Setup RandomizedSearchCV         n_inters ==> number of try\n",
    "grid_search_model = GridSearchCV(estimator=model, param_grid=grid_2\n",
    "                             ,cv=5, verbose=2)\n",
    "# fit the data\n",
    "grid_search_model.fit(x_train, y_train);"
   ]
  },
  {
   "cell_type": "code",
   "execution_count": 170,
   "metadata": {},
   "outputs": [
    {
     "data": {
      "text/plain": [
       "{'max_depth': 10,\n",
       " 'max_features': 'sqrt',\n",
       " 'min_samples_leaf': 5,\n",
       " 'min_samples_split': 4,\n",
       " 'n_estimators': 100}"
      ]
     },
     "execution_count": 170,
     "metadata": {},
     "output_type": "execute_result"
    }
   ],
   "source": [
    "grid_search_model.best_params_"
   ]
  },
  {
   "cell_type": "code",
   "execution_count": 173,
   "metadata": {},
   "outputs": [
    {
     "data": {
      "text/plain": [
       "{'accuracy': 0.84, 'precision': 0.77, 'recall': 0.93, 'f1': 0.84}"
      ]
     },
     "execution_count": 173,
     "metadata": {},
     "output_type": "execute_result"
    }
   ],
   "source": [
    "# make some predictions\n",
    "grid_search_y_preds = grid_search_model.predict(x_test)\n",
    "# evaluate the score\n",
    "gs_metric = evaluate_preds(y_test, grid_search_y_preds)\n",
    "gs_metric"
   ]
  },
  {
   "cell_type": "code",
   "execution_count": 174,
   "metadata": {},
   "outputs": [
    {
     "data": {
      "text/html": [
       "<div>\n",
       "<style scoped>\n",
       "    .dataframe tbody tr th:only-of-type {\n",
       "        vertical-align: middle;\n",
       "    }\n",
       "\n",
       "    .dataframe tbody tr th {\n",
       "        vertical-align: top;\n",
       "    }\n",
       "\n",
       "    .dataframe thead th {\n",
       "        text-align: right;\n",
       "    }\n",
       "</style>\n",
       "<table border=\"1\" class=\"dataframe\">\n",
       "  <thead>\n",
       "    <tr style=\"text-align: right;\">\n",
       "      <th></th>\n",
       "      <th>baseline</th>\n",
       "      <th>class-metric 2</th>\n",
       "      <th>class metric 3</th>\n",
       "      <th>RandomSearchCV</th>\n",
       "      <th>GridSearchCV</th>\n",
       "    </tr>\n",
       "  </thead>\n",
       "  <tbody>\n",
       "    <tr>\n",
       "      <th>accuracy</th>\n",
       "      <td>0.73</td>\n",
       "      <td>0.73</td>\n",
       "      <td>0.76</td>\n",
       "      <td>0.84</td>\n",
       "      <td>0.84</td>\n",
       "    </tr>\n",
       "    <tr>\n",
       "      <th>precision</th>\n",
       "      <td>0.78</td>\n",
       "      <td>0.78</td>\n",
       "      <td>0.79</td>\n",
       "      <td>0.77</td>\n",
       "      <td>0.77</td>\n",
       "    </tr>\n",
       "    <tr>\n",
       "      <th>recall</th>\n",
       "      <td>0.72</td>\n",
       "      <td>0.72</td>\n",
       "      <td>0.76</td>\n",
       "      <td>0.93</td>\n",
       "      <td>0.93</td>\n",
       "    </tr>\n",
       "    <tr>\n",
       "      <th>f1</th>\n",
       "      <td>0.75</td>\n",
       "      <td>0.75</td>\n",
       "      <td>0.78</td>\n",
       "      <td>0.84</td>\n",
       "      <td>0.84</td>\n",
       "    </tr>\n",
       "  </tbody>\n",
       "</table>\n",
       "</div>"
      ],
      "text/plain": [
       "           baseline  class-metric 2  class metric 3  RandomSearchCV  \\\n",
       "accuracy       0.73            0.73            0.76            0.84   \n",
       "precision      0.78            0.78            0.79            0.77   \n",
       "recall         0.72            0.72            0.76            0.93   \n",
       "f1             0.75            0.75            0.78            0.84   \n",
       "\n",
       "           GridSearchCV  \n",
       "accuracy           0.84  \n",
       "precision          0.77  \n",
       "recall             0.93  \n",
       "f1                 0.84  "
      ]
     },
     "execution_count": 174,
     "metadata": {},
     "output_type": "execute_result"
    }
   ],
   "source": [
    "# compare the models\n",
    "compare_metrics = pd.DataFrame({'baseline': class_metrics,\n",
    "                                'class-metric 2':class_metrics_2,\n",
    "                               'class metric 3':class_metrics_3,\n",
    "                               'RandomSearchCV': rs_metrics,\n",
    "                               'GridSearchCV': gs_metric})\n",
    "compare_metrics"
   ]
  },
  {
   "cell_type": "code",
   "execution_count": 177,
   "metadata": {},
   "outputs": [
    {
     "data": {
      "image/png": "[encoded data removed]",
      "text/plain": [
       "<Figure size 720x720 with 1 Axes>"
      ]
     },
     "metadata": {},
     "output_type": "display_data"
    }
   ],
   "source": [
    "# plot the comparison\n",
    "compare_metrics.plot.bar(figsize=(10, 10));"
   ]
  },
  {
   "cell_type": "code",
   "execution_count": 180,
   "metadata": {},
   "outputs": [],
   "source": [
    "steps[5] = '5. Improve the model [x]'"
   ]
  },
  {
   "cell_type": "markdown",
   "metadata": {},
   "source": [
    "## 6. Saving and loading trained machine learning models "
   ]
  },
  {
   "cell_type": "markdown",
   "metadata": {},
   "source": [
    "Two ways to save and load machine learning models:\n",
    "\n",
    "   1. With Python's pickle module\n",
    "   2. With the joblib module\n"
   ]
  },
  {
   "cell_type": "markdown",
   "metadata": {},
   "source": [
    "**pickle**"
   ]
  },
  {
   "cell_type": "code",
   "execution_count": 184,
   "metadata": {},
   "outputs": [],
   "source": [
    "# import pickle\n",
    "import pickle\n",
    "\n",
    "# save the existing model to a file\n",
    "pickle.dump(grid_search_model, open('grid_search_model_1.pkl', 'wb'))"
   ]
  },
  {
   "cell_type": "code",
   "execution_count": 185,
   "metadata": {},
   "outputs": [],
   "source": [
    "# load the save model\n",
    "loaded_grid_model = pickle.load(open('grid_search_model_1.pkl', 'rb'))"
   ]
  },
  {
   "cell_type": "code",
   "execution_count": 190,
   "metadata": {},
   "outputs": [
    {
     "data": {
      "text/plain": [
       "{'accuracy': 0.84, 'precision': 0.77, 'recall': 0.93, 'f1': 0.84}"
      ]
     },
     "execution_count": 190,
     "metadata": {},
     "output_type": "execute_result"
    }
   ],
   "source": [
    "y_preds_loaded_grid = loaded_grid_model.predict(x_test)\n",
    "\n",
    "evaluate_preds(y_test, y_preds_loaded_grid)"
   ]
  },
  {
   "cell_type": "markdown",
   "metadata": {},
   "source": [
    "**joblib**"
   ]
  },
  {
   "cell_type": "code",
   "execution_count": 191,
   "metadata": {},
   "outputs": [
    {
     "data": {
      "text/plain": [
       "['grid_search_model_2.joblib']"
      ]
     },
     "execution_count": 191,
     "metadata": {},
     "output_type": "execute_result"
    }
   ],
   "source": [
    "# import joblib\n",
    "import joblib\n",
    "joblib.dump(grid_search_model, filename='grid_search_model_2.joblib')"
   ]
  },
  {
   "cell_type": "code",
   "execution_count": 194,
   "metadata": {},
   "outputs": [],
   "source": [
    "# load the save model\n",
    "loaded_grid_joblib = joblib.load(filename='grid_search_model_2.joblib')"
   ]
  },
  {
   "cell_type": "code",
   "execution_count": 195,
   "metadata": {},
   "outputs": [
    {
     "data": {
      "text/plain": [
       "{'accuracy': 0.84, 'precision': 0.77, 'recall': 0.93, 'f1': 0.84}"
      ]
     },
     "execution_count": 195,
     "metadata": {},
     "output_type": "execute_result"
    }
   ],
   "source": [
    "y_preds_loaded_grid_joblib = loaded_grid_joblib.predict(x_test)\n",
    "\n",
    "evaluate_preds(y_test, y_preds_loaded_grid_joblib)"
   ]
  },
  {
   "cell_type": "code",
   "execution_count": 197,
   "metadata": {},
   "outputs": [],
   "source": [
    "steps[6] = '6. Save and load the trained model [x]'"
   ]
  },
  {
   "cell_type": "markdown",
   "metadata": {},
   "source": [
    "## 7. Putting it all together!"
   ]
  },
  {
   "cell_type": "code",
   "execution_count": 208,
   "metadata": {},
   "outputs": [
    {
     "data": {
      "text/html": [
       "<div>\n",
       "<style scoped>\n",
       "    .dataframe tbody tr th:only-of-type {\n",
       "        vertical-align: middle;\n",
       "    }\n",
       "\n",
       "    .dataframe tbody tr th {\n",
       "        vertical-align: top;\n",
       "    }\n",
       "\n",
       "    .dataframe thead th {\n",
       "        text-align: right;\n",
       "    }\n",
       "</style>\n",
       "<table border=\"1\" class=\"dataframe\">\n",
       "  <thead>\n",
       "    <tr style=\"text-align: right;\">\n",
       "      <th></th>\n",
       "      <th>Make</th>\n",
       "      <th>Colour</th>\n",
       "      <th>Odometer (KM)</th>\n",
       "      <th>Doors</th>\n",
       "      <th>Price</th>\n",
       "    </tr>\n",
       "  </thead>\n",
       "  <tbody>\n",
       "    <tr>\n",
       "      <th>0</th>\n",
       "      <td>Honda</td>\n",
       "      <td>White</td>\n",
       "      <td>35431.0</td>\n",
       "      <td>4.0</td>\n",
       "      <td>15323.0</td>\n",
       "    </tr>\n",
       "    <tr>\n",
       "      <th>1</th>\n",
       "      <td>BMW</td>\n",
       "      <td>Blue</td>\n",
       "      <td>192714.0</td>\n",
       "      <td>5.0</td>\n",
       "      <td>19943.0</td>\n",
       "    </tr>\n",
       "    <tr>\n",
       "      <th>2</th>\n",
       "      <td>Honda</td>\n",
       "      <td>White</td>\n",
       "      <td>84714.0</td>\n",
       "      <td>4.0</td>\n",
       "      <td>28343.0</td>\n",
       "    </tr>\n",
       "    <tr>\n",
       "      <th>3</th>\n",
       "      <td>Toyota</td>\n",
       "      <td>White</td>\n",
       "      <td>154365.0</td>\n",
       "      <td>4.0</td>\n",
       "      <td>13434.0</td>\n",
       "    </tr>\n",
       "    <tr>\n",
       "      <th>4</th>\n",
       "      <td>Nissan</td>\n",
       "      <td>Blue</td>\n",
       "      <td>181577.0</td>\n",
       "      <td>3.0</td>\n",
       "      <td>14043.0</td>\n",
       "    </tr>\n",
       "  </tbody>\n",
       "</table>\n",
       "</div>"
      ],
      "text/plain": [
       "     Make Colour  Odometer (KM)  Doors    Price\n",
       "0   Honda  White        35431.0    4.0  15323.0\n",
       "1     BMW   Blue       192714.0    5.0  19943.0\n",
       "2   Honda  White        84714.0    4.0  28343.0\n",
       "3  Toyota  White       154365.0    4.0  13434.0\n",
       "4  Nissan   Blue       181577.0    3.0  14043.0"
      ]
     },
     "execution_count": 208,
     "metadata": {},
     "output_type": "execute_result"
    }
   ],
   "source": [
    "# read the data\n",
    "data = pd.read_csv('car-sales-extended-missing-data.csv')\n",
    "data.head()"
   ]
  },
  {
   "cell_type": "code",
   "execution_count": 209,
   "metadata": {},
   "outputs": [
    {
     "data": {
      "text/plain": [
       "Make             49\n",
       "Colour           50\n",
       "Odometer (KM)    50\n",
       "Doors            50\n",
       "Price            50\n",
       "dtype: int64"
      ]
     },
     "execution_count": 209,
     "metadata": {},
     "output_type": "execute_result"
    }
   ],
   "source": [
    "# check the None filds\n",
    "data.isna().sum()"
   ]
  },
  {
   "cell_type": "code",
   "execution_count": 210,
   "metadata": {},
   "outputs": [
    {
     "data": {
      "text/plain": [
       "(Make              object\n",
       " Colour            object\n",
       " Odometer (KM)    float64\n",
       " Doors            float64\n",
       " Price            float64\n",
       " dtype: object,\n",
       " (1000, 5))"
      ]
     },
     "execution_count": 210,
     "metadata": {},
     "output_type": "execute_result"
    }
   ],
   "source": [
    "data.dtypes, data.shape"
   ]
  },
  {
   "cell_type": "markdown",
   "metadata": {},
   "source": [
    "Steps we want to do (all in one cell):\n",
    "   1. Fill missing data\n",
    "   2. Convert data to numbers\n",
    "   3. Build a model on the data"
   ]
  },
  {
   "cell_type": "code",
   "execution_count": 220,
   "metadata": {},
   "outputs": [
    {
     "data": {
      "text/plain": [
       "0.13787894615670537"
      ]
     },
     "execution_count": 220,
     "metadata": {},
     "output_type": "execute_result"
    }
   ],
   "source": [
    "# Getting data ready\n",
    "import pandas as pd\n",
    "from sklearn.compose import ColumnTransformer\n",
    "from sklearn.pipeline import Pipeline\n",
    "from sklearn.impute import SimpleImputer\n",
    "from sklearn.preprocessing import OneHotEncoder\n",
    "\n",
    "# Modelling\n",
    "from sklearn.ensemble import RandomForestRegressor\n",
    "from sklearn.model_selection import train_test_split, GridSearchCV\n",
    "\n",
    "# Setup random seed\n",
    "import numpy as np\n",
    "\n",
    "# set random seed\n",
    "np.random.seed(80)\n",
    "\n",
    "# import data and drop the rows with missing labels\n",
    "data = pd.read_csv('car-sales-extended-missing-data.csv')\n",
    "data.dropna(subset=[\"Price\"], inplace=True)\n",
    "\n",
    "# Define different features and transformers pipline\n",
    "categorical_features = ['Make', 'Colour']\n",
    "categorical_transformer = Pipeline(steps=[\n",
    "    ('imputer', SimpleImputer(strategy='constant', fill_value='missing')),\n",
    "     ('one_hot', OneHotEncoder(handle_unknown='ignore'))\n",
    "])\n",
    "\n",
    "door_featues = ['Doors']\n",
    "door_transformer = Pipeline(steps=[\n",
    "    ('imputer', SimpleImputer(strategy='constant', fill_value=4))\n",
    "])\n",
    "\n",
    "numeric_features = ['Odometer (KM)']\n",
    "numeric_transformer = Pipeline(steps=[\n",
    "    ('imputer', SimpleImputer(strategy='mean'))\n",
    "])\n",
    "\n",
    "# Setup preprocessing steps (fill missing values, then convert to numbers)\n",
    "preprocessor = ColumnTransformer(transformers=[\n",
    "    ('categorical', categorical_transformer, categorical_features),\n",
    "    ('door', door_transformer, door_featues),\n",
    "    ('numeric', numeric_transformer, numeric_features)\n",
    "])\n",
    "\n",
    "# Creating a preprocessing and modelling pipeline\n",
    "model = Pipeline(steps=[\n",
    "    ('preprocessor', preprocessor),\n",
    "    ('model', RandomForestRegressor())\n",
    "])\n",
    "\n",
    "# Split data to x, y\n",
    "x = data.drop('Price', axis=1)\n",
    "y = data['Price']\n",
    "\n",
    "# split to train and test\n",
    "x_train, x_test, y_train, y_test = train_test_split(x, y, test_size=0.2)\n",
    "\n",
    "# fit the data to the model \n",
    "model.fit(x_train, y_train)\n",
    "\n",
    "# score of the model \n",
    "model.score(x_test, y_test)"
   ]
  },
  {
   "cell_type": "code",
   "execution_count": 221,
   "metadata": {},
   "outputs": [
    {
     "name": "stdout",
     "output_type": "stream",
     "text": [
      "Fitting 5 folds for each of 72 candidates, totalling 360 fits\n",
      "[CV] model__max_depth=None, model__max_features=auto, model__min_samples_split=2, model__n_estimators=10, preprocessor__numeric__imputer__strategy=mean \n",
      "[CV]  model__max_depth=None, model__max_features=auto, model__min_samples_split=2, model__n_estimators=10, preprocessor__numeric__imputer__strategy=mean, total=   0.1s\n",
      "[CV] model__max_depth=None, model__max_features=auto, model__min_samples_split=2, model__n_estimators=10, preprocessor__numeric__imputer__strategy=mean \n",
      "[CV]  model__max_depth=None, model__max_features=auto, model__min_samples_split=2, model__n_estimators=10, preprocessor__numeric__imputer__strategy=mean, total=   0.1s\n",
      "[CV] model__max_depth=None, model__max_features=auto, model__min_samples_split=2, model__n_estimators=10, preprocessor__numeric__imputer__strategy=mean \n"
     ]
    },
    {
     "name": "stderr",
     "output_type": "stream",
     "text": [
      "[Parallel(n_jobs=1)]: Using backend SequentialBackend with 1 concurrent workers.\n",
      "[Parallel(n_jobs=1)]: Done   1 out of   1 | elapsed:    0.1s remaining:    0.0s\n"
     ]
    },
    {
     "name": "stdout",
     "output_type": "stream",
     "text": [
      "[CV]  model__max_depth=None, model__max_features=auto, model__min_samples_split=2, model__n_estimators=10, preprocessor__numeric__imputer__strategy=mean, total=   0.1s\n",
      "[CV] model__max_depth=None, model__max_features=auto, model__min_samples_split=2, model__n_estimators=10, preprocessor__numeric__imputer__strategy=mean \n",
      "[CV]  model__max_depth=None, model__max_features=auto, model__min_samples_split=2, model__n_estimators=10, preprocessor__numeric__imputer__strategy=mean, total=   0.1s\n",
      "[CV] model__max_depth=None, model__max_features=auto, model__min_samples_split=2, model__n_estimators=10, preprocessor__numeric__imputer__strategy=mean \n",
      "[CV]  model__max_depth=None, model__max_features=auto, model__min_samples_split=2, model__n_estimators=10, preprocessor__numeric__imputer__strategy=mean, total=   0.1s\n",
      "[CV] model__max_depth=None, model__max_features=auto, model__min_samples_split=2, model__n_estimators=10, preprocessor__numeric__imputer__strategy=median \n",
      "[CV]  model__max_depth=None, model__max_features=auto, model__min_samples_split=2, model__n_estimators=10, preprocessor__numeric__imputer__strategy=median, total=   0.1s\n",
      "[CV] model__max_depth=None, model__max_features=auto, model__min_samples_split=2, model__n_estimators=10, preprocessor__numeric__imputer__strategy=median \n",
      "[CV]  model__max_depth=None, model__max_features=auto, model__min_samples_split=2, model__n_estimators=10, preprocessor__numeric__imputer__strategy=median, total=   0.1s\n",
      "[CV] model__max_depth=None, model__max_features=auto, model__min_samples_split=2, model__n_estimators=10, preprocessor__numeric__imputer__strategy=median \n",
      "[CV]  model__max_depth=None, model__max_features=auto, model__min_samples_split=2, model__n_estimators=10, preprocessor__numeric__imputer__strategy=median, total=   0.1s\n",
      "[CV] model__max_depth=None, model__max_features=auto, model__min_samples_split=2, model__n_estimators=10, preprocessor__numeric__imputer__strategy=median \n",
      "[CV]  model__max_depth=None, model__max_features=auto, model__min_samples_split=2, model__n_estimators=10, preprocessor__numeric__imputer__strategy=median, total=   0.1s\n",
      "[CV] model__max_depth=None, model__max_features=auto, model__min_samples_split=2, model__n_estimators=10, preprocessor__numeric__imputer__strategy=median \n",
      "[CV]  model__max_depth=None, model__max_features=auto, model__min_samples_split=2, model__n_estimators=10, preprocessor__numeric__imputer__strategy=median, total=   0.1s\n",
      "[CV] model__max_depth=None, model__max_features=auto, model__min_samples_split=2, model__n_estimators=100, preprocessor__numeric__imputer__strategy=mean \n",
      "[CV]  model__max_depth=None, model__max_features=auto, model__min_samples_split=2, model__n_estimators=100, preprocessor__numeric__imputer__strategy=mean, total=   0.4s\n",
      "[CV] model__max_depth=None, model__max_features=auto, model__min_samples_split=2, model__n_estimators=100, preprocessor__numeric__imputer__strategy=mean \n",
      "[CV]  model__max_depth=None, model__max_features=auto, model__min_samples_split=2, model__n_estimators=100, preprocessor__numeric__imputer__strategy=mean, total=   0.3s\n",
      "[CV] model__max_depth=None, model__max_features=auto, model__min_samples_split=2, model__n_estimators=100, preprocessor__numeric__imputer__strategy=mean \n",
      "[CV]  model__max_depth=None, model__max_features=auto, model__min_samples_split=2, model__n_estimators=100, preprocessor__numeric__imputer__strategy=mean, total=   0.3s\n",
      "[CV] model__max_depth=None, model__max_features=auto, model__min_samples_split=2, model__n_estimators=100, preprocessor__numeric__imputer__strategy=mean \n",
      "[CV]  model__max_depth=None, model__max_features=auto, model__min_samples_split=2, model__n_estimators=100, preprocessor__numeric__imputer__strategy=mean, total=   0.3s\n",
      "[CV] model__max_depth=None, model__max_features=auto, model__min_samples_split=2, model__n_estimators=100, preprocessor__numeric__imputer__strategy=mean \n",
      "[CV]  model__max_depth=None, model__max_features=auto, model__min_samples_split=2, model__n_estimators=100, preprocessor__numeric__imputer__strategy=mean, total=   0.3s\n",
      "[CV] model__max_depth=None, model__max_features=auto, model__min_samples_split=2, model__n_estimators=100, preprocessor__numeric__imputer__strategy=median \n",
      "[CV]  model__max_depth=None, model__max_features=auto, model__min_samples_split=2, model__n_estimators=100, preprocessor__numeric__imputer__strategy=median, total=   0.3s\n",
      "[CV] model__max_depth=None, model__max_features=auto, model__min_samples_split=2, model__n_estimators=100, preprocessor__numeric__imputer__strategy=median \n",
      "[CV]  model__max_depth=None, model__max_features=auto, model__min_samples_split=2, model__n_estimators=100, preprocessor__numeric__imputer__strategy=median, total=   0.4s\n",
      "[CV] model__max_depth=None, model__max_features=auto, model__min_samples_split=2, model__n_estimators=100, preprocessor__numeric__imputer__strategy=median \n",
      "[CV]  model__max_depth=None, model__max_features=auto, model__min_samples_split=2, model__n_estimators=100, preprocessor__numeric__imputer__strategy=median, total=   0.3s\n",
      "[CV] model__max_depth=None, model__max_features=auto, model__min_samples_split=2, model__n_estimators=100, preprocessor__numeric__imputer__strategy=median \n",
      "[CV]  model__max_depth=None, model__max_features=auto, model__min_samples_split=2, model__n_estimators=100, preprocessor__numeric__imputer__strategy=median, total=   0.3s\n",
      "[CV] model__max_depth=None, model__max_features=auto, model__min_samples_split=2, model__n_estimators=100, preprocessor__numeric__imputer__strategy=median \n",
      "[CV]  model__max_depth=None, model__max_features=auto, model__min_samples_split=2, model__n_estimators=100, preprocessor__numeric__imputer__strategy=median, total=   0.4s\n",
      "[CV] model__max_depth=None, model__max_features=auto, model__min_samples_split=2, model__n_estimators=1000, preprocessor__numeric__imputer__strategy=mean \n",
      "[CV]  model__max_depth=None, model__max_features=auto, model__min_samples_split=2, model__n_estimators=1000, preprocessor__numeric__imputer__strategy=mean, total=   2.9s\n",
      "[CV] model__max_depth=None, model__max_features=auto, model__min_samples_split=2, model__n_estimators=1000, preprocessor__numeric__imputer__strategy=mean \n",
      "[CV]  model__max_depth=None, model__max_features=auto, model__min_samples_split=2, model__n_estimators=1000, preprocessor__numeric__imputer__strategy=mean, total=   3.2s\n",
      "[CV] model__max_depth=None, model__max_features=auto, model__min_samples_split=2, model__n_estimators=1000, preprocessor__numeric__imputer__strategy=mean \n",
      "[CV]  model__max_depth=None, model__max_features=auto, model__min_samples_split=2, model__n_estimators=1000, preprocessor__numeric__imputer__strategy=mean, total=   3.0s\n",
      "[CV] model__max_depth=None, model__max_features=auto, model__min_samples_split=2, model__n_estimators=1000, preprocessor__numeric__imputer__strategy=mean \n",
      "[CV]  model__max_depth=None, model__max_features=auto, model__min_samples_split=2, model__n_estimators=1000, preprocessor__numeric__imputer__strategy=mean, total=   2.9s\n",
      "[CV] model__max_depth=None, model__max_features=auto, model__min_samples_split=2, model__n_estimators=1000, preprocessor__numeric__imputer__strategy=mean \n",
      "[CV]  model__max_depth=None, model__max_features=auto, model__min_samples_split=2, model__n_estimators=1000, preprocessor__numeric__imputer__strategy=mean, total=   3.0s\n",
      "[CV] model__max_depth=None, model__max_features=auto, model__min_samples_split=2, model__n_estimators=1000, preprocessor__numeric__imputer__strategy=median \n",
      "[CV]  model__max_depth=None, model__max_features=auto, model__min_samples_split=2, model__n_estimators=1000, preprocessor__numeric__imputer__strategy=median, total=   2.9s\n",
      "[CV] model__max_depth=None, model__max_features=auto, model__min_samples_split=2, model__n_estimators=1000, preprocessor__numeric__imputer__strategy=median \n",
      "[CV]  model__max_depth=None, model__max_features=auto, model__min_samples_split=2, model__n_estimators=1000, preprocessor__numeric__imputer__strategy=median, total=   2.9s\n",
      "[CV] model__max_depth=None, model__max_features=auto, model__min_samples_split=2, model__n_estimators=1000, preprocessor__numeric__imputer__strategy=median \n",
      "[CV]  model__max_depth=None, model__max_features=auto, model__min_samples_split=2, model__n_estimators=1000, preprocessor__numeric__imputer__strategy=median, total=   2.9s\n",
      "[CV] model__max_depth=None, model__max_features=auto, model__min_samples_split=2, model__n_estimators=1000, preprocessor__numeric__imputer__strategy=median \n"
     ]
    },
    {
     "name": "stdout",
     "output_type": "stream",
     "text": [
      "[CV]  model__max_depth=None, model__max_features=auto, model__min_samples_split=2, model__n_estimators=1000, preprocessor__numeric__imputer__strategy=median, total=   2.9s\n",
      "[CV] model__max_depth=None, model__max_features=auto, model__min_samples_split=2, model__n_estimators=1000, preprocessor__numeric__imputer__strategy=median \n",
      "[CV]  model__max_depth=None, model__max_features=auto, model__min_samples_split=2, model__n_estimators=1000, preprocessor__numeric__imputer__strategy=median, total=   2.9s\n",
      "[CV] model__max_depth=None, model__max_features=auto, model__min_samples_split=4, model__n_estimators=10, preprocessor__numeric__imputer__strategy=mean \n",
      "[CV]  model__max_depth=None, model__max_features=auto, model__min_samples_split=4, model__n_estimators=10, preprocessor__numeric__imputer__strategy=mean, total=   0.0s\n",
      "[CV] model__max_depth=None, model__max_features=auto, model__min_samples_split=4, model__n_estimators=10, preprocessor__numeric__imputer__strategy=mean \n",
      "[CV]  model__max_depth=None, model__max_features=auto, model__min_samples_split=4, model__n_estimators=10, preprocessor__numeric__imputer__strategy=mean, total=   0.0s\n",
      "[CV] model__max_depth=None, model__max_features=auto, model__min_samples_split=4, model__n_estimators=10, preprocessor__numeric__imputer__strategy=mean \n",
      "[CV]  model__max_depth=None, model__max_features=auto, model__min_samples_split=4, model__n_estimators=10, preprocessor__numeric__imputer__strategy=mean, total=   0.0s\n",
      "[CV] model__max_depth=None, model__max_features=auto, model__min_samples_split=4, model__n_estimators=10, preprocessor__numeric__imputer__strategy=mean \n",
      "[CV]  model__max_depth=None, model__max_features=auto, model__min_samples_split=4, model__n_estimators=10, preprocessor__numeric__imputer__strategy=mean, total=   0.0s\n",
      "[CV] model__max_depth=None, model__max_features=auto, model__min_samples_split=4, model__n_estimators=10, preprocessor__numeric__imputer__strategy=mean \n",
      "[CV]  model__max_depth=None, model__max_features=auto, model__min_samples_split=4, model__n_estimators=10, preprocessor__numeric__imputer__strategy=mean, total=   0.1s\n",
      "[CV] model__max_depth=None, model__max_features=auto, model__min_samples_split=4, model__n_estimators=10, preprocessor__numeric__imputer__strategy=median \n",
      "[CV]  model__max_depth=None, model__max_features=auto, model__min_samples_split=4, model__n_estimators=10, preprocessor__numeric__imputer__strategy=median, total=   0.1s\n",
      "[CV] model__max_depth=None, model__max_features=auto, model__min_samples_split=4, model__n_estimators=10, preprocessor__numeric__imputer__strategy=median \n",
      "[CV]  model__max_depth=None, model__max_features=auto, model__min_samples_split=4, model__n_estimators=10, preprocessor__numeric__imputer__strategy=median, total=   0.1s\n",
      "[CV] model__max_depth=None, model__max_features=auto, model__min_samples_split=4, model__n_estimators=10, preprocessor__numeric__imputer__strategy=median \n",
      "[CV]  model__max_depth=None, model__max_features=auto, model__min_samples_split=4, model__n_estimators=10, preprocessor__numeric__imputer__strategy=median, total=   0.0s\n",
      "[CV] model__max_depth=None, model__max_features=auto, model__min_samples_split=4, model__n_estimators=10, preprocessor__numeric__imputer__strategy=median \n",
      "[CV]  model__max_depth=None, model__max_features=auto, model__min_samples_split=4, model__n_estimators=10, preprocessor__numeric__imputer__strategy=median, total=   0.1s\n",
      "[CV] model__max_depth=None, model__max_features=auto, model__min_samples_split=4, model__n_estimators=10, preprocessor__numeric__imputer__strategy=median \n",
      "[CV]  model__max_depth=None, model__max_features=auto, model__min_samples_split=4, model__n_estimators=10, preprocessor__numeric__imputer__strategy=median, total=   0.1s\n",
      "[CV] model__max_depth=None, model__max_features=auto, model__min_samples_split=4, model__n_estimators=100, preprocessor__numeric__imputer__strategy=mean \n",
      "[CV]  model__max_depth=None, model__max_features=auto, model__min_samples_split=4, model__n_estimators=100, preprocessor__numeric__imputer__strategy=mean, total=   0.3s\n",
      "[CV] model__max_depth=None, model__max_features=auto, model__min_samples_split=4, model__n_estimators=100, preprocessor__numeric__imputer__strategy=mean \n",
      "[CV]  model__max_depth=None, model__max_features=auto, model__min_samples_split=4, model__n_estimators=100, preprocessor__numeric__imputer__strategy=mean, total=   0.3s\n",
      "[CV] model__max_depth=None, model__max_features=auto, model__min_samples_split=4, model__n_estimators=100, preprocessor__numeric__imputer__strategy=mean \n",
      "[CV]  model__max_depth=None, model__max_features=auto, model__min_samples_split=4, model__n_estimators=100, preprocessor__numeric__imputer__strategy=mean, total=   0.3s\n",
      "[CV] model__max_depth=None, model__max_features=auto, model__min_samples_split=4, model__n_estimators=100, preprocessor__numeric__imputer__strategy=mean \n",
      "[CV]  model__max_depth=None, model__max_features=auto, model__min_samples_split=4, model__n_estimators=100, preprocessor__numeric__imputer__strategy=mean, total=   0.3s\n",
      "[CV] model__max_depth=None, model__max_features=auto, model__min_samples_split=4, model__n_estimators=100, preprocessor__numeric__imputer__strategy=mean \n",
      "[CV]  model__max_depth=None, model__max_features=auto, model__min_samples_split=4, model__n_estimators=100, preprocessor__numeric__imputer__strategy=mean, total=   0.3s\n",
      "[CV] model__max_depth=None, model__max_features=auto, model__min_samples_split=4, model__n_estimators=100, preprocessor__numeric__imputer__strategy=median \n",
      "[CV]  model__max_depth=None, model__max_features=auto, model__min_samples_split=4, model__n_estimators=100, preprocessor__numeric__imputer__strategy=median, total=   0.3s\n",
      "[CV] model__max_depth=None, model__max_features=auto, model__min_samples_split=4, model__n_estimators=100, preprocessor__numeric__imputer__strategy=median \n",
      "[CV]  model__max_depth=None, model__max_features=auto, model__min_samples_split=4, model__n_estimators=100, preprocessor__numeric__imputer__strategy=median, total=   0.3s\n",
      "[CV] model__max_depth=None, model__max_features=auto, model__min_samples_split=4, model__n_estimators=100, preprocessor__numeric__imputer__strategy=median \n",
      "[CV]  model__max_depth=None, model__max_features=auto, model__min_samples_split=4, model__n_estimators=100, preprocessor__numeric__imputer__strategy=median, total=   0.3s\n",
      "[CV] model__max_depth=None, model__max_features=auto, model__min_samples_split=4, model__n_estimators=100, preprocessor__numeric__imputer__strategy=median \n",
      "[CV]  model__max_depth=None, model__max_features=auto, model__min_samples_split=4, model__n_estimators=100, preprocessor__numeric__imputer__strategy=median, total=   0.3s\n",
      "[CV] model__max_depth=None, model__max_features=auto, model__min_samples_split=4, model__n_estimators=100, preprocessor__numeric__imputer__strategy=median \n",
      "[CV]  model__max_depth=None, model__max_features=auto, model__min_samples_split=4, model__n_estimators=100, preprocessor__numeric__imputer__strategy=median, total=   0.3s\n",
      "[CV] model__max_depth=None, model__max_features=auto, model__min_samples_split=4, model__n_estimators=1000, preprocessor__numeric__imputer__strategy=mean \n",
      "[CV]  model__max_depth=None, model__max_features=auto, model__min_samples_split=4, model__n_estimators=1000, preprocessor__numeric__imputer__strategy=mean, total=   2.7s\n",
      "[CV] model__max_depth=None, model__max_features=auto, model__min_samples_split=4, model__n_estimators=1000, preprocessor__numeric__imputer__strategy=mean \n",
      "[CV]  model__max_depth=None, model__max_features=auto, model__min_samples_split=4, model__n_estimators=1000, preprocessor__numeric__imputer__strategy=mean, total=   2.8s\n",
      "[CV] model__max_depth=None, model__max_features=auto, model__min_samples_split=4, model__n_estimators=1000, preprocessor__numeric__imputer__strategy=mean \n",
      "[CV]  model__max_depth=None, model__max_features=auto, model__min_samples_split=4, model__n_estimators=1000, preprocessor__numeric__imputer__strategy=mean, total=   2.7s\n",
      "[CV] model__max_depth=None, model__max_features=auto, model__min_samples_split=4, model__n_estimators=1000, preprocessor__numeric__imputer__strategy=mean \n",
      "[CV]  model__max_depth=None, model__max_features=auto, model__min_samples_split=4, model__n_estimators=1000, preprocessor__numeric__imputer__strategy=mean, total=   2.7s\n",
      "[CV] model__max_depth=None, model__max_features=auto, model__min_samples_split=4, model__n_estimators=1000, preprocessor__numeric__imputer__strategy=mean \n"
     ]
    },
    {
     "name": "stdout",
     "output_type": "stream",
     "text": [
      "[CV]  model__max_depth=None, model__max_features=auto, model__min_samples_split=4, model__n_estimators=1000, preprocessor__numeric__imputer__strategy=mean, total=   2.8s\n",
      "[CV] model__max_depth=None, model__max_features=auto, model__min_samples_split=4, model__n_estimators=1000, preprocessor__numeric__imputer__strategy=median \n",
      "[CV]  model__max_depth=None, model__max_features=auto, model__min_samples_split=4, model__n_estimators=1000, preprocessor__numeric__imputer__strategy=median, total=   3.3s\n",
      "[CV] model__max_depth=None, model__max_features=auto, model__min_samples_split=4, model__n_estimators=1000, preprocessor__numeric__imputer__strategy=median \n",
      "[CV]  model__max_depth=None, model__max_features=auto, model__min_samples_split=4, model__n_estimators=1000, preprocessor__numeric__imputer__strategy=median, total=   2.9s\n",
      "[CV] model__max_depth=None, model__max_features=auto, model__min_samples_split=4, model__n_estimators=1000, preprocessor__numeric__imputer__strategy=median \n",
      "[CV]  model__max_depth=None, model__max_features=auto, model__min_samples_split=4, model__n_estimators=1000, preprocessor__numeric__imputer__strategy=median, total=   2.8s\n",
      "[CV] model__max_depth=None, model__max_features=auto, model__min_samples_split=4, model__n_estimators=1000, preprocessor__numeric__imputer__strategy=median \n",
      "[CV]  model__max_depth=None, model__max_features=auto, model__min_samples_split=4, model__n_estimators=1000, preprocessor__numeric__imputer__strategy=median, total=   2.9s\n",
      "[CV] model__max_depth=None, model__max_features=auto, model__min_samples_split=4, model__n_estimators=1000, preprocessor__numeric__imputer__strategy=median \n",
      "[CV]  model__max_depth=None, model__max_features=auto, model__min_samples_split=4, model__n_estimators=1000, preprocessor__numeric__imputer__strategy=median, total=   2.7s\n",
      "[CV] model__max_depth=None, model__max_features=sqrt, model__min_samples_split=2, model__n_estimators=10, preprocessor__numeric__imputer__strategy=mean \n",
      "[CV]  model__max_depth=None, model__max_features=sqrt, model__min_samples_split=2, model__n_estimators=10, preprocessor__numeric__imputer__strategy=mean, total=   0.0s\n",
      "[CV] model__max_depth=None, model__max_features=sqrt, model__min_samples_split=2, model__n_estimators=10, preprocessor__numeric__imputer__strategy=mean \n",
      "[CV]  model__max_depth=None, model__max_features=sqrt, model__min_samples_split=2, model__n_estimators=10, preprocessor__numeric__imputer__strategy=mean, total=   0.0s\n",
      "[CV] model__max_depth=None, model__max_features=sqrt, model__min_samples_split=2, model__n_estimators=10, preprocessor__numeric__imputer__strategy=mean \n",
      "[CV]  model__max_depth=None, model__max_features=sqrt, model__min_samples_split=2, model__n_estimators=10, preprocessor__numeric__imputer__strategy=mean, total=   0.0s\n",
      "[CV] model__max_depth=None, model__max_features=sqrt, model__min_samples_split=2, model__n_estimators=10, preprocessor__numeric__imputer__strategy=mean \n",
      "[CV]  model__max_depth=None, model__max_features=sqrt, model__min_samples_split=2, model__n_estimators=10, preprocessor__numeric__imputer__strategy=mean, total=   0.0s\n",
      "[CV] model__max_depth=None, model__max_features=sqrt, model__min_samples_split=2, model__n_estimators=10, preprocessor__numeric__imputer__strategy=mean \n",
      "[CV]  model__max_depth=None, model__max_features=sqrt, model__min_samples_split=2, model__n_estimators=10, preprocessor__numeric__imputer__strategy=mean, total=   0.1s\n",
      "[CV] model__max_depth=None, model__max_features=sqrt, model__min_samples_split=2, model__n_estimators=10, preprocessor__numeric__imputer__strategy=median \n",
      "[CV]  model__max_depth=None, model__max_features=sqrt, model__min_samples_split=2, model__n_estimators=10, preprocessor__numeric__imputer__strategy=median, total=   0.1s\n",
      "[CV] model__max_depth=None, model__max_features=sqrt, model__min_samples_split=2, model__n_estimators=10, preprocessor__numeric__imputer__strategy=median \n",
      "[CV]  model__max_depth=None, model__max_features=sqrt, model__min_samples_split=2, model__n_estimators=10, preprocessor__numeric__imputer__strategy=median, total=   0.0s\n",
      "[CV] model__max_depth=None, model__max_features=sqrt, model__min_samples_split=2, model__n_estimators=10, preprocessor__numeric__imputer__strategy=median \n",
      "[CV]  model__max_depth=None, model__max_features=sqrt, model__min_samples_split=2, model__n_estimators=10, preprocessor__numeric__imputer__strategy=median, total=   0.0s\n",
      "[CV] model__max_depth=None, model__max_features=sqrt, model__min_samples_split=2, model__n_estimators=10, preprocessor__numeric__imputer__strategy=median \n",
      "[CV]  model__max_depth=None, model__max_features=sqrt, model__min_samples_split=2, model__n_estimators=10, preprocessor__numeric__imputer__strategy=median, total=   0.0s\n",
      "[CV] model__max_depth=None, model__max_features=sqrt, model__min_samples_split=2, model__n_estimators=10, preprocessor__numeric__imputer__strategy=median \n",
      "[CV]  model__max_depth=None, model__max_features=sqrt, model__min_samples_split=2, model__n_estimators=10, preprocessor__numeric__imputer__strategy=median, total=   0.1s\n",
      "[CV] model__max_depth=None, model__max_features=sqrt, model__min_samples_split=2, model__n_estimators=100, preprocessor__numeric__imputer__strategy=mean \n",
      "[CV]  model__max_depth=None, model__max_features=sqrt, model__min_samples_split=2, model__n_estimators=100, preprocessor__numeric__imputer__strategy=mean, total=   0.2s\n",
      "[CV] model__max_depth=None, model__max_features=sqrt, model__min_samples_split=2, model__n_estimators=100, preprocessor__numeric__imputer__strategy=mean \n",
      "[CV]  model__max_depth=None, model__max_features=sqrt, model__min_samples_split=2, model__n_estimators=100, preprocessor__numeric__imputer__strategy=mean, total=   0.2s\n",
      "[CV] model__max_depth=None, model__max_features=sqrt, model__min_samples_split=2, model__n_estimators=100, preprocessor__numeric__imputer__strategy=mean \n",
      "[CV]  model__max_depth=None, model__max_features=sqrt, model__min_samples_split=2, model__n_estimators=100, preprocessor__numeric__imputer__strategy=mean, total=   0.2s\n",
      "[CV] model__max_depth=None, model__max_features=sqrt, model__min_samples_split=2, model__n_estimators=100, preprocessor__numeric__imputer__strategy=mean \n",
      "[CV]  model__max_depth=None, model__max_features=sqrt, model__min_samples_split=2, model__n_estimators=100, preprocessor__numeric__imputer__strategy=mean, total=   0.3s\n",
      "[CV] model__max_depth=None, model__max_features=sqrt, model__min_samples_split=2, model__n_estimators=100, preprocessor__numeric__imputer__strategy=mean \n",
      "[CV]  model__max_depth=None, model__max_features=sqrt, model__min_samples_split=2, model__n_estimators=100, preprocessor__numeric__imputer__strategy=mean, total=   0.3s\n",
      "[CV] model__max_depth=None, model__max_features=sqrt, model__min_samples_split=2, model__n_estimators=100, preprocessor__numeric__imputer__strategy=median \n",
      "[CV]  model__max_depth=None, model__max_features=sqrt, model__min_samples_split=2, model__n_estimators=100, preprocessor__numeric__imputer__strategy=median, total=   0.3s\n",
      "[CV] model__max_depth=None, model__max_features=sqrt, model__min_samples_split=2, model__n_estimators=100, preprocessor__numeric__imputer__strategy=median \n",
      "[CV]  model__max_depth=None, model__max_features=sqrt, model__min_samples_split=2, model__n_estimators=100, preprocessor__numeric__imputer__strategy=median, total=   0.3s\n",
      "[CV] model__max_depth=None, model__max_features=sqrt, model__min_samples_split=2, model__n_estimators=100, preprocessor__numeric__imputer__strategy=median \n",
      "[CV]  model__max_depth=None, model__max_features=sqrt, model__min_samples_split=2, model__n_estimators=100, preprocessor__numeric__imputer__strategy=median, total=   0.2s\n",
      "[CV] model__max_depth=None, model__max_features=sqrt, model__min_samples_split=2, model__n_estimators=100, preprocessor__numeric__imputer__strategy=median \n",
      "[CV]  model__max_depth=None, model__max_features=sqrt, model__min_samples_split=2, model__n_estimators=100, preprocessor__numeric__imputer__strategy=median, total=   0.3s\n",
      "[CV] model__max_depth=None, model__max_features=sqrt, model__min_samples_split=2, model__n_estimators=100, preprocessor__numeric__imputer__strategy=median \n",
      "[CV]  model__max_depth=None, model__max_features=sqrt, model__min_samples_split=2, model__n_estimators=100, preprocessor__numeric__imputer__strategy=median, total=   0.3s\n",
      "[CV] model__max_depth=None, model__max_features=sqrt, model__min_samples_split=2, model__n_estimators=1000, preprocessor__numeric__imputer__strategy=mean \n"
     ]
    },
    {
     "name": "stdout",
     "output_type": "stream",
     "text": [
      "[CV]  model__max_depth=None, model__max_features=sqrt, model__min_samples_split=2, model__n_estimators=1000, preprocessor__numeric__imputer__strategy=mean, total=   2.2s\n",
      "[CV] model__max_depth=None, model__max_features=sqrt, model__min_samples_split=2, model__n_estimators=1000, preprocessor__numeric__imputer__strategy=mean \n",
      "[CV]  model__max_depth=None, model__max_features=sqrt, model__min_samples_split=2, model__n_estimators=1000, preprocessor__numeric__imputer__strategy=mean, total=   2.3s\n",
      "[CV] model__max_depth=None, model__max_features=sqrt, model__min_samples_split=2, model__n_estimators=1000, preprocessor__numeric__imputer__strategy=mean \n",
      "[CV]  model__max_depth=None, model__max_features=sqrt, model__min_samples_split=2, model__n_estimators=1000, preprocessor__numeric__imputer__strategy=mean, total=   2.2s\n",
      "[CV] model__max_depth=None, model__max_features=sqrt, model__min_samples_split=2, model__n_estimators=1000, preprocessor__numeric__imputer__strategy=mean \n",
      "[CV]  model__max_depth=None, model__max_features=sqrt, model__min_samples_split=2, model__n_estimators=1000, preprocessor__numeric__imputer__strategy=mean, total=   2.3s\n",
      "[CV] model__max_depth=None, model__max_features=sqrt, model__min_samples_split=2, model__n_estimators=1000, preprocessor__numeric__imputer__strategy=mean \n",
      "[CV]  model__max_depth=None, model__max_features=sqrt, model__min_samples_split=2, model__n_estimators=1000, preprocessor__numeric__imputer__strategy=mean, total=   2.3s\n",
      "[CV] model__max_depth=None, model__max_features=sqrt, model__min_samples_split=2, model__n_estimators=1000, preprocessor__numeric__imputer__strategy=median \n",
      "[CV]  model__max_depth=None, model__max_features=sqrt, model__min_samples_split=2, model__n_estimators=1000, preprocessor__numeric__imputer__strategy=median, total=   2.2s\n",
      "[CV] model__max_depth=None, model__max_features=sqrt, model__min_samples_split=2, model__n_estimators=1000, preprocessor__numeric__imputer__strategy=median \n",
      "[CV]  model__max_depth=None, model__max_features=sqrt, model__min_samples_split=2, model__n_estimators=1000, preprocessor__numeric__imputer__strategy=median, total=   2.4s\n",
      "[CV] model__max_depth=None, model__max_features=sqrt, model__min_samples_split=2, model__n_estimators=1000, preprocessor__numeric__imputer__strategy=median \n",
      "[CV]  model__max_depth=None, model__max_features=sqrt, model__min_samples_split=2, model__n_estimators=1000, preprocessor__numeric__imputer__strategy=median, total=   2.4s\n",
      "[CV] model__max_depth=None, model__max_features=sqrt, model__min_samples_split=2, model__n_estimators=1000, preprocessor__numeric__imputer__strategy=median \n",
      "[CV]  model__max_depth=None, model__max_features=sqrt, model__min_samples_split=2, model__n_estimators=1000, preprocessor__numeric__imputer__strategy=median, total=   2.3s\n",
      "[CV] model__max_depth=None, model__max_features=sqrt, model__min_samples_split=2, model__n_estimators=1000, preprocessor__numeric__imputer__strategy=median \n",
      "[CV]  model__max_depth=None, model__max_features=sqrt, model__min_samples_split=2, model__n_estimators=1000, preprocessor__numeric__imputer__strategy=median, total=   2.4s\n",
      "[CV] model__max_depth=None, model__max_features=sqrt, model__min_samples_split=4, model__n_estimators=10, preprocessor__numeric__imputer__strategy=mean \n",
      "[CV]  model__max_depth=None, model__max_features=sqrt, model__min_samples_split=4, model__n_estimators=10, preprocessor__numeric__imputer__strategy=mean, total=   0.0s\n",
      "[CV] model__max_depth=None, model__max_features=sqrt, model__min_samples_split=4, model__n_estimators=10, preprocessor__numeric__imputer__strategy=mean \n",
      "[CV]  model__max_depth=None, model__max_features=sqrt, model__min_samples_split=4, model__n_estimators=10, preprocessor__numeric__imputer__strategy=mean, total=   0.0s\n",
      "[CV] model__max_depth=None, model__max_features=sqrt, model__min_samples_split=4, model__n_estimators=10, preprocessor__numeric__imputer__strategy=mean \n",
      "[CV]  model__max_depth=None, model__max_features=sqrt, model__min_samples_split=4, model__n_estimators=10, preprocessor__numeric__imputer__strategy=mean, total=   0.0s\n",
      "[CV] model__max_depth=None, model__max_features=sqrt, model__min_samples_split=4, model__n_estimators=10, preprocessor__numeric__imputer__strategy=mean \n",
      "[CV]  model__max_depth=None, model__max_features=sqrt, model__min_samples_split=4, model__n_estimators=10, preprocessor__numeric__imputer__strategy=mean, total=   0.0s\n",
      "[CV] model__max_depth=None, model__max_features=sqrt, model__min_samples_split=4, model__n_estimators=10, preprocessor__numeric__imputer__strategy=mean \n",
      "[CV]  model__max_depth=None, model__max_features=sqrt, model__min_samples_split=4, model__n_estimators=10, preprocessor__numeric__imputer__strategy=mean, total=   0.0s\n",
      "[CV] model__max_depth=None, model__max_features=sqrt, model__min_samples_split=4, model__n_estimators=10, preprocessor__numeric__imputer__strategy=median \n",
      "[CV]  model__max_depth=None, model__max_features=sqrt, model__min_samples_split=4, model__n_estimators=10, preprocessor__numeric__imputer__strategy=median, total=   0.1s\n",
      "[CV] model__max_depth=None, model__max_features=sqrt, model__min_samples_split=4, model__n_estimators=10, preprocessor__numeric__imputer__strategy=median \n",
      "[CV]  model__max_depth=None, model__max_features=sqrt, model__min_samples_split=4, model__n_estimators=10, preprocessor__numeric__imputer__strategy=median, total=   0.1s\n",
      "[CV] model__max_depth=None, model__max_features=sqrt, model__min_samples_split=4, model__n_estimators=10, preprocessor__numeric__imputer__strategy=median \n",
      "[CV]  model__max_depth=None, model__max_features=sqrt, model__min_samples_split=4, model__n_estimators=10, preprocessor__numeric__imputer__strategy=median, total=   0.1s\n",
      "[CV] model__max_depth=None, model__max_features=sqrt, model__min_samples_split=4, model__n_estimators=10, preprocessor__numeric__imputer__strategy=median \n",
      "[CV]  model__max_depth=None, model__max_features=sqrt, model__min_samples_split=4, model__n_estimators=10, preprocessor__numeric__imputer__strategy=median, total=   0.0s\n",
      "[CV] model__max_depth=None, model__max_features=sqrt, model__min_samples_split=4, model__n_estimators=10, preprocessor__numeric__imputer__strategy=median \n",
      "[CV]  model__max_depth=None, model__max_features=sqrt, model__min_samples_split=4, model__n_estimators=10, preprocessor__numeric__imputer__strategy=median, total=   0.0s\n",
      "[CV] model__max_depth=None, model__max_features=sqrt, model__min_samples_split=4, model__n_estimators=100, preprocessor__numeric__imputer__strategy=mean \n",
      "[CV]  model__max_depth=None, model__max_features=sqrt, model__min_samples_split=4, model__n_estimators=100, preprocessor__numeric__imputer__strategy=mean, total=   0.3s\n",
      "[CV] model__max_depth=None, model__max_features=sqrt, model__min_samples_split=4, model__n_estimators=100, preprocessor__numeric__imputer__strategy=mean \n",
      "[CV]  model__max_depth=None, model__max_features=sqrt, model__min_samples_split=4, model__n_estimators=100, preprocessor__numeric__imputer__strategy=mean, total=   0.2s\n",
      "[CV] model__max_depth=None, model__max_features=sqrt, model__min_samples_split=4, model__n_estimators=100, preprocessor__numeric__imputer__strategy=mean \n",
      "[CV]  model__max_depth=None, model__max_features=sqrt, model__min_samples_split=4, model__n_estimators=100, preprocessor__numeric__imputer__strategy=mean, total=   0.2s\n",
      "[CV] model__max_depth=None, model__max_features=sqrt, model__min_samples_split=4, model__n_estimators=100, preprocessor__numeric__imputer__strategy=mean \n",
      "[CV]  model__max_depth=None, model__max_features=sqrt, model__min_samples_split=4, model__n_estimators=100, preprocessor__numeric__imputer__strategy=mean, total=   0.2s\n",
      "[CV] model__max_depth=None, model__max_features=sqrt, model__min_samples_split=4, model__n_estimators=100, preprocessor__numeric__imputer__strategy=mean \n",
      "[CV]  model__max_depth=None, model__max_features=sqrt, model__min_samples_split=4, model__n_estimators=100, preprocessor__numeric__imputer__strategy=mean, total=   0.3s\n",
      "[CV] model__max_depth=None, model__max_features=sqrt, model__min_samples_split=4, model__n_estimators=100, preprocessor__numeric__imputer__strategy=median \n",
      "[CV]  model__max_depth=None, model__max_features=sqrt, model__min_samples_split=4, model__n_estimators=100, preprocessor__numeric__imputer__strategy=median, total=   0.2s\n",
      "[CV] model__max_depth=None, model__max_features=sqrt, model__min_samples_split=4, model__n_estimators=100, preprocessor__numeric__imputer__strategy=median \n"
     ]
    },
    {
     "name": "stdout",
     "output_type": "stream",
     "text": [
      "[CV]  model__max_depth=None, model__max_features=sqrt, model__min_samples_split=4, model__n_estimators=100, preprocessor__numeric__imputer__strategy=median, total=   0.2s\n",
      "[CV] model__max_depth=None, model__max_features=sqrt, model__min_samples_split=4, model__n_estimators=100, preprocessor__numeric__imputer__strategy=median \n",
      "[CV]  model__max_depth=None, model__max_features=sqrt, model__min_samples_split=4, model__n_estimators=100, preprocessor__numeric__imputer__strategy=median, total=   0.2s\n",
      "[CV] model__max_depth=None, model__max_features=sqrt, model__min_samples_split=4, model__n_estimators=100, preprocessor__numeric__imputer__strategy=median \n",
      "[CV]  model__max_depth=None, model__max_features=sqrt, model__min_samples_split=4, model__n_estimators=100, preprocessor__numeric__imputer__strategy=median, total=   0.2s\n",
      "[CV] model__max_depth=None, model__max_features=sqrt, model__min_samples_split=4, model__n_estimators=100, preprocessor__numeric__imputer__strategy=median \n",
      "[CV]  model__max_depth=None, model__max_features=sqrt, model__min_samples_split=4, model__n_estimators=100, preprocessor__numeric__imputer__strategy=median, total=   0.2s\n",
      "[CV] model__max_depth=None, model__max_features=sqrt, model__min_samples_split=4, model__n_estimators=1000, preprocessor__numeric__imputer__strategy=mean \n",
      "[CV]  model__max_depth=None, model__max_features=sqrt, model__min_samples_split=4, model__n_estimators=1000, preprocessor__numeric__imputer__strategy=mean, total=   2.2s\n",
      "[CV] model__max_depth=None, model__max_features=sqrt, model__min_samples_split=4, model__n_estimators=1000, preprocessor__numeric__imputer__strategy=mean \n",
      "[CV]  model__max_depth=None, model__max_features=sqrt, model__min_samples_split=4, model__n_estimators=1000, preprocessor__numeric__imputer__strategy=mean, total=   2.2s\n",
      "[CV] model__max_depth=None, model__max_features=sqrt, model__min_samples_split=4, model__n_estimators=1000, preprocessor__numeric__imputer__strategy=mean \n",
      "[CV]  model__max_depth=None, model__max_features=sqrt, model__min_samples_split=4, model__n_estimators=1000, preprocessor__numeric__imputer__strategy=mean, total=   2.3s\n",
      "[CV] model__max_depth=None, model__max_features=sqrt, model__min_samples_split=4, model__n_estimators=1000, preprocessor__numeric__imputer__strategy=mean \n",
      "[CV]  model__max_depth=None, model__max_features=sqrt, model__min_samples_split=4, model__n_estimators=1000, preprocessor__numeric__imputer__strategy=mean, total=   2.2s\n",
      "[CV] model__max_depth=None, model__max_features=sqrt, model__min_samples_split=4, model__n_estimators=1000, preprocessor__numeric__imputer__strategy=mean \n",
      "[CV]  model__max_depth=None, model__max_features=sqrt, model__min_samples_split=4, model__n_estimators=1000, preprocessor__numeric__imputer__strategy=mean, total=   2.3s\n",
      "[CV] model__max_depth=None, model__max_features=sqrt, model__min_samples_split=4, model__n_estimators=1000, preprocessor__numeric__imputer__strategy=median \n",
      "[CV]  model__max_depth=None, model__max_features=sqrt, model__min_samples_split=4, model__n_estimators=1000, preprocessor__numeric__imputer__strategy=median, total=   2.1s\n",
      "[CV] model__max_depth=None, model__max_features=sqrt, model__min_samples_split=4, model__n_estimators=1000, preprocessor__numeric__imputer__strategy=median \n",
      "[CV]  model__max_depth=None, model__max_features=sqrt, model__min_samples_split=4, model__n_estimators=1000, preprocessor__numeric__imputer__strategy=median, total=   2.1s\n",
      "[CV] model__max_depth=None, model__max_features=sqrt, model__min_samples_split=4, model__n_estimators=1000, preprocessor__numeric__imputer__strategy=median \n",
      "[CV]  model__max_depth=None, model__max_features=sqrt, model__min_samples_split=4, model__n_estimators=1000, preprocessor__numeric__imputer__strategy=median, total=   2.1s\n",
      "[CV] model__max_depth=None, model__max_features=sqrt, model__min_samples_split=4, model__n_estimators=1000, preprocessor__numeric__imputer__strategy=median \n",
      "[CV]  model__max_depth=None, model__max_features=sqrt, model__min_samples_split=4, model__n_estimators=1000, preprocessor__numeric__imputer__strategy=median, total=   2.1s\n",
      "[CV] model__max_depth=None, model__max_features=sqrt, model__min_samples_split=4, model__n_estimators=1000, preprocessor__numeric__imputer__strategy=median \n",
      "[CV]  model__max_depth=None, model__max_features=sqrt, model__min_samples_split=4, model__n_estimators=1000, preprocessor__numeric__imputer__strategy=median, total=   2.2s\n",
      "[CV] model__max_depth=5, model__max_features=auto, model__min_samples_split=2, model__n_estimators=10, preprocessor__numeric__imputer__strategy=mean \n",
      "[CV]  model__max_depth=5, model__max_features=auto, model__min_samples_split=2, model__n_estimators=10, preprocessor__numeric__imputer__strategy=mean, total=   0.0s\n",
      "[CV] model__max_depth=5, model__max_features=auto, model__min_samples_split=2, model__n_estimators=10, preprocessor__numeric__imputer__strategy=mean \n",
      "[CV]  model__max_depth=5, model__max_features=auto, model__min_samples_split=2, model__n_estimators=10, preprocessor__numeric__imputer__strategy=mean, total=   0.0s\n",
      "[CV] model__max_depth=5, model__max_features=auto, model__min_samples_split=2, model__n_estimators=10, preprocessor__numeric__imputer__strategy=mean \n",
      "[CV]  model__max_depth=5, model__max_features=auto, model__min_samples_split=2, model__n_estimators=10, preprocessor__numeric__imputer__strategy=mean, total=   0.0s\n",
      "[CV] model__max_depth=5, model__max_features=auto, model__min_samples_split=2, model__n_estimators=10, preprocessor__numeric__imputer__strategy=mean \n",
      "[CV]  model__max_depth=5, model__max_features=auto, model__min_samples_split=2, model__n_estimators=10, preprocessor__numeric__imputer__strategy=mean, total=   0.0s\n",
      "[CV] model__max_depth=5, model__max_features=auto, model__min_samples_split=2, model__n_estimators=10, preprocessor__numeric__imputer__strategy=mean \n",
      "[CV]  model__max_depth=5, model__max_features=auto, model__min_samples_split=2, model__n_estimators=10, preprocessor__numeric__imputer__strategy=mean, total=   0.1s\n",
      "[CV] model__max_depth=5, model__max_features=auto, model__min_samples_split=2, model__n_estimators=10, preprocessor__numeric__imputer__strategy=median \n",
      "[CV]  model__max_depth=5, model__max_features=auto, model__min_samples_split=2, model__n_estimators=10, preprocessor__numeric__imputer__strategy=median, total=   0.1s\n",
      "[CV] model__max_depth=5, model__max_features=auto, model__min_samples_split=2, model__n_estimators=10, preprocessor__numeric__imputer__strategy=median \n",
      "[CV]  model__max_depth=5, model__max_features=auto, model__min_samples_split=2, model__n_estimators=10, preprocessor__numeric__imputer__strategy=median, total=   0.0s\n",
      "[CV] model__max_depth=5, model__max_features=auto, model__min_samples_split=2, model__n_estimators=10, preprocessor__numeric__imputer__strategy=median \n",
      "[CV]  model__max_depth=5, model__max_features=auto, model__min_samples_split=2, model__n_estimators=10, preprocessor__numeric__imputer__strategy=median, total=   0.0s\n",
      "[CV] model__max_depth=5, model__max_features=auto, model__min_samples_split=2, model__n_estimators=10, preprocessor__numeric__imputer__strategy=median \n",
      "[CV]  model__max_depth=5, model__max_features=auto, model__min_samples_split=2, model__n_estimators=10, preprocessor__numeric__imputer__strategy=median, total=   0.1s\n",
      "[CV] model__max_depth=5, model__max_features=auto, model__min_samples_split=2, model__n_estimators=10, preprocessor__numeric__imputer__strategy=median \n",
      "[CV]  model__max_depth=5, model__max_features=auto, model__min_samples_split=2, model__n_estimators=10, preprocessor__numeric__imputer__strategy=median, total=   0.0s\n",
      "[CV] model__max_depth=5, model__max_features=auto, model__min_samples_split=2, model__n_estimators=100, preprocessor__numeric__imputer__strategy=mean \n",
      "[CV]  model__max_depth=5, model__max_features=auto, model__min_samples_split=2, model__n_estimators=100, preprocessor__numeric__imputer__strategy=mean, total=   0.2s\n",
      "[CV] model__max_depth=5, model__max_features=auto, model__min_samples_split=2, model__n_estimators=100, preprocessor__numeric__imputer__strategy=mean \n",
      "[CV]  model__max_depth=5, model__max_features=auto, model__min_samples_split=2, model__n_estimators=100, preprocessor__numeric__imputer__strategy=mean, total=   0.2s\n",
      "[CV] model__max_depth=5, model__max_features=auto, model__min_samples_split=2, model__n_estimators=100, preprocessor__numeric__imputer__strategy=mean \n"
     ]
    },
    {
     "name": "stdout",
     "output_type": "stream",
     "text": [
      "[CV]  model__max_depth=5, model__max_features=auto, model__min_samples_split=2, model__n_estimators=100, preprocessor__numeric__imputer__strategy=mean, total=   0.2s\n",
      "[CV] model__max_depth=5, model__max_features=auto, model__min_samples_split=2, model__n_estimators=100, preprocessor__numeric__imputer__strategy=mean \n",
      "[CV]  model__max_depth=5, model__max_features=auto, model__min_samples_split=2, model__n_estimators=100, preprocessor__numeric__imputer__strategy=mean, total=   0.2s\n",
      "[CV] model__max_depth=5, model__max_features=auto, model__min_samples_split=2, model__n_estimators=100, preprocessor__numeric__imputer__strategy=mean \n",
      "[CV]  model__max_depth=5, model__max_features=auto, model__min_samples_split=2, model__n_estimators=100, preprocessor__numeric__imputer__strategy=mean, total=   0.2s\n",
      "[CV] model__max_depth=5, model__max_features=auto, model__min_samples_split=2, model__n_estimators=100, preprocessor__numeric__imputer__strategy=median \n",
      "[CV]  model__max_depth=5, model__max_features=auto, model__min_samples_split=2, model__n_estimators=100, preprocessor__numeric__imputer__strategy=median, total=   0.2s\n",
      "[CV] model__max_depth=5, model__max_features=auto, model__min_samples_split=2, model__n_estimators=100, preprocessor__numeric__imputer__strategy=median \n",
      "[CV]  model__max_depth=5, model__max_features=auto, model__min_samples_split=2, model__n_estimators=100, preprocessor__numeric__imputer__strategy=median, total=   0.2s\n",
      "[CV] model__max_depth=5, model__max_features=auto, model__min_samples_split=2, model__n_estimators=100, preprocessor__numeric__imputer__strategy=median \n",
      "[CV]  model__max_depth=5, model__max_features=auto, model__min_samples_split=2, model__n_estimators=100, preprocessor__numeric__imputer__strategy=median, total=   0.2s\n",
      "[CV] model__max_depth=5, model__max_features=auto, model__min_samples_split=2, model__n_estimators=100, preprocessor__numeric__imputer__strategy=median \n",
      "[CV]  model__max_depth=5, model__max_features=auto, model__min_samples_split=2, model__n_estimators=100, preprocessor__numeric__imputer__strategy=median, total=   0.2s\n",
      "[CV] model__max_depth=5, model__max_features=auto, model__min_samples_split=2, model__n_estimators=100, preprocessor__numeric__imputer__strategy=median \n",
      "[CV]  model__max_depth=5, model__max_features=auto, model__min_samples_split=2, model__n_estimators=100, preprocessor__numeric__imputer__strategy=median, total=   0.2s\n",
      "[CV] model__max_depth=5, model__max_features=auto, model__min_samples_split=2, model__n_estimators=1000, preprocessor__numeric__imputer__strategy=mean \n",
      "[CV]  model__max_depth=5, model__max_features=auto, model__min_samples_split=2, model__n_estimators=1000, preprocessor__numeric__imputer__strategy=mean, total=   2.1s\n",
      "[CV] model__max_depth=5, model__max_features=auto, model__min_samples_split=2, model__n_estimators=1000, preprocessor__numeric__imputer__strategy=mean \n",
      "[CV]  model__max_depth=5, model__max_features=auto, model__min_samples_split=2, model__n_estimators=1000, preprocessor__numeric__imputer__strategy=mean, total=   2.1s\n",
      "[CV] model__max_depth=5, model__max_features=auto, model__min_samples_split=2, model__n_estimators=1000, preprocessor__numeric__imputer__strategy=mean \n",
      "[CV]  model__max_depth=5, model__max_features=auto, model__min_samples_split=2, model__n_estimators=1000, preprocessor__numeric__imputer__strategy=mean, total=   2.1s\n",
      "[CV] model__max_depth=5, model__max_features=auto, model__min_samples_split=2, model__n_estimators=1000, preprocessor__numeric__imputer__strategy=mean \n",
      "[CV]  model__max_depth=5, model__max_features=auto, model__min_samples_split=2, model__n_estimators=1000, preprocessor__numeric__imputer__strategy=mean, total=   2.1s\n",
      "[CV] model__max_depth=5, model__max_features=auto, model__min_samples_split=2, model__n_estimators=1000, preprocessor__numeric__imputer__strategy=mean \n",
      "[CV]  model__max_depth=5, model__max_features=auto, model__min_samples_split=2, model__n_estimators=1000, preprocessor__numeric__imputer__strategy=mean, total=   2.1s\n",
      "[CV] model__max_depth=5, model__max_features=auto, model__min_samples_split=2, model__n_estimators=1000, preprocessor__numeric__imputer__strategy=median \n",
      "[CV]  model__max_depth=5, model__max_features=auto, model__min_samples_split=2, model__n_estimators=1000, preprocessor__numeric__imputer__strategy=median, total=   2.2s\n",
      "[CV] model__max_depth=5, model__max_features=auto, model__min_samples_split=2, model__n_estimators=1000, preprocessor__numeric__imputer__strategy=median \n",
      "[CV]  model__max_depth=5, model__max_features=auto, model__min_samples_split=2, model__n_estimators=1000, preprocessor__numeric__imputer__strategy=median, total=   2.2s\n",
      "[CV] model__max_depth=5, model__max_features=auto, model__min_samples_split=2, model__n_estimators=1000, preprocessor__numeric__imputer__strategy=median \n",
      "[CV]  model__max_depth=5, model__max_features=auto, model__min_samples_split=2, model__n_estimators=1000, preprocessor__numeric__imputer__strategy=median, total=   2.0s\n",
      "[CV] model__max_depth=5, model__max_features=auto, model__min_samples_split=2, model__n_estimators=1000, preprocessor__numeric__imputer__strategy=median \n",
      "[CV]  model__max_depth=5, model__max_features=auto, model__min_samples_split=2, model__n_estimators=1000, preprocessor__numeric__imputer__strategy=median, total=   2.0s\n",
      "[CV] model__max_depth=5, model__max_features=auto, model__min_samples_split=2, model__n_estimators=1000, preprocessor__numeric__imputer__strategy=median \n",
      "[CV]  model__max_depth=5, model__max_features=auto, model__min_samples_split=2, model__n_estimators=1000, preprocessor__numeric__imputer__strategy=median, total=   2.1s\n",
      "[CV] model__max_depth=5, model__max_features=auto, model__min_samples_split=4, model__n_estimators=10, preprocessor__numeric__imputer__strategy=mean \n",
      "[CV]  model__max_depth=5, model__max_features=auto, model__min_samples_split=4, model__n_estimators=10, preprocessor__numeric__imputer__strategy=mean, total=   0.1s\n",
      "[CV] model__max_depth=5, model__max_features=auto, model__min_samples_split=4, model__n_estimators=10, preprocessor__numeric__imputer__strategy=mean \n",
      "[CV]  model__max_depth=5, model__max_features=auto, model__min_samples_split=4, model__n_estimators=10, preprocessor__numeric__imputer__strategy=mean, total=   0.1s\n",
      "[CV] model__max_depth=5, model__max_features=auto, model__min_samples_split=4, model__n_estimators=10, preprocessor__numeric__imputer__strategy=mean \n",
      "[CV]  model__max_depth=5, model__max_features=auto, model__min_samples_split=4, model__n_estimators=10, preprocessor__numeric__imputer__strategy=mean, total=   0.0s\n",
      "[CV] model__max_depth=5, model__max_features=auto, model__min_samples_split=4, model__n_estimators=10, preprocessor__numeric__imputer__strategy=mean \n",
      "[CV]  model__max_depth=5, model__max_features=auto, model__min_samples_split=4, model__n_estimators=10, preprocessor__numeric__imputer__strategy=mean, total=   0.0s\n",
      "[CV] model__max_depth=5, model__max_features=auto, model__min_samples_split=4, model__n_estimators=10, preprocessor__numeric__imputer__strategy=mean \n",
      "[CV]  model__max_depth=5, model__max_features=auto, model__min_samples_split=4, model__n_estimators=10, preprocessor__numeric__imputer__strategy=mean, total=   0.0s\n",
      "[CV] model__max_depth=5, model__max_features=auto, model__min_samples_split=4, model__n_estimators=10, preprocessor__numeric__imputer__strategy=median \n",
      "[CV]  model__max_depth=5, model__max_features=auto, model__min_samples_split=4, model__n_estimators=10, preprocessor__numeric__imputer__strategy=median, total=   0.0s\n",
      "[CV] model__max_depth=5, model__max_features=auto, model__min_samples_split=4, model__n_estimators=10, preprocessor__numeric__imputer__strategy=median \n",
      "[CV]  model__max_depth=5, model__max_features=auto, model__min_samples_split=4, model__n_estimators=10, preprocessor__numeric__imputer__strategy=median, total=   0.0s\n",
      "[CV] model__max_depth=5, model__max_features=auto, model__min_samples_split=4, model__n_estimators=10, preprocessor__numeric__imputer__strategy=median \n",
      "[CV]  model__max_depth=5, model__max_features=auto, model__min_samples_split=4, model__n_estimators=10, preprocessor__numeric__imputer__strategy=median, total=   0.0s\n",
      "[CV] model__max_depth=5, model__max_features=auto, model__min_samples_split=4, model__n_estimators=10, preprocessor__numeric__imputer__strategy=median \n"
     ]
    },
    {
     "name": "stdout",
     "output_type": "stream",
     "text": [
      "[CV]  model__max_depth=5, model__max_features=auto, model__min_samples_split=4, model__n_estimators=10, preprocessor__numeric__imputer__strategy=median, total=   0.0s\n",
      "[CV] model__max_depth=5, model__max_features=auto, model__min_samples_split=4, model__n_estimators=10, preprocessor__numeric__imputer__strategy=median \n",
      "[CV]  model__max_depth=5, model__max_features=auto, model__min_samples_split=4, model__n_estimators=10, preprocessor__numeric__imputer__strategy=median, total=   0.0s\n",
      "[CV] model__max_depth=5, model__max_features=auto, model__min_samples_split=4, model__n_estimators=100, preprocessor__numeric__imputer__strategy=mean \n",
      "[CV]  model__max_depth=5, model__max_features=auto, model__min_samples_split=4, model__n_estimators=100, preprocessor__numeric__imputer__strategy=mean, total=   0.2s\n",
      "[CV] model__max_depth=5, model__max_features=auto, model__min_samples_split=4, model__n_estimators=100, preprocessor__numeric__imputer__strategy=mean \n",
      "[CV]  model__max_depth=5, model__max_features=auto, model__min_samples_split=4, model__n_estimators=100, preprocessor__numeric__imputer__strategy=mean, total=   0.2s\n",
      "[CV] model__max_depth=5, model__max_features=auto, model__min_samples_split=4, model__n_estimators=100, preprocessor__numeric__imputer__strategy=mean \n",
      "[CV]  model__max_depth=5, model__max_features=auto, model__min_samples_split=4, model__n_estimators=100, preprocessor__numeric__imputer__strategy=mean, total=   0.2s\n",
      "[CV] model__max_depth=5, model__max_features=auto, model__min_samples_split=4, model__n_estimators=100, preprocessor__numeric__imputer__strategy=mean \n",
      "[CV]  model__max_depth=5, model__max_features=auto, model__min_samples_split=4, model__n_estimators=100, preprocessor__numeric__imputer__strategy=mean, total=   0.2s\n",
      "[CV] model__max_depth=5, model__max_features=auto, model__min_samples_split=4, model__n_estimators=100, preprocessor__numeric__imputer__strategy=mean \n",
      "[CV]  model__max_depth=5, model__max_features=auto, model__min_samples_split=4, model__n_estimators=100, preprocessor__numeric__imputer__strategy=mean, total=   0.2s\n",
      "[CV] model__max_depth=5, model__max_features=auto, model__min_samples_split=4, model__n_estimators=100, preprocessor__numeric__imputer__strategy=median \n",
      "[CV]  model__max_depth=5, model__max_features=auto, model__min_samples_split=4, model__n_estimators=100, preprocessor__numeric__imputer__strategy=median, total=   0.3s\n",
      "[CV] model__max_depth=5, model__max_features=auto, model__min_samples_split=4, model__n_estimators=100, preprocessor__numeric__imputer__strategy=median \n",
      "[CV]  model__max_depth=5, model__max_features=auto, model__min_samples_split=4, model__n_estimators=100, preprocessor__numeric__imputer__strategy=median, total=   0.2s\n",
      "[CV] model__max_depth=5, model__max_features=auto, model__min_samples_split=4, model__n_estimators=100, preprocessor__numeric__imputer__strategy=median \n",
      "[CV]  model__max_depth=5, model__max_features=auto, model__min_samples_split=4, model__n_estimators=100, preprocessor__numeric__imputer__strategy=median, total=   0.2s\n",
      "[CV] model__max_depth=5, model__max_features=auto, model__min_samples_split=4, model__n_estimators=100, preprocessor__numeric__imputer__strategy=median \n",
      "[CV]  model__max_depth=5, model__max_features=auto, model__min_samples_split=4, model__n_estimators=100, preprocessor__numeric__imputer__strategy=median, total=   0.2s\n",
      "[CV] model__max_depth=5, model__max_features=auto, model__min_samples_split=4, model__n_estimators=100, preprocessor__numeric__imputer__strategy=median \n",
      "[CV]  model__max_depth=5, model__max_features=auto, model__min_samples_split=4, model__n_estimators=100, preprocessor__numeric__imputer__strategy=median, total=   0.2s\n",
      "[CV] model__max_depth=5, model__max_features=auto, model__min_samples_split=4, model__n_estimators=1000, preprocessor__numeric__imputer__strategy=mean \n",
      "[CV]  model__max_depth=5, model__max_features=auto, model__min_samples_split=4, model__n_estimators=1000, preprocessor__numeric__imputer__strategy=mean, total=   2.0s\n",
      "[CV] model__max_depth=5, model__max_features=auto, model__min_samples_split=4, model__n_estimators=1000, preprocessor__numeric__imputer__strategy=mean \n",
      "[CV]  model__max_depth=5, model__max_features=auto, model__min_samples_split=4, model__n_estimators=1000, preprocessor__numeric__imputer__strategy=mean, total=   2.0s\n",
      "[CV] model__max_depth=5, model__max_features=auto, model__min_samples_split=4, model__n_estimators=1000, preprocessor__numeric__imputer__strategy=mean \n",
      "[CV]  model__max_depth=5, model__max_features=auto, model__min_samples_split=4, model__n_estimators=1000, preprocessor__numeric__imputer__strategy=mean, total=   1.9s\n",
      "[CV] model__max_depth=5, model__max_features=auto, model__min_samples_split=4, model__n_estimators=1000, preprocessor__numeric__imputer__strategy=mean \n",
      "[CV]  model__max_depth=5, model__max_features=auto, model__min_samples_split=4, model__n_estimators=1000, preprocessor__numeric__imputer__strategy=mean, total=   2.0s\n",
      "[CV] model__max_depth=5, model__max_features=auto, model__min_samples_split=4, model__n_estimators=1000, preprocessor__numeric__imputer__strategy=mean \n",
      "[CV]  model__max_depth=5, model__max_features=auto, model__min_samples_split=4, model__n_estimators=1000, preprocessor__numeric__imputer__strategy=mean, total=   1.9s\n",
      "[CV] model__max_depth=5, model__max_features=auto, model__min_samples_split=4, model__n_estimators=1000, preprocessor__numeric__imputer__strategy=median \n",
      "[CV]  model__max_depth=5, model__max_features=auto, model__min_samples_split=4, model__n_estimators=1000, preprocessor__numeric__imputer__strategy=median, total=   2.0s\n",
      "[CV] model__max_depth=5, model__max_features=auto, model__min_samples_split=4, model__n_estimators=1000, preprocessor__numeric__imputer__strategy=median \n",
      "[CV]  model__max_depth=5, model__max_features=auto, model__min_samples_split=4, model__n_estimators=1000, preprocessor__numeric__imputer__strategy=median, total=   2.0s\n",
      "[CV] model__max_depth=5, model__max_features=auto, model__min_samples_split=4, model__n_estimators=1000, preprocessor__numeric__imputer__strategy=median \n",
      "[CV]  model__max_depth=5, model__max_features=auto, model__min_samples_split=4, model__n_estimators=1000, preprocessor__numeric__imputer__strategy=median, total=   2.0s\n",
      "[CV] model__max_depth=5, model__max_features=auto, model__min_samples_split=4, model__n_estimators=1000, preprocessor__numeric__imputer__strategy=median \n",
      "[CV]  model__max_depth=5, model__max_features=auto, model__min_samples_split=4, model__n_estimators=1000, preprocessor__numeric__imputer__strategy=median, total=   1.9s\n",
      "[CV] model__max_depth=5, model__max_features=auto, model__min_samples_split=4, model__n_estimators=1000, preprocessor__numeric__imputer__strategy=median \n",
      "[CV]  model__max_depth=5, model__max_features=auto, model__min_samples_split=4, model__n_estimators=1000, preprocessor__numeric__imputer__strategy=median, total=   2.0s\n",
      "[CV] model__max_depth=5, model__max_features=sqrt, model__min_samples_split=2, model__n_estimators=10, preprocessor__numeric__imputer__strategy=mean \n",
      "[CV]  model__max_depth=5, model__max_features=sqrt, model__min_samples_split=2, model__n_estimators=10, preprocessor__numeric__imputer__strategy=mean, total=   0.0s\n",
      "[CV] model__max_depth=5, model__max_features=sqrt, model__min_samples_split=2, model__n_estimators=10, preprocessor__numeric__imputer__strategy=mean \n",
      "[CV]  model__max_depth=5, model__max_features=sqrt, model__min_samples_split=2, model__n_estimators=10, preprocessor__numeric__imputer__strategy=mean, total=   0.0s\n",
      "[CV] model__max_depth=5, model__max_features=sqrt, model__min_samples_split=2, model__n_estimators=10, preprocessor__numeric__imputer__strategy=mean \n",
      "[CV]  model__max_depth=5, model__max_features=sqrt, model__min_samples_split=2, model__n_estimators=10, preprocessor__numeric__imputer__strategy=mean, total=   0.0s\n",
      "[CV] model__max_depth=5, model__max_features=sqrt, model__min_samples_split=2, model__n_estimators=10, preprocessor__numeric__imputer__strategy=mean \n",
      "[CV]  model__max_depth=5, model__max_features=sqrt, model__min_samples_split=2, model__n_estimators=10, preprocessor__numeric__imputer__strategy=mean, total=   0.0s\n",
      "[CV] model__max_depth=5, model__max_features=sqrt, model__min_samples_split=2, model__n_estimators=10, preprocessor__numeric__imputer__strategy=mean \n"
     ]
    },
    {
     "name": "stdout",
     "output_type": "stream",
     "text": [
      "[CV]  model__max_depth=5, model__max_features=sqrt, model__min_samples_split=2, model__n_estimators=10, preprocessor__numeric__imputer__strategy=mean, total=   0.0s\n",
      "[CV] model__max_depth=5, model__max_features=sqrt, model__min_samples_split=2, model__n_estimators=10, preprocessor__numeric__imputer__strategy=median \n",
      "[CV]  model__max_depth=5, model__max_features=sqrt, model__min_samples_split=2, model__n_estimators=10, preprocessor__numeric__imputer__strategy=median, total=   0.0s\n",
      "[CV] model__max_depth=5, model__max_features=sqrt, model__min_samples_split=2, model__n_estimators=10, preprocessor__numeric__imputer__strategy=median \n",
      "[CV]  model__max_depth=5, model__max_features=sqrt, model__min_samples_split=2, model__n_estimators=10, preprocessor__numeric__imputer__strategy=median, total=   0.1s\n",
      "[CV] model__max_depth=5, model__max_features=sqrt, model__min_samples_split=2, model__n_estimators=10, preprocessor__numeric__imputer__strategy=median \n",
      "[CV]  model__max_depth=5, model__max_features=sqrt, model__min_samples_split=2, model__n_estimators=10, preprocessor__numeric__imputer__strategy=median, total=   0.1s\n",
      "[CV] model__max_depth=5, model__max_features=sqrt, model__min_samples_split=2, model__n_estimators=10, preprocessor__numeric__imputer__strategy=median \n",
      "[CV]  model__max_depth=5, model__max_features=sqrt, model__min_samples_split=2, model__n_estimators=10, preprocessor__numeric__imputer__strategy=median, total=   0.0s\n",
      "[CV] model__max_depth=5, model__max_features=sqrt, model__min_samples_split=2, model__n_estimators=10, preprocessor__numeric__imputer__strategy=median \n",
      "[CV]  model__max_depth=5, model__max_features=sqrt, model__min_samples_split=2, model__n_estimators=10, preprocessor__numeric__imputer__strategy=median, total=   0.0s\n",
      "[CV] model__max_depth=5, model__max_features=sqrt, model__min_samples_split=2, model__n_estimators=100, preprocessor__numeric__imputer__strategy=mean \n",
      "[CV]  model__max_depth=5, model__max_features=sqrt, model__min_samples_split=2, model__n_estimators=100, preprocessor__numeric__imputer__strategy=mean, total=   0.2s\n",
      "[CV] model__max_depth=5, model__max_features=sqrt, model__min_samples_split=2, model__n_estimators=100, preprocessor__numeric__imputer__strategy=mean \n",
      "[CV]  model__max_depth=5, model__max_features=sqrt, model__min_samples_split=2, model__n_estimators=100, preprocessor__numeric__imputer__strategy=mean, total=   0.2s\n",
      "[CV] model__max_depth=5, model__max_features=sqrt, model__min_samples_split=2, model__n_estimators=100, preprocessor__numeric__imputer__strategy=mean \n",
      "[CV]  model__max_depth=5, model__max_features=sqrt, model__min_samples_split=2, model__n_estimators=100, preprocessor__numeric__imputer__strategy=mean, total=   0.2s\n",
      "[CV] model__max_depth=5, model__max_features=sqrt, model__min_samples_split=2, model__n_estimators=100, preprocessor__numeric__imputer__strategy=mean \n",
      "[CV]  model__max_depth=5, model__max_features=sqrt, model__min_samples_split=2, model__n_estimators=100, preprocessor__numeric__imputer__strategy=mean, total=   0.2s\n",
      "[CV] model__max_depth=5, model__max_features=sqrt, model__min_samples_split=2, model__n_estimators=100, preprocessor__numeric__imputer__strategy=mean \n",
      "[CV]  model__max_depth=5, model__max_features=sqrt, model__min_samples_split=2, model__n_estimators=100, preprocessor__numeric__imputer__strategy=mean, total=   0.2s\n",
      "[CV] model__max_depth=5, model__max_features=sqrt, model__min_samples_split=2, model__n_estimators=100, preprocessor__numeric__imputer__strategy=median \n",
      "[CV]  model__max_depth=5, model__max_features=sqrt, model__min_samples_split=2, model__n_estimators=100, preprocessor__numeric__imputer__strategy=median, total=   0.3s\n",
      "[CV] model__max_depth=5, model__max_features=sqrt, model__min_samples_split=2, model__n_estimators=100, preprocessor__numeric__imputer__strategy=median \n",
      "[CV]  model__max_depth=5, model__max_features=sqrt, model__min_samples_split=2, model__n_estimators=100, preprocessor__numeric__imputer__strategy=median, total=   0.2s\n",
      "[CV] model__max_depth=5, model__max_features=sqrt, model__min_samples_split=2, model__n_estimators=100, preprocessor__numeric__imputer__strategy=median \n",
      "[CV]  model__max_depth=5, model__max_features=sqrt, model__min_samples_split=2, model__n_estimators=100, preprocessor__numeric__imputer__strategy=median, total=   0.2s\n",
      "[CV] model__max_depth=5, model__max_features=sqrt, model__min_samples_split=2, model__n_estimators=100, preprocessor__numeric__imputer__strategy=median \n",
      "[CV]  model__max_depth=5, model__max_features=sqrt, model__min_samples_split=2, model__n_estimators=100, preprocessor__numeric__imputer__strategy=median, total=   0.2s\n",
      "[CV] model__max_depth=5, model__max_features=sqrt, model__min_samples_split=2, model__n_estimators=100, preprocessor__numeric__imputer__strategy=median \n",
      "[CV]  model__max_depth=5, model__max_features=sqrt, model__min_samples_split=2, model__n_estimators=100, preprocessor__numeric__imputer__strategy=median, total=   0.2s\n",
      "[CV] model__max_depth=5, model__max_features=sqrt, model__min_samples_split=2, model__n_estimators=1000, preprocessor__numeric__imputer__strategy=mean \n",
      "[CV]  model__max_depth=5, model__max_features=sqrt, model__min_samples_split=2, model__n_estimators=1000, preprocessor__numeric__imputer__strategy=mean, total=   1.7s\n",
      "[CV] model__max_depth=5, model__max_features=sqrt, model__min_samples_split=2, model__n_estimators=1000, preprocessor__numeric__imputer__strategy=mean \n",
      "[CV]  model__max_depth=5, model__max_features=sqrt, model__min_samples_split=2, model__n_estimators=1000, preprocessor__numeric__imputer__strategy=mean, total=   1.7s\n",
      "[CV] model__max_depth=5, model__max_features=sqrt, model__min_samples_split=2, model__n_estimators=1000, preprocessor__numeric__imputer__strategy=mean \n",
      "[CV]  model__max_depth=5, model__max_features=sqrt, model__min_samples_split=2, model__n_estimators=1000, preprocessor__numeric__imputer__strategy=mean, total=   1.9s\n",
      "[CV] model__max_depth=5, model__max_features=sqrt, model__min_samples_split=2, model__n_estimators=1000, preprocessor__numeric__imputer__strategy=mean \n",
      "[CV]  model__max_depth=5, model__max_features=sqrt, model__min_samples_split=2, model__n_estimators=1000, preprocessor__numeric__imputer__strategy=mean, total=   1.8s\n",
      "[CV] model__max_depth=5, model__max_features=sqrt, model__min_samples_split=2, model__n_estimators=1000, preprocessor__numeric__imputer__strategy=mean \n",
      "[CV]  model__max_depth=5, model__max_features=sqrt, model__min_samples_split=2, model__n_estimators=1000, preprocessor__numeric__imputer__strategy=mean, total=   1.7s\n",
      "[CV] model__max_depth=5, model__max_features=sqrt, model__min_samples_split=2, model__n_estimators=1000, preprocessor__numeric__imputer__strategy=median \n",
      "[CV]  model__max_depth=5, model__max_features=sqrt, model__min_samples_split=2, model__n_estimators=1000, preprocessor__numeric__imputer__strategy=median, total=   1.8s\n",
      "[CV] model__max_depth=5, model__max_features=sqrt, model__min_samples_split=2, model__n_estimators=1000, preprocessor__numeric__imputer__strategy=median \n",
      "[CV]  model__max_depth=5, model__max_features=sqrt, model__min_samples_split=2, model__n_estimators=1000, preprocessor__numeric__imputer__strategy=median, total=   1.7s\n",
      "[CV] model__max_depth=5, model__max_features=sqrt, model__min_samples_split=2, model__n_estimators=1000, preprocessor__numeric__imputer__strategy=median \n",
      "[CV]  model__max_depth=5, model__max_features=sqrt, model__min_samples_split=2, model__n_estimators=1000, preprocessor__numeric__imputer__strategy=median, total=   1.9s\n",
      "[CV] model__max_depth=5, model__max_features=sqrt, model__min_samples_split=2, model__n_estimators=1000, preprocessor__numeric__imputer__strategy=median \n",
      "[CV]  model__max_depth=5, model__max_features=sqrt, model__min_samples_split=2, model__n_estimators=1000, preprocessor__numeric__imputer__strategy=median, total=   1.9s\n",
      "[CV] model__max_depth=5, model__max_features=sqrt, model__min_samples_split=2, model__n_estimators=1000, preprocessor__numeric__imputer__strategy=median \n",
      "[CV]  model__max_depth=5, model__max_features=sqrt, model__min_samples_split=2, model__n_estimators=1000, preprocessor__numeric__imputer__strategy=median, total=   1.7s\n",
      "[CV] model__max_depth=5, model__max_features=sqrt, model__min_samples_split=4, model__n_estimators=10, preprocessor__numeric__imputer__strategy=mean \n",
      "[CV]  model__max_depth=5, model__max_features=sqrt, model__min_samples_split=4, model__n_estimators=10, preprocessor__numeric__imputer__strategy=mean, total=   0.0s\n",
      "[CV] model__max_depth=5, model__max_features=sqrt, model__min_samples_split=4, model__n_estimators=10, preprocessor__numeric__imputer__strategy=mean \n",
      "[CV]  model__max_depth=5, model__max_features=sqrt, model__min_samples_split=4, model__n_estimators=10, preprocessor__numeric__imputer__strategy=mean, total=   0.0s\n",
      "[CV] model__max_depth=5, model__max_features=sqrt, model__min_samples_split=4, model__n_estimators=10, preprocessor__numeric__imputer__strategy=mean \n",
      "[CV]  model__max_depth=5, model__max_features=sqrt, model__min_samples_split=4, model__n_estimators=10, preprocessor__numeric__imputer__strategy=mean, total=   0.0s\n",
      "[CV] model__max_depth=5, model__max_features=sqrt, model__min_samples_split=4, model__n_estimators=10, preprocessor__numeric__imputer__strategy=mean \n",
      "[CV]  model__max_depth=5, model__max_features=sqrt, model__min_samples_split=4, model__n_estimators=10, preprocessor__numeric__imputer__strategy=mean, total=   0.0s\n",
      "[CV] model__max_depth=5, model__max_features=sqrt, model__min_samples_split=4, model__n_estimators=10, preprocessor__numeric__imputer__strategy=mean \n"
     ]
    },
    {
     "name": "stdout",
     "output_type": "stream",
     "text": [
      "[CV]  model__max_depth=5, model__max_features=sqrt, model__min_samples_split=4, model__n_estimators=10, preprocessor__numeric__imputer__strategy=mean, total=   0.0s\n",
      "[CV] model__max_depth=5, model__max_features=sqrt, model__min_samples_split=4, model__n_estimators=10, preprocessor__numeric__imputer__strategy=median \n",
      "[CV]  model__max_depth=5, model__max_features=sqrt, model__min_samples_split=4, model__n_estimators=10, preprocessor__numeric__imputer__strategy=median, total=   0.0s\n",
      "[CV] model__max_depth=5, model__max_features=sqrt, model__min_samples_split=4, model__n_estimators=10, preprocessor__numeric__imputer__strategy=median \n",
      "[CV]  model__max_depth=5, model__max_features=sqrt, model__min_samples_split=4, model__n_estimators=10, preprocessor__numeric__imputer__strategy=median, total=   0.0s\n",
      "[CV] model__max_depth=5, model__max_features=sqrt, model__min_samples_split=4, model__n_estimators=10, preprocessor__numeric__imputer__strategy=median \n",
      "[CV]  model__max_depth=5, model__max_features=sqrt, model__min_samples_split=4, model__n_estimators=10, preprocessor__numeric__imputer__strategy=median, total=   0.0s\n",
      "[CV] model__max_depth=5, model__max_features=sqrt, model__min_samples_split=4, model__n_estimators=10, preprocessor__numeric__imputer__strategy=median \n",
      "[CV]  model__max_depth=5, model__max_features=sqrt, model__min_samples_split=4, model__n_estimators=10, preprocessor__numeric__imputer__strategy=median, total=   0.0s\n",
      "[CV] model__max_depth=5, model__max_features=sqrt, model__min_samples_split=4, model__n_estimators=10, preprocessor__numeric__imputer__strategy=median \n",
      "[CV]  model__max_depth=5, model__max_features=sqrt, model__min_samples_split=4, model__n_estimators=10, preprocessor__numeric__imputer__strategy=median, total=   0.1s\n",
      "[CV] model__max_depth=5, model__max_features=sqrt, model__min_samples_split=4, model__n_estimators=100, preprocessor__numeric__imputer__strategy=mean \n",
      "[CV]  model__max_depth=5, model__max_features=sqrt, model__min_samples_split=4, model__n_estimators=100, preprocessor__numeric__imputer__strategy=mean, total=   0.2s\n",
      "[CV] model__max_depth=5, model__max_features=sqrt, model__min_samples_split=4, model__n_estimators=100, preprocessor__numeric__imputer__strategy=mean \n",
      "[CV]  model__max_depth=5, model__max_features=sqrt, model__min_samples_split=4, model__n_estimators=100, preprocessor__numeric__imputer__strategy=mean, total=   0.2s\n",
      "[CV] model__max_depth=5, model__max_features=sqrt, model__min_samples_split=4, model__n_estimators=100, preprocessor__numeric__imputer__strategy=mean \n",
      "[CV]  model__max_depth=5, model__max_features=sqrt, model__min_samples_split=4, model__n_estimators=100, preprocessor__numeric__imputer__strategy=mean, total=   0.2s\n",
      "[CV] model__max_depth=5, model__max_features=sqrt, model__min_samples_split=4, model__n_estimators=100, preprocessor__numeric__imputer__strategy=mean \n",
      "[CV]  model__max_depth=5, model__max_features=sqrt, model__min_samples_split=4, model__n_estimators=100, preprocessor__numeric__imputer__strategy=mean, total=   0.2s\n",
      "[CV] model__max_depth=5, model__max_features=sqrt, model__min_samples_split=4, model__n_estimators=100, preprocessor__numeric__imputer__strategy=mean \n",
      "[CV]  model__max_depth=5, model__max_features=sqrt, model__min_samples_split=4, model__n_estimators=100, preprocessor__numeric__imputer__strategy=mean, total=   0.2s\n",
      "[CV] model__max_depth=5, model__max_features=sqrt, model__min_samples_split=4, model__n_estimators=100, preprocessor__numeric__imputer__strategy=median \n",
      "[CV]  model__max_depth=5, model__max_features=sqrt, model__min_samples_split=4, model__n_estimators=100, preprocessor__numeric__imputer__strategy=median, total=   0.2s\n",
      "[CV] model__max_depth=5, model__max_features=sqrt, model__min_samples_split=4, model__n_estimators=100, preprocessor__numeric__imputer__strategy=median \n",
      "[CV]  model__max_depth=5, model__max_features=sqrt, model__min_samples_split=4, model__n_estimators=100, preprocessor__numeric__imputer__strategy=median, total=   0.2s\n",
      "[CV] model__max_depth=5, model__max_features=sqrt, model__min_samples_split=4, model__n_estimators=100, preprocessor__numeric__imputer__strategy=median \n",
      "[CV]  model__max_depth=5, model__max_features=sqrt, model__min_samples_split=4, model__n_estimators=100, preprocessor__numeric__imputer__strategy=median, total=   0.2s\n",
      "[CV] model__max_depth=5, model__max_features=sqrt, model__min_samples_split=4, model__n_estimators=100, preprocessor__numeric__imputer__strategy=median \n",
      "[CV]  model__max_depth=5, model__max_features=sqrt, model__min_samples_split=4, model__n_estimators=100, preprocessor__numeric__imputer__strategy=median, total=   0.2s\n",
      "[CV] model__max_depth=5, model__max_features=sqrt, model__min_samples_split=4, model__n_estimators=100, preprocessor__numeric__imputer__strategy=median \n",
      "[CV]  model__max_depth=5, model__max_features=sqrt, model__min_samples_split=4, model__n_estimators=100, preprocessor__numeric__imputer__strategy=median, total=   0.2s\n",
      "[CV] model__max_depth=5, model__max_features=sqrt, model__min_samples_split=4, model__n_estimators=1000, preprocessor__numeric__imputer__strategy=mean \n",
      "[CV]  model__max_depth=5, model__max_features=sqrt, model__min_samples_split=4, model__n_estimators=1000, preprocessor__numeric__imputer__strategy=mean, total=   1.7s\n",
      "[CV] model__max_depth=5, model__max_features=sqrt, model__min_samples_split=4, model__n_estimators=1000, preprocessor__numeric__imputer__strategy=mean \n",
      "[CV]  model__max_depth=5, model__max_features=sqrt, model__min_samples_split=4, model__n_estimators=1000, preprocessor__numeric__imputer__strategy=mean, total=   1.7s\n",
      "[CV] model__max_depth=5, model__max_features=sqrt, model__min_samples_split=4, model__n_estimators=1000, preprocessor__numeric__imputer__strategy=mean \n",
      "[CV]  model__max_depth=5, model__max_features=sqrt, model__min_samples_split=4, model__n_estimators=1000, preprocessor__numeric__imputer__strategy=mean, total=   1.7s\n",
      "[CV] model__max_depth=5, model__max_features=sqrt, model__min_samples_split=4, model__n_estimators=1000, preprocessor__numeric__imputer__strategy=mean \n",
      "[CV]  model__max_depth=5, model__max_features=sqrt, model__min_samples_split=4, model__n_estimators=1000, preprocessor__numeric__imputer__strategy=mean, total=   1.8s\n",
      "[CV] model__max_depth=5, model__max_features=sqrt, model__min_samples_split=4, model__n_estimators=1000, preprocessor__numeric__imputer__strategy=mean \n",
      "[CV]  model__max_depth=5, model__max_features=sqrt, model__min_samples_split=4, model__n_estimators=1000, preprocessor__numeric__imputer__strategy=mean, total=   1.7s\n",
      "[CV] model__max_depth=5, model__max_features=sqrt, model__min_samples_split=4, model__n_estimators=1000, preprocessor__numeric__imputer__strategy=median \n",
      "[CV]  model__max_depth=5, model__max_features=sqrt, model__min_samples_split=4, model__n_estimators=1000, preprocessor__numeric__imputer__strategy=median, total=   1.8s\n",
      "[CV] model__max_depth=5, model__max_features=sqrt, model__min_samples_split=4, model__n_estimators=1000, preprocessor__numeric__imputer__strategy=median \n",
      "[CV]  model__max_depth=5, model__max_features=sqrt, model__min_samples_split=4, model__n_estimators=1000, preprocessor__numeric__imputer__strategy=median, total=   1.7s\n",
      "[CV] model__max_depth=5, model__max_features=sqrt, model__min_samples_split=4, model__n_estimators=1000, preprocessor__numeric__imputer__strategy=median \n",
      "[CV]  model__max_depth=5, model__max_features=sqrt, model__min_samples_split=4, model__n_estimators=1000, preprocessor__numeric__imputer__strategy=median, total=   1.9s\n",
      "[CV] model__max_depth=5, model__max_features=sqrt, model__min_samples_split=4, model__n_estimators=1000, preprocessor__numeric__imputer__strategy=median \n",
      "[CV]  model__max_depth=5, model__max_features=sqrt, model__min_samples_split=4, model__n_estimators=1000, preprocessor__numeric__imputer__strategy=median, total=   1.7s\n",
      "[CV] model__max_depth=5, model__max_features=sqrt, model__min_samples_split=4, model__n_estimators=1000, preprocessor__numeric__imputer__strategy=median \n",
      "[CV]  model__max_depth=5, model__max_features=sqrt, model__min_samples_split=4, model__n_estimators=1000, preprocessor__numeric__imputer__strategy=median, total=   1.7s\n",
      "[CV] model__max_depth=4, model__max_features=auto, model__min_samples_split=2, model__n_estimators=10, preprocessor__numeric__imputer__strategy=mean \n",
      "[CV]  model__max_depth=4, model__max_features=auto, model__min_samples_split=2, model__n_estimators=10, preprocessor__numeric__imputer__strategy=mean, total=   0.0s\n",
      "[CV] model__max_depth=4, model__max_features=auto, model__min_samples_split=2, model__n_estimators=10, preprocessor__numeric__imputer__strategy=mean \n",
      "[CV]  model__max_depth=4, model__max_features=auto, model__min_samples_split=2, model__n_estimators=10, preprocessor__numeric__imputer__strategy=mean, total=   0.1s\n",
      "[CV] model__max_depth=4, model__max_features=auto, model__min_samples_split=2, model__n_estimators=10, preprocessor__numeric__imputer__strategy=mean \n",
      "[CV]  model__max_depth=4, model__max_features=auto, model__min_samples_split=2, model__n_estimators=10, preprocessor__numeric__imputer__strategy=mean, total=   0.0s\n",
      "[CV] model__max_depth=4, model__max_features=auto, model__min_samples_split=2, model__n_estimators=10, preprocessor__numeric__imputer__strategy=mean \n",
      "[CV]  model__max_depth=4, model__max_features=auto, model__min_samples_split=2, model__n_estimators=10, preprocessor__numeric__imputer__strategy=mean, total=   0.0s\n",
      "[CV] model__max_depth=4, model__max_features=auto, model__min_samples_split=2, model__n_estimators=10, preprocessor__numeric__imputer__strategy=mean \n"
     ]
    },
    {
     "name": "stdout",
     "output_type": "stream",
     "text": [
      "[CV]  model__max_depth=4, model__max_features=auto, model__min_samples_split=2, model__n_estimators=10, preprocessor__numeric__imputer__strategy=mean, total=   0.0s\n",
      "[CV] model__max_depth=4, model__max_features=auto, model__min_samples_split=2, model__n_estimators=10, preprocessor__numeric__imputer__strategy=median \n",
      "[CV]  model__max_depth=4, model__max_features=auto, model__min_samples_split=2, model__n_estimators=10, preprocessor__numeric__imputer__strategy=median, total=   0.0s\n",
      "[CV] model__max_depth=4, model__max_features=auto, model__min_samples_split=2, model__n_estimators=10, preprocessor__numeric__imputer__strategy=median \n",
      "[CV]  model__max_depth=4, model__max_features=auto, model__min_samples_split=2, model__n_estimators=10, preprocessor__numeric__imputer__strategy=median, total=   0.1s\n",
      "[CV] model__max_depth=4, model__max_features=auto, model__min_samples_split=2, model__n_estimators=10, preprocessor__numeric__imputer__strategy=median \n",
      "[CV]  model__max_depth=4, model__max_features=auto, model__min_samples_split=2, model__n_estimators=10, preprocessor__numeric__imputer__strategy=median, total=   0.0s\n",
      "[CV] model__max_depth=4, model__max_features=auto, model__min_samples_split=2, model__n_estimators=10, preprocessor__numeric__imputer__strategy=median \n",
      "[CV]  model__max_depth=4, model__max_features=auto, model__min_samples_split=2, model__n_estimators=10, preprocessor__numeric__imputer__strategy=median, total=   0.0s\n",
      "[CV] model__max_depth=4, model__max_features=auto, model__min_samples_split=2, model__n_estimators=10, preprocessor__numeric__imputer__strategy=median \n",
      "[CV]  model__max_depth=4, model__max_features=auto, model__min_samples_split=2, model__n_estimators=10, preprocessor__numeric__imputer__strategy=median, total=   0.0s\n",
      "[CV] model__max_depth=4, model__max_features=auto, model__min_samples_split=2, model__n_estimators=100, preprocessor__numeric__imputer__strategy=mean \n",
      "[CV]  model__max_depth=4, model__max_features=auto, model__min_samples_split=2, model__n_estimators=100, preprocessor__numeric__imputer__strategy=mean, total=   0.2s\n",
      "[CV] model__max_depth=4, model__max_features=auto, model__min_samples_split=2, model__n_estimators=100, preprocessor__numeric__imputer__strategy=mean \n",
      "[CV]  model__max_depth=4, model__max_features=auto, model__min_samples_split=2, model__n_estimators=100, preprocessor__numeric__imputer__strategy=mean, total=   0.2s\n",
      "[CV] model__max_depth=4, model__max_features=auto, model__min_samples_split=2, model__n_estimators=100, preprocessor__numeric__imputer__strategy=mean \n",
      "[CV]  model__max_depth=4, model__max_features=auto, model__min_samples_split=2, model__n_estimators=100, preprocessor__numeric__imputer__strategy=mean, total=   0.2s\n",
      "[CV] model__max_depth=4, model__max_features=auto, model__min_samples_split=2, model__n_estimators=100, preprocessor__numeric__imputer__strategy=mean \n",
      "[CV]  model__max_depth=4, model__max_features=auto, model__min_samples_split=2, model__n_estimators=100, preprocessor__numeric__imputer__strategy=mean, total=   0.2s\n",
      "[CV] model__max_depth=4, model__max_features=auto, model__min_samples_split=2, model__n_estimators=100, preprocessor__numeric__imputer__strategy=mean \n",
      "[CV]  model__max_depth=4, model__max_features=auto, model__min_samples_split=2, model__n_estimators=100, preprocessor__numeric__imputer__strategy=mean, total=   0.2s\n",
      "[CV] model__max_depth=4, model__max_features=auto, model__min_samples_split=2, model__n_estimators=100, preprocessor__numeric__imputer__strategy=median \n",
      "[CV]  model__max_depth=4, model__max_features=auto, model__min_samples_split=2, model__n_estimators=100, preprocessor__numeric__imputer__strategy=median, total=   0.2s\n",
      "[CV] model__max_depth=4, model__max_features=auto, model__min_samples_split=2, model__n_estimators=100, preprocessor__numeric__imputer__strategy=median \n",
      "[CV]  model__max_depth=4, model__max_features=auto, model__min_samples_split=2, model__n_estimators=100, preprocessor__numeric__imputer__strategy=median, total=   0.2s\n",
      "[CV] model__max_depth=4, model__max_features=auto, model__min_samples_split=2, model__n_estimators=100, preprocessor__numeric__imputer__strategy=median \n",
      "[CV]  model__max_depth=4, model__max_features=auto, model__min_samples_split=2, model__n_estimators=100, preprocessor__numeric__imputer__strategy=median, total=   0.2s\n",
      "[CV] model__max_depth=4, model__max_features=auto, model__min_samples_split=2, model__n_estimators=100, preprocessor__numeric__imputer__strategy=median \n",
      "[CV]  model__max_depth=4, model__max_features=auto, model__min_samples_split=2, model__n_estimators=100, preprocessor__numeric__imputer__strategy=median, total=   0.2s\n",
      "[CV] model__max_depth=4, model__max_features=auto, model__min_samples_split=2, model__n_estimators=100, preprocessor__numeric__imputer__strategy=median \n",
      "[CV]  model__max_depth=4, model__max_features=auto, model__min_samples_split=2, model__n_estimators=100, preprocessor__numeric__imputer__strategy=median, total=   0.2s\n",
      "[CV] model__max_depth=4, model__max_features=auto, model__min_samples_split=2, model__n_estimators=1000, preprocessor__numeric__imputer__strategy=mean \n",
      "[CV]  model__max_depth=4, model__max_features=auto, model__min_samples_split=2, model__n_estimators=1000, preprocessor__numeric__imputer__strategy=mean, total=   1.9s\n",
      "[CV] model__max_depth=4, model__max_features=auto, model__min_samples_split=2, model__n_estimators=1000, preprocessor__numeric__imputer__strategy=mean \n",
      "[CV]  model__max_depth=4, model__max_features=auto, model__min_samples_split=2, model__n_estimators=1000, preprocessor__numeric__imputer__strategy=mean, total=   1.9s\n",
      "[CV] model__max_depth=4, model__max_features=auto, model__min_samples_split=2, model__n_estimators=1000, preprocessor__numeric__imputer__strategy=mean \n",
      "[CV]  model__max_depth=4, model__max_features=auto, model__min_samples_split=2, model__n_estimators=1000, preprocessor__numeric__imputer__strategy=mean, total=   1.9s\n",
      "[CV] model__max_depth=4, model__max_features=auto, model__min_samples_split=2, model__n_estimators=1000, preprocessor__numeric__imputer__strategy=mean \n",
      "[CV]  model__max_depth=4, model__max_features=auto, model__min_samples_split=2, model__n_estimators=1000, preprocessor__numeric__imputer__strategy=mean, total=   1.9s\n",
      "[CV] model__max_depth=4, model__max_features=auto, model__min_samples_split=2, model__n_estimators=1000, preprocessor__numeric__imputer__strategy=mean \n",
      "[CV]  model__max_depth=4, model__max_features=auto, model__min_samples_split=2, model__n_estimators=1000, preprocessor__numeric__imputer__strategy=mean, total=   2.0s\n",
      "[CV] model__max_depth=4, model__max_features=auto, model__min_samples_split=2, model__n_estimators=1000, preprocessor__numeric__imputer__strategy=median \n",
      "[CV]  model__max_depth=4, model__max_features=auto, model__min_samples_split=2, model__n_estimators=1000, preprocessor__numeric__imputer__strategy=median, total=   2.0s\n",
      "[CV] model__max_depth=4, model__max_features=auto, model__min_samples_split=2, model__n_estimators=1000, preprocessor__numeric__imputer__strategy=median \n",
      "[CV]  model__max_depth=4, model__max_features=auto, model__min_samples_split=2, model__n_estimators=1000, preprocessor__numeric__imputer__strategy=median, total=   2.1s\n",
      "[CV] model__max_depth=4, model__max_features=auto, model__min_samples_split=2, model__n_estimators=1000, preprocessor__numeric__imputer__strategy=median \n",
      "[CV]  model__max_depth=4, model__max_features=auto, model__min_samples_split=2, model__n_estimators=1000, preprocessor__numeric__imputer__strategy=median, total=   2.2s\n",
      "[CV] model__max_depth=4, model__max_features=auto, model__min_samples_split=2, model__n_estimators=1000, preprocessor__numeric__imputer__strategy=median \n",
      "[CV]  model__max_depth=4, model__max_features=auto, model__min_samples_split=2, model__n_estimators=1000, preprocessor__numeric__imputer__strategy=median, total=   2.1s\n",
      "[CV] model__max_depth=4, model__max_features=auto, model__min_samples_split=2, model__n_estimators=1000, preprocessor__numeric__imputer__strategy=median \n",
      "[CV]  model__max_depth=4, model__max_features=auto, model__min_samples_split=2, model__n_estimators=1000, preprocessor__numeric__imputer__strategy=median, total=   2.0s\n",
      "[CV] model__max_depth=4, model__max_features=auto, model__min_samples_split=4, model__n_estimators=10, preprocessor__numeric__imputer__strategy=mean \n",
      "[CV]  model__max_depth=4, model__max_features=auto, model__min_samples_split=4, model__n_estimators=10, preprocessor__numeric__imputer__strategy=mean, total=   0.0s\n",
      "[CV] model__max_depth=4, model__max_features=auto, model__min_samples_split=4, model__n_estimators=10, preprocessor__numeric__imputer__strategy=mean \n",
      "[CV]  model__max_depth=4, model__max_features=auto, model__min_samples_split=4, model__n_estimators=10, preprocessor__numeric__imputer__strategy=mean, total=   0.1s\n",
      "[CV] model__max_depth=4, model__max_features=auto, model__min_samples_split=4, model__n_estimators=10, preprocessor__numeric__imputer__strategy=mean \n",
      "[CV]  model__max_depth=4, model__max_features=auto, model__min_samples_split=4, model__n_estimators=10, preprocessor__numeric__imputer__strategy=mean, total=   0.0s\n",
      "[CV] model__max_depth=4, model__max_features=auto, model__min_samples_split=4, model__n_estimators=10, preprocessor__numeric__imputer__strategy=mean \n"
     ]
    },
    {
     "name": "stdout",
     "output_type": "stream",
     "text": [
      "[CV]  model__max_depth=4, model__max_features=auto, model__min_samples_split=4, model__n_estimators=10, preprocessor__numeric__imputer__strategy=mean, total=   0.0s\n",
      "[CV] model__max_depth=4, model__max_features=auto, model__min_samples_split=4, model__n_estimators=10, preprocessor__numeric__imputer__strategy=mean \n",
      "[CV]  model__max_depth=4, model__max_features=auto, model__min_samples_split=4, model__n_estimators=10, preprocessor__numeric__imputer__strategy=mean, total=   0.1s\n",
      "[CV] model__max_depth=4, model__max_features=auto, model__min_samples_split=4, model__n_estimators=10, preprocessor__numeric__imputer__strategy=median \n",
      "[CV]  model__max_depth=4, model__max_features=auto, model__min_samples_split=4, model__n_estimators=10, preprocessor__numeric__imputer__strategy=median, total=   0.0s\n",
      "[CV] model__max_depth=4, model__max_features=auto, model__min_samples_split=4, model__n_estimators=10, preprocessor__numeric__imputer__strategy=median \n",
      "[CV]  model__max_depth=4, model__max_features=auto, model__min_samples_split=4, model__n_estimators=10, preprocessor__numeric__imputer__strategy=median, total=   0.0s\n",
      "[CV] model__max_depth=4, model__max_features=auto, model__min_samples_split=4, model__n_estimators=10, preprocessor__numeric__imputer__strategy=median \n",
      "[CV]  model__max_depth=4, model__max_features=auto, model__min_samples_split=4, model__n_estimators=10, preprocessor__numeric__imputer__strategy=median, total=   0.0s\n",
      "[CV] model__max_depth=4, model__max_features=auto, model__min_samples_split=4, model__n_estimators=10, preprocessor__numeric__imputer__strategy=median \n",
      "[CV]  model__max_depth=4, model__max_features=auto, model__min_samples_split=4, model__n_estimators=10, preprocessor__numeric__imputer__strategy=median, total=   0.1s\n",
      "[CV] model__max_depth=4, model__max_features=auto, model__min_samples_split=4, model__n_estimators=10, preprocessor__numeric__imputer__strategy=median \n",
      "[CV]  model__max_depth=4, model__max_features=auto, model__min_samples_split=4, model__n_estimators=10, preprocessor__numeric__imputer__strategy=median, total=   0.1s\n",
      "[CV] model__max_depth=4, model__max_features=auto, model__min_samples_split=4, model__n_estimators=100, preprocessor__numeric__imputer__strategy=mean \n",
      "[CV]  model__max_depth=4, model__max_features=auto, model__min_samples_split=4, model__n_estimators=100, preprocessor__numeric__imputer__strategy=mean, total=   0.2s\n",
      "[CV] model__max_depth=4, model__max_features=auto, model__min_samples_split=4, model__n_estimators=100, preprocessor__numeric__imputer__strategy=mean \n",
      "[CV]  model__max_depth=4, model__max_features=auto, model__min_samples_split=4, model__n_estimators=100, preprocessor__numeric__imputer__strategy=mean, total=   0.2s\n",
      "[CV] model__max_depth=4, model__max_features=auto, model__min_samples_split=4, model__n_estimators=100, preprocessor__numeric__imputer__strategy=mean \n",
      "[CV]  model__max_depth=4, model__max_features=auto, model__min_samples_split=4, model__n_estimators=100, preprocessor__numeric__imputer__strategy=mean, total=   0.2s\n",
      "[CV] model__max_depth=4, model__max_features=auto, model__min_samples_split=4, model__n_estimators=100, preprocessor__numeric__imputer__strategy=mean \n",
      "[CV]  model__max_depth=4, model__max_features=auto, model__min_samples_split=4, model__n_estimators=100, preprocessor__numeric__imputer__strategy=mean, total=   0.2s\n",
      "[CV] model__max_depth=4, model__max_features=auto, model__min_samples_split=4, model__n_estimators=100, preprocessor__numeric__imputer__strategy=mean \n",
      "[CV]  model__max_depth=4, model__max_features=auto, model__min_samples_split=4, model__n_estimators=100, preprocessor__numeric__imputer__strategy=mean, total=   0.2s\n",
      "[CV] model__max_depth=4, model__max_features=auto, model__min_samples_split=4, model__n_estimators=100, preprocessor__numeric__imputer__strategy=median \n",
      "[CV]  model__max_depth=4, model__max_features=auto, model__min_samples_split=4, model__n_estimators=100, preprocessor__numeric__imputer__strategy=median, total=   0.2s\n",
      "[CV] model__max_depth=4, model__max_features=auto, model__min_samples_split=4, model__n_estimators=100, preprocessor__numeric__imputer__strategy=median \n",
      "[CV]  model__max_depth=4, model__max_features=auto, model__min_samples_split=4, model__n_estimators=100, preprocessor__numeric__imputer__strategy=median, total=   0.2s\n",
      "[CV] model__max_depth=4, model__max_features=auto, model__min_samples_split=4, model__n_estimators=100, preprocessor__numeric__imputer__strategy=median \n",
      "[CV]  model__max_depth=4, model__max_features=auto, model__min_samples_split=4, model__n_estimators=100, preprocessor__numeric__imputer__strategy=median, total=   0.2s\n",
      "[CV] model__max_depth=4, model__max_features=auto, model__min_samples_split=4, model__n_estimators=100, preprocessor__numeric__imputer__strategy=median \n",
      "[CV]  model__max_depth=4, model__max_features=auto, model__min_samples_split=4, model__n_estimators=100, preprocessor__numeric__imputer__strategy=median, total=   0.2s\n",
      "[CV] model__max_depth=4, model__max_features=auto, model__min_samples_split=4, model__n_estimators=100, preprocessor__numeric__imputer__strategy=median \n",
      "[CV]  model__max_depth=4, model__max_features=auto, model__min_samples_split=4, model__n_estimators=100, preprocessor__numeric__imputer__strategy=median, total=   0.2s\n",
      "[CV] model__max_depth=4, model__max_features=auto, model__min_samples_split=4, model__n_estimators=1000, preprocessor__numeric__imputer__strategy=mean \n",
      "[CV]  model__max_depth=4, model__max_features=auto, model__min_samples_split=4, model__n_estimators=1000, preprocessor__numeric__imputer__strategy=mean, total=   2.1s\n",
      "[CV] model__max_depth=4, model__max_features=auto, model__min_samples_split=4, model__n_estimators=1000, preprocessor__numeric__imputer__strategy=mean \n",
      "[CV]  model__max_depth=4, model__max_features=auto, model__min_samples_split=4, model__n_estimators=1000, preprocessor__numeric__imputer__strategy=mean, total=   2.1s\n",
      "[CV] model__max_depth=4, model__max_features=auto, model__min_samples_split=4, model__n_estimators=1000, preprocessor__numeric__imputer__strategy=mean \n",
      "[CV]  model__max_depth=4, model__max_features=auto, model__min_samples_split=4, model__n_estimators=1000, preprocessor__numeric__imputer__strategy=mean, total=   2.0s\n",
      "[CV] model__max_depth=4, model__max_features=auto, model__min_samples_split=4, model__n_estimators=1000, preprocessor__numeric__imputer__strategy=mean \n",
      "[CV]  model__max_depth=4, model__max_features=auto, model__min_samples_split=4, model__n_estimators=1000, preprocessor__numeric__imputer__strategy=mean, total=   1.9s\n",
      "[CV] model__max_depth=4, model__max_features=auto, model__min_samples_split=4, model__n_estimators=1000, preprocessor__numeric__imputer__strategy=mean \n",
      "[CV]  model__max_depth=4, model__max_features=auto, model__min_samples_split=4, model__n_estimators=1000, preprocessor__numeric__imputer__strategy=mean, total=   2.0s\n",
      "[CV] model__max_depth=4, model__max_features=auto, model__min_samples_split=4, model__n_estimators=1000, preprocessor__numeric__imputer__strategy=median \n",
      "[CV]  model__max_depth=4, model__max_features=auto, model__min_samples_split=4, model__n_estimators=1000, preprocessor__numeric__imputer__strategy=median, total=   2.0s\n",
      "[CV] model__max_depth=4, model__max_features=auto, model__min_samples_split=4, model__n_estimators=1000, preprocessor__numeric__imputer__strategy=median \n",
      "[CV]  model__max_depth=4, model__max_features=auto, model__min_samples_split=4, model__n_estimators=1000, preprocessor__numeric__imputer__strategy=median, total=   1.9s\n",
      "[CV] model__max_depth=4, model__max_features=auto, model__min_samples_split=4, model__n_estimators=1000, preprocessor__numeric__imputer__strategy=median \n",
      "[CV]  model__max_depth=4, model__max_features=auto, model__min_samples_split=4, model__n_estimators=1000, preprocessor__numeric__imputer__strategy=median, total=   2.0s\n",
      "[CV] model__max_depth=4, model__max_features=auto, model__min_samples_split=4, model__n_estimators=1000, preprocessor__numeric__imputer__strategy=median \n",
      "[CV]  model__max_depth=4, model__max_features=auto, model__min_samples_split=4, model__n_estimators=1000, preprocessor__numeric__imputer__strategy=median, total=   2.0s\n",
      "[CV] model__max_depth=4, model__max_features=auto, model__min_samples_split=4, model__n_estimators=1000, preprocessor__numeric__imputer__strategy=median \n"
     ]
    },
    {
     "name": "stdout",
     "output_type": "stream",
     "text": [
      "[CV]  model__max_depth=4, model__max_features=auto, model__min_samples_split=4, model__n_estimators=1000, preprocessor__numeric__imputer__strategy=median, total=   1.9s\n",
      "[CV] model__max_depth=4, model__max_features=sqrt, model__min_samples_split=2, model__n_estimators=10, preprocessor__numeric__imputer__strategy=mean \n",
      "[CV]  model__max_depth=4, model__max_features=sqrt, model__min_samples_split=2, model__n_estimators=10, preprocessor__numeric__imputer__strategy=mean, total=   0.0s\n",
      "[CV] model__max_depth=4, model__max_features=sqrt, model__min_samples_split=2, model__n_estimators=10, preprocessor__numeric__imputer__strategy=mean \n",
      "[CV]  model__max_depth=4, model__max_features=sqrt, model__min_samples_split=2, model__n_estimators=10, preprocessor__numeric__imputer__strategy=mean, total=   0.0s\n",
      "[CV] model__max_depth=4, model__max_features=sqrt, model__min_samples_split=2, model__n_estimators=10, preprocessor__numeric__imputer__strategy=mean \n",
      "[CV]  model__max_depth=4, model__max_features=sqrt, model__min_samples_split=2, model__n_estimators=10, preprocessor__numeric__imputer__strategy=mean, total=   0.0s\n",
      "[CV] model__max_depth=4, model__max_features=sqrt, model__min_samples_split=2, model__n_estimators=10, preprocessor__numeric__imputer__strategy=mean \n",
      "[CV]  model__max_depth=4, model__max_features=sqrt, model__min_samples_split=2, model__n_estimators=10, preprocessor__numeric__imputer__strategy=mean, total=   0.0s\n",
      "[CV] model__max_depth=4, model__max_features=sqrt, model__min_samples_split=2, model__n_estimators=10, preprocessor__numeric__imputer__strategy=mean \n",
      "[CV]  model__max_depth=4, model__max_features=sqrt, model__min_samples_split=2, model__n_estimators=10, preprocessor__numeric__imputer__strategy=mean, total=   0.0s\n",
      "[CV] model__max_depth=4, model__max_features=sqrt, model__min_samples_split=2, model__n_estimators=10, preprocessor__numeric__imputer__strategy=median \n",
      "[CV]  model__max_depth=4, model__max_features=sqrt, model__min_samples_split=2, model__n_estimators=10, preprocessor__numeric__imputer__strategy=median, total=   0.0s\n",
      "[CV] model__max_depth=4, model__max_features=sqrt, model__min_samples_split=2, model__n_estimators=10, preprocessor__numeric__imputer__strategy=median \n",
      "[CV]  model__max_depth=4, model__max_features=sqrt, model__min_samples_split=2, model__n_estimators=10, preprocessor__numeric__imputer__strategy=median, total=   0.0s\n",
      "[CV] model__max_depth=4, model__max_features=sqrt, model__min_samples_split=2, model__n_estimators=10, preprocessor__numeric__imputer__strategy=median \n",
      "[CV]  model__max_depth=4, model__max_features=sqrt, model__min_samples_split=2, model__n_estimators=10, preprocessor__numeric__imputer__strategy=median, total=   0.0s\n",
      "[CV] model__max_depth=4, model__max_features=sqrt, model__min_samples_split=2, model__n_estimators=10, preprocessor__numeric__imputer__strategy=median \n",
      "[CV]  model__max_depth=4, model__max_features=sqrt, model__min_samples_split=2, model__n_estimators=10, preprocessor__numeric__imputer__strategy=median, total=   0.0s\n",
      "[CV] model__max_depth=4, model__max_features=sqrt, model__min_samples_split=2, model__n_estimators=10, preprocessor__numeric__imputer__strategy=median \n",
      "[CV]  model__max_depth=4, model__max_features=sqrt, model__min_samples_split=2, model__n_estimators=10, preprocessor__numeric__imputer__strategy=median, total=   0.0s\n",
      "[CV] model__max_depth=4, model__max_features=sqrt, model__min_samples_split=2, model__n_estimators=100, preprocessor__numeric__imputer__strategy=mean \n",
      "[CV]  model__max_depth=4, model__max_features=sqrt, model__min_samples_split=2, model__n_estimators=100, preprocessor__numeric__imputer__strategy=mean, total=   0.2s\n",
      "[CV] model__max_depth=4, model__max_features=sqrt, model__min_samples_split=2, model__n_estimators=100, preprocessor__numeric__imputer__strategy=mean \n",
      "[CV]  model__max_depth=4, model__max_features=sqrt, model__min_samples_split=2, model__n_estimators=100, preprocessor__numeric__imputer__strategy=mean, total=   0.2s\n",
      "[CV] model__max_depth=4, model__max_features=sqrt, model__min_samples_split=2, model__n_estimators=100, preprocessor__numeric__imputer__strategy=mean \n",
      "[CV]  model__max_depth=4, model__max_features=sqrt, model__min_samples_split=2, model__n_estimators=100, preprocessor__numeric__imputer__strategy=mean, total=   0.2s\n",
      "[CV] model__max_depth=4, model__max_features=sqrt, model__min_samples_split=2, model__n_estimators=100, preprocessor__numeric__imputer__strategy=mean \n",
      "[CV]  model__max_depth=4, model__max_features=sqrt, model__min_samples_split=2, model__n_estimators=100, preprocessor__numeric__imputer__strategy=mean, total=   0.2s\n",
      "[CV] model__max_depth=4, model__max_features=sqrt, model__min_samples_split=2, model__n_estimators=100, preprocessor__numeric__imputer__strategy=mean \n",
      "[CV]  model__max_depth=4, model__max_features=sqrt, model__min_samples_split=2, model__n_estimators=100, preprocessor__numeric__imputer__strategy=mean, total=   0.2s\n",
      "[CV] model__max_depth=4, model__max_features=sqrt, model__min_samples_split=2, model__n_estimators=100, preprocessor__numeric__imputer__strategy=median \n",
      "[CV]  model__max_depth=4, model__max_features=sqrt, model__min_samples_split=2, model__n_estimators=100, preprocessor__numeric__imputer__strategy=median, total=   0.2s\n",
      "[CV] model__max_depth=4, model__max_features=sqrt, model__min_samples_split=2, model__n_estimators=100, preprocessor__numeric__imputer__strategy=median \n",
      "[CV]  model__max_depth=4, model__max_features=sqrt, model__min_samples_split=2, model__n_estimators=100, preprocessor__numeric__imputer__strategy=median, total=   0.2s\n",
      "[CV] model__max_depth=4, model__max_features=sqrt, model__min_samples_split=2, model__n_estimators=100, preprocessor__numeric__imputer__strategy=median \n",
      "[CV]  model__max_depth=4, model__max_features=sqrt, model__min_samples_split=2, model__n_estimators=100, preprocessor__numeric__imputer__strategy=median, total=   0.2s\n",
      "[CV] model__max_depth=4, model__max_features=sqrt, model__min_samples_split=2, model__n_estimators=100, preprocessor__numeric__imputer__strategy=median \n",
      "[CV]  model__max_depth=4, model__max_features=sqrt, model__min_samples_split=2, model__n_estimators=100, preprocessor__numeric__imputer__strategy=median, total=   0.2s\n",
      "[CV] model__max_depth=4, model__max_features=sqrt, model__min_samples_split=2, model__n_estimators=100, preprocessor__numeric__imputer__strategy=median \n",
      "[CV]  model__max_depth=4, model__max_features=sqrt, model__min_samples_split=2, model__n_estimators=100, preprocessor__numeric__imputer__strategy=median, total=   0.2s\n",
      "[CV] model__max_depth=4, model__max_features=sqrt, model__min_samples_split=2, model__n_estimators=1000, preprocessor__numeric__imputer__strategy=mean \n",
      "[CV]  model__max_depth=4, model__max_features=sqrt, model__min_samples_split=2, model__n_estimators=1000, preprocessor__numeric__imputer__strategy=mean, total=   1.8s\n",
      "[CV] model__max_depth=4, model__max_features=sqrt, model__min_samples_split=2, model__n_estimators=1000, preprocessor__numeric__imputer__strategy=mean \n",
      "[CV]  model__max_depth=4, model__max_features=sqrt, model__min_samples_split=2, model__n_estimators=1000, preprocessor__numeric__imputer__strategy=mean, total=   1.8s\n",
      "[CV] model__max_depth=4, model__max_features=sqrt, model__min_samples_split=2, model__n_estimators=1000, preprocessor__numeric__imputer__strategy=mean \n",
      "[CV]  model__max_depth=4, model__max_features=sqrt, model__min_samples_split=2, model__n_estimators=1000, preprocessor__numeric__imputer__strategy=mean, total=   1.8s\n",
      "[CV] model__max_depth=4, model__max_features=sqrt, model__min_samples_split=2, model__n_estimators=1000, preprocessor__numeric__imputer__strategy=mean \n",
      "[CV]  model__max_depth=4, model__max_features=sqrt, model__min_samples_split=2, model__n_estimators=1000, preprocessor__numeric__imputer__strategy=mean, total=   1.9s\n",
      "[CV] model__max_depth=4, model__max_features=sqrt, model__min_samples_split=2, model__n_estimators=1000, preprocessor__numeric__imputer__strategy=mean \n",
      "[CV]  model__max_depth=4, model__max_features=sqrt, model__min_samples_split=2, model__n_estimators=1000, preprocessor__numeric__imputer__strategy=mean, total=   1.8s\n",
      "[CV] model__max_depth=4, model__max_features=sqrt, model__min_samples_split=2, model__n_estimators=1000, preprocessor__numeric__imputer__strategy=median \n"
     ]
    },
    {
     "name": "stdout",
     "output_type": "stream",
     "text": [
      "[CV]  model__max_depth=4, model__max_features=sqrt, model__min_samples_split=2, model__n_estimators=1000, preprocessor__numeric__imputer__strategy=median, total=   1.8s\n",
      "[CV] model__max_depth=4, model__max_features=sqrt, model__min_samples_split=2, model__n_estimators=1000, preprocessor__numeric__imputer__strategy=median \n",
      "[CV]  model__max_depth=4, model__max_features=sqrt, model__min_samples_split=2, model__n_estimators=1000, preprocessor__numeric__imputer__strategy=median, total=   1.8s\n",
      "[CV] model__max_depth=4, model__max_features=sqrt, model__min_samples_split=2, model__n_estimators=1000, preprocessor__numeric__imputer__strategy=median \n",
      "[CV]  model__max_depth=4, model__max_features=sqrt, model__min_samples_split=2, model__n_estimators=1000, preprocessor__numeric__imputer__strategy=median, total=   1.8s\n",
      "[CV] model__max_depth=4, model__max_features=sqrt, model__min_samples_split=2, model__n_estimators=1000, preprocessor__numeric__imputer__strategy=median \n",
      "[CV]  model__max_depth=4, model__max_features=sqrt, model__min_samples_split=2, model__n_estimators=1000, preprocessor__numeric__imputer__strategy=median, total=   1.7s\n",
      "[CV] model__max_depth=4, model__max_features=sqrt, model__min_samples_split=2, model__n_estimators=1000, preprocessor__numeric__imputer__strategy=median \n",
      "[CV]  model__max_depth=4, model__max_features=sqrt, model__min_samples_split=2, model__n_estimators=1000, preprocessor__numeric__imputer__strategy=median, total=   1.7s\n",
      "[CV] model__max_depth=4, model__max_features=sqrt, model__min_samples_split=4, model__n_estimators=10, preprocessor__numeric__imputer__strategy=mean \n",
      "[CV]  model__max_depth=4, model__max_features=sqrt, model__min_samples_split=4, model__n_estimators=10, preprocessor__numeric__imputer__strategy=mean, total=   0.1s\n",
      "[CV] model__max_depth=4, model__max_features=sqrt, model__min_samples_split=4, model__n_estimators=10, preprocessor__numeric__imputer__strategy=mean \n",
      "[CV]  model__max_depth=4, model__max_features=sqrt, model__min_samples_split=4, model__n_estimators=10, preprocessor__numeric__imputer__strategy=mean, total=   0.1s\n",
      "[CV] model__max_depth=4, model__max_features=sqrt, model__min_samples_split=4, model__n_estimators=10, preprocessor__numeric__imputer__strategy=mean \n",
      "[CV]  model__max_depth=4, model__max_features=sqrt, model__min_samples_split=4, model__n_estimators=10, preprocessor__numeric__imputer__strategy=mean, total=   0.0s\n",
      "[CV] model__max_depth=4, model__max_features=sqrt, model__min_samples_split=4, model__n_estimators=10, preprocessor__numeric__imputer__strategy=mean \n",
      "[CV]  model__max_depth=4, model__max_features=sqrt, model__min_samples_split=4, model__n_estimators=10, preprocessor__numeric__imputer__strategy=mean, total=   0.1s\n",
      "[CV] model__max_depth=4, model__max_features=sqrt, model__min_samples_split=4, model__n_estimators=10, preprocessor__numeric__imputer__strategy=mean \n",
      "[CV]  model__max_depth=4, model__max_features=sqrt, model__min_samples_split=4, model__n_estimators=10, preprocessor__numeric__imputer__strategy=mean, total=   0.0s\n",
      "[CV] model__max_depth=4, model__max_features=sqrt, model__min_samples_split=4, model__n_estimators=10, preprocessor__numeric__imputer__strategy=median \n",
      "[CV]  model__max_depth=4, model__max_features=sqrt, model__min_samples_split=4, model__n_estimators=10, preprocessor__numeric__imputer__strategy=median, total=   0.0s\n",
      "[CV] model__max_depth=4, model__max_features=sqrt, model__min_samples_split=4, model__n_estimators=10, preprocessor__numeric__imputer__strategy=median \n",
      "[CV]  model__max_depth=4, model__max_features=sqrt, model__min_samples_split=4, model__n_estimators=10, preprocessor__numeric__imputer__strategy=median, total=   0.0s\n",
      "[CV] model__max_depth=4, model__max_features=sqrt, model__min_samples_split=4, model__n_estimators=10, preprocessor__numeric__imputer__strategy=median \n",
      "[CV]  model__max_depth=4, model__max_features=sqrt, model__min_samples_split=4, model__n_estimators=10, preprocessor__numeric__imputer__strategy=median, total=   0.0s\n",
      "[CV] model__max_depth=4, model__max_features=sqrt, model__min_samples_split=4, model__n_estimators=10, preprocessor__numeric__imputer__strategy=median \n",
      "[CV]  model__max_depth=4, model__max_features=sqrt, model__min_samples_split=4, model__n_estimators=10, preprocessor__numeric__imputer__strategy=median, total=   0.0s\n",
      "[CV] model__max_depth=4, model__max_features=sqrt, model__min_samples_split=4, model__n_estimators=10, preprocessor__numeric__imputer__strategy=median \n",
      "[CV]  model__max_depth=4, model__max_features=sqrt, model__min_samples_split=4, model__n_estimators=10, preprocessor__numeric__imputer__strategy=median, total=   0.0s\n",
      "[CV] model__max_depth=4, model__max_features=sqrt, model__min_samples_split=4, model__n_estimators=100, preprocessor__numeric__imputer__strategy=mean \n",
      "[CV]  model__max_depth=4, model__max_features=sqrt, model__min_samples_split=4, model__n_estimators=100, preprocessor__numeric__imputer__strategy=mean, total=   0.2s\n",
      "[CV] model__max_depth=4, model__max_features=sqrt, model__min_samples_split=4, model__n_estimators=100, preprocessor__numeric__imputer__strategy=mean \n",
      "[CV]  model__max_depth=4, model__max_features=sqrt, model__min_samples_split=4, model__n_estimators=100, preprocessor__numeric__imputer__strategy=mean, total=   0.2s\n",
      "[CV] model__max_depth=4, model__max_features=sqrt, model__min_samples_split=4, model__n_estimators=100, preprocessor__numeric__imputer__strategy=mean \n",
      "[CV]  model__max_depth=4, model__max_features=sqrt, model__min_samples_split=4, model__n_estimators=100, preprocessor__numeric__imputer__strategy=mean, total=   0.2s\n",
      "[CV] model__max_depth=4, model__max_features=sqrt, model__min_samples_split=4, model__n_estimators=100, preprocessor__numeric__imputer__strategy=mean \n",
      "[CV]  model__max_depth=4, model__max_features=sqrt, model__min_samples_split=4, model__n_estimators=100, preprocessor__numeric__imputer__strategy=mean, total=   0.2s\n",
      "[CV] model__max_depth=4, model__max_features=sqrt, model__min_samples_split=4, model__n_estimators=100, preprocessor__numeric__imputer__strategy=mean \n",
      "[CV]  model__max_depth=4, model__max_features=sqrt, model__min_samples_split=4, model__n_estimators=100, preprocessor__numeric__imputer__strategy=mean, total=   0.2s\n",
      "[CV] model__max_depth=4, model__max_features=sqrt, model__min_samples_split=4, model__n_estimators=100, preprocessor__numeric__imputer__strategy=median \n",
      "[CV]  model__max_depth=4, model__max_features=sqrt, model__min_samples_split=4, model__n_estimators=100, preprocessor__numeric__imputer__strategy=median, total=   0.2s\n",
      "[CV] model__max_depth=4, model__max_features=sqrt, model__min_samples_split=4, model__n_estimators=100, preprocessor__numeric__imputer__strategy=median \n",
      "[CV]  model__max_depth=4, model__max_features=sqrt, model__min_samples_split=4, model__n_estimators=100, preprocessor__numeric__imputer__strategy=median, total=   0.2s\n",
      "[CV] model__max_depth=4, model__max_features=sqrt, model__min_samples_split=4, model__n_estimators=100, preprocessor__numeric__imputer__strategy=median \n",
      "[CV]  model__max_depth=4, model__max_features=sqrt, model__min_samples_split=4, model__n_estimators=100, preprocessor__numeric__imputer__strategy=median, total=   0.2s\n",
      "[CV] model__max_depth=4, model__max_features=sqrt, model__min_samples_split=4, model__n_estimators=100, preprocessor__numeric__imputer__strategy=median \n",
      "[CV]  model__max_depth=4, model__max_features=sqrt, model__min_samples_split=4, model__n_estimators=100, preprocessor__numeric__imputer__strategy=median, total=   0.2s\n",
      "[CV] model__max_depth=4, model__max_features=sqrt, model__min_samples_split=4, model__n_estimators=100, preprocessor__numeric__imputer__strategy=median \n",
      "[CV]  model__max_depth=4, model__max_features=sqrt, model__min_samples_split=4, model__n_estimators=100, preprocessor__numeric__imputer__strategy=median, total=   0.2s\n",
      "[CV] model__max_depth=4, model__max_features=sqrt, model__min_samples_split=4, model__n_estimators=1000, preprocessor__numeric__imputer__strategy=mean \n",
      "[CV]  model__max_depth=4, model__max_features=sqrt, model__min_samples_split=4, model__n_estimators=1000, preprocessor__numeric__imputer__strategy=mean, total=   1.8s\n",
      "[CV] model__max_depth=4, model__max_features=sqrt, model__min_samples_split=4, model__n_estimators=1000, preprocessor__numeric__imputer__strategy=mean \n"
     ]
    },
    {
     "name": "stdout",
     "output_type": "stream",
     "text": [
      "[CV]  model__max_depth=4, model__max_features=sqrt, model__min_samples_split=4, model__n_estimators=1000, preprocessor__numeric__imputer__strategy=mean, total=   1.8s\n",
      "[CV] model__max_depth=4, model__max_features=sqrt, model__min_samples_split=4, model__n_estimators=1000, preprocessor__numeric__imputer__strategy=mean \n",
      "[CV]  model__max_depth=4, model__max_features=sqrt, model__min_samples_split=4, model__n_estimators=1000, preprocessor__numeric__imputer__strategy=mean, total=   1.7s\n",
      "[CV] model__max_depth=4, model__max_features=sqrt, model__min_samples_split=4, model__n_estimators=1000, preprocessor__numeric__imputer__strategy=mean \n",
      "[CV]  model__max_depth=4, model__max_features=sqrt, model__min_samples_split=4, model__n_estimators=1000, preprocessor__numeric__imputer__strategy=mean, total=   1.7s\n",
      "[CV] model__max_depth=4, model__max_features=sqrt, model__min_samples_split=4, model__n_estimators=1000, preprocessor__numeric__imputer__strategy=mean \n",
      "[CV]  model__max_depth=4, model__max_features=sqrt, model__min_samples_split=4, model__n_estimators=1000, preprocessor__numeric__imputer__strategy=mean, total=   1.8s\n",
      "[CV] model__max_depth=4, model__max_features=sqrt, model__min_samples_split=4, model__n_estimators=1000, preprocessor__numeric__imputer__strategy=median \n",
      "[CV]  model__max_depth=4, model__max_features=sqrt, model__min_samples_split=4, model__n_estimators=1000, preprocessor__numeric__imputer__strategy=median, total=   1.9s\n",
      "[CV] model__max_depth=4, model__max_features=sqrt, model__min_samples_split=4, model__n_estimators=1000, preprocessor__numeric__imputer__strategy=median \n",
      "[CV]  model__max_depth=4, model__max_features=sqrt, model__min_samples_split=4, model__n_estimators=1000, preprocessor__numeric__imputer__strategy=median, total=   1.8s\n",
      "[CV] model__max_depth=4, model__max_features=sqrt, model__min_samples_split=4, model__n_estimators=1000, preprocessor__numeric__imputer__strategy=median \n",
      "[CV]  model__max_depth=4, model__max_features=sqrt, model__min_samples_split=4, model__n_estimators=1000, preprocessor__numeric__imputer__strategy=median, total=   1.8s\n",
      "[CV] model__max_depth=4, model__max_features=sqrt, model__min_samples_split=4, model__n_estimators=1000, preprocessor__numeric__imputer__strategy=median \n",
      "[CV]  model__max_depth=4, model__max_features=sqrt, model__min_samples_split=4, model__n_estimators=1000, preprocessor__numeric__imputer__strategy=median, total=   1.7s\n",
      "[CV] model__max_depth=4, model__max_features=sqrt, model__min_samples_split=4, model__n_estimators=1000, preprocessor__numeric__imputer__strategy=median \n",
      "[CV]  model__max_depth=4, model__max_features=sqrt, model__min_samples_split=4, model__n_estimators=1000, preprocessor__numeric__imputer__strategy=median, total=   1.7s\n"
     ]
    },
    {
     "name": "stderr",
     "output_type": "stream",
     "text": [
      "[Parallel(n_jobs=1)]: Done 360 out of 360 | elapsed:  4.8min finished\n"
     ]
    },
    {
     "data": {
      "text/plain": [
       "GridSearchCV(cv=5, error_score=nan,\n",
       "             estimator=Pipeline(memory=None,\n",
       "                                steps=[('preprocessor',\n",
       "                                        ColumnTransformer(n_jobs=None,\n",
       "                                                          remainder='drop',\n",
       "                                                          sparse_threshold=0.3,\n",
       "                                                          transformer_weights=None,\n",
       "                                                          transformers=[('categorical',\n",
       "                                                                         Pipeline(memory=None,\n",
       "                                                                                  steps=[('imputer',\n",
       "                                                                                          SimpleImputer(add_indicator=False,\n",
       "                                                                                                        copy=True,\n",
       "                                                                                                        fill_value='missing',\n",
       "                                                                                                        missing_values=nan,\n",
       "                                                                                                        strategy='constan...\n",
       "                                                              warm_start=False))],\n",
       "                                verbose=False),\n",
       "             iid='deprecated', n_jobs=None,\n",
       "             param_grid={'model__max_depth': [None, 5, 4],\n",
       "                         'model__max_features': ['auto', 'sqrt'],\n",
       "                         'model__min_samples_split': [2, 4],\n",
       "                         'model__n_estimators': [10, 100, 1000],\n",
       "                         'preprocessor__numeric__imputer__strategy': ['mean',\n",
       "                                                                      'median']},\n",
       "             pre_dispatch='2*n_jobs', refit=True, return_train_score=False,\n",
       "             scoring=None, verbose=2)"
      ]
     },
     "execution_count": 221,
     "metadata": {},
     "output_type": "execute_result"
    }
   ],
   "source": [
    "# Use GridSearchCV with our regression Pipeline\n",
    "\n",
    "from sklearn.model_selection import GridSearchCV\n",
    "\n",
    "pipe_grid = {\n",
    "    \"preprocessor__numeric__imputer__strategy\": [\"mean\", \"median\"],\n",
    "    \"model__n_estimators\": [10, 100, 1000],\n",
    "    \"model__max_depth\": [None, 5, 4],\n",
    "    \"model__max_features\": [\"auto\", \"sqrt\"],\n",
    "    \"model__min_samples_split\": [2, 4]    \n",
    "}\n",
    "# use GridSearchCV\n",
    "gs_model = GridSearchCV(model, pipe_grid, cv=5, verbose=2)\n",
    "# fit the data to the model\n",
    "gs_model.fit(x_train, y_train)"
   ]
  },
  {
   "cell_type": "code",
   "execution_count": 222,
   "metadata": {},
   "outputs": [
    {
     "data": {
      "text/plain": [
       "0.20597081195701472"
      ]
     },
     "execution_count": 222,
     "metadata": {},
     "output_type": "execute_result"
    }
   ],
   "source": [
    "# score of our model\n",
    "gs_model.score(x_test, y_test)"
   ]
  },
  {
   "cell_type": "code",
   "execution_count": 227,
   "metadata": {},
   "outputs": [],
   "source": [
    "# save the model\n",
    "import pickle\n",
    "pickle.dump(gs_model, open('car_sales_regression_model.pkl', 'wb'))"
   ]
  },
  {
   "cell_type": "code",
   "execution_count": 228,
   "metadata": {},
   "outputs": [],
   "source": [
    "steps[7] = '7. Putting it all together! [x]'"
   ]
  },
  {
   "cell_type": "code",
   "execution_count": 229,
   "metadata": {},
   "outputs": [
    {
     "data": {
      "text/plain": [
       "['0. An end-to-end Scikit-Learn workflow [x]',\n",
       " '1. Getting the data ready  [x]',\n",
       " '2. Choose the right estimator / algorithm for our probelms [x]',\n",
       " '3. Fit the model / algorithm and use it to make predictions on our data [x]',\n",
       " '4. Evaluating a model [x]',\n",
       " '5. Improve the model [x]',\n",
       " '6. Save and load the trained model [x]',\n",
       " '7. Putting it all together! [x]']"
      ]
     },
     "execution_count": 229,
     "metadata": {},
     "output_type": "execute_result"
    }
   ],
   "source": [
    "steps"
   ]
  }
 ],
 "metadata": {
  "kernelspec": {
   "display_name": "Python 3",
   "language": "python",
   "name": "python3"
  },
  "language_info": {
   "codemirror_mode": {
    "name": "ipython",
    "version": 3
   },
   "file_extension": ".py",
   "mimetype": "text/x-python",
   "name": "python",
   "nbconvert_exporter": "python",
   "pygments_lexer": "ipython3",
   "version": "3.7.6"
  }
 },
 "nbformat": 4,
 "nbformat_minor": 4
}
